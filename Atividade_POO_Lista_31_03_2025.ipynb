{
  "nbformat": 4,
  "nbformat_minor": 0,
  "metadata": {
    "colab": {
      "provenance": [],
      "authorship_tag": "ABX9TyNOTzFkmkHmcp8uh5bguwRg",
      "include_colab_link": true
    },
    "kernelspec": {
      "name": "python3",
      "display_name": "Python 3"
    },
    "language_info": {
      "name": "python"
    }
  },
  "cells": [
    {
      "cell_type": "markdown",
      "metadata": {
        "id": "view-in-github",
        "colab_type": "text"
      },
      "source": [
        "<a href=\"https://colab.research.google.com/github/henrique-furtado47/Algoritmos-python/blob/main/Atividade_POO_Lista_31_03_2025.ipynb\" target=\"_parent\"><img src=\"https://colab.research.google.com/assets/colab-badge.svg\" alt=\"Open In Colab\"/></a>"
      ]
    },
    {
      "cell_type": "markdown",
      "source": [
        "**• Classe Bola: Crie uma classe que modele uma bola:**\n",
        "* a. Atributos: Cor, circunferência, material\n",
        "* b. Métodos: trocaCor e mostraCor"
      ],
      "metadata": {
        "id": "OVLu9AJoZOGQ"
      }
    },
    {
      "cell_type": "code",
      "source": [
        "class Bola():\n",
        "  def __init__(self, cor, circunferencia, material):\n",
        "    self.cor = cor\n",
        "    self. circunferencia = circunferencia\n",
        "    self. material = material\n",
        "\n",
        "  def trocaCor(self, cor1):\n",
        "    self.cor = cor1\n",
        "\n",
        "  def mostraCor(self):\n",
        "    return self.cor"
      ],
      "metadata": {
        "id": "DX4Nl_qOBUFB"
      },
      "execution_count": 20,
      "outputs": []
    },
    {
      "cell_type": "code",
      "source": [
        "penalty = Bola('azul', 3, 'couro')\n",
        "\n",
        "print(penalty.mostraCor())\n",
        "penalty.trocaCor('verde')\n",
        "print(penalty.mostraCor())\n"
      ],
      "metadata": {
        "colab": {
          "base_uri": "https://localhost:8080/"
        },
        "id": "lvZW4B2_aUC1",
        "outputId": "afe5362d-a9a5-46a3-9d00-2cf1a249847e"
      },
      "execution_count": 21,
      "outputs": [
        {
          "output_type": "stream",
          "name": "stdout",
          "text": [
            "azul\n",
            "verde\n"
          ]
        }
      ]
    },
    {
      "cell_type": "markdown",
      "source": [
        "**• Classe Quadrado: Crie uma classe que modele um quadrado:**\n",
        "* a. Atributos: Tamanho do lado\n",
        "* b. Métodos: Mudar valor do Lado, Retornar valor do Lado e calcular Área;"
      ],
      "metadata": {
        "id": "7KMOIh3LZ2mG"
      }
    },
    {
      "cell_type": "code",
      "source": [
        "class Quadrado:\n",
        "  def __init__(self, lado):\n",
        "    self.lado = lado\n",
        "\n",
        "  def trocaValorLado(self, lado):\n",
        "    self.lado = lado\n",
        "\n",
        "  def returnValorLado(self):\n",
        "    return self.lado\n",
        "\n",
        "  def calcularArea(self):\n",
        "    area = self.lado**2\n",
        "    return area"
      ],
      "metadata": {
        "id": "JI_h3j1xZnpX"
      },
      "execution_count": 17,
      "outputs": []
    },
    {
      "cell_type": "code",
      "source": [
        "quadrado = Quadrado(3)\n",
        "print(quadrado.calcularArea())\n",
        "\n",
        "quadrado.trocaValorLado(5)\n",
        "print(quadrado.calcularArea())"
      ],
      "metadata": {
        "colab": {
          "base_uri": "https://localhost:8080/"
        },
        "id": "lrhy1zgsaSS7",
        "outputId": "59b78332-f002-4520-f171-b47b496168d9"
      },
      "execution_count": 22,
      "outputs": [
        {
          "output_type": "stream",
          "name": "stdout",
          "text": [
            "9\n",
            "25\n"
          ]
        }
      ]
    },
    {
      "cell_type": "markdown",
      "source": [
        "**• Classe Retangulo: Crie uma classe que modele um retangulo:**\n",
        "* a. Atributos: LadoA, LadoB (ou Comprimento e Largura, ou Base e Altura, a escolher)\n",
        "* b. Métodos: Mudar valor dos lados, Retornar valor dos lados, calcular Área e calcular Perímetro;\n",
        "* c. Crie um programa que utilize esta classe. Ele deve pedir ao usuário que informe as medidades\n",
        "de um local. Depois, deve criar um objeto com as medidas e calcular a quantidade de pisos e\n",
        "de rodapés necessárias para o local."
      ],
      "metadata": {
        "id": "aXscynorbuuC"
      }
    },
    {
      "cell_type": "code",
      "source": [
        "class Retangulo():\n",
        "  def __init__(self, base, altura):\n",
        "    self.base = base\n",
        "    self.altura = altura\n",
        "\n",
        "  def mudarLados(self, base_nova = None, altura_nova = None):\n",
        "    if base_nova != None:\n",
        "      self.base = base_nova\n",
        "    if altura_nova != None:\n",
        "      self.altura = altura_nova\n",
        "\n",
        "  def getLados(self):\n",
        "    return (self.base, self.altura)\n",
        "\n",
        "  def calcularArea(self):\n",
        "    area = self.altura * self.base\n",
        "    return area\n",
        "\n",
        "  def calcularPerimetro(self):\n",
        "    perimetro = self.altura + self.base\n",
        "    return perimetro"
      ],
      "metadata": {
        "id": "IK6o0tX3auAs"
      },
      "execution_count": 28,
      "outputs": []
    },
    {
      "cell_type": "code",
      "source": [
        "retangulo = Retangulo(2, 3)\n",
        "retangulo.mudarLados(altura_nova = 4)\n",
        "print(retangulo.getLados())\n",
        "\n",
        "print(retangulo.calcularPerimetro())\n",
        "print(retangulo.calcularArea())"
      ],
      "metadata": {
        "colab": {
          "base_uri": "https://localhost:8080/"
        },
        "id": "tVtUB-S6dGUW",
        "outputId": "399214f2-7b18-4fa2-ff4f-da838b483cd7"
      },
      "execution_count": 32,
      "outputs": [
        {
          "output_type": "stream",
          "name": "stdout",
          "text": [
            "(2, 4)\n",
            "6\n",
            "8\n"
          ]
        }
      ]
    },
    {
      "cell_type": "markdown",
      "source": [
        "**• Classe Pessoa: Crie uma classe que modele uma pessoa:**\n",
        "* a. Atributos: nome, idade, peso e altura\n",
        "* b. Métodos: envelhecer, engordar, emagrecer, crescer.\n",
        "Obs: Por padrão, a cada ano que nossa pessoa envelhece, sendo a idade dela menor que 21 anos,\n",
        "ela deve crescer 0,5 cm."
      ],
      "metadata": {
        "id": "5H-SVsX5egj-"
      }
    },
    {
      "cell_type": "code",
      "source": [
        "class Pessoa():\n",
        "  def __init__(self, nome, idade, peso, altura):\n",
        "    self.nome = nome\n",
        "    self.idade = int(idade)\n",
        "    self.peso = float(peso)\n",
        "    self.altura = float(altura)\n",
        "\n",
        "  def envelhecer(self):\n",
        "    if self.idade<21:\n",
        "      self.altura+=0.5\n",
        "    self.idade+=1\n",
        "\n",
        "  def engordar(self):\n",
        "    self.peso+=1\n",
        "\n",
        "  def emagrecer(self):\n",
        "    self.peso-=1\n",
        "\n",
        "  def crescer(self):\n",
        "    self.altura+=1"
      ],
      "metadata": {
        "id": "mL4yDpqPd93u"
      },
      "execution_count": 34,
      "outputs": []
    },
    {
      "cell_type": "code",
      "source": [
        "usuario1 = Pessoa(\"Henrique\", 19, 55, 170)\n",
        "\n",
        "usuario1.envelhecer()\n",
        "print(usuario1.altura, usuario1.idade)"
      ],
      "metadata": {
        "colab": {
          "base_uri": "https://localhost:8080/"
        },
        "id": "sNH35rvhf-ax",
        "outputId": "48f77c6a-40ed-4204-997a-275c2b8fd9a1"
      },
      "execution_count": 38,
      "outputs": [
        {
          "output_type": "stream",
          "name": "stdout",
          "text": [
            "170.5 20\n"
          ]
        }
      ]
    },
    {
      "cell_type": "code",
      "source": [],
      "metadata": {
        "id": "yXm7KibfgIej"
      },
      "execution_count": null,
      "outputs": []
    }
  ]
}