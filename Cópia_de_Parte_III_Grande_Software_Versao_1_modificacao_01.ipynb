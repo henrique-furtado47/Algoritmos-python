{
  "nbformat": 4,
  "nbformat_minor": 0,
  "metadata": {
    "colab": {
      "provenance": [],
      "include_colab_link": true
    },
    "kernelspec": {
      "name": "python3",
      "display_name": "Python 3"
    },
    "language_info": {
      "name": "python"
    }
  },
  "cells": [
    {
      "cell_type": "markdown",
      "metadata": {
        "id": "view-in-github",
        "colab_type": "text"
      },
      "source": [
        "<a href=\"https://colab.research.google.com/github/henrique-furtado47/Algoritmos-python/blob/main/C%C3%B3pia_de_Parte_III_Grande_Software_Versao_1_modificacao_01.ipynb\" target=\"_parent\"><img src=\"https://colab.research.google.com/assets/colab-badge.svg\" alt=\"Open In Colab\"/></a>"
      ]
    },
    {
      "cell_type": "markdown",
      "source": [
        "# **Etapa #1**. **Certifique-se de que seu software faz o que o cliente deseja**"
      ],
      "metadata": {
        "id": "NhwkCWFiFtXf"
      }
    },
    {
      "cell_type": "markdown",
      "source": [
        "**Modificação 01**\n",
        "\n",
        "**Abandonando comparações de strings**"
      ],
      "metadata": {
        "id": "7l0kXIPsFeSG"
      }
    },
    {
      "cell_type": "code",
      "execution_count": 2,
      "metadata": {
        "id": "VSl9tGw6HK_W"
      },
      "outputs": [],
      "source": [
        "# Observe que em Python usamos a classe \"Enum\" do módulo \"enum\" em vez de \"enumeração\"\n",
        "# \"Enum\" é um tipo de dados embutido em Python. É usado para criar um conjunto finito de constantes.\n",
        "# \"Enum\" é uma coleção de nomes e valores simbólicos. É um atalho para enumeração e pode ser importado do módulo \"enum\"\n",
        "# Uma das grandes vantagens de usar \"enums\" é que ele limita os possíveis valores\n",
        "# que você pode fornecer a um método... sem mais erros ortográficos ou problemas de maiúsculas e minúsculas\n",
        "from enum import Enum\n",
        "\n",
        "# Podemos nos referir a eles como Wood.SITKA ou Builder.GIBSON\n",
        "# e evitar todas essas comparações de strings completamente\n",
        "class Builder(Enum):\n",
        "    FENDER = \"fender\"\n",
        "    MARTIN = \"martin\"\n",
        "    GIBSON = \"gibson\"\n",
        "    COLLINGS = \"collings\"\n",
        "    OLSON = \"olson\"\n",
        "    RYAN = \"ryan\"\n",
        "    PRS = \"prs\"\n",
        "    ANY = \"any\"\n",
        "\n",
        "#Cada \"enum\" toma o lugar de uma das propriedades de uma guitarra\n",
        "class TypeG(Enum):\n",
        "    ACOUSTIC = \"acoustic\"\n",
        "    ELETRIC = \"eletric\"\n",
        "\n",
        "\n",
        "# Podemos nos referir a eles como Wood.SITKA ou Builder.GIBSON\n",
        "# e evitar todas essas comparações de strings completamente\n",
        "class Wood(Enum):\n",
        "    INDIAN_ROSEWOOD = \"indian_rosewood\"\n",
        "    BRAZILIAN_ROSEWOOD = \"brazilian_rosewood\"\n",
        "    MAHOGANY = \"mahogany\"\n",
        "    MAPLE = \"maple\"\n",
        "    COCOBOLO = \"ococobolo\"\n",
        "    CEDAR = \"cedar\"\n",
        "    ADIRONDACK = \"adirondack\"\n",
        "    ALDER = \"alder\"\n",
        "    SITKA = \"sitka\"\n"
      ]
    },
    {
      "cell_type": "markdown",
      "source": [
        "**Código para a Classe Guitar**"
      ],
      "metadata": {
        "id": "GFGP1Bch6eMN"
      }
    },
    {
      "cell_type": "code",
      "source": [
        "#Classe Guitar\n",
        "class Guitar:\n",
        "    def __init__(self, serial_number, price, builder, model, typeg, back_wood, top_wood):\n",
        "        self.serial_number = serial_number\n",
        "        self.price = price\n",
        "        self.builder = builder\n",
        "        self.model = model\n",
        "        self.typeg = typeg\n",
        "        self.back_wood = back_wood\n",
        "        self.top_wood = top_wood\n",
        "\n",
        "    def get_serial_number(self):\n",
        "        return self.serial_number\n",
        "\n",
        "    def get_price(self):\n",
        "        return self.price\n",
        "\n",
        "    def set_price(self, new_price):\n",
        "        self.price = new_price\n",
        "\n",
        "    def get_builder(self):\n",
        "        return self.builder\n",
        "\n",
        "    def get_typeg(self):\n",
        "        return self.typeg\n",
        "\n",
        "    def get_model(self):\n",
        "        return self.model\n",
        "\n",
        "    def get_back_wood(self):\n",
        "        return self.back_wood\n",
        "\n",
        "    def get_top_wood(self):\n",
        "        return self.top_wood\n"
      ],
      "metadata": {
        "id": "1QaSiFDI6gph"
      },
      "execution_count": 3,
      "outputs": []
    },
    {
      "cell_type": "markdown",
      "source": [
        "**Código para a Classe Inventory**\n",
        "\n"
      ],
      "metadata": {
        "id": "jxpAmfOa6t7j"
      }
    },
    {
      "cell_type": "code",
      "source": [
        "#Classe Inventory\n",
        "class Inventory:\n",
        "    def __init__(self):\n",
        "        self.guitars = []\n",
        "\n",
        "    def add_guitar(self, serial_number, price, builder, model, typeg, back_wood, top_wood):\n",
        "        guitar = Guitar(serial_number, price, builder, model, typeg, back_wood, top_wood)\n",
        "        self.guitars.append(guitar)\n",
        "\n",
        "    def get_guitar(self, serial_number):\n",
        "        for guitar in self.guitars:\n",
        "            if guitar.get_serial_number() == serial_number:\n",
        "                return guitar\n",
        "        return None\n",
        "\n",
        "    def search_guitar(self, search_guitar):\n",
        "        guitarsList = []\n",
        "        for guitar in self.guitars:\n",
        "            # Parece que nada mudou, mas com \"Enums\", não precisamos nos preocupar com essas comparações\n",
        "            # sendo prejudicadas por erros ortográficos ou problemas de maiúscula/minúscula\n",
        "            if search_guitar.get_builder() != guitar.get_builder():\n",
        "                continue\n",
        "\n",
        "            # A única propriedade com a qual precisamos nos preocupar é o \"model\", já que ainda é uma String\n",
        "            model = search_guitar.get_model().lower()\n",
        "            if model and model != \"\" and model != guitar.get_model().lower():\n",
        "                continue\n",
        "\n",
        "            # Parece que nada mudou, mas com \"Enums\", não precisamos nos preocupar com essas comparações\n",
        "            # sendo prejudicadas por erros ortográficos ou problemas de maiúscula/minúscula\n",
        "            if search_guitar.get_typeg() != guitar.get_typeg():\n",
        "                continue\n",
        "            if search_guitar.get_back_wood() != guitar.get_back_wood():\n",
        "                continue\n",
        "            if search_guitar.get_top_wood() != guitar.get_top_wood():\n",
        "                continue\n",
        "            guitarsList.append(guitar)\n",
        "        return guitarsList\n",
        "\n"
      ],
      "metadata": {
        "id": "xZFD6c1C6wlU"
      },
      "execution_count": 4,
      "outputs": []
    },
    {
      "cell_type": "code",
      "source": [
        "# Testando o Sistema\n",
        "\n",
        "# Set up Rick’s guitar inventory\n",
        "inventory = Inventory()\n",
        "\n",
        "# Adiciona guitarras ao estoque\n",
        "inventory.add_guitar(\"V95693\", 1499.95, Builder.FENDER.value, \"Stratocastor\", TypeG.ELETRIC.value, Wood.ALDER.value, Wood.ALDER.value)\n",
        "inventory.add_guitar(\"V95693\", 1493.95, Builder.FENDER.value, \"Stratocastor\", TypeG.ELETRIC.value, Wood.ALDER.value, Wood.ALDER.value)\n",
        "inventory.add_guitar(\"11277\", 3999.95, Builder.COLLINGS.value, \"Stratocastor\", TypeG.ACOUSTIC.value, Wood.INDIAN_ROSEWOOD.value, Wood.INDIAN_ROSEWOOD.value)\n",
        "\n",
        "\n",
        "# Buscando por uma guitarra que o Erin gosta: Fender Stratocastor elétrica com corpo de Alder e tampo de Alder\n",
        "whatErinLikes = Guitar(\" \", 0, Builder.FENDER.value, \"Stratocastor\", TypeG.ELETRIC.value, Wood.ALDER.value, Wood.ALDER.value)\n",
        "guitarList = inventory.search_guitar(whatErinLikes)\n",
        "if guitarList is not None:\n",
        "  print(f\"Erin!!! Consegui {len(guitarList)} restultados para a sua pesquisa: \")\n",
        "  for guitar in guitarList:\n",
        "    print(f\"\\n{guitar.get_builder()} {guitar.get_model()} {guitar.get_typeg()} guitar:\\n {guitar.get_back_wood()} na traseira e laterais, \\n{guitar.get_top_wood()} no tampo.\\n Ela pode ser sua por apenas US${guitar.get_price()}!\")\n",
        "else:\n",
        "  print(\"Desculpe Erin, não temos nada para você\")\n"
      ],
      "metadata": {
        "colab": {
          "base_uri": "https://localhost:8080/"
        },
        "id": "NDQexEGzBoje",
        "outputId": "4444f894-4521-49af-e59a-bf177fcab8af"
      },
      "execution_count": 10,
      "outputs": [
        {
          "output_type": "stream",
          "name": "stdout",
          "text": [
            "Erin!!! Consegui 2 restultados para a sua pesquisa: \n",
            "\n",
            "fender Stratocastor eletric guitar:\n",
            " alder na traseira e laterais, \n",
            "alder no tampo.\n",
            " Ela pode ser sua por apenas US$1499.95!\n",
            "\n",
            "fender Stratocastor eletric guitar:\n",
            " alder na traseira e laterais, \n",
            "alder no tampo.\n",
            " Ela pode ser sua por apenas US$1493.95!\n"
          ]
        }
      ]
    }
  ]
}