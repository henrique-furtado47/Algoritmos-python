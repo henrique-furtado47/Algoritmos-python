{
  "nbformat": 4,
  "nbformat_minor": 0,
  "metadata": {
    "colab": {
      "provenance": [],
      "include_colab_link": true
    },
    "kernelspec": {
      "name": "python3",
      "display_name": "Python 3"
    },
    "language_info": {
      "name": "python"
    }
  },
  "cells": [
    {
      "cell_type": "markdown",
      "metadata": {
        "id": "view-in-github",
        "colab_type": "text"
      },
      "source": [
        "<a href=\"https://colab.research.google.com/github/henrique-furtado47/Algoritmos-python/blob/main/Apresenta%C3%A7%C3%A3o_COLLECTIONS.ipynb\" target=\"_parent\"><img src=\"https://colab.research.google.com/assets/colab-badge.svg\" alt=\"Open In Colab\"/></a>"
      ]
    },
    {
      "cell_type": "markdown",
      "source": [
        "#**Algoritmos e programação II**\n",
        "## Apresentação sobre o módulo Collections\n",
        "\n",
        "\n",
        "1.   Henrique Furtado\n",
        "2.   José Enio Segundo\n",
        "3. Luis Felipe Ferreira da Silva\n",
        "4. Paulo Cesar Nicolau Padilha\n",
        "5. Tomas Locatelli Candido de Oliveira\n",
        "\n"
      ],
      "metadata": {
        "id": "XCTcDFVhOeof"
      }
    },
    {
      "cell_type": "markdown",
      "source": [
        "# **1. Introdução ao módulo Collections**:\n",
        "O módulo collections faz parte da biblioteca padrão do Python e oferece contêineres de dados especializados que vão além dos tipos básicos como listas, tuplas e dicionários. Ele é usado para resolver problemas comuns de estruturação de dados de forma mais eficiente e legível.\n",
        "\n",
        "---\n",
        "\n"
      ],
      "metadata": {
        "id": "uUP5rVPIKSXI"
      }
    },
    {
      "cell_type": "code",
      "execution_count": null,
      "metadata": {
        "colab": {
          "base_uri": "https://localhost:8080/"
        },
        "id": "oaoosZQsKJtp",
        "outputId": "ff6a4784-ec58-4ef3-9760-fababeea9cb1"
      },
      "outputs": [
        {
          "output_type": "stream",
          "name": "stdout",
          "text": [
            "Counter({'a': 3, 'b': 2, 'c': 1})\n"
          ]
        }
      ],
      "source": [
        "#Exemplo básico de uso:\n",
        "\n",
        "from collections import Counter\n",
        "\n",
        "# Contar elementos de uma lista\n",
        "lista = ['a', 'b', 'a', 'c', 'b', 'a']\n",
        "contagem = Counter(lista)\n",
        "print(contagem)\n"
      ]
    },
    {
      "cell_type": "markdown",
      "source": [
        "# **2. Principais classes e seus usos**\n",
        "\n",
        "---\n",
        "\n",
        "\n",
        "\n",
        "###**a)** `namedtuple`: **Tuplas nomeadas**\n",
        "Cria tuplas com nomes para cada campo, tornando-as mais legíveis.\n",
        "\n",
        "\n",
        "\n",
        "*   São imutáveis, como tuplas normais;\n",
        "*   Campos podem ser acessados por nome ou por índice.\n",
        "\n",
        "\n"
      ],
      "metadata": {
        "id": "Dda0N7_ILJdL"
      }
    },
    {
      "cell_type": "code",
      "source": [
        "from collections import namedtuple\n",
        "\n",
        "# Criando uma tupla nomeada\n",
        "Pessoa = namedtuple('Pessoa', ['nome', 'idade', 'cidade'])\n",
        "\n",
        "# Instância\n",
        "joao = Pessoa(nome='João', idade=30, cidade='São Paulo')\n",
        "\n",
        "print(f\"Nome: {joao.nome}\")  # Acessando campo pelo nome\n",
        "print(f\"Idade: {joao[1]}\")    # Acessando campo pelo índice\n"
      ],
      "metadata": {
        "colab": {
          "base_uri": "https://localhost:8080/"
        },
        "id": "oAxRjTKuLJNO",
        "outputId": "62817f82-2127-491d-c7b4-868812dcf960"
      },
      "execution_count": null,
      "outputs": [
        {
          "output_type": "stream",
          "name": "stdout",
          "text": [
            "Nome: João\n",
            "Idade: 30\n"
          ]
        }
      ]
    },
    {
      "cell_type": "markdown",
      "source": [
        "###**b) `deque`: Lista de alta perfomance**\n",
        "\n",
        "É uma lista que suporta inserções e remoções eficientes em ambas as extremidades.\n",
        "\n",
        "\n",
        "\n",
        "*   Ideal para filas e pilhas.\n",
        "*   Oferece métodos como **`append`**, **`appendleft`**, **`pop`** e **`popleft`**.\n",
        "\n"
      ],
      "metadata": {
        "id": "_IxNLYZRMXRR"
      }
    },
    {
      "cell_type": "code",
      "source": [
        "from collections import deque\n",
        "\n",
        "fila = deque(['A', 'B', 'C'])\n",
        "print(fila)\n"
      ],
      "metadata": {
        "colab": {
          "base_uri": "https://localhost:8080/"
        },
        "id": "addLcYDhM_c0",
        "outputId": "3686a206-c514-438a-b99c-9924c13baec5"
      },
      "execution_count": null,
      "outputs": [
        {
          "output_type": "stream",
          "name": "stdout",
          "text": [
            "deque(['A', 'B', 'C'])\n"
          ]
        }
      ]
    },
    {
      "cell_type": "code",
      "source": [
        "fila.append('D')      # Adiciona no final\n",
        "print(fila)"
      ],
      "metadata": {
        "colab": {
          "base_uri": "https://localhost:8080/"
        },
        "id": "Y3KOsMotNkwE",
        "outputId": "3580ef0e-28a2-49af-bfec-cd56a688a41c"
      },
      "execution_count": null,
      "outputs": [
        {
          "output_type": "stream",
          "name": "stdout",
          "text": [
            "deque(['A', 'B', 'C', 'D'])\n"
          ]
        }
      ]
    },
    {
      "cell_type": "code",
      "source": [
        "fila.appendleft('Z')  # Adiciona no início\n",
        "print(fila)"
      ],
      "metadata": {
        "colab": {
          "base_uri": "https://localhost:8080/"
        },
        "id": "I1aIM8hSNnut",
        "outputId": "5ea1038e-3059-497e-df3a-3f246d438bc2"
      },
      "execution_count": null,
      "outputs": [
        {
          "output_type": "stream",
          "name": "stdout",
          "text": [
            "deque(['Z', 'A', 'B', 'C', 'D'])\n"
          ]
        }
      ]
    },
    {
      "cell_type": "code",
      "source": [
        "fila.pop()   # Remove do final\n",
        "print(fila)"
      ],
      "metadata": {
        "colab": {
          "base_uri": "https://localhost:8080/"
        },
        "id": "qJfhfufTNrId",
        "outputId": "dc85f9d3-715e-497e-ec07-b6da718363f3"
      },
      "execution_count": null,
      "outputs": [
        {
          "output_type": "stream",
          "name": "stdout",
          "text": [
            "deque(['Z', 'A', 'B', 'C'])\n"
          ]
        }
      ]
    },
    {
      "cell_type": "code",
      "source": [
        "fila.popleft()  # Remove do início\n",
        "print(fila)"
      ],
      "metadata": {
        "colab": {
          "base_uri": "https://localhost:8080/"
        },
        "id": "2HTi6HLLNvrY",
        "outputId": "585c1051-da8a-459e-e665-7c77871fba80"
      },
      "execution_count": null,
      "outputs": [
        {
          "output_type": "stream",
          "name": "stdout",
          "text": [
            "deque(['A', 'B', 'C'])\n"
          ]
        }
      ]
    },
    {
      "cell_type": "markdown",
      "source": [
        "###**c) `Counter`: Contagem eficiente de elementos**\n",
        "Conta ocorrências de elementos em coleções como listas, strings ou dicionários.\n",
        "\n",
        "* Retorna um dicionário onde as chaves são os itens e os valores são as contagens.\n"
      ],
      "metadata": {
        "id": "EaCAxXVxPL3x"
      }
    },
    {
      "cell_type": "code",
      "source": [
        "from collections import Counter\n",
        "\n",
        "texto = \"abracadabra\"\n",
        "contagem = Counter(texto)\n",
        "\n",
        "print(f\"Contagem de cada letra: {contagem}\")\n",
        "print(f\"Contagem da letra A: {contagem['a']}\")\n",
        "print(f\"As 3 letras mais frequentes e suas contagens: {contagem.most_common(3)}\")"
      ],
      "metadata": {
        "colab": {
          "base_uri": "https://localhost:8080/"
        },
        "id": "2uvRmAnOPhg6",
        "outputId": "8c10768e-8d29-4dba-98cb-32bb13f3399c"
      },
      "execution_count": null,
      "outputs": [
        {
          "output_type": "stream",
          "name": "stdout",
          "text": [
            "Contagem de cada letra: Counter({'a': 5, 'b': 2, 'r': 2, 'c': 1, 'd': 1})\n",
            "Contagem da letra A: 5\n",
            "As 3 letras mais frequentes e suas contagens: [('a', 5), ('b', 2), ('r', 2)]\n"
          ]
        }
      ]
    },
    {
      "cell_type": "markdown",
      "source": [
        "###**d) `defaultdict`: Dicionário com valores padrão**\n",
        "É um dicionário que cria automaticamente um valor padrão para chaves inexistentes.\n",
        "\n",
        "* Útil para evitar erros ao acessar chaves que não existem."
      ],
      "metadata": {
        "id": "LyIg67SDQ-0V"
      }
    },
    {
      "cell_type": "code",
      "source": [
        "from collections import defaultdict\n",
        "\n",
        "# Dicionário com lista como valor padrão\n",
        "\n",
        "d = defaultdict(list)\n",
        "d['frutas'].append('maçã')\n",
        "d['legumes'].append('brócolis')\n",
        "\n",
        "print(d)\n",
        "print(f\"Frutas: {d['frutas']}\") # Chave existente\n",
        "print(f\"Sucos: {d['sucos']}\") # Chave não existente\n"
      ],
      "metadata": {
        "colab": {
          "base_uri": "https://localhost:8080/"
        },
        "id": "M1slr0zQPoiO",
        "outputId": "856a136a-e09d-438a-ca11-600451d24e48"
      },
      "execution_count": null,
      "outputs": [
        {
          "output_type": "stream",
          "name": "stdout",
          "text": [
            "defaultdict(<class 'list'>, {'frutas': ['maçã'], 'legumes': ['brócolis']})\n",
            "Frutas: ['maçã']\n",
            "Sucos: []\n"
          ]
        }
      ]
    },
    {
      "cell_type": "code",
      "source": [
        "# Se analisarmos o dicionário novamente, ele terá adicionado a chave \"sucos\" porém com uma lista vazia como valor\n",
        "for k, v in d.items():\n",
        "  print(k, v)"
      ],
      "metadata": {
        "colab": {
          "base_uri": "https://localhost:8080/"
        },
        "id": "fetNe-w8VJPE",
        "outputId": "8c681a0e-9d3e-4230-85b8-cf34fd97691c"
      },
      "execution_count": null,
      "outputs": [
        {
          "output_type": "stream",
          "name": "stdout",
          "text": [
            "frutas ['maçã']\n",
            "legumes ['brócolis']\n",
            "sucos []\n"
          ]
        }
      ]
    },
    {
      "cell_type": "markdown",
      "source": [
        "###**e) `OrderedDict`: Dicionário Ordenado**\n",
        "\n",
        "Garante que a ordem das inserções seja mantida (importante antes do Python 3.7)"
      ],
      "metadata": {
        "id": "5b7lKHdfbohF"
      }
    },
    {
      "cell_type": "code",
      "source": [
        "from collections import OrderedDict\n",
        "\n",
        "my_dict = OrderedDict([('a', 1), ('b', 2), ('c', 3)])\n",
        "\n",
        "# Inverte o dicionário usando reversed()\n",
        "reversed_dict = OrderedDict(reversed(list(my_dict.items())))\n",
        "print('Dicionário normal: ')\n",
        "for key, value in my_dict.items():\n",
        "  print(key, value)\n",
        "\n",
        "print('\\nDicionário reverso: ')\n",
        "for key, value in reversed_dict.items():\n",
        "    print(key, value)\n"
      ],
      "metadata": {
        "id": "CChe9vLxchFP",
        "colab": {
          "base_uri": "https://localhost:8080/"
        },
        "outputId": "cf3b0e21-d052-4036-819a-7a38e5003c00"
      },
      "execution_count": null,
      "outputs": [
        {
          "output_type": "stream",
          "name": "stdout",
          "text": [
            "Dicionário normal: \n",
            "a 1\n",
            "b 2\n",
            "c 3\n",
            "\n",
            "Dicionário reverso: \n",
            "c 3\n",
            "b 2\n",
            "a 1\n"
          ]
        }
      ]
    },
    {
      "cell_type": "markdown",
      "source": [
        "Possibilita mover chaves\n"
      ],
      "metadata": {
        "id": "629TnwU3jZEE"
      }
    },
    {
      "cell_type": "code",
      "source": [
        "# Move chave 'a' para o fim\n",
        "my_dict.move_to_end('a', last=True) # last=True garante que a chave irá para o final, mas não é necessário\n",
        "\n",
        "# Move chave 'b' para o começo\n",
        "my_dict.move_to_end('b', last=False) # last=False garante que a chave irá para o começo\n",
        "\n",
        "for key, value in my_dict.items():\n",
        "    print(key, value)"
      ],
      "metadata": {
        "colab": {
          "base_uri": "https://localhost:8080/"
        },
        "id": "Zl6dGmpzjykr",
        "outputId": "cc8f9257-a898-4fd5-9e92-e35702b42b76"
      },
      "execution_count": null,
      "outputs": [
        {
          "output_type": "stream",
          "name": "stdout",
          "text": [
            "b 2\n",
            "c 3\n",
            "a 1\n"
          ]
        }
      ]
    },
    {
      "cell_type": "markdown",
      "source": [
        "Deletar e reinserir chaves"
      ],
      "metadata": {
        "id": "AulUABvqjhPt"
      }
    },
    {
      "cell_type": "code",
      "source": [
        "\n",
        "from collections import OrderedDict\n",
        "\n",
        "print(\"Antes de deletar :\\n\")\n",
        "od = OrderedDict()\n",
        "od['a'] = 1\n",
        "od['b'] = 2\n",
        "od['c'] = 3\n",
        "od['d'] = 4\n",
        "\n",
        "for key, value in od.items():\n",
        "    print(key, value)\n",
        "\n",
        "print(\"\\nDepois de deletar:\\n\")\n",
        "od.pop('c')\n",
        "for key, value in od.items():\n",
        "    print(key, value)\n",
        "\n",
        "print(\"\\nDepois de re-inserir:\\n\")\n",
        "od['c'] = 3\n",
        "for key, value in od.items():\n",
        "    print(key, value)"
      ],
      "metadata": {
        "id": "tlqDjc3kjViT",
        "colab": {
          "base_uri": "https://localhost:8080/"
        },
        "outputId": "0dcd5fb8-3ff7-4f1b-f909-0593ad55d803"
      },
      "execution_count": 1,
      "outputs": [
        {
          "output_type": "stream",
          "name": "stdout",
          "text": [
            "Antes de deletar :\n",
            "\n",
            "a 1\n",
            "b 2\n",
            "c 3\n",
            "d 4\n",
            "\n",
            "Depois de deletar:\n",
            "\n",
            "a 1\n",
            "b 2\n",
            "d 4\n",
            "\n",
            "Depois de re-inserir:\n",
            "\n",
            "a 1\n",
            "b 2\n",
            "d 4\n",
            "c 3\n"
          ]
        }
      ]
    },
    {
      "cell_type": "markdown",
      "source": [
        "###**f) `ChainMap`: Combinação de dicionários**"
      ],
      "metadata": {
        "id": "TDnyivUCljP0"
      }
    },
    {
      "cell_type": "code",
      "source": [
        "from collections import ChainMap\n",
        "\n",
        "\n",
        "d1 = {'a': 1, 'b': 2}\n",
        "d2 = {'c': 3, 'd': 4}\n",
        "d3 = {'e': 5, 'f': 6}\n",
        "\n",
        "c = ChainMap(d1, d2, d3)\n",
        "\n",
        "print(c)\n"
      ],
      "metadata": {
        "id": "FOrkN7JneVYv",
        "colab": {
          "base_uri": "https://localhost:8080/"
        },
        "outputId": "d3c58b15-e7d3-4e0e-e7e0-39c08708219f"
      },
      "execution_count": 2,
      "outputs": [
        {
          "output_type": "stream",
          "name": "stdout",
          "text": [
            "ChainMap({'a': 1, 'b': 2}, {'c': 3, 'd': 4}, {'e': 5, 'f': 6})\n"
          ]
        }
      ]
    },
    {
      "cell_type": "code",
      "source": [
        "import collections\n",
        "\n",
        "dic1 = { 'a' : 1, 'b' : 2 }\n",
        "dic2 = { 'b' : 3, 'c' : 4 }\n",
        "\n",
        "chain = collections.ChainMap(dic1, dic2)\n",
        "\n",
        "print (\"Todo o ChainMap contém : \")\n",
        "print (chain.maps)\n",
        "\n",
        "print (\"Todas as chaves do ChainMap são : \")\n",
        "print (list(chain.keys()))\n",
        "\n",
        "print (\"Todos os valores do ChainMap são : \")\n",
        "print (list(chain.values()))\n"
      ],
      "metadata": {
        "colab": {
          "base_uri": "https://localhost:8080/"
        },
        "id": "5VVsbqW8l3Cw",
        "outputId": "1355cdff-e5ac-42f1-be84-927b80512a79"
      },
      "execution_count": 4,
      "outputs": [
        {
          "output_type": "stream",
          "name": "stdout",
          "text": [
            "Todo o ChainMap contém : \n",
            "[{'a': 1, 'b': 2}, {'b': 3, 'c': 4}]\n",
            "Todas as chaves do ChainMap são : \n",
            "['b', 'c', 'a']\n",
            "Todos os valores do ChainMap são : \n",
            "[2, 4, 1]\n"
          ]
        }
      ]
    },
    {
      "cell_type": "markdown",
      "source": [
        "###**g) `UserList`, `UserDict` e `UserString` : Personalização de classes base**"
      ],
      "metadata": {
        "id": "pDbyda_smqYA"
      }
    },
    {
      "cell_type": "code",
      "source": [
        "from collections import UserList\n",
        "\n",
        "class ListaSomenteNumeros(UserList):\n",
        "    def append(self, item):\n",
        "        if not isinstance(item, (int, float)):\n",
        "            raise TypeError(f\"Somente números são permitidos: {item}\")\n",
        "        super().append(item)\n",
        "\n",
        "    def extend(self, items):\n",
        "        for item in items:\n",
        "            if not isinstance(item, (int, float)):\n",
        "                raise TypeError(f\"Somente números são permitidos: {item}\")\n",
        "        super().extend(items)\n",
        "\n",
        "# Testando a lista personalizada\n",
        "lista = ListaSomenteNumeros()\n",
        "\n",
        "lista.append(10)   # Funciona\n",
        "lista.append(3.14) # Funciona\n",
        "# lista.append(\"texto\")  # Levanta TypeError: Somente números são permitidos: texto\n",
        "\n",
        "lista.extend([1, 2, 3])  # Funciona\n",
        "print(lista)  # Saída: [10, 3.14, 1, 2, 3]\n",
        "\n",
        "# lista.extend([4, \"texto\"])  # Levanta TypeError: Somente números são permitidos: texto\n"
      ],
      "metadata": {
        "colab": {
          "base_uri": "https://localhost:8080/"
        },
        "id": "yQIHcHSNmDi6",
        "outputId": "f253bb8a-730c-4946-9d72-608112c37109"
      },
      "execution_count": 5,
      "outputs": [
        {
          "output_type": "stream",
          "name": "stdout",
          "text": [
            "[10, 3.14, 1, 2, 3]\n"
          ]
        }
      ]
    },
    {
      "cell_type": "markdown",
      "source": [
        "# **3. Exemplos Práticos**\n",
        "\n",
        "---\n",
        "\n"
      ],
      "metadata": {
        "id": "LqocHGPDn2_Q"
      }
    },
    {
      "cell_type": "markdown",
      "source": [
        "###**a) Analisando palavras de um texto com `Counter`**\n",
        "Imagine que você precisa contar as palavras mais frequentes em um texto.\n",
        "\n"
      ],
      "metadata": {
        "id": "chjw8EAWoBpQ"
      }
    },
    {
      "cell_type": "code",
      "source": [
        "from collections import Counter\n",
        "\n",
        "texto = \"\"\"Python é uma linguagem de programação poderosa e eficiente.\n",
        "Python é usada para desenvolvimento web, análise de dados e aprendizado de máquina.\"\"\"\n",
        "\n",
        "# Transformar o texto em uma lista de palavras\n",
        "palavras = texto.lower().split()\n",
        "\n",
        "# Contar ocorrências\n",
        "contagem = Counter(palavras)\n",
        "\n",
        "print(contagem.most_common(3))  # Saída: [('python', 2), ('é', 2), ('uma', 1)]\n"
      ],
      "metadata": {
        "colab": {
          "base_uri": "https://localhost:8080/"
        },
        "id": "Unqus6EdoIZr",
        "outputId": "4cabb0e0-c8ab-4c98-a6ea-a5009093b4ae"
      },
      "execution_count": 6,
      "outputs": [
        {
          "output_type": "stream",
          "name": "stdout",
          "text": [
            "[('de', 3), ('python', 2), ('é', 2)]\n"
          ]
        }
      ]
    },
    {
      "cell_type": "markdown",
      "source": [
        "### **b)  Filas e sistemas de atendimento com `deque`**\n",
        "\n",
        "Simulando uma fila de atendimento:"
      ],
      "metadata": {
        "id": "DTi_LDE-oRVz"
      }
    },
    {
      "cell_type": "code",
      "source": [
        "from collections import deque\n",
        "\n",
        "fila = deque()\n",
        "\n",
        "# Clientes entram na fila\n",
        "fila.append(\"Cliente 1\")\n",
        "fila.append(\"Cliente 2\")\n",
        "fila.append(\"Cliente 3\")\n",
        "print(f\"Atendendo: {fila.popleft()}\")  # Saída: Cliente 1\n",
        "print(f\"Próximo: {fila[0]}\")          # Saída: Cliente 2\n"
      ],
      "metadata": {
        "colab": {
          "base_uri": "https://localhost:8080/"
        },
        "id": "P4ph-BfAoaKs",
        "outputId": "5f1c9e95-8037-4778-8bb7-00454fe530f9"
      },
      "execution_count": 14,
      "outputs": [
        {
          "output_type": "stream",
          "name": "stdout",
          "text": [
            "Atendendo: Cliente 1\n",
            "Próximo: Cliente 2\n"
          ]
        }
      ]
    },
    {
      "cell_type": "code",
      "source": [
        "print(f\"Atendendo: {fila.popleft()}\")\n",
        "print(f'Próximo: {fila[0]}')"
      ],
      "metadata": {
        "colab": {
          "base_uri": "https://localhost:8080/"
        },
        "id": "82LYxt3SojJq",
        "outputId": "d8f24fc6-aff2-4b2f-c29a-d17a2bd1bb7f"
      },
      "execution_count": 13,
      "outputs": [
        {
          "output_type": "stream",
          "name": "stdout",
          "text": [
            "Atendendo: Cliente 2\n",
            "Próximo: Cliente 3\n"
          ]
        }
      ]
    },
    {
      "cell_type": "markdown",
      "source": [
        "###**c) Agrupando elementos automaticamente com `defaultdict`**\n",
        "\n",
        "Criando grupo de alunos por turma:"
      ],
      "metadata": {
        "id": "ww7om1elpOYb"
      }
    },
    {
      "cell_type": "code",
      "source": [
        "from collections import defaultdict\n",
        "\n",
        "alunos = [('Turma A', 'João'), ('Turma B', 'Maria'), ('Turma A', 'José')]\n",
        "\n",
        "grupos = defaultdict(list)\n",
        "for turma, aluno in alunos:\n",
        "    grupos[turma].append(aluno)\n",
        "\n",
        "print(grupos)  # Saída: {'Turma A': ['João', 'José'], 'Turma B': ['Maria']}\n"
      ],
      "metadata": {
        "colab": {
          "base_uri": "https://localhost:8080/"
        },
        "id": "A_a8lnJUpXKn",
        "outputId": "d829cc09-5b38-44e6-c7d2-fcff2b399269"
      },
      "execution_count": 15,
      "outputs": [
        {
          "output_type": "stream",
          "name": "stdout",
          "text": [
            "defaultdict(<class 'list'>, {'Turma A': ['João', 'José'], 'Turma B': ['Maria']})\n"
          ]
        }
      ]
    },
    {
      "cell_type": "markdown",
      "source": [
        "#**4. Comparação com tipos de Dados Padrão**\n",
        "\n",
        "---\n",
        "\n"
      ],
      "metadata": {
        "id": "3TqOhjqSpr9a"
      }
    },
    {
      "cell_type": "code",
      "source": [
        "from IPython.core.display import display, HTML\n",
        "\n",
        "html_table = \"\"\"\n",
        "<table style=\"font-size: 24px; border-collapse: collapse; width: 100%;\">\n",
        "  <tr style=\"background-color: black; text-align: left; text-color: '\">\n",
        "    <th style=\"border: 1px solid black; padding: 10px;\"><b>Classe</b></th>\n",
        "    <th style=\"border: 1px solid black; padding: 10px;\"><b>Equivalente Padrão</b></th>\n",
        "    <th style=\"border: 1px solid black; padding: 10px;\"><b>Diferença/Benefício</b></th>\n",
        "  </tr>\n",
        "  <tr>\n",
        "    <td style=\"border: 1px solid black; padding: 10px;\"><code>namedtuple</code></td>\n",
        "    <td style=\"border: 1px solid black; padding: 10px;\"><code>tuple</code></td>\n",
        "    <td style=\"border: 1px solid black; padding: 10px;\">Acesso a campos por nome, maior legibilidade.</td>\n",
        "  </tr>\n",
        "  <tr>\n",
        "    <td style=\"border: 1px solid black; padding: 10px;\"><code>deque</code></td>\n",
        "    <td style=\"border: 1px solid black; padding: 10px;\"><code>list</code></td>\n",
        "    <td style=\"border: 1px solid black; padding: 10px;\">Inserções e remoções rápidas nas extremidades.</td>\n",
        "  </tr>\n",
        "  <tr>\n",
        "    <td style=\"border: 1px solid black; padding: 10px;\"><code>Counter</code></td>\n",
        "    <td style=\"border: 1px solid black; padding: 10px;\"><code>dict</code></td>\n",
        "    <td style=\"border: 1px solid black; padding: 10px;\">Contagem simplificada e operações matemáticas.</td>\n",
        "  </tr>\n",
        "  <tr>\n",
        "    <td style=\"border: 1px solid black; padding: 10px;\"><code>defaultdict</code></td>\n",
        "    <td style=\"border: 1px solid black; padding: 10px;\"><code>dict</code></td>\n",
        "    <td style=\"border: 1px solid black; padding: 10px;\">Evita verificar se uma chave existe antes de usá-la.</td>\n",
        "  </tr>\n",
        "  <tr>\n",
        "    <td style=\"border: 1px solid black; padding: 10px;\"><code>OrderedDict</code></td>\n",
        "    <td style=\"border: 1px solid black; padding: 10px;\"><code>dict</code> (antes do 3.7)</td>\n",
        "    <td style=\"border: 1px solid black; padding: 10px;\">Mantém a ordem de inserção.</td>\n",
        "  </tr>\n",
        "  <tr>\n",
        "    <td style=\"border: 1px solid black; padding: 10px;\"><code>ChainMap</code></td>\n",
        "    <td style=\"border: 1px solid black; padding: 10px;\">Não aplicável</td>\n",
        "    <td style=\"border: 1px solid black; padding: 10px;\">Trabalha com múltiplos dicionários como uma única unidade.</td>\n",
        "  </tr>\n",
        "  <tr>\n",
        "    <td style=\"border: 1px solid black; padding: 10px;\"><code>UserDict</code></td>\n",
        "    <td style=\"border: 1px solid black; padding: 10px;\"><code>dict</code></td>\n",
        "    <td style=\"border: 1px solid black; padding: 10px;\">Permite criar dicionários personalizados.</td>\n",
        "  </tr>\n",
        "</table>\n",
        "\"\"\"\n",
        "\n",
        "display(HTML(html_table))\n"
      ],
      "metadata": {
        "id": "HZRDx-IMp0gX",
        "colab": {
          "base_uri": "https://localhost:8080/",
          "height": 431
        },
        "outputId": "5f9f6203-c32d-4ce7-cee2-b606da21b819"
      },
      "execution_count": 23,
      "outputs": [
        {
          "output_type": "display_data",
          "data": {
            "text/plain": [
              "<IPython.core.display.HTML object>"
            ],
            "text/html": [
              "\n",
              "<table style=\"font-size: 24px; border-collapse: collapse; width: 100%;\">\n",
              "  <tr style=\"background-color: black; text-align: left; text-color: '\">\n",
              "    <th style=\"border: 1px solid black; padding: 10px;\"><b>Classe</b></th>\n",
              "    <th style=\"border: 1px solid black; padding: 10px;\"><b>Equivalente Padrão</b></th>\n",
              "    <th style=\"border: 1px solid black; padding: 10px;\"><b>Diferença/Benefício</b></th>\n",
              "  </tr>\n",
              "  <tr>\n",
              "    <td style=\"border: 1px solid black; padding: 10px;\"><code>namedtuple</code></td>\n",
              "    <td style=\"border: 1px solid black; padding: 10px;\"><code>tuple</code></td>\n",
              "    <td style=\"border: 1px solid black; padding: 10px;\">Acesso a campos por nome, maior legibilidade.</td>\n",
              "  </tr>\n",
              "  <tr>\n",
              "    <td style=\"border: 1px solid black; padding: 10px;\"><code>deque</code></td>\n",
              "    <td style=\"border: 1px solid black; padding: 10px;\"><code>list</code></td>\n",
              "    <td style=\"border: 1px solid black; padding: 10px;\">Inserções e remoções rápidas nas extremidades.</td>\n",
              "  </tr>\n",
              "  <tr>\n",
              "    <td style=\"border: 1px solid black; padding: 10px;\"><code>Counter</code></td>\n",
              "    <td style=\"border: 1px solid black; padding: 10px;\"><code>dict</code></td>\n",
              "    <td style=\"border: 1px solid black; padding: 10px;\">Contagem simplificada e operações matemáticas.</td>\n",
              "  </tr>\n",
              "  <tr>\n",
              "    <td style=\"border: 1px solid black; padding: 10px;\"><code>defaultdict</code></td>\n",
              "    <td style=\"border: 1px solid black; padding: 10px;\"><code>dict</code></td>\n",
              "    <td style=\"border: 1px solid black; padding: 10px;\">Evita verificar se uma chave existe antes de usá-la.</td>\n",
              "  </tr>\n",
              "  <tr>\n",
              "    <td style=\"border: 1px solid black; padding: 10px;\"><code>OrderedDict</code></td>\n",
              "    <td style=\"border: 1px solid black; padding: 10px;\"><code>dict</code> (antes do 3.7)</td>\n",
              "    <td style=\"border: 1px solid black; padding: 10px;\">Mantém a ordem de inserção.</td>\n",
              "  </tr>\n",
              "  <tr>\n",
              "    <td style=\"border: 1px solid black; padding: 10px;\"><code>ChainMap</code></td>\n",
              "    <td style=\"border: 1px solid black; padding: 10px;\">Não aplicável</td>\n",
              "    <td style=\"border: 1px solid black; padding: 10px;\">Trabalha com múltiplos dicionários como uma única unidade.</td>\n",
              "  </tr>\n",
              "  <tr>\n",
              "    <td style=\"border: 1px solid black; padding: 10px;\"><code>UserDict</code></td>\n",
              "    <td style=\"border: 1px solid black; padding: 10px;\"><code>dict</code></td>\n",
              "    <td style=\"border: 1px solid black; padding: 10px;\">Permite criar dicionários personalizados.</td>\n",
              "  </tr>\n",
              "</table>\n"
            ]
          },
          "metadata": {}
        }
      ]
    },
    {
      "cell_type": "markdown",
      "source": [
        "# **5. Casos de Uso na Prática**\n",
        "\n",
        "---\n",
        "\n"
      ],
      "metadata": {
        "id": "DdBsmHrmtJN5"
      }
    },
    {
      "cell_type": "markdown",
      "source": [
        "###**a) Processamento de Logs**\n",
        "Contando eventos em arquivos de log com `Counter` :"
      ],
      "metadata": {
        "id": "maDVnIeGtNpp"
      }
    },
    {
      "cell_type": "code",
      "source": [
        "from collections import Counter\n",
        "\n",
        "logs = [\n",
        "    \"INFO: Serviço iniciado\",\n",
        "    \"ERROR: Falha ao conectar ao banco\",\n",
        "    \"INFO: Requisição recebida\",\n",
        "    \"ERROR: Timeout na conexão\"\n",
        "]\n",
        "\n",
        "tipos = [log.split(\":\")[0] for log in logs]\n",
        "contagem = Counter(tipos)\n",
        "\n",
        "print(contagem)  # Saída: Counter({'INFO': 2, 'ERROR': 2})\n"
      ],
      "metadata": {
        "colab": {
          "base_uri": "https://localhost:8080/"
        },
        "id": "YMqoKto4tWDg",
        "outputId": "44c6906c-1513-47bf-98ba-c2c6629b110a"
      },
      "execution_count": 16,
      "outputs": [
        {
          "output_type": "stream",
          "name": "stdout",
          "text": [
            "Counter({'INFO': 2, 'ERROR': 2})\n"
          ]
        }
      ]
    },
    {
      "cell_type": "markdown",
      "source": [
        "###**b) Simulando cache com `deque`**\n",
        "Criando um cache limitado com capacidade fixa:"
      ],
      "metadata": {
        "id": "HkMGW5g6tc00"
      }
    },
    {
      "cell_type": "code",
      "source": [
        "from collections import deque\n",
        "\n",
        "cache = deque(maxlen=3)\n",
        "cache.append(1)\n",
        "cache.append(2)\n",
        "cache.append(3)\n",
        "print(cache)  # Saída: deque([1, 2, 3], maxlen=3)\n",
        "\n",
        "cache.append(4)  # Remove o mais antigo (1)\n",
        "print(cache)  # Saída: deque([2, 3, 4], maxlen=3)\n"
      ],
      "metadata": {
        "colab": {
          "base_uri": "https://localhost:8080/"
        },
        "id": "u4Q7RiS8tj3G",
        "outputId": "0eeb3617-fe4e-4358-fbaf-79ada7e473d2"
      },
      "execution_count": 17,
      "outputs": [
        {
          "output_type": "stream",
          "name": "stdout",
          "text": [
            "deque([1, 2, 3], maxlen=3)\n",
            "deque([2, 3, 4], maxlen=3)\n"
          ]
        }
      ]
    },
    {
      "cell_type": "markdown",
      "source": [
        "#***6. Conclusão***\n",
        "\n",
        "---\n",
        "O módulo *collections* é essencial para melhorar a eficiência e a legibilidade do código. Ele resolve problemas comuns de maneira prática, reduzindo a necessidade de reinventar a roda com implementações manuais. Com os exemplos apresentados, você pode aplicar suas funcionalidades diretamente em cenários reais.\n",
        "\n",
        "**Vantagens principais:**\n",
        "\n",
        "\n",
        "*   Eficiência em operações comuns (como contagens e filas).\n",
        "*  Alternativas elegantes e poderosas para tipos de dados padrão.\n",
        "* Facilita o trabalho com estruturas de dados complexas.\n",
        "\n"
      ],
      "metadata": {
        "id": "fKXfNBRJtplz"
      }
    }
  ]
}