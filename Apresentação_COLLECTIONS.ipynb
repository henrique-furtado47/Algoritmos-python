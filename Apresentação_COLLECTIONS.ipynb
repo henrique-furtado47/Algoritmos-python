{
  "nbformat": 4,
  "nbformat_minor": 0,
  "metadata": {
    "colab": {
      "provenance": [],
      "include_colab_link": true
    },
    "kernelspec": {
      "name": "python3",
      "display_name": "Python 3"
    },
    "language_info": {
      "name": "python"
    }
  },
  "cells": [
    {
      "cell_type": "markdown",
      "metadata": {
        "id": "view-in-github",
        "colab_type": "text"
      },
      "source": [
        "<a href=\"https://colab.research.google.com/github/henrique-furtado47/Algoritmos-python/blob/main/Apresenta%C3%A7%C3%A3o_COLLECTIONS.ipynb\" target=\"_parent\"><img src=\"https://colab.research.google.com/assets/colab-badge.svg\" alt=\"Open In Colab\"/></a>"
      ]
    },
    {
      "cell_type": "markdown",
      "source": [
        "#**Algoritmos e programação II**\n",
        "## Apresentação sobre o módulo Collections\n",
        "\n",
        "\n",
        "1.   Henrique Furtado\n",
        "2.   José Enio Segundo\n",
        "3. Luis Felipe Ferreira da Silva\n",
        "4. Paulo Cesar Nicolau Padilha\n",
        "5. Tomas Locatelli Candido de Oliveira\n",
        "\n"
      ],
      "metadata": {
        "id": "XCTcDFVhOeof"
      }
    },
    {
      "cell_type": "markdown",
      "source": [
        "# **1. Introdução ao módulo Collections**:\n",
        "O módulo collections faz parte da biblioteca padrão do Python e oferece contêineres de dados especializados que vão além dos tipos básicos como listas, tuplas e dicionários. Ele é usado para resolver problemas comuns de estruturação de dados de forma mais eficiente e legível."
      ],
      "metadata": {
        "id": "uUP5rVPIKSXI"
      }
    },
    {
      "cell_type": "code",
      "execution_count": null,
      "metadata": {
        "colab": {
          "base_uri": "https://localhost:8080/"
        },
        "id": "oaoosZQsKJtp",
        "outputId": "ff6a4784-ec58-4ef3-9760-fababeea9cb1"
      },
      "outputs": [
        {
          "output_type": "stream",
          "name": "stdout",
          "text": [
            "Counter({'a': 3, 'b': 2, 'c': 1})\n"
          ]
        }
      ],
      "source": [
        "#Exemplo básico de uso:\n",
        "\n",
        "from collections import Counter\n",
        "\n",
        "# Contar elementos de uma lista\n",
        "lista = ['a', 'b', 'a', 'c', 'b', 'a']\n",
        "contagem = Counter(lista)\n",
        "print(contagem)\n"
      ]
    },
    {
      "cell_type": "markdown",
      "source": [
        "# **2. Principais classes e seus usos**\n",
        "\n",
        "---\n",
        "\n",
        "\n",
        "\n",
        "###**a)** *namedtuple*: **Tuplas nomeadas**\n",
        "Cria tuplas com nomes para cada campo, tornando-as mais legíveis.\n",
        "\n",
        "\n",
        "\n",
        "*   São imutáveis, como tuplas normais;\n",
        "*   Campos podem ser acessados por nome ou por índice.\n",
        "\n",
        "\n"
      ],
      "metadata": {
        "id": "Dda0N7_ILJdL"
      }
    },
    {
      "cell_type": "code",
      "source": [
        "from collections import namedtuple\n",
        "\n",
        "# Criando uma tupla nomeada\n",
        "Pessoa = namedtuple('Pessoa', ['nome', 'idade', 'cidade'])\n",
        "\n",
        "# Instância\n",
        "joao = Pessoa(nome='João', idade=30, cidade='São Paulo')\n",
        "\n",
        "print(f\"Nome: {joao.nome}\")  # Acessando campo pelo nome\n",
        "print(f\"Idade: {joao[1]}\")    # Acessando campo pelo índice\n"
      ],
      "metadata": {
        "colab": {
          "base_uri": "https://localhost:8080/"
        },
        "id": "oAxRjTKuLJNO",
        "outputId": "62817f82-2127-491d-c7b4-868812dcf960"
      },
      "execution_count": null,
      "outputs": [
        {
          "output_type": "stream",
          "name": "stdout",
          "text": [
            "Nome: João\n",
            "Idade: 30\n"
          ]
        }
      ]
    },
    {
      "cell_type": "markdown",
      "source": [
        "###**b) *deque*: Lista de alta perfomance**\n",
        "\n",
        "É uma lista que suporta inserções e remoções eficientes em ambas as extremidades.\n",
        "\n",
        "\n",
        "\n",
        "*   Ideal para filas e pilhas.\n",
        "*   Oferece métodos como **append**, **appendleft**, **pop** e **popleft**.\n",
        "\n"
      ],
      "metadata": {
        "id": "_IxNLYZRMXRR"
      }
    },
    {
      "cell_type": "code",
      "source": [
        "from collections import deque\n",
        "\n",
        "fila = deque(['A', 'B', 'C'])\n",
        "print(fila)\n"
      ],
      "metadata": {
        "colab": {
          "base_uri": "https://localhost:8080/"
        },
        "id": "addLcYDhM_c0",
        "outputId": "3686a206-c514-438a-b99c-9924c13baec5"
      },
      "execution_count": null,
      "outputs": [
        {
          "output_type": "stream",
          "name": "stdout",
          "text": [
            "deque(['A', 'B', 'C'])\n"
          ]
        }
      ]
    },
    {
      "cell_type": "code",
      "source": [
        "fila.append('D')      # Adiciona no final\n",
        "print(fila)"
      ],
      "metadata": {
        "colab": {
          "base_uri": "https://localhost:8080/"
        },
        "id": "Y3KOsMotNkwE",
        "outputId": "3580ef0e-28a2-49af-bfec-cd56a688a41c"
      },
      "execution_count": null,
      "outputs": [
        {
          "output_type": "stream",
          "name": "stdout",
          "text": [
            "deque(['A', 'B', 'C', 'D'])\n"
          ]
        }
      ]
    },
    {
      "cell_type": "code",
      "source": [
        "fila.appendleft('Z')  # Adiciona no início\n",
        "print(fila)"
      ],
      "metadata": {
        "colab": {
          "base_uri": "https://localhost:8080/"
        },
        "id": "I1aIM8hSNnut",
        "outputId": "5ea1038e-3059-497e-df3a-3f246d438bc2"
      },
      "execution_count": null,
      "outputs": [
        {
          "output_type": "stream",
          "name": "stdout",
          "text": [
            "deque(['Z', 'A', 'B', 'C', 'D'])\n"
          ]
        }
      ]
    },
    {
      "cell_type": "code",
      "source": [
        "fila.pop()   # Remove do final\n",
        "print(fila)"
      ],
      "metadata": {
        "colab": {
          "base_uri": "https://localhost:8080/"
        },
        "id": "qJfhfufTNrId",
        "outputId": "dc85f9d3-715e-497e-ec07-b6da718363f3"
      },
      "execution_count": null,
      "outputs": [
        {
          "output_type": "stream",
          "name": "stdout",
          "text": [
            "deque(['Z', 'A', 'B', 'C'])\n"
          ]
        }
      ]
    },
    {
      "cell_type": "code",
      "source": [
        "fila.popleft()  # Remove do início\n",
        "print(fila)"
      ],
      "metadata": {
        "colab": {
          "base_uri": "https://localhost:8080/"
        },
        "id": "2HTi6HLLNvrY",
        "outputId": "585c1051-da8a-459e-e665-7c77871fba80"
      },
      "execution_count": null,
      "outputs": [
        {
          "output_type": "stream",
          "name": "stdout",
          "text": [
            "deque(['A', 'B', 'C'])\n"
          ]
        }
      ]
    },
    {
      "cell_type": "markdown",
      "source": [
        "###**c) *Counter*: Contagem eficiente de elementos**\n",
        "Conta ocorrências de elementos em coleções como listas, strings ou dicionários.\n",
        "\n",
        "* Retorna um dicionário onde as chaves são os itens e os valores são as contagens.\n"
      ],
      "metadata": {
        "id": "EaCAxXVxPL3x"
      }
    },
    {
      "cell_type": "code",
      "source": [
        "from collections import Counter\n",
        "\n",
        "texto = \"abracadabra\"\n",
        "contagem = Counter(texto)\n",
        "\n",
        "print(f\"Contagem de cada letra: {contagem}\")\n",
        "print(f\"Contagem da letra A: {contagem['a']}\")\n",
        "print(f\"As 3 letras mais frequentes e suas contagens: {contagem.most_common(3)}\")"
      ],
      "metadata": {
        "colab": {
          "base_uri": "https://localhost:8080/"
        },
        "id": "2uvRmAnOPhg6",
        "outputId": "8c10768e-8d29-4dba-98cb-32bb13f3399c"
      },
      "execution_count": null,
      "outputs": [
        {
          "output_type": "stream",
          "name": "stdout",
          "text": [
            "Contagem de cada letra: Counter({'a': 5, 'b': 2, 'r': 2, 'c': 1, 'd': 1})\n",
            "Contagem da letra A: 5\n",
            "As 3 letras mais frequentes e suas contagens: [('a', 5), ('b', 2), ('r', 2)]\n"
          ]
        }
      ]
    },
    {
      "cell_type": "markdown",
      "source": [
        "###**d) *defaultdict*: Dicionário com valores padrão**\n",
        "É um dicionário que cria automaticamente um valor padrão para chaves inexistentes.\n",
        "\n",
        "* Útil para evitar erros ao acessar chaves que não existem."
      ],
      "metadata": {
        "id": "LyIg67SDQ-0V"
      }
    },
    {
      "cell_type": "code",
      "source": [
        "from collections import defaultdict\n",
        "\n",
        "# Dicionário com lista como valor padrão\n",
        "\n",
        "d = defaultdict(list)\n",
        "d['frutas'].append('maçã')\n",
        "d['legumes'].append('brócolis')\n",
        "\n",
        "print(d)\n",
        "print(f\"Frutas: {d['frutas']}\") # Chave existente\n",
        "print(f\"Sucos: {d['sucos']}\") # Chave não existente\n"
      ],
      "metadata": {
        "colab": {
          "base_uri": "https://localhost:8080/"
        },
        "id": "M1slr0zQPoiO",
        "outputId": "856a136a-e09d-438a-ca11-600451d24e48"
      },
      "execution_count": null,
      "outputs": [
        {
          "output_type": "stream",
          "name": "stdout",
          "text": [
            "defaultdict(<class 'list'>, {'frutas': ['maçã'], 'legumes': ['brócolis']})\n",
            "Frutas: ['maçã']\n",
            "Sucos: []\n"
          ]
        }
      ]
    },
    {
      "cell_type": "code",
      "source": [
        "# Se analisarmos o dicionário novamente, ele terá adicionado a chave \"sucos\" porém com uma lista vazia como valor\n",
        "for k, v in d.items():\n",
        "  print(k, v)"
      ],
      "metadata": {
        "colab": {
          "base_uri": "https://localhost:8080/"
        },
        "id": "fetNe-w8VJPE",
        "outputId": "8c681a0e-9d3e-4230-85b8-cf34fd97691c"
      },
      "execution_count": null,
      "outputs": [
        {
          "output_type": "stream",
          "name": "stdout",
          "text": [
            "frutas ['maçã']\n",
            "legumes ['brócolis']\n",
            "sucos []\n"
          ]
        }
      ]
    },
    {
      "cell_type": "markdown",
      "source": [
        "###**e) *OrderedDict*: Dicionário Ordenado**\n",
        "\n",
        "Garante que a ordem das inserções seja mantida (importante antes do Python 3.7)"
      ],
      "metadata": {
        "id": "5b7lKHdfbohF"
      }
    },
    {
      "cell_type": "code",
      "source": [
        "from collections import OrderedDict\n",
        "\n",
        "my_dict = OrderedDict([('a', 1), ('b', 2), ('c', 3)])\n",
        "\n",
        "# Inverte o dicionário usando reversed()\n",
        "reversed_dict = OrderedDict(reversed(list(my_dict.items())))\n",
        "print('Dicionário normal: ')\n",
        "for key, value in my_dict.items():\n",
        "  print(key, value)\n",
        "\n",
        "print('\\nDicionário reverso: ')\n",
        "for key, value in reversed_dict.items():\n",
        "    print(key, value)\n"
      ],
      "metadata": {
        "id": "CChe9vLxchFP",
        "colab": {
          "base_uri": "https://localhost:8080/"
        },
        "outputId": "cf3b0e21-d052-4036-819a-7a38e5003c00"
      },
      "execution_count": null,
      "outputs": [
        {
          "output_type": "stream",
          "name": "stdout",
          "text": [
            "Dicionário normal: \n",
            "a 1\n",
            "b 2\n",
            "c 3\n",
            "\n",
            "Dicionário reverso: \n",
            "c 3\n",
            "b 2\n",
            "a 1\n"
          ]
        }
      ]
    },
    {
      "cell_type": "markdown",
      "source": [
        "Possibilita mover chaves\n"
      ],
      "metadata": {
        "id": "629TnwU3jZEE"
      }
    },
    {
      "cell_type": "code",
      "source": [
        "# Move chave 'a' para o fim\n",
        "my_dict.move_to_end('a', last=True) # last=True garante que a chave irá para o final, mas não é necessário\n",
        "\n",
        "# Move chave 'b' para o começo\n",
        "my_dict.move_to_end('b', last=False) # last=False garante que a chave irá para o começo\n",
        "\n",
        "for key, value in my_dict.items():\n",
        "    print(key, value)"
      ],
      "metadata": {
        "colab": {
          "base_uri": "https://localhost:8080/"
        },
        "id": "Zl6dGmpzjykr",
        "outputId": "cc8f9257-a898-4fd5-9e92-e35702b42b76"
      },
      "execution_count": null,
      "outputs": [
        {
          "output_type": "stream",
          "name": "stdout",
          "text": [
            "b 2\n",
            "c 3\n",
            "a 1\n"
          ]
        }
      ]
    },
    {
      "cell_type": "markdown",
      "source": [
        "# **3. Benefícios do módulo Collections**\n",
        "\n",
        "---\n",
        "\n",
        "Performance: Estruturas otimizadas para tarefas específicas.\n",
        "\n",
        "*   Item da lista\n",
        "\n",
        "*   Item da lista\n",
        "*   Item da lista\n",
        "\n",
        "\n",
        "*   Item da lista\n",
        "\n",
        "\n",
        "\n",
        "Legibilidade: Código mais claro e fácil de entender.\n",
        "\n",
        "Facilidade: Soluções prontas para problemas comuns."
      ],
      "metadata": {
        "id": "4DzDnU5uiEon"
      }
    },
    {
      "cell_type": "code",
      "source": [],
      "metadata": {
        "id": "FOrkN7JneVYv"
      },
      "execution_count": null,
      "outputs": []
    }
  ]
}