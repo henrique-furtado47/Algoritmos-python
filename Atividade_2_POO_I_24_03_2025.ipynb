{
  "nbformat": 4,
  "nbformat_minor": 0,
  "metadata": {
    "colab": {
      "provenance": [],
      "authorship_tag": "ABX9TyN+xvfh3myl8wZ9c/CR/0RD",
      "include_colab_link": true
    },
    "kernelspec": {
      "name": "python3",
      "display_name": "Python 3"
    },
    "language_info": {
      "name": "python"
    }
  },
  "cells": [
    {
      "cell_type": "markdown",
      "metadata": {
        "id": "view-in-github",
        "colab_type": "text"
      },
      "source": [
        "<a href=\"https://colab.research.google.com/github/henrique-furtado47/Algoritmos-python/blob/main/Atividade_2_POO_I_24_03_2025.ipynb\" target=\"_parent\"><img src=\"https://colab.research.google.com/assets/colab-badge.svg\" alt=\"Open In Colab\"/></a>"
      ]
    },
    {
      "cell_type": "markdown",
      "source": [
        "1. Qual palavra-chave (keyword) você usaria para ter acesso às propriedades e métodos de uma classe\n",
        "estando dentro dela? : `self`"
      ],
      "metadata": {
        "id": "SqMAaEJe-xVD"
      }
    },
    {
      "cell_type": "code",
      "source": [
        "class Usuario():\n",
        "  # as propriedades\n",
        "  primeiroNome = \"\"\n",
        "  ultimoNome = \"\"\n",
        "  #metodo que diz Olá ao usuario\n",
        "  def hello(self):\n",
        "    return \"Olá\""
      ],
      "metadata": {
        "id": "FeStPxW_-_Q7"
      },
      "execution_count": null,
      "outputs": []
    },
    {
      "cell_type": "markdown",
      "source": [
        "**2. Acrescente ao método hello() a capacidade de acessar a propriedade primeiroNome, para que\n",
        "o método possa retornar a string \"Olá, primeiroNome\".**"
      ],
      "metadata": {
        "id": "OfUybnhm-9Ne"
      }
    },
    {
      "cell_type": "code",
      "execution_count": null,
      "metadata": {
        "id": "LFIC7yL0Wsox"
      },
      "outputs": [],
      "source": [
        "class Usuario():\n",
        "  # as propriedades\n",
        "  primeiroNome = \"\"\n",
        "  ultimoNome = \"\"\n",
        "  #metodo que diz Olá ao usuario\n",
        "  def hello(self):\n",
        "    return f\"Olá {self.primeiroNome}\""
      ]
    },
    {
      "cell_type": "markdown",
      "source": [
        "**3. Crie um novo objeto com o primeiro nome de \"Jonnie\" e sobrenome de \"Bravo\".**"
      ],
      "metadata": {
        "id": "ymmw9_as_OlI"
      }
    },
    {
      "cell_type": "code",
      "source": [
        "usuario1 = Usuario()\n",
        "usuario1.primeiroNome = \"Jonnie\"\n",
        "usuario1.ultimoNome = \"Bravo\""
      ],
      "metadata": {
        "id": "kextdtLq_M0z"
      },
      "execution_count": null,
      "outputs": []
    },
    {
      "cell_type": "markdown",
      "source": [
        "**4. Use o comando print no método hello() para o objeto usuario1 e observe o resultado.**"
      ],
      "metadata": {
        "id": "u_TitpId_aSg"
      }
    },
    {
      "cell_type": "code",
      "source": [
        "print(usuario1.hello())"
      ],
      "metadata": {
        "colab": {
          "base_uri": "https://localhost:8080/"
        },
        "id": "pwxXREs7_YZ1",
        "outputId": "a06f83f6-faa3-45e6-951f-ebd8d45de337"
      },
      "execution_count": null,
      "outputs": [
        {
          "output_type": "stream",
          "name": "stdout",
          "text": [
            "Olá Jonnie\n"
          ]
        }
      ]
    },
    {
      "cell_type": "markdown",
      "source": [
        "Vamos voltar para a classe Usuario que desenvolvemos nas atividades anteriores. E agora vamos definir os\n",
        "valores para o primeiro e último nome através de um método construtor.\n",
        "Esta é a classe Usuario:\n",
        "```\n",
        "class Usuario():\n",
        "  primeiroNome = “”\n",
        "  ultimoNome = “”\n",
        "```\n",
        "\n",
        "\n"
      ],
      "metadata": {
        "id": "nWkWOC8DYIEE"
      }
    },
    {
      "cell_type": "markdown",
      "source": [
        "**Acrescente à classe Usuario um método construtor para definir um valor para a propriedade\n",
        "primeiroNome assim que o objeto for criado.**"
      ],
      "metadata": {
        "id": "kk2n74OnYW3w"
      }
    },
    {
      "cell_type": "code",
      "source": [
        "class Usuario:\n",
        "  def __init__(self, primeiroNome):\n",
        "    self.primeiroNome = primeiroNome"
      ],
      "metadata": {
        "id": "vPDCMDDqYXcT"
      },
      "execution_count": null,
      "outputs": []
    },
    {
      "cell_type": "markdown",
      "source": [
        "**Acrescente ao construtor a capacidade de definir o valor da propriedade ultimoNome, bem como a\n",
        "propriedade primeiroNome.**"
      ],
      "metadata": {
        "id": "tDA31LhRYx3t"
      }
    },
    {
      "cell_type": "code",
      "source": [
        "class Usuario:\n",
        "  def __init__(self, primeiroNome, ultimoNome):\n",
        "    self.primeiroNome = primeiroNome\n",
        "    self.ultimoNome = ultimoNome"
      ],
      "metadata": {
        "id": "CqXrB9r3YydS"
      },
      "execution_count": null,
      "outputs": []
    },
    {
      "cell_type": "markdown",
      "source": [
        "**Adicione à classe Usuario um método chamado getNomeCompleto() que retorna o nome\n",
        "completo do usuário.**"
      ],
      "metadata": {
        "id": "OvYLHAnJY58W"
      }
    },
    {
      "cell_type": "code",
      "source": [
        "class Usuario:\n",
        "  def __init__(self, primeiroNome, ultimoNome):\n",
        "    self.primeiroNome = primeiroNome\n",
        "    self.ultimoNome = ultimoNome\n",
        "  def getNomeCompleto(self):\n",
        "    self.nomeCompleto = f\"{self.primeiroNome} {self.ultimoNome}\"\n",
        "    return self.nomeCompleto"
      ],
      "metadata": {
        "id": "B1gUk9RuY6Vi"
      },
      "execution_count": null,
      "outputs": []
    },
    {
      "cell_type": "markdown",
      "source": [
        "**Crie um novo objeto, usuario1, e passe para o construtor os valores do primeiro e último nome. O\n",
        "primeiro nome é \"Johnny\" e o sobrenome é \"Bravo\" (você pode escolher sua combinação preferida\n",
        "de primeiro e último nome).**"
      ],
      "metadata": {
        "id": "z5doUul3ZOdb"
      }
    },
    {
      "cell_type": "code",
      "source": [
        "usuario1 = Usuario(\"Johnny\", \"Bravo\")"
      ],
      "metadata": {
        "id": "CuTWcoT6ZKvG"
      },
      "execution_count": null,
      "outputs": []
    },
    {
      "cell_type": "markdown",
      "source": [
        "**Obtenha o nome completo e imprima-o na tela.**"
      ],
      "metadata": {
        "id": "QHCpSQDXZXMr"
      }
    },
    {
      "cell_type": "code",
      "source": [
        "usuario1.getNomeCompleto()"
      ],
      "metadata": {
        "colab": {
          "base_uri": "https://localhost:8080/",
          "height": 35
        },
        "id": "7mOOj1EWZUlZ",
        "outputId": "ec295dcb-991a-49e3-c358-d78bb4e33029"
      },
      "execution_count": null,
      "outputs": [
        {
          "output_type": "execute_result",
          "data": {
            "text/plain": [
              "'Johnny Bravo'"
            ],
            "application/vnd.google.colaboratory.intrinsic+json": {
              "type": "string"
            }
          },
          "metadata": {},
          "execution_count": 6
        }
      ]
    }
  ]
}