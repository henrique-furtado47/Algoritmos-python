{
  "nbformat": 4,
  "nbformat_minor": 0,
  "metadata": {
    "colab": {
      "provenance": [],
      "authorship_tag": "ABX9TyM9F4/RNnWufq0YxgnsJ1yH",
      "include_colab_link": true
    },
    "kernelspec": {
      "name": "python3",
      "display_name": "Python 3"
    },
    "language_info": {
      "name": "python"
    }
  },
  "cells": [
    {
      "cell_type": "markdown",
      "metadata": {
        "id": "view-in-github",
        "colab_type": "text"
      },
      "source": [
        "<a href=\"https://colab.research.google.com/github/henrique-furtado47/Algoritmos-python/blob/main/Atividade_2_POO_I_24_03_2025.ipynb\" target=\"_parent\"><img src=\"https://colab.research.google.com/assets/colab-badge.svg\" alt=\"Open In Colab\"/></a>"
      ]
    },
    {
      "cell_type": "markdown",
      "source": [
        "1. Qual palavra-chave (keyword) você usaria para ter acesso às propriedades e métodos de uma classe\n",
        "estando dentro dela? : `self`"
      ],
      "metadata": {
        "id": "SqMAaEJe-xVD"
      }
    },
    {
      "cell_type": "code",
      "source": [
        "class Usuario():\n",
        "  # as propriedades\n",
        "  primeiroNome = \"\"\n",
        "  ultimoNome = \"\"\n",
        "  #metodo que diz Olá ao usuario\n",
        "  def hello(self):\n",
        "    return \"Olá\""
      ],
      "metadata": {
        "id": "FeStPxW_-_Q7"
      },
      "execution_count": 4,
      "outputs": []
    },
    {
      "cell_type": "markdown",
      "source": [
        "**2. Acrescente ao método hello() a capacidade de acessar a propriedade primeiroNome, para que\n",
        "o método possa retornar a string \"Olá, primeiroNome\".**"
      ],
      "metadata": {
        "id": "OfUybnhm-9Ne"
      }
    },
    {
      "cell_type": "code",
      "execution_count": 5,
      "metadata": {
        "id": "LFIC7yL0Wsox"
      },
      "outputs": [],
      "source": [
        "class Usuario():\n",
        "  # as propriedades\n",
        "  primeiroNome = \"\"\n",
        "  ultimoNome = \"\"\n",
        "  #metodo que diz Olá ao usuario\n",
        "  def hello(self):\n",
        "    return f\"Olá {self.primeiroNome}\""
      ]
    },
    {
      "cell_type": "markdown",
      "source": [
        "**3. Crie um novo objeto com o primeiro nome de \"Jonnie\" e sobrenome de \"Bravo\".**"
      ],
      "metadata": {
        "id": "ymmw9_as_OlI"
      }
    },
    {
      "cell_type": "code",
      "source": [
        "usuario1 = Usuario()\n",
        "usuario1.primeiroNome = \"Jonnie\"\n",
        "usuario1.ultimoNome = \"Bravo\""
      ],
      "metadata": {
        "id": "kextdtLq_M0z"
      },
      "execution_count": 6,
      "outputs": []
    },
    {
      "cell_type": "markdown",
      "source": [
        "**4. Use o comando print no método hello() para o objeto usuario1 e observe o resultado.**"
      ],
      "metadata": {
        "id": "u_TitpId_aSg"
      }
    },
    {
      "cell_type": "code",
      "source": [
        "print(usuario1.hello())"
      ],
      "metadata": {
        "colab": {
          "base_uri": "https://localhost:8080/"
        },
        "id": "pwxXREs7_YZ1",
        "outputId": "a06f83f6-faa3-45e6-951f-ebd8d45de337"
      },
      "execution_count": 7,
      "outputs": [
        {
          "output_type": "stream",
          "name": "stdout",
          "text": [
            "Olá Jonnie\n"
          ]
        }
      ]
    }
  ]
}