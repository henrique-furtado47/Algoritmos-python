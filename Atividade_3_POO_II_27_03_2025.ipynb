{
  "nbformat": 4,
  "nbformat_minor": 0,
  "metadata": {
    "colab": {
      "provenance": [],
      "authorship_tag": "ABX9TyMKEWgfU+bR5W5uKjp+vpDz",
      "include_colab_link": true
    },
    "kernelspec": {
      "name": "python3",
      "display_name": "Python 3"
    },
    "language_info": {
      "name": "python"
    }
  },
  "cells": [
    {
      "cell_type": "markdown",
      "metadata": {
        "id": "view-in-github",
        "colab_type": "text"
      },
      "source": [
        "<a href=\"https://colab.research.google.com/github/henrique-furtado47/Algoritmos-python/blob/main/Atividade_3_POO_II_27_03_2025.ipynb\" target=\"_parent\"><img src=\"https://colab.research.google.com/assets/colab-badge.svg\" alt=\"Open In Colab\"/></a>"
      ]
    },
    {
      "cell_type": "markdown",
      "source": [
        "1 - D\n"
      ],
      "metadata": {
        "id": "VboMBGAjjpIJ"
      }
    },
    {
      "cell_type": "markdown",
      "source": [
        "**2. Vamos voltar para a classe Usuario que desenvolvemos nas atividades anteriores. Agora vamos\n",
        "definir o primeiroNome do usuário como uma propriedade privada (private).**"
      ],
      "metadata": {
        "id": "FBLGQm8cjtJ5"
      }
    },
    {
      "cell_type": "markdown",
      "source": [
        "**2.1 Crie uma propriedade na classe Usuario chamada primeiroNome e evite que qualquer código\n",
        "de fora da classe altere o seu valor, usando o modificador de acesso apropriado.**"
      ],
      "metadata": {
        "id": "cz1pnUobj3Qh"
      }
    },
    {
      "cell_type": "code",
      "execution_count": 2,
      "metadata": {
        "id": "aQgn7a6IjWJ3"
      },
      "outputs": [],
      "source": [
        "class Usuario():\n",
        "\n",
        "  def __init__(self, primeiroNome):\n",
        "    self.__primeiroNome = primeiroNome"
      ]
    },
    {
      "cell_type": "markdown",
      "source": [
        "**2.2 Crie um método para definir o valor da propriedade primeiroNome. Use o modificador de\n",
        "acesso correto para ele.**"
      ],
      "metadata": {
        "id": "Zz-2UOHzkUoV"
      }
    },
    {
      "cell_type": "code",
      "source": [
        "class Usuario():\n",
        "\n",
        "  def __init__(self, primeiroNome = \"\"):\n",
        "    self.__primeiroNome = primeiroNome\n",
        "\n",
        "  def setPrimeiroNome(self, primeiroNome):\n",
        "    self.__primeiroNome = primeiroNome"
      ],
      "metadata": {
        "id": "bv17UXTWjwUu"
      },
      "execution_count": 3,
      "outputs": []
    },
    {
      "cell_type": "markdown",
      "source": [
        "**2.3 Agora, crie um método para retornar o valor primeiroNome.**"
      ],
      "metadata": {
        "id": "ycbqxP4FksDf"
      }
    },
    {
      "cell_type": "code",
      "source": [
        "class Usuario():\n",
        "\n",
        "  def __init__(self, primeiroNome = \"\"):\n",
        "    self.__primeiroNome = primeiroNome\n",
        "\n",
        "  def setPrimeiroNome(self, primeiroNome):\n",
        "    self.__primeiroNome = primeiroNome\n",
        "\n",
        "  def getPrimeiroNome(self):\n",
        "    return f\"O primeiro nome é {self.__primeiroNome}\""
      ],
      "metadata": {
        "id": "OVwJYIoikg9y"
      },
      "execution_count": 4,
      "outputs": []
    },
    {
      "cell_type": "markdown",
      "source": [
        "**2.4 Crie um objeto chamado usuario1. Depois defina seu primeiro nome como \"Joe\" e faça com\n",
        "que ele retorne este nome.**"
      ],
      "metadata": {
        "id": "LrSIJP1yk18m"
      }
    },
    {
      "cell_type": "code",
      "source": [
        "usuario1 = Usuario()\n",
        "\n",
        "usuario1.setPrimeiroNome(\"Joe\")\n",
        "usuario1.getPrimeiroNome()"
      ],
      "metadata": {
        "colab": {
          "base_uri": "https://localhost:8080/",
          "height": 35
        },
        "id": "DuY76zkbkzkF",
        "outputId": "360365f5-e09e-434f-f1ef-d843b6c31cc5"
      },
      "execution_count": 6,
      "outputs": [
        {
          "output_type": "execute_result",
          "data": {
            "text/plain": [
              "'O primeiro nome é Joe'"
            ],
            "application/vnd.google.colaboratory.intrinsic+json": {
              "type": "string"
            }
          },
          "metadata": {},
          "execution_count": 6
        }
      ]
    },
    {
      "cell_type": "markdown",
      "source": [
        "**3. Crie uma classe chamada Empregado(), com três propriedades: nome, salario (deve ser\n",
        "privada) e projeto. Ela também possui um método chamado “trabalho()”, que deverá\n",
        "imprimir o nome do funcionário e o projeto em que ele está trabalhando e um outro método\n",
        "chamado “mostrar()” para exibir os detalhes desse empregado (i.e. nome e salário). Atente\n",
        "para o modificador de acesso da propriedade “salario”. Use o método adequado para ter\n",
        "acesso a ela. Crie um objeto desta classe (i.e. instância) e use os métodos para visualizar os\n",
        "dados.**"
      ],
      "metadata": {
        "id": "jQaTrV0qlGBv"
      }
    },
    {
      "cell_type": "code",
      "source": [
        "class Empregado():\n",
        "  def __init__(self, nome, projeto, salario=0):\n",
        "    self.nome = nome\n",
        "    self.projeto = projeto\n",
        "    self.__salario = salario\n",
        "\n",
        "  def setSalario(self, salario):\n",
        "    self.__salario = float(salario)\n",
        "\n",
        "  def trabalho(self):\n",
        "    print(f'Nome: {self.nome}\\nProjeto em andamento: {self.projeto}')\n",
        "\n",
        "  def mostrar(self):\n",
        "    print(f\"Nome: {self.nome}\\nSalário: R${self.__salario: .2f}\")\n",
        "\n",
        "programador = Empregado(\"Henrique\", \"SaaS\")\n",
        "\n",
        "programador.trabalho()\n",
        "\n",
        "programador.setSalario(3000)\n",
        "programador.mostrar()\n"
      ],
      "metadata": {
        "colab": {
          "base_uri": "https://localhost:8080/"
        },
        "id": "NUIlohSolGdU",
        "outputId": "03caaad4-9fe1-4dc8-87f1-419b7c3b0274"
      },
      "execution_count": 13,
      "outputs": [
        {
          "output_type": "stream",
          "name": "stdout",
          "text": [
            "Nome: Henrique\n",
            "Projeto em andamento: SaaS\n",
            "Nome: Henrique\n",
            "Salário: R$ 3000.00\n"
          ]
        }
      ]
    },
    {
      "cell_type": "markdown",
      "source": [
        "**4. Crie uma classe chamada Robo(). Ela deverá ter duas propriedades privadas: nome e\n",
        "ano_construcao. Também deverá ter um método de nome “diga_alo()”, para mostrar na\n",
        "tela o nome do robô e seu ano de construção. Crie os métodos “setters” e “getters”\n",
        "necessários. Instancie a classe e use os métodos criados para visualizar / atualizar os dados.**"
      ],
      "metadata": {
        "id": "vvr2KKi4nPVo"
      }
    },
    {
      "cell_type": "code",
      "source": [
        "class Robo():\n",
        "  def __init__(self, nome=\"\", ano=None):\n",
        "    self.__nome = nome\n",
        "    self.__ano = ano\n",
        "\n",
        "  def setNome(self, nome):\n",
        "    self.__nome = nome\n",
        "\n",
        "  def setAno(self, ano):\n",
        "    self.__ano = ano\n",
        "\n",
        "  def getNome(self):\n",
        "    return f\"O nome do robô é {self.__nome}\"\n",
        "\n",
        "  def getAno(self):\n",
        "    return f\"O ano de construção do robô é {self.__ano}\"\n",
        "\n",
        "  def diga_alo(self):\n",
        "    print(f\"Nome do robô: {self.__nome}\\nAno de construção: {self.__ano}\")\n",
        "\n",
        "c3po = Robo()\n",
        "\n",
        "c3po.setNome(\"c3po\")\n",
        "c3po.setAno(1977)\n",
        "print(f\"{c3po.getNome()}\\n{c3po.getAno()}\")\n",
        "\n",
        "c3po.diga_alo()"
      ],
      "metadata": {
        "colab": {
          "base_uri": "https://localhost:8080/"
        },
        "id": "nrgiAzPCl8M3",
        "outputId": "19c3d0a1-834e-4231-c379-c03e1055af70"
      },
      "execution_count": 14,
      "outputs": [
        {
          "output_type": "stream",
          "name": "stdout",
          "text": [
            "O nome do robô é c3po\n",
            "O ano de construção do robô é 1977\n",
            "Nome do robô: c3po\n",
            "Ano de construção: 1977\n"
          ]
        }
      ]
    },
    {
      "cell_type": "markdown",
      "source": [
        "**5. Implemente uma classe chamada Laptop que possua um atributo privado chamado “preco”\n",
        "que armazena o preço do laptop (sem qualquer validação). Em seguida, implemente um método\n",
        "para ler esse atributo chamado “get_preco()” e um método para modificar esse atributo\n",
        "chamado “set_preco()” sem validação também. Em seguida, crie uma instância da classe\n",
        "Laptop siga estas etapas:<br>\n",
        "• usando o método “get_preco()” imprima o valor do atributo “preco” na tela<br>\n",
        "• usando o método “set_preco()”, defina o valor do atributo “preco” para 3999”**"
      ],
      "metadata": {
        "id": "XVdPeABNpfX9"
      }
    },
    {
      "cell_type": "code",
      "source": [
        "class Laptop():\n",
        "  def __init__(self, modelo, preco):\n",
        "    self.modelo = modelo\n",
        "    self.__preco = preco\n",
        "\n",
        "  def setPreco(self, preco):\n",
        "    self.__preco = preco\n",
        "\n",
        "  def getPreco(self):\n",
        "    return self.__preco\n",
        "\n",
        "ideapad = Laptop(\"lenovo\", 2999)\n",
        "\n",
        "print(f\"Preço atual: R${ideapad.getPreco():.2f}\")\n",
        "\n",
        "ideapad.setPreco(3999)\n",
        "\n",
        "print(f\"Preço novo: R${ideapad.getPreco():.2f}\")\n"
      ],
      "metadata": {
        "colab": {
          "base_uri": "https://localhost:8080/"
        },
        "id": "bcW7hInMpRFS",
        "outputId": "9866fe6b-024c-4881-dce6-e00109579b54"
      },
      "execution_count": 15,
      "outputs": [
        {
          "output_type": "stream",
          "name": "stdout",
          "text": [
            "Preço atual: R$2999.00\n",
            "Preço novo: R$3999.00\n"
          ]
        }
      ]
    },
    {
      "cell_type": "markdown",
      "source": [
        "**6. Implemente uma classe chamada Pessoa que tenha dois atributos privados chamados\n",
        "“primeiroNome” e “ultimoNome”, respectivamente. Em seguida, implemente métodos\n",
        "chamados “getPrimeiroNome()” e “getUltimoNome()”, para ler os atributos, e os\n",
        "métodos “setPrimeiroNome()” e “setUltimoNome()” para atribuir valores a eles. <br>Depois\n",
        "crie uma instância da classe Pessoa definindo os seguintes valores:\n",
        "primeiroNome = 'João'\n",
        "ultimoNome = 'Carvalho'\n",
        "Após, imprima os valores desses atributos no console.**"
      ],
      "metadata": {
        "id": "Fv2IXkE3qxsm"
      }
    },
    {
      "cell_type": "code",
      "source": [
        "class Pessoa():\n",
        "  def __init__(self, primeiroNome, ultimoNome):\n",
        "    self.__primeiroNome = primeiroNome\n",
        "    self.__ultimoNome = ultimoNome\n",
        "\n",
        "  def setPrimeiroNome(self, primeiroNome):\n",
        "    self.__primeiroNome = primeiroNome\n",
        "\n",
        "  def setUltimoNome(self, ultimoNome):\n",
        "    self.__ultimoNome= ultimoNome\n",
        "\n",
        "  def getPrimeiroNome(self):\n",
        "    return self.__primeiroNome\n",
        "\n",
        "  def getUltimoNome(self):\n",
        "    return self.__ultimoNome\n",
        "\n",
        "\n",
        "usuario = Pessoa(\"João\", \"Carvalho\")\n",
        "\n",
        "print(f\"Primeiro nome: {usuario.getPrimeiroNome()}\\nÚltimo nome: {usuario.getUltimoNome()}\")"
      ],
      "metadata": {
        "colab": {
          "base_uri": "https://localhost:8080/"
        },
        "id": "AXA9Zhahqf26",
        "outputId": "7097c2eb-89a7-4d93-e9a8-27a2d8bd9b77"
      },
      "execution_count": 16,
      "outputs": [
        {
          "output_type": "stream",
          "name": "stdout",
          "text": [
            "Primeiro nome: João\n",
            "Último nome: Carvalho\n"
          ]
        }
      ]
    },
    {
      "cell_type": "code",
      "source": [],
      "metadata": {
        "id": "MfrqjdD0rqPU"
      },
      "execution_count": null,
      "outputs": []
    }
  ]
}