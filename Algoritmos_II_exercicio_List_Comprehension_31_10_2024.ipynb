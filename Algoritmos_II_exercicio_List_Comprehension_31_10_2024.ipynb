{
  "nbformat": 4,
  "nbformat_minor": 0,
  "metadata": {
    "colab": {
      "provenance": [],
      "authorship_tag": "ABX9TyMUqsUpRq9JF+kWcwiCZL78",
      "include_colab_link": true
    },
    "kernelspec": {
      "name": "python3",
      "display_name": "Python 3"
    },
    "language_info": {
      "name": "python"
    }
  },
  "cells": [
    {
      "cell_type": "markdown",
      "metadata": {
        "id": "view-in-github",
        "colab_type": "text"
      },
      "source": [
        "<a href=\"https://colab.research.google.com/github/henrique-furtado47/Algoritmos-python/blob/main/Algoritmos_II_exercicio_List_Comprehension_31_10_2024.ipynb\" target=\"_parent\"><img src=\"https://colab.research.google.com/assets/colab-badge.svg\" alt=\"Open In Colab\"/></a>"
      ]
    },
    {
      "cell_type": "markdown",
      "source": [
        "**1. Crie uma lista com os números de 1 a 10 usando compreensão de lista.**"
      ],
      "metadata": {
        "id": "TnT-nDhr2HDZ"
      }
    },
    {
      "cell_type": "code",
      "execution_count": 1,
      "metadata": {
        "colab": {
          "base_uri": "https://localhost:8080/"
        },
        "id": "t9rLVgnn2FmZ",
        "outputId": "4057f3ed-85e5-466a-803e-22dd3cf5b79b"
      },
      "outputs": [
        {
          "output_type": "stream",
          "name": "stdout",
          "text": [
            "[1, 2, 3, 4, 5, 6, 7, 8, 9, 10]\n"
          ]
        }
      ],
      "source": [
        "lista=[i for i in range(1,11)]\n",
        "print(lista)"
      ]
    },
    {
      "cell_type": "markdown",
      "source": [
        "**2. Crie uma lista com os números ímpares de 1 a 50.**"
      ],
      "metadata": {
        "id": "hnmhsRnt2LvQ"
      }
    },
    {
      "cell_type": "code",
      "source": [
        "lista=[i for i in range(1,51) if i%2!=0]\n",
        "print(lista)"
      ],
      "metadata": {
        "colab": {
          "base_uri": "https://localhost:8080/"
        },
        "id": "MjpAUc_12LGf",
        "outputId": "88a849e7-96da-4d79-9546-485ba789e3ec"
      },
      "execution_count": 3,
      "outputs": [
        {
          "output_type": "stream",
          "name": "stdout",
          "text": [
            "[1, 3, 5, 7, 9, 11, 13, 15, 17, 19, 21, 23, 25, 27, 29, 31, 33, 35, 37, 39, 41, 43, 45, 47, 49]\n"
          ]
        }
      ]
    },
    {
      "cell_type": "markdown",
      "source": [
        "**3. Crie uma lista com as letras maiúsculas de uma string qualquer.**"
      ],
      "metadata": {
        "id": "93yydhLl2ZqY"
      }
    },
    {
      "cell_type": "code",
      "source": [
        "string=\"UmA sTriNg QuaLquer\"\n",
        "lista=[i for i in string if i.upper()==i and i!=\" \"]\n",
        "print(lista)"
      ],
      "metadata": {
        "colab": {
          "base_uri": "https://localhost:8080/"
        },
        "id": "CsFVPF3A2a0K",
        "outputId": "22aa181e-fbfa-4a43-b64c-a1f4399a75b6"
      },
      "execution_count": 5,
      "outputs": [
        {
          "output_type": "stream",
          "name": "stdout",
          "text": [
            "['U', 'A', 'T', 'N', 'Q', 'L']\n"
          ]
        }
      ]
    },
    {
      "cell_type": "markdown",
      "source": [
        "**4. Crie uma lista com o comprimento de cada palavra em uma string.**"
      ],
      "metadata": {
        "id": "PahfFWN_3mYn"
      }
    },
    {
      "cell_type": "code",
      "source": [
        "string=\"Eu amo batata frita com arroz e bacon\"\n",
        "lista=[(i, str(len(i)) + \" letras\") for i in string.split()]\n",
        "print(lista)"
      ],
      "metadata": {
        "colab": {
          "base_uri": "https://localhost:8080/"
        },
        "id": "tYC1c2V82z2i",
        "outputId": "e4b423e2-2d0e-4ef6-fe2e-6b708d1cfad2"
      },
      "execution_count": 21,
      "outputs": [
        {
          "output_type": "stream",
          "name": "stdout",
          "text": [
            "[('Eu', '2 letras'), ('amo', '3 letras'), ('batata', '6 letras'), ('frita', '5 letras'), ('com', '3 letras'), ('arroz', '5 letras'), ('e', '1 letras'), ('bacon', '5 letras')]\n"
          ]
        }
      ]
    },
    {
      "cell_type": "markdown",
      "source": [
        "**5. Crie uma lista com os números divisíveis por 3 e 5 de 1 a 30.**"
      ],
      "metadata": {
        "id": "gC6NOGoF4o3P"
      }
    },
    {
      "cell_type": "code",
      "source": [
        "lista=[i for i in range(1,31) if i%3==0 and i%5==0]\n",
        "print(lista)"
      ],
      "metadata": {
        "colab": {
          "base_uri": "https://localhost:8080/"
        },
        "id": "OnJvK3du3LBS",
        "outputId": "c6000e0d-f3f4-48d0-ccef-dd858aef109b"
      },
      "execution_count": 22,
      "outputs": [
        {
          "output_type": "stream",
          "name": "stdout",
          "text": [
            "[15, 30]\n"
          ]
        }
      ]
    },
    {
      "cell_type": "markdown",
      "source": [
        "**6. Crie uma lista com as palavras de uma string que tenham mais de 3 letras.**"
      ],
      "metadata": {
        "id": "SI0HOZBc4y4v"
      }
    },
    {
      "cell_type": "code",
      "source": [
        "string=\"Eu amo batata frita com arroz e bacon\"\n",
        "lista=[i for i in string.split() if len(i)>3]\n",
        "print(lista)"
      ],
      "metadata": {
        "colab": {
          "base_uri": "https://localhost:8080/"
        },
        "id": "XYl6HSky4vBA",
        "outputId": "77a8c3e2-20c1-49f1-a5fd-e2efa6c63f89"
      },
      "execution_count": 23,
      "outputs": [
        {
          "output_type": "stream",
          "name": "stdout",
          "text": [
            "['batata', 'frita', 'arroz', 'bacon']\n"
          ]
        }
      ]
    },
    {
      "cell_type": "markdown",
      "source": [
        "**7. Crie uma lista com os números primos de 1 a 20. Dica: use uma função para\n",
        "verificar se o número é primo ou não.**"
      ],
      "metadata": {
        "id": "YF37xIOj5OyV"
      }
    },
    {
      "cell_type": "code",
      "source": [
        "def is_prime(numero):\n",
        "  if numero<2:\n",
        "    return False\n",
        "  for i in range(2, int(numero**0.5) + 1):\n",
        "    if numero%i==0:\n",
        "      return False\n",
        "  return True\n",
        "lista=[i for i in range(1,21) if is_prime(i)]\n",
        "print(lista)"
      ],
      "metadata": {
        "colab": {
          "base_uri": "https://localhost:8080/"
        },
        "id": "HSYdV1Zu49U-",
        "outputId": "618e675c-8965-4bc2-b3e1-84aab7a34f2e"
      },
      "execution_count": 27,
      "outputs": [
        {
          "output_type": "stream",
          "name": "stdout",
          "text": [
            "[2, 3, 5, 7, 11, 13, 17, 19]\n"
          ]
        }
      ]
    },
    {
      "cell_type": "markdown",
      "source": [
        "**8. Crie uma lista com as datas de todos os dias de janeiro em um ano bissexto\n",
        "(considerando que um ano bissexto é divisível por 4).**"
      ],
      "metadata": {
        "id": "ENG1mvkj714z"
      }
    },
    {
      "cell_type": "code",
      "source": [
        "lista=[f\"{i:02}/01/2024\" for i in range(1,32)]\n",
        "print(lista)"
      ],
      "metadata": {
        "colab": {
          "base_uri": "https://localhost:8080/"
        },
        "id": "NwqR3t5T5uos",
        "outputId": "fa9025fe-fe45-48b5-ecff-635a640a7782"
      },
      "execution_count": 35,
      "outputs": [
        {
          "output_type": "stream",
          "name": "stdout",
          "text": [
            "['01/01/2024', '02/01/2024', '03/01/2024', '04/01/2024', '05/01/2024', '06/01/2024', '07/01/2024', '08/01/2024', '09/01/2024', '10/01/2024', '11/01/2024', '12/01/2024', '13/01/2024', '14/01/2024', '15/01/2024', '16/01/2024', '17/01/2024', '18/01/2024', '19/01/2024', '20/01/2024', '21/01/2024', '22/01/2024', '23/01/2024', '24/01/2024', '25/01/2024', '26/01/2024', '27/01/2024', '28/01/2024', '29/01/2024', '30/01/2024', '31/01/2024']\n"
          ]
        }
      ]
    },
    {
      "cell_type": "markdown",
      "source": [
        "**9. Crie uma lista de strings com os primeiros 10 nomes da lista de nomes.**"
      ],
      "metadata": {
        "id": "jAd4TKtM8k0L"
      }
    },
    {
      "cell_type": "code",
      "source": [
        "nomes=[\"Alice\", \"Bob\", \"Charlie\", \"David\", \"Eve\",\n",
        "      \"Jonas\", \"Maria\", \"Felipe\", \"Ana\", \"Marcos\",\n",
        "      \"Roberto\", \"Camila\", \"Julia\", \"Bruno\", \"Luiza\",\n",
        "      \"Vitor\", \"Sofia\", \"Rafael\", \"Isabela\", \"Gustavo\"]\n",
        "\n",
        "lista=[f\"{i+1}. {nomes[i]}\" for i in range(len(nomes)) if i<10]\n",
        "print(lista)"
      ],
      "metadata": {
        "colab": {
          "base_uri": "https://localhost:8080/"
        },
        "id": "Ega9ZeNt8EPN",
        "outputId": "b68c4a45-ba58-4393-9457-5001d7d8983f"
      },
      "execution_count": 48,
      "outputs": [
        {
          "output_type": "stream",
          "name": "stdout",
          "text": [
            "['1. Alice', '2. Bob', '3. Charlie', '4. David', '5. Eve', '6. Jonas', '7. Maria', '8. Felipe', '9. Ana', '10. Marcos']\n"
          ]
        }
      ]
    },
    {
      "cell_type": "markdown",
      "source": [
        "**10. Crie uma lista de strings com os nomes dos primeiros 10 nomes da lista de\n",
        "nomes, mas com as primeiras letras maiúsculas.**"
      ],
      "metadata": {
        "id": "UVIRyTnA9SCp"
      }
    },
    {
      "cell_type": "code",
      "source": [
        "nomes=[\n",
        "    \"alice\", \"bob\", \"charlie\", \"david\", \"eve\",\n",
        "    \"jonas\", \"maria\", \"felipe\", \"ana\", \"marcos\",\n",
        "    \"roberto\", \"camila\", \"julia\", \"bruno\", \"luiza\",\n",
        "    \"vitor\", \"sofia\", \"rafael\", \"isabela\", \"gustavo\"\n",
        "]\n",
        "\n",
        "lista=[f\"{i+1}. {nomes[i].capitalize()}\" for i in range(len(nomes)) if i<10]\n",
        "print(lista)"
      ],
      "metadata": {
        "colab": {
          "base_uri": "https://localhost:8080/"
        },
        "id": "P_BSufVG89VT",
        "outputId": "1ce7d92f-3d24-41f5-b910-982a61089f4a"
      },
      "execution_count": 49,
      "outputs": [
        {
          "output_type": "stream",
          "name": "stdout",
          "text": [
            "['1. Alice', '2. Bob', '3. Charlie', '4. David', '5. Eve', '6. Jonas', '7. Maria', '8. Felipe', '9. Ana', '10. Marcos']\n"
          ]
        }
      ]
    },
    {
      "cell_type": "markdown",
      "source": [
        "**11. Crie uma lista de strings com os nomes dos primeiros 10 nomes da lista de\n",
        "nomes, mas sem as vogais.**\n",
        "\n"
      ],
      "metadata": {
        "id": "lNJQqE2Z-RiB"
      }
    },
    {
      "cell_type": "code",
      "source": [
        "nomes=[\"Alice\", \"Bob\", \"Charlie\", \"David\", \"Eve\",\n",
        "      \"Jonas\", \"Maria\", \"Felipe\", \"Ana\", \"Marcos\",\n",
        "      \"Roberto\", \"Camila\", \"Julia\", \"Bruno\", \"Luiza\",\n",
        "      \"Vitor\", \"Sofia\", \"Rafael\", \"Isabela\", \"Gustavo\"]\n",
        "\n",
        "vogais=['a', 'e', 'i', 'o', 'u']\n",
        "lista = [\"\".join([letra for letra in nome if letra.lower() not in vogais]) for nome in nomes[:10]]\n",
        "print(lista)"
      ],
      "metadata": {
        "colab": {
          "base_uri": "https://localhost:8080/"
        },
        "id": "Qh4AiA_P9r_u",
        "outputId": "8a74af22-e2b5-4542-8805-3d98ac2a66c8"
      },
      "execution_count": 70,
      "outputs": [
        {
          "output_type": "stream",
          "name": "stdout",
          "text": [
            "['lc', 'Bb', 'Chrl', 'Dvd', 'v', 'Jns', 'Mr', 'Flp', 'n', 'Mrcs']\n"
          ]
        }
      ]
    },
    {
      "cell_type": "markdown",
      "source": [
        "**12. Concatenar elementos de sub-listas em uma única lista**"
      ],
      "metadata": {
        "id": "cZZJOujqBNpp"
      }
    },
    {
      "cell_type": "code",
      "source": [
        "sub_listas=[[1, 2 , 3], [4, 5, 6], [7, 8, 9 , 10]]\n",
        "lista=[item for sub_lista in sub_listas for item in sub_lista]\n",
        "print(lista)"
      ],
      "metadata": {
        "colab": {
          "base_uri": "https://localhost:8080/"
        },
        "id": "90mt0nhZ-sXi",
        "outputId": "23782751-7867-4ba0-ec96-9da385c97851"
      },
      "execution_count": 71,
      "outputs": [
        {
          "output_type": "stream",
          "name": "stdout",
          "text": [
            "[1, 2, 3, 4, 5, 6, 7, 8, 9, 10]\n"
          ]
        }
      ]
    },
    {
      "cell_type": "markdown",
      "source": [
        "**13. Criar um dicionário a partir de duas listas**"
      ],
      "metadata": {
        "id": "VxWsbCvhBnHS"
      }
    },
    {
      "cell_type": "code",
      "source": [
        "chaves=[\"a\", \"b\", \"c\"]\n",
        "valores=[1, 2, 3]\n",
        "dicionario={chaves[i]: valores[i] for i in range(len(chaves))}\n",
        "print(dicionario)"
      ],
      "metadata": {
        "colab": {
          "base_uri": "https://localhost:8080/"
        },
        "id": "s27Ylws9BgMj",
        "outputId": "6af30b6a-060e-49f5-fb65-afa57ec3d1a6"
      },
      "execution_count": 79,
      "outputs": [
        {
          "output_type": "stream",
          "name": "stdout",
          "text": [
            "{'a': 1, 'b': 2, 'c': 3}\n"
          ]
        }
      ]
    }
  ]
}