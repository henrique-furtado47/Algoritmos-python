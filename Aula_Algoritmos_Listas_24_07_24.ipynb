{
  "nbformat": 4,
  "nbformat_minor": 0,
  "metadata": {
    "colab": {
      "provenance": [],
      "authorship_tag": "ABX9TyOp64BjHUCcfBZA6GFcYoWq",
      "include_colab_link": true
    },
    "kernelspec": {
      "name": "python3",
      "display_name": "Python 3"
    },
    "language_info": {
      "name": "python"
    }
  },
  "cells": [
    {
      "cell_type": "markdown",
      "metadata": {
        "id": "view-in-github",
        "colab_type": "text"
      },
      "source": [
        "<a href=\"https://colab.research.google.com/github/henrique-furtado47/Algoritmos-python/blob/main/Aula_Algoritmos_Listas_24_07_24.ipynb\" target=\"_parent\"><img src=\"https://colab.research.google.com/assets/colab-badge.svg\" alt=\"Open In Colab\"/></a>"
      ]
    },
    {
      "cell_type": "code",
      "source": [
        "# EXECUÇÃO NECESSÁRIA PARA FUNCIONAMENTO DOS CÓDIGOS ABAIXO\n",
        "import random"
      ],
      "metadata": {
        "id": "TLU5sbg_7FnM"
      },
      "execution_count": 2,
      "outputs": []
    },
    {
      "cell_type": "markdown",
      "source": [
        "**1) Inicializar um vetor de inteiros com números de 0 a 99.**"
      ],
      "metadata": {
        "id": "vGrjQTr1vymq"
      }
    },
    {
      "cell_type": "code",
      "source": [
        "lista=list(range(100))\n",
        "print(lista)"
      ],
      "metadata": {
        "colab": {
          "base_uri": "https://localhost:8080/"
        },
        "id": "ul1nvZ4kv4eu",
        "outputId": "85f0a7a1-79ca-4619-f5ce-8d47b2abf726"
      },
      "execution_count": null,
      "outputs": [
        {
          "output_type": "stream",
          "name": "stdout",
          "text": [
            "[0, 1, 2, 3, 4, 5, 6, 7, 8, 9, 10, 11, 12, 13, 14, 15, 16, 17, 18, 19, 20, 21, 22, 23, 24, 25, 26, 27, 28, 29, 30, 31, 32, 33, 34, 35, 36, 37, 38, 39, 40, 41, 42, 43, 44, 45, 46, 47, 48, 49, 50, 51, 52, 53, 54, 55, 56, 57, 58, 59, 60, 61, 62, 63, 64, 65, 66, 67, 68, 69, 70, 71, 72, 73, 74, 75, 76, 77, 78, 79, 80, 81, 82, 83, 84, 85, 86, 87, 88, 89, 90, 91, 92, 93, 94, 95, 96, 97, 98, 99]\n"
          ]
        }
      ]
    },
    {
      "cell_type": "markdown",
      "source": [
        "**2) Escreva um algoritmo que leia um conjunto de 10 notas, armazene-as em uma variável\n",
        "composta chamada NOTA e calcule e imprima a sua média.**"
      ],
      "metadata": {
        "id": "ZExme9Sowd_x"
      }
    },
    {
      "cell_type": "code",
      "source": [
        "nota=[]\n",
        "soma=0\n",
        "for i in range(10):\n",
        "  num=float(input(f\"Digite a {i+1}º nota: \"))\n",
        "  nota.append(num)\n",
        "  soma=soma+num\n",
        "print(nota)\n",
        "print(f\"\\nA média das notas é {soma/10}\")"
      ],
      "metadata": {
        "colab": {
          "base_uri": "https://localhost:8080/"
        },
        "id": "BpEXoZZnwPZR",
        "outputId": "6c9dc665-2db5-436c-bf48-f6389585131a"
      },
      "execution_count": null,
      "outputs": [
        {
          "output_type": "stream",
          "name": "stdout",
          "text": [
            "Digite a 1º nota: 1\n",
            "Digite a 2º nota: 2\n",
            "Digite a 3º nota: 3\n",
            "Digite a 4º nota: 4\n",
            "Digite a 5º nota: 5\n",
            "Digite a 6º nota: 6\n",
            "Digite a 7º nota: 7\n",
            "Digite a 8º nota: 8\n",
            "Digite a 9º nota: 9\n",
            "Digite a 10º nota: 10\n",
            "[1.0, 2.0, 3.0, 4.0, 5.0, 6.0, 7.0, 8.0, 9.0, 10.0]\n",
            "\n",
            "A média das notas é 5.5\n"
          ]
        }
      ]
    },
    {
      "cell_type": "markdown",
      "source": [
        "**3) Repita o algoritmo acima, porém imprima quantos valores estão acima da média.**"
      ],
      "metadata": {
        "id": "SSpEZ3Jpxcc8"
      }
    },
    {
      "cell_type": "code",
      "source": [
        "nota=[]\n",
        "acima=[]\n",
        "soma=0\n",
        "for i in range(10):\n",
        "  num=float(input(f\"Digite a {i+1}º nota: \"))\n",
        "  if num>=6:\n",
        "    acima.append(num)\n",
        "  nota.append(num)\n",
        "  soma=soma+num\n",
        "print(f\"\\nA média das notas é {soma/10}\")\n",
        "print(f\"{len(acima)} notas estão acima da média\")"
      ],
      "metadata": {
        "colab": {
          "base_uri": "https://localhost:8080/"
        },
        "id": "RKCpCvM4xJ8U",
        "outputId": "0850c5d3-2199-467f-9b65-e9f8baf08729"
      },
      "execution_count": null,
      "outputs": [
        {
          "output_type": "stream",
          "name": "stdout",
          "text": [
            "Digite a 1º nota: 1\n",
            "Digite a 2º nota: 2\n",
            "Digite a 3º nota: 3\n",
            "Digite a 4º nota: 4\n",
            "Digite a 5º nota: 5\n",
            "Digite a 6º nota: 6\n",
            "Digite a 7º nota: 7\n",
            "Digite a 8º nota: 8\n",
            "Digite a 9º nota: 9\n",
            "Digite a 10º nota: 10\n",
            "\n",
            "A média das notas é 5.5\n",
            "5 notas estão acima da média\n"
          ]
        }
      ]
    },
    {
      "cell_type": "markdown",
      "source": [
        "**4) Faça um algoritmo que leia um vetor que contém as notas de 30 alunos. Imprima o maior\n",
        "valor, o menor valor, a média da turma e a quantidade de notas abaixo da média.**"
      ],
      "metadata": {
        "id": "7D8dvbbKyiCZ"
      }
    },
    {
      "cell_type": "code",
      "source": [
        "nota=[]\n",
        "abaixo=[]\n",
        "soma=0\n",
        "for i in range(10):\n",
        "  num=float(input(f\"Digite a {i+1}º nota: \"))\n",
        "  if num<6:\n",
        "    abaixo.append(num)\n",
        "  nota.append(num)\n",
        "  soma=soma+num\n",
        "print(f\"\\nA média das notas é {soma/10}\")\n",
        "print(f\"A maior nota foi {max(nota)}\")\n",
        "print(f\"A menor nota foi {min(nota)}\")\n",
        "print(f\"{len(abaixo)} notas estão abaixo da média\")"
      ],
      "metadata": {
        "colab": {
          "base_uri": "https://localhost:8080/"
        },
        "id": "AUj-RFhFxucn",
        "outputId": "cd4e3615-3f98-43eb-95df-8e4e75606010"
      },
      "execution_count": null,
      "outputs": [
        {
          "output_type": "stream",
          "name": "stdout",
          "text": [
            "Digite a 1º nota: 1\n",
            "Digite a 2º nota: 2\n",
            "Digite a 3º nota: 3\n",
            "Digite a 4º nota: 4\n",
            "Digite a 5º nota: 5\n",
            "Digite a 6º nota: 6\n",
            "Digite a 7º nota: 7\n",
            "Digite a 8º nota: 8\n",
            "Digite a 9º nota: 9\n",
            "Digite a 10º nota: 10\n",
            "\n",
            "A média das notas é 5.5\n",
            "A maior nota foi 10.0\n",
            "A menor nota foi 1.0\n",
            "5 notas estão abaixo da média\n"
          ]
        }
      ]
    },
    {
      "cell_type": "markdown",
      "source": [
        "**5) Ler um vetor de 100 elementos numéricos e verificar se existem elementos iguais a 30. Se\n",
        "existirem, escrever as posições em que estão armazenados.**"
      ],
      "metadata": {
        "id": "PZQLppO1z4DK"
      }
    },
    {
      "cell_type": "code",
      "source": [
        "vetor=[]\n",
        "indice=[]\n",
        "for i in range(100):\n",
        "  num=int(input(f\"Digite o {i+1}º número: \"))\n",
        "  vetor.append(num)\n",
        "  if vetor[i]==30:\n",
        "    indice.append(i)\n",
        "if len(indice)>1:\n",
        "  print(f\"Os elementos iguais a 30 estão nas posições: {indice}\")\n",
        "elif len(indice)==1:\n",
        "  print(f\"O elemento igual a 30 está na posição: {indice}\")\n",
        "else:\n",
        "  print(f\"Não existe nenhum elemento igual a 30\")"
      ],
      "metadata": {
        "id": "BChTtYv5zKwc",
        "colab": {
          "base_uri": "https://localhost:8080/"
        },
        "outputId": "d45b4953-80e7-4f9c-cdf4-1133ca265592"
      },
      "execution_count": null,
      "outputs": [
        {
          "output_type": "stream",
          "name": "stdout",
          "text": [
            "Digite o 1º número: 0\n",
            "Digite o 2º número: 1\n",
            "Digite o 3º número: 2\n",
            "Digite o 4º número: 3\n",
            "Digite o 5º número: 4\n",
            "Digite o 6º número: 5\n",
            "Digite o 7º número: 6\n",
            "Digite o 8º número: 7\n",
            "Digite o 9º número: 8\n",
            "Digite o 10º número: 9\n",
            "Digite o 11º número: 10\n",
            "Digite o 12º número: 11\n",
            "Digite o 13º número: 12\n",
            "Digite o 14º número: 13\n",
            "Digite o 15º número: 14\n",
            "Digite o 16º número: 15\n",
            "Digite o 17º número: 16\n",
            "Digite o 18º número: 17\n",
            "Digite o 19º número: 18\n",
            "Digite o 20º número: 19\n",
            "Digite o 21º número: 20\n",
            "Digite o 22º número: 21\n",
            "Digite o 23º número: 22\n",
            "Digite o 24º número: 23\n",
            "Digite o 25º número: 24\n",
            "Digite o 26º número: 25\n",
            "Digite o 27º número: 26\n",
            "Digite o 28º número: 27\n",
            "Digite o 29º número: 28\n",
            "Digite o 30º número: 29\n",
            "Digite o 31º número: 30\n",
            "Digite o 32º número: 31\n",
            "Digite o 33º número: 32\n",
            "Digite o 34º número: 33\n",
            "Digite o 35º número: 34\n",
            "Digite o 36º número: 35\n",
            "Digite o 37º número: 36\n",
            "Digite o 38º número: 37\n",
            "Digite o 39º número: 38\n",
            "Digite o 40º número: 39\n",
            "Digite o 41º número: 40\n",
            "Digite o 42º número: 41\n",
            "Digite o 43º número: 42\n",
            "Digite o 44º número: 43\n",
            "Digite o 45º número: 44\n",
            "Digite o 46º número: 45\n",
            "Digite o 47º número: 46\n",
            "Digite o 48º número: 47\n",
            "Digite o 49º número: 48\n",
            "Digite o 50º número: 49\n",
            "Digite o 51º número: 50\n",
            "Digite o 52º número: 51\n",
            "Digite o 53º número: 52\n",
            "Digite o 54º número: 53\n",
            "Digite o 55º número: 54\n",
            "Digite o 56º número: 55\n",
            "Digite o 57º número: 56\n",
            "Digite o 58º número: 57\n",
            "Digite o 59º número: 58\n",
            "Digite o 60º número: 59\n",
            "Digite o 61º número: 60\n",
            "Digite o 62º número: 61\n",
            "Digite o 63º número: 62\n",
            "Digite o 64º número: 63\n",
            "Digite o 65º número: 64\n",
            "Digite o 66º número: 65\n",
            "Digite o 67º número: 66\n",
            "Digite o 68º número: 67\n",
            "Digite o 69º número: 68\n",
            "Digite o 70º número: 69\n",
            "Digite o 71º número: 70\n",
            "Digite o 72º número: 71\n",
            "Digite o 73º número: 72\n",
            "Digite o 74º número: 73\n",
            "Digite o 75º número: 74\n",
            "Digite o 76º número: 75\n",
            "Digite o 77º número: 76\n",
            "Digite o 78º número: 77\n",
            "Digite o 79º número: 78\n",
            "Digite o 80º número: 79\n",
            "Digite o 81º número: 80\n",
            "Digite o 82º número: 81\n",
            "Digite o 83º número: 82\n",
            "Digite o 84º número: 83\n",
            "Digite o 85º número: 84\n",
            "Digite o 86º número: 85\n",
            "Digite o 87º número: 86\n",
            "Digite o 88º número: 87\n",
            "Digite o 89º número: 88\n",
            "Digite o 90º número: 89\n",
            "Digite o 91º número: 90\n",
            "Digite o 92º número: 91\n",
            "Digite o 93º número: 92\n",
            "Digite o 94º número: 93\n",
            "Digite o 95º número: 94\n",
            "Digite o 96º número: 95\n",
            "Digite o 97º número: 96\n",
            "Digite o 98º número: 97\n",
            "Digite o 99º número: 98\n",
            "Digite o 100º número: 99\n",
            "O elemento igual a 30 está na posição: [30]\n"
          ]
        }
      ]
    },
    {
      "cell_type": "markdown",
      "source": [
        "**6) Fazer um algoritmo que calcule e escreva o somatório dos valores armazenados numa variável\n",
        "composta unidimensional (vetor) A, de 100 elementos numéricos a serem lidos do dispositivo\n",
        "de entrada.**"
      ],
      "metadata": {
        "id": "-zcQRqNn3cqF"
      }
    },
    {
      "cell_type": "code",
      "source": [
        "vetor=[]\n",
        "for i in range(100):\n",
        "  num=int(input(f\"Digite o {i+1}º valor: \"))\n",
        "  vetor.append(num)\n",
        "soma=sum(vetor)\n",
        "print(f\"A soma dos elementos lidos é igual a {soma}\")"
      ],
      "metadata": {
        "id": "4U9-O_A000vz",
        "colab": {
          "base_uri": "https://localhost:8080/"
        },
        "outputId": "f95c6cd4-be8b-4cfd-c5ab-3c95a22133f1"
      },
      "execution_count": null,
      "outputs": [
        {
          "output_type": "stream",
          "name": "stdout",
          "text": [
            "Digite o 1º valor: 0\n",
            "Digite o 2º valor: 1\n",
            "Digite o 3º valor: 2\n",
            "Digite o 4º valor: 3\n",
            "Digite o 5º valor: 4\n",
            "Digite o 6º valor: 5\n",
            "Digite o 7º valor: 6\n",
            "Digite o 8º valor: 7\n",
            "Digite o 9º valor: 8\n",
            "Digite o 10º valor: 9\n",
            "Digite o 11º valor: 10\n",
            "Digite o 12º valor: 11\n",
            "Digite o 13º valor: 12\n",
            "Digite o 14º valor: 13\n",
            "Digite o 15º valor: 14\n",
            "Digite o 16º valor: 15\n",
            "Digite o 17º valor: 16\n",
            "Digite o 18º valor: 17\n",
            "Digite o 19º valor: 18\n",
            "Digite o 20º valor: 19\n",
            "Digite o 21º valor: 20\n",
            "Digite o 22º valor: 21\n",
            "Digite o 23º valor: 22\n",
            "Digite o 24º valor: 23\n",
            "Digite o 25º valor: 24\n",
            "Digite o 26º valor: 25\n",
            "Digite o 27º valor: 26\n",
            "Digite o 28º valor: 27\n",
            "Digite o 29º valor: 28\n",
            "Digite o 30º valor: 29\n",
            "Digite o 31º valor: 30\n",
            "Digite o 32º valor: 31\n",
            "Digite o 33º valor: 32\n",
            "Digite o 34º valor: 33\n",
            "Digite o 35º valor: 34\n",
            "Digite o 36º valor: 35\n",
            "Digite o 37º valor: 36\n",
            "Digite o 38º valor: 37\n",
            "Digite o 39º valor: 38\n",
            "Digite o 40º valor: 39\n",
            "Digite o 41º valor: 40\n",
            "Digite o 42º valor: 41\n",
            "Digite o 43º valor: 42\n",
            "Digite o 44º valor: 43\n",
            "Digite o 45º valor: 44\n",
            "Digite o 46º valor: 45\n",
            "Digite o 47º valor: 46\n",
            "Digite o 48º valor: 47\n",
            "Digite o 49º valor: 48\n",
            "Digite o 50º valor: 49\n",
            "Digite o 51º valor: 50\n",
            "Digite o 52º valor: 51\n",
            "Digite o 53º valor: 52\n",
            "Digite o 54º valor: 53\n",
            "Digite o 55º valor: 54\n",
            "Digite o 56º valor: 55\n",
            "Digite o 57º valor: 56\n",
            "Digite o 58º valor: 57\n",
            "Digite o 59º valor: 58\n",
            "Digite o 60º valor: 59\n",
            "Digite o 61º valor: 60\n",
            "Digite o 62º valor: 61\n",
            "Digite o 63º valor: 62\n",
            "Digite o 64º valor: 63\n",
            "Digite o 65º valor: 64\n",
            "Digite o 66º valor: 65\n",
            "Digite o 67º valor: 66\n",
            "Digite o 68º valor: 67\n",
            "Digite o 69º valor: 68\n",
            "Digite o 70º valor: 69\n",
            "Digite o 71º valor: 70\n",
            "Digite o 72º valor: 71\n",
            "Digite o 73º valor: 72\n",
            "Digite o 74º valor: 73\n",
            "Digite o 75º valor: 74\n",
            "Digite o 76º valor: 75\n",
            "Digite o 77º valor: 76\n",
            "Digite o 78º valor: 77\n",
            "Digite o 79º valor: 78\n",
            "Digite o 80º valor: 79\n",
            "Digite o 81º valor: 80\n",
            "Digite o 82º valor: 81\n",
            "Digite o 83º valor: 82\n",
            "Digite o 84º valor: 83\n",
            "Digite o 85º valor: 84\n",
            "Digite o 86º valor: 85\n",
            "Digite o 87º valor: 86\n",
            "Digite o 88º valor: 87\n",
            "Digite o 89º valor: 88\n",
            "Digite o 90º valor: 89\n",
            "Digite o 91º valor: 90\n",
            "Digite o 92º valor: 91\n",
            "Digite o 93º valor: 92\n",
            "Digite o 94º valor: 93\n",
            "Digite o 95º valor: 94\n",
            "Digite o 96º valor: 95\n",
            "Digite o 97º valor: 96\n",
            "Digite o 98º valor: 97\n",
            "Digite o 99º valor: 98\n",
            "Digite o 100º valor: 99\n",
            "A soma dos elementos lidos é igual a 4950\n"
          ]
        }
      ]
    },
    {
      "cell_type": "markdown",
      "source": [
        "**7) Escreva um algoritmo que leia um vetor de 200 valores numéricos reais e os imprima na\n",
        "ordem contrária em que foi lida.**"
      ],
      "metadata": {
        "id": "ovPOmx1q5KLj"
      }
    },
    {
      "cell_type": "code",
      "source": [
        "vetor=[]\n",
        "for i in range(200):\n",
        "  num=float(input(f\"Digite o {i+1}º valor real: \"))\n",
        "  vetor.append(num)\n",
        "vetor.reverse()\n",
        "print(f\"\\n{vetor}\")"
      ],
      "metadata": {
        "colab": {
          "base_uri": "https://localhost:8080/"
        },
        "id": "GNfhTNMz38bQ",
        "outputId": "6e117d34-7c1b-4eb3-a559-442ad73673ac"
      },
      "execution_count": null,
      "outputs": [
        {
          "output_type": "stream",
          "name": "stdout",
          "text": [
            "Digite o 1º valor real: 3\n",
            "Digite o 2º valor real: 46\n",
            "Digite o 3º valor real: 484\n",
            "Digite o 4º valor real: 12\n",
            "Digite o 5º valor real: 786\n",
            "Digite o 6º valor real: 348\n",
            "Digite o 7º valor real: 489\n",
            "Digite o 8º valor real: 12\n",
            "Digite o 9º valor real: 348\n",
            "Digite o 10º valor real: 6\n",
            "\n",
            "[6.0, 348.0, 12.0, 489.0, 348.0, 786.0, 12.0, 484.0, 46.0, 3.0]\n"
          ]
        }
      ]
    },
    {
      "cell_type": "markdown",
      "source": [
        "![image.png](data:image/png;base64,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)"
      ],
      "metadata": {
        "id": "4nawRvyw9e0G"
      }
    },
    {
      "cell_type": "code",
      "source": [
        "vetor1=[]\n",
        "vetor2=[]\n",
        "vetor3=[]\n",
        "for i in range(10):\n",
        "  num=float(input(f\"Digite o {i+1}º valor do vetor 1: \"))\n",
        "  vetor1.append(num)\n",
        "print(\"\\n\")\n",
        "for j in range(10):\n",
        "  num=float(input(f\"Digite o valor {j+1}º valor do vetor 2: \"))\n",
        "  vetor2.append(num)\n",
        "  vetor3.append(vetor1[j]+vetor2[j])\n",
        "print(f'\\nVETOR 1: {vetor1}\\nVETOR 2: {vetor2}\\nVETOR 3: {vetor3}')"
      ],
      "metadata": {
        "colab": {
          "base_uri": "https://localhost:8080/"
        },
        "id": "3EvJEtB55Zil",
        "outputId": "c8c8edd3-aaa2-4aac-db45-e1f03c99de93"
      },
      "execution_count": null,
      "outputs": [
        {
          "output_type": "stream",
          "name": "stdout",
          "text": [
            "Digite o 1º valor do vetor 1: 5\n",
            "Digite o 2º valor do vetor 1: 12\n",
            "Digite o 3º valor do vetor 1: 7\n",
            "Digite o 4º valor do vetor 1: 34\n",
            "Digite o 5º valor do vetor 1: 87\n",
            "Digite o 6º valor do vetor 1: 213\n",
            "Digite o 7º valor do vetor 1: 487\n",
            "Digite o 8º valor do vetor 1: 621\n",
            "Digite o 9º valor do vetor 1: 38\n",
            "Digite o 10º valor do vetor 1: 94\n",
            "\n",
            "\n",
            "Digite o valor 1º valor do vetor 2: 123\n",
            "Digite o valor 2º valor do vetor 2: 478\n",
            "Digite o valor 3º valor do vetor 2: 64\n",
            "Digite o valor 4º valor do vetor 2: 21\n",
            "Digite o valor 5º valor do vetor 2: 35\n",
            "Digite o valor 6º valor do vetor 2: 78\n",
            "Digite o valor 7º valor do vetor 2: 63\n",
            "Digite o valor 8º valor do vetor 2: 41\n",
            "Digite o valor 9º valor do vetor 2: 32\n",
            "Digite o valor 10º valor do vetor 2: 47\n",
            "\n",
            "VETOR 1: [5.0, 12.0, 7.0, 34.0, 87.0, 213.0, 487.0, 621.0, 38.0, 94.0]\n",
            "VETOR 2: [123.0, 478.0, 64.0, 21.0, 35.0, 78.0, 63.0, 41.0, 32.0, 47.0]\n",
            "VETOR 3: [128.0, 490.0, 71.0, 55.0, 122.0, 291.0, 550.0, 662.0, 70.0, 141.0]\n"
          ]
        }
      ]
    },
    {
      "cell_type": "markdown",
      "source": [
        "**9) Fazer um algoritmo que:\n",
        "a) Leia duas variáveis compostas unidimensionais, contendo, cada uma, 25 elementos numéricos;\n",
        "b) intercale os elementos desses dois conjuntos formando uma nova variável composta\n",
        "unidimensional de 50 elementos;\n",
        "c) Escreva o resultado obtido.**"
      ],
      "metadata": {
        "id": "OT5Ts0YU2bYT"
      }
    },
    {
      "cell_type": "code",
      "source": [
        "vetor1=[]\n",
        "vetor2=[]\n",
        "vetor3=[]\n",
        "for i in range(25):\n",
        "  vetor1.append(input(f\"Digite o {i+1}º número do vetor 1: \"))\n",
        "print('\\n')\n",
        "for i in range(25):\n",
        "  vetor2.append(input(f\"Digite o {i+1}º número do vetor 2: \"))\n",
        "  vetor3.append(vetor1[i])\n",
        "  vetor3.append(vetor2[i])\n",
        "print(f\"\\nVETOR 3 - {vetor3}\")"
      ],
      "metadata": {
        "id": "FamR8nEK5N9V",
        "colab": {
          "base_uri": "https://localhost:8080/"
        },
        "outputId": "ce31ef25-64b7-4064-ba7c-eaffa6c0fa50"
      },
      "execution_count": null,
      "outputs": [
        {
          "output_type": "stream",
          "name": "stdout",
          "text": [
            "Digite o 1º número do vetor 1: 1\n",
            "Digite o 2º número do vetor 1: 3\n",
            "Digite o 3º número do vetor 1: 5\n",
            "Digite o 4º número do vetor 1: 7\n",
            "Digite o 5º número do vetor 1: 9\n",
            "\n",
            "\n",
            "Digite o 1º número do vetor 2: 2\n",
            "Digite o 2º número do vetor 2: 4\n",
            "Digite o 3º número do vetor 2: 6\n",
            "Digite o 4º número do vetor 2: 8\n",
            "Digite o 5º número do vetor 2: 10\n",
            "\n",
            "VETOR 3 - ['1', '2', '3', '4', '5', '6', '7', '8', '9', '10']\n"
          ]
        }
      ]
    },
    {
      "cell_type": "markdown",
      "source": [
        "![image.png](data:image/png;base64,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)"
      ],
      "metadata": {
        "id": "AexB9Vwe5to7"
      }
    },
    {
      "cell_type": "code",
      "source": [
        "A=[]\n",
        "S=0\n",
        "menor=0\n",
        "for i in range(100):\n",
        "  num=float(input(f\"Digite o {i+1}º número diferente de 0: \"))\n",
        "  while num==0:\n",
        "    num=float(input(f\"Digite um número diferente de 0: \"))\n",
        "  A.append(num)\n",
        "  if i<A[i]:\n",
        "    menor+=1\n",
        "  S+=i/A[i]\n",
        "print(f\"\\n O resultado do somatório é {S}\")\n",
        "print(f\"\\n O número de termos que possuem o numerador menor que o denominador é {menor}\")"
      ],
      "metadata": {
        "colab": {
          "base_uri": "https://localhost:8080/"
        },
        "id": "dz4IhMBAuXDS",
        "outputId": "67f06acb-877d-4d6a-d01d-403613443da2"
      },
      "execution_count": null,
      "outputs": [
        {
          "output_type": "stream",
          "name": "stdout",
          "text": [
            "Digite o 1º número diferente de 0: 1\n",
            "Digite o 2º número diferente de 0: 2\n",
            "Digite o 3º número diferente de 0: 3\n",
            "Digite o 4º número diferente de 0: 4\n",
            "Digite o 5º número diferente de 0: 5\n",
            "Digite o 6º número diferente de 0: 6\n",
            "Digite o 7º número diferente de 0: 7\n",
            "Digite o 8º número diferente de 0: 8\n",
            "Digite o 9º número diferente de 0: 9\n",
            "Digite o 10º número diferente de 0: 10\n",
            "Digite o 11º número diferente de 0: 11\n",
            "Digite o 12º número diferente de 0: 12\n",
            "Digite o 13º número diferente de 0: 13\n",
            "Digite o 14º número diferente de 0: 14\n",
            "Digite o 15º número diferente de 0: 15\n",
            "Digite o 16º número diferente de 0: 16\n",
            "Digite o 17º número diferente de 0: 17\n",
            "Digite o 18º número diferente de 0: 18\n",
            "Digite o 19º número diferente de 0: 19\n",
            "Digite o 20º número diferente de 0: 20\n",
            "Digite o 21º número diferente de 0: 21\n",
            "Digite o 22º número diferente de 0: 22\n",
            "Digite o 23º número diferente de 0: 23\n",
            "Digite o 24º número diferente de 0: 24\n",
            "Digite o 25º número diferente de 0: 25\n",
            "Digite o 26º número diferente de 0: 26\n",
            "Digite o 27º número diferente de 0: 27\n",
            "Digite o 28º número diferente de 0: 28\n",
            "Digite o 29º número diferente de 0: 29\n",
            "Digite o 30º número diferente de 0: 30\n",
            "Digite o 31º número diferente de 0: 31\n",
            "Digite o 32º número diferente de 0: 32\n",
            "Digite o 33º número diferente de 0: 33\n",
            "Digite o 34º número diferente de 0: 34\n",
            "Digite o 35º número diferente de 0: 35\n",
            "Digite o 36º número diferente de 0: 36\n",
            "Digite o 37º número diferente de 0: 37\n",
            "Digite o 38º número diferente de 0: 38\n",
            "Digite o 39º número diferente de 0: 39\n",
            "Digite o 40º número diferente de 0: 40\n",
            "Digite o 41º número diferente de 0: 41\n",
            "Digite o 42º número diferente de 0: 42\n",
            "Digite o 43º número diferente de 0: 43\n",
            "Digite o 44º número diferente de 0: 44\n",
            "Digite o 45º número diferente de 0: 45\n",
            "Digite o 46º número diferente de 0: 46\n",
            "Digite o 47º número diferente de 0: 47\n",
            "Digite o 48º número diferente de 0: 48\n",
            "Digite o 49º número diferente de 0: 49\n",
            "Digite o 50º número diferente de 0: 50\n",
            "Digite o 51º número diferente de 0: 51\n",
            "Digite o 52º número diferente de 0: 52\n",
            "Digite o 53º número diferente de 0: 53\n",
            "Digite o 54º número diferente de 0: 54\n",
            "Digite o 55º número diferente de 0: 55\n",
            "Digite o 56º número diferente de 0: 56\n",
            "Digite o 57º número diferente de 0: 57\n",
            "Digite o 58º número diferente de 0: 58\n",
            "Digite o 59º número diferente de 0: 59\n",
            "Digite o 60º número diferente de 0: 60\n",
            "Digite o 61º número diferente de 0: 61\n",
            "Digite o 62º número diferente de 0: 62\n",
            "Digite o 63º número diferente de 0: 63\n",
            "Digite o 64º número diferente de 0: 64\n",
            "Digite o 65º número diferente de 0: 65\n",
            "Digite o 66º número diferente de 0: 66\n",
            "Digite o 67º número diferente de 0: 67\n",
            "Digite o 68º número diferente de 0: 68\n",
            "Digite o 69º número diferente de 0: 69\n",
            "Digite o 70º número diferente de 0: 70\n",
            "Digite o 71º número diferente de 0: 71\n",
            "Digite o 72º número diferente de 0: 72\n",
            "Digite o 73º número diferente de 0: 73\n",
            "Digite o 74º número diferente de 0: 74\n",
            "Digite o 75º número diferente de 0: 75\n",
            "Digite o 76º número diferente de 0: 76\n",
            "Digite o 77º número diferente de 0: 77\n",
            "Digite o 78º número diferente de 0: 78\n",
            "Digite o 79º número diferente de 0: 79\n",
            "Digite o 80º número diferente de 0: 80\n",
            "Digite o 81º número diferente de 0: 81\n",
            "Digite o 82º número diferente de 0: 82\n",
            "Digite o 83º número diferente de 0: 83\n",
            "Digite o 84º número diferente de 0: 84\n",
            "Digite o 85º número diferente de 0: 85\n",
            "Digite o 86º número diferente de 0: 86\n",
            "Digite o 87º número diferente de 0: 87\n",
            "Digite o 88º número diferente de 0: 88\n",
            "Digite o 89º número diferente de 0: 89\n",
            "Digite o 90º número diferente de 0: 90\n",
            "Digite o 91º número diferente de 0: 91\n",
            "Digite o 92º número diferente de 0: 92\n",
            "Digite o 93º número diferente de 0: 93\n",
            "Digite o 94º número diferente de 0: 94\n",
            "Digite o 95º número diferente de 0: 95\n",
            "Digite o 96º número diferente de 0: 96\n",
            "Digite o 97º número diferente de 0: 97\n",
            "Digite o 98º número diferente de 0: 98\n",
            "Digite o 99º número diferente de 0: 99\n",
            "Digite o 100º número diferente de 0: 100\n",
            "\n",
            " O resultado do somatório é 94.81262248236033\n",
            "\n",
            " O número de termos que possuem o numerador menor que o denominador é 100\n"
          ]
        }
      ]
    },
    {
      "cell_type": "markdown",
      "source": [
        "**11) Faça um algoritmo que leia um conjunto de 10 elementos reais e os coloque em um vetor.\n",
        "Construa um segundo vetor formado da seguinte maneira:\n",
        "• Os elementos de ordem par são os correspondentes do primeiro vetor multiplicados por 3.\n",
        "• Os elementos de ordem ímpar são os correspondentes do primeiro vetor divididos por 2.\n",
        "• Imprima os dois vetores.**"
      ],
      "metadata": {
        "id": "QNSGNlQWyGwz"
      }
    },
    {
      "cell_type": "code",
      "source": [
        "vetor1=[]\n",
        "vetor2=[]\n",
        "for i in range(10):\n",
        "  num=float(input(f\"Digite o {i+1}º número real: \"))\n",
        "  vetor1.append(num)\n",
        "  if i%2==0:\n",
        "    vetor2.append(vetor1[i]*3)\n",
        "  else:\n",
        "    vetor2.append(vetor1[i]/2)\n",
        "print(f\"\\nVetor 1: {vetor1}\\nVetor2: {vetor2}\")\n"
      ],
      "metadata": {
        "colab": {
          "base_uri": "https://localhost:8080/"
        },
        "id": "zVydd8s3uh4e",
        "outputId": "e4e90887-ec00-4031-9d2d-1887e42ec886"
      },
      "execution_count": null,
      "outputs": [
        {
          "output_type": "stream",
          "name": "stdout",
          "text": [
            "Digite o 1º número real: 2\n",
            "Digite o 2º número real: 5\n",
            "Digite o 3º número real: 4\n",
            "Digite o 4º número real: 6\n",
            "Digite o 5º número real: 8\n",
            "Digite o 6º número real: 10\n",
            "Digite o 7º número real: 12\n",
            "Digite o 8º número real: 14\n",
            "Digite o 9º número real: 15\n",
            "Digite o 10º número real: 16\n",
            "\n",
            "Vetor 1: [2.0, 5.0, 4.0, 6.0, 8.0, 10.0, 12.0, 14.0, 15.0, 16.0]\n",
            "Vetor2: [6.0, 2.5, 12.0, 3.0, 24.0, 5.0, 36.0, 7.0, 45.0, 8.0]\n"
          ]
        }
      ]
    },
    {
      "cell_type": "markdown",
      "source": [
        "![image.png](data:image/png;base64,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)"
      ],
      "metadata": {
        "id": "Bz-AbVxJAAou"
      }
    },
    {
      "cell_type": "code",
      "source": [
        "A=[]\n",
        "j=19\n",
        "k=0\n",
        "S=0\n",
        "for i in range(20):\n",
        "  A.append(float(input(f\"Digite o {i+1}º número: \")))\n",
        "while j>k:\n",
        "  S+=(A[k]-A[j])**2\n",
        "  k+=1\n",
        "  j-=1\n",
        "print(f\"\\nS = { S}\")\n"
      ],
      "metadata": {
        "id": "a3zqjkOJyR57",
        "colab": {
          "base_uri": "https://localhost:8080/"
        },
        "outputId": "4b2a1e7e-0b2d-4bde-d7a5-2fe3db1c4255"
      },
      "execution_count": null,
      "outputs": [
        {
          "output_type": "stream",
          "name": "stdout",
          "text": [
            "Digite o 1º número: 1\n",
            "Digite o 2º número: 2\n",
            "Digite o 3º número: 3\n",
            "Digite o 4º número: 4\n",
            "Digite o 5º número: 5\n",
            "Digite o 6º número: 6\n",
            "Digite o 7º número: 7\n",
            "Digite o 8º número: 8\n",
            "Digite o 9º número: 9\n",
            "Digite o 10º número: 10\n",
            "Digite o 11º número: 11\n",
            "Digite o 12º número: 12\n",
            "Digite o 13º número: 13\n",
            "Digite o 14º número: 14\n",
            "Digite o 15º número: 15\n",
            "Digite o 16º número: 16\n",
            "Digite o 17º número: 17\n",
            "Digite o 18º número: 18\n",
            "Digite o 19º número: 19\n",
            "Digite o 20º número: 20\n",
            "\n",
            "S = 1330.0\n"
          ]
        }
      ]
    },
    {
      "cell_type": "markdown",
      "source": [
        "![image.png](data:image/png;base64,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)"
      ],
      "metadata": {
        "id": "BJMcXm0kCOhy"
      }
    },
    {
      "cell_type": "code",
      "source": [
        "frase=str.upper(input(\"Digite uma frase de até 50 caracteres: \"))\n",
        "branco=0\n",
        "A=0\n",
        "while len(frase)>50:\n",
        "  frase=str.upper(input(\"\\nA frase tem mais que 50 caracteres, tente denovo: \"))\n",
        "for i in frase:\n",
        "  if i==\" \":\n",
        "    branco+=1\n",
        "  if i==\"A\":\n",
        "    A+=1\n",
        "print(f'\\nA quantidade de espaços em brancos é igual a {branco}\\nA quantidade de vezes que a letra \"A\" aparece é {A}')"
      ],
      "metadata": {
        "colab": {
          "base_uri": "https://localhost:8080/"
        },
        "id": "TNzT0hW6AQgo",
        "outputId": "350c1554-1706-4d2e-844a-b90d44c7d95b"
      },
      "execution_count": null,
      "outputs": [
        {
          "output_type": "stream",
          "name": "stdout",
          "text": [
            "Digite uma frase de até 50 caracteres: dfyuhaiofuhdauiofjyudagfieajfioajueofjsoapfhieajfioeapfojapiofiaepiofaiop\n",
            "\n",
            "A frase tem mais que 50 caracteres, tente denovo: Eu gosto muito de batata frita com cheddar\n",
            "\n",
            "A quantidade de espaços em brancos é igual a 7\n",
            "A quantidade de vezes que a letra \"A\" aparece é 5\n"
          ]
        }
      ]
    },
    {
      "cell_type": "markdown",
      "source": [
        "![image.png](data:image/png;base64,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)"
      ],
      "metadata": {
        "id": "jg-ALQl3e78g"
      }
    },
    {
      "cell_type": "code",
      "source": [
        "mercadorias=[]\n",
        "valores=[]\n",
        "faturamento=[]\n",
        "\n",
        "for i in range (100):\n",
        " quantidade=int(input(f\"Quando da mercadoria {i} é vendido por mes: \"))\n",
        " mercadorias.append(quantidade)\n",
        "\n",
        " valor_vendido=float(input(f\"A por quanto é vendida a mercadoria de numero {i}: \"))\n",
        " valores.append(valor_vendido)\n",
        "\n",
        " faturamento.append(mercadorias[i] * valores[i])\n",
        "\n",
        "\n",
        "print(f\"\\n o faturamento dele é de R${sum(faturamento)} \")"
      ],
      "metadata": {
        "id": "NLLazoQvC3Tr"
      },
      "execution_count": null,
      "outputs": []
    },
    {
      "cell_type": "markdown",
      "source": [
        "**15) Classificar um vetor numérico VET de 20 elementos em ordem crescente.**"
      ],
      "metadata": {
        "id": "zeL7_sAxe17B"
      }
    },
    {
      "cell_type": "code",
      "source": [
        "vet=[]\n",
        "for i in range(20):\n",
        "  vet.append(int(input(\"Digite um número: \")))\n",
        "vet.sort()\n",
        "print(vet)"
      ],
      "metadata": {
        "id": "wEIVnWOre_zn",
        "colab": {
          "base_uri": "https://localhost:8080/"
        },
        "outputId": "7686b3fd-29ea-4704-9e3c-1e74639890c7"
      },
      "execution_count": null,
      "outputs": [
        {
          "output_type": "stream",
          "name": "stdout",
          "text": [
            "Digite um número: 9\n",
            "Digite um número: 54\n",
            "Digite um número: 2\n",
            "Digite um número: 3\n",
            "Digite um número: 5\n",
            "Digite um número: 10\n",
            "Digite um número: 43\n",
            "Digite um número: 2\n",
            "Digite um número: 65\n",
            "Digite um número: 7\n",
            "Digite um número: 69\n",
            "Digite um número: 32\n",
            "Digite um número: 120\n",
            "Digite um número: 453\n",
            "Digite um número: 2\n",
            "Digite um número: 4\n",
            "Digite um número: 65\n",
            "Digite um número: 8\n",
            "Digite um número: 9\n",
            "Digite um número: 120\n",
            "[2, 2, 2, 3, 4, 5, 7, 8, 9, 9, 10, 32, 43, 54, 65, 65, 69, 120, 120, 453]\n"
          ]
        }
      ]
    },
    {
      "cell_type": "markdown",
      "source": [
        "**16) Dado um vetor de 128 elementos, verificar se existe um elemento igual a K (chave) no vetor.\n",
        "Se existir, imprimir a posição onde foi encontrada a chave; se não; imprimir a mensagem:\n",
        "“CHAVE K NÃO ENCONTRADA”. O vetor A e a chave K são lidos a partir de uma unidade de\n",
        "entrada.**"
      ],
      "metadata": {
        "id": "ViKy5XkwfyG3"
      }
    },
    {
      "cell_type": "code",
      "source": [
        "A=[]\n",
        "k=0\n",
        "K=str.upper(input(\"Digite a chave K: \"))\n",
        "for i in range(10):\n",
        "  A.append(str(input(f\"Digite o {i+1}º elemento do vetor: \")))\n",
        "print(\"\\n\")\n",
        "for i in range(len(A)):\n",
        "  if A[i]==K:\n",
        "    print(f\"A chave K está na posição {i}\")\n",
        "    k+=1\n",
        "if k==0:\n",
        "  print(\"CHAVE K NÃO ENCONTR1ADA\")"
      ],
      "metadata": {
        "colab": {
          "base_uri": "https://localhost:8080/"
        },
        "id": "zonIat4Vf9Q1",
        "outputId": "b048ff75-5957-495a-a129-bb4c287c6261"
      },
      "execution_count": null,
      "outputs": [
        {
          "output_type": "stream",
          "name": "stdout",
          "text": [
            "Digite a chave K: 7\n",
            "Digite o 1º elemento do vetor: 4\n",
            "Digite o 2º elemento do vetor: 2\n",
            "Digite o 3º elemento do vetor: 3\n",
            "Digite o 4º elemento do vetor: 1\n",
            "Digite o 5º elemento do vetor: 7\n",
            "Digite o 6º elemento do vetor: 4\n",
            "Digite o 7º elemento do vetor: 7\n",
            "Digite o 8º elemento do vetor: 5\n",
            "Digite o 9º elemento do vetor: 7\n",
            "Digite o 10º elemento do vetor: 6\n",
            "\n",
            "\n",
            "A chave K está na posição 4\n",
            "A chave K está na posição 6\n",
            "A chave K está na posição 8\n"
          ]
        }
      ]
    },
    {
      "cell_type": "markdown",
      "source": [
        "**18) Faça um algoritmo qualquer que leia uma matriz A de 15 linhas por 25 colunas e imprima o\n",
        "seu conteúdo.**"
      ],
      "metadata": {
        "id": "G05hSgLwv62y"
      }
    },
    {
      "cell_type": "code",
      "source": [
        "linhas = 15\n",
        "colunas = 25\n",
        "matriz = []\n",
        "print(f\"Digite os valores para a matriz {linhas}x{colunas}:\")\n",
        "for i in range(linhas):\n",
        "    linha = []\n",
        "    for j in range(colunas):\n",
        "        valor = random.randint(1,9)\n",
        "        linha.append(valor)\n",
        "    matriz.append(linha)\n",
        "print(\"Conteúdo da matriz:\")\n",
        "for linha in matriz:\n",
        "    print(\" \".join(map(str, linha)))"
      ],
      "metadata": {
        "colab": {
          "base_uri": "https://localhost:8080/"
        },
        "id": "WDGYSNs1vd8y",
        "outputId": "6ec53a6c-88f5-4dd8-a150-8b59cc849ba7"
      },
      "execution_count": null,
      "outputs": [
        {
          "output_type": "stream",
          "name": "stdout",
          "text": [
            "Digite os valores para a matriz 15x25:\n",
            "Conteúdo da matriz:\n",
            "3 4 4 5 3 7 2 4 4 6 1 5 2 9 8 3 4 2 7 8 8 6 4 6 8\n",
            "1 2 3 2 8 9 9 1 5 9 1 2 9 9 9 2 8 5 3 4 7 9 5 8 4\n",
            "6 5 2 7 4 7 8 5 6 5 6 8 9 6 6 1 4 4 9 7 8 1 7 8 8\n",
            "5 1 5 8 8 9 7 2 7 9 6 6 5 3 6 7 2 9 8 5 5 2 3 9 9\n",
            "9 4 6 9 4 8 5 7 7 4 4 1 9 6 5 3 9 5 2 6 1 6 1 3 8\n",
            "9 2 7 4 3 4 5 1 2 6 2 7 1 9 1 2 4 7 2 6 6 8 5 2 9\n",
            "4 2 4 2 4 5 1 8 7 8 8 5 8 2 9 8 2 3 6 3 3 4 8 3 2\n",
            "1 9 5 1 5 9 5 3 6 2 4 7 3 8 1 7 5 9 1 6 7 5 4 4 5\n",
            "6 9 4 7 4 7 2 7 8 1 3 6 8 7 4 5 5 3 9 6 9 1 9 3 7\n",
            "2 9 2 5 6 5 7 9 2 3 1 7 8 8 8 7 6 5 1 4 3 1 9 2 4\n",
            "2 6 3 1 7 5 7 5 8 8 9 8 4 1 4 5 4 4 2 1 1 9 8 9 3\n",
            "3 7 4 9 8 1 2 9 2 2 3 9 7 4 9 6 7 4 8 1 1 3 9 7 5\n",
            "3 6 4 3 8 2 1 9 2 9 7 2 7 4 7 5 2 2 5 9 4 5 8 8 3\n",
            "3 2 7 8 8 1 9 9 3 1 2 8 2 5 6 5 9 2 5 5 3 6 4 8 7\n",
            "9 1 1 5 5 4 7 5 9 9 7 5 7 7 7 3 4 7 7 6 7 1 5 6 3\n"
          ]
        }
      ]
    },
    {
      "cell_type": "markdown",
      "source": [
        "**19) Dada uma matriz B, de 10 linhas por 20 colunas, escrever um algoritmo que calcula e imprima\n",
        "o somatório dos elementos da quinta linha.**"
      ],
      "metadata": {
        "id": "Wke-H3nTyehs"
      }
    },
    {
      "cell_type": "code",
      "source": [
        "linhas=10\n",
        "colunas=20\n",
        "B=[]\n",
        "soma=0\n",
        "print(f\"Digite os valores para a matriz {linhas}x{colunas}: \")\n",
        "for i in range(linhas):\n",
        "  linha=[]\n",
        "  for j in range(colunas):\n",
        "    valor=random.randint(1,9)\n",
        "    linha.append(valor)\n",
        "  B.append(linha)\n",
        "  if i==5:\n",
        "    soma=sum(linha)\n",
        "for linha in B:\n",
        "  print(\" \".join(map(str, linha)))\n",
        "print(f\"\\n A soma dos elementos da quinta linha é: {soma}\")"
      ],
      "metadata": {
        "colab": {
          "base_uri": "https://localhost:8080/"
        },
        "id": "fo-D61wdyJpL",
        "outputId": "1dbe69c0-1f92-4fe4-9ff2-b8057e64cf71"
      },
      "execution_count": null,
      "outputs": [
        {
          "output_type": "stream",
          "name": "stdout",
          "text": [
            "Digite os valores para a matriz 10x20: \n",
            "3 8 8 4 4 9 3 1 9 9 4 1 3 2 1 2 9 8 4 3\n",
            "3 4 5 8 2 4 1 4 7 3 9 7 6 9 3 4 2 5 6 2\n",
            "9 4 1 5 4 5 4 1 6 4 2 3 4 9 6 3 6 1 4 1\n",
            "5 3 5 7 1 3 7 1 3 1 8 3 9 5 2 3 4 7 5 7\n",
            "3 8 7 1 1 1 9 6 9 5 8 7 7 6 7 7 3 5 4 3\n",
            "7 9 1 2 2 8 2 7 4 2 2 5 6 2 7 6 1 7 1 5\n",
            "2 9 9 4 5 7 9 1 4 3 9 5 8 4 2 8 1 2 9 5\n",
            "1 4 6 8 7 5 7 4 3 9 4 7 9 6 8 2 6 2 1 5\n",
            "7 8 2 4 9 8 8 5 3 9 1 1 4 7 1 6 4 8 9 6\n",
            "7 3 8 7 7 4 7 1 6 3 9 8 3 4 9 9 8 9 9 1\n",
            "\n",
            " A soma dos elementos da quinta linha é: 86\n"
          ]
        }
      ]
    },
    {
      "cell_type": "markdown",
      "source": [
        "**20) Dada uma tabela de 4 x 5 elementos, calcular a soma de cada linha e a soma de todos os\n",
        "elementos.**"
      ],
      "metadata": {
        "id": "dyg8ijbu06iq"
      }
    },
    {
      "cell_type": "code",
      "source": [
        "linhas=4\n",
        "colunas=5\n",
        "matriz=[]\n",
        "somas=[]\n",
        "total=0\n",
        "for i in range(linhas):\n",
        "  linha=[]\n",
        "  for j in range(colunas):\n",
        "    valor=random.randint(1,9)\n",
        "    linha.append(valor)\n",
        "  matriz.append(linha)\n",
        "  somas.append(sum(linha))\n",
        "  total+=(sum(linha))\n",
        "print(\"**MATRIZ**: \")\n",
        "print(\"\\n\"+'\\n'.join(map(str, matriz)))\n",
        "print(\" \")\n",
        "for i in range(len(somas)):\n",
        "  print(f\"A soma da {i+1}º linha é igual a {somas[i]}\")\n",
        "print(f\"\\nA soma de todos os elementos da matriz é igual a {total}\")"
      ],
      "metadata": {
        "colab": {
          "base_uri": "https://localhost:8080/"
        },
        "id": "ZJnZcqURzBGA",
        "outputId": "b214ac15-fcc8-4d83-ad23-63dbe94b74f6"
      },
      "execution_count": null,
      "outputs": [
        {
          "output_type": "stream",
          "name": "stdout",
          "text": [
            "**MATRIZ**: \n",
            "\n",
            "[1, 4, 5, 4, 2]\n",
            "[3, 1, 3, 7, 8]\n",
            "[1, 6, 1, 1, 3]\n",
            "[4, 8, 4, 3, 4]\n",
            " \n",
            "A soma da 1º linha é igual a 16\n",
            "A soma da 2º linha é igual a 22\n",
            "A soma da 3º linha é igual a 12\n",
            "A soma da 4º linha é igual a 23\n",
            "\n",
            "A soma de todos os elementos da matriz é igual a 73\n"
          ]
        }
      ]
    },
    {
      "cell_type": "markdown",
      "source": [
        "**21) Elabore um algoritmo que leia uma matriz 4 x 4 e escreva a matriz resultante após ter\n",
        "multiplicado os elementos da diagonal principal por uma constante k.**"
      ],
      "metadata": {
        "id": "659LnILF9MKF"
      }
    },
    {
      "cell_type": "code",
      "source": [
        "linhas=4\n",
        "colunas=4\n",
        "k=random.randint(2,9)\n",
        "matriz=[]\n",
        "matr=[]\n",
        "for i in range(linhas):\n",
        "  linha=[]\n",
        "  lin=[]\n",
        "  for j in range(colunas):\n",
        "    valor=random.randint(1,9)\n",
        "    val=valor\n",
        "    if j==i:\n",
        "      valor=valor*k\n",
        "    lin.append(val)\n",
        "    linha.append(valor)\n",
        "  matr.append(lin)\n",
        "  matriz.append(linha)\n",
        "print(f'\\nContanste K: {k}')\n",
        "print(\"\\nMATRIZ\")\n",
        "print(\"\\n\" +'\\n'.join(map(str, matr)))\n",
        "print(\"\\nMATRIZ RESULTANTE\")\n",
        "print(\"\\n\" +'\\n'.join(map(str, matriz)))\n"
      ],
      "metadata": {
        "colab": {
          "base_uri": "https://localhost:8080/"
        },
        "id": "C0s4Hn3X7Vun",
        "outputId": "a2d43393-5bd7-4936-8e7f-b5ec21de6b61"
      },
      "execution_count": null,
      "outputs": [
        {
          "output_type": "stream",
          "name": "stdout",
          "text": [
            "\n",
            "Contanste K: 8\n",
            "\n",
            "MATRIZ\n",
            "\n",
            "[7, 1, 8, 7]\n",
            "[8, 3, 3, 4]\n",
            "[6, 3, 9, 5]\n",
            "[2, 4, 3, 3]\n",
            "\n",
            "MATRIZ RESULTANTE\n",
            "\n",
            "[56, 1, 8, 7]\n",
            "[8, 24, 3, 4]\n",
            "[6, 3, 72, 5]\n",
            "[2, 4, 3, 24]\n"
          ]
        }
      ]
    },
    {
      "cell_type": "markdown",
      "source": [
        "**22) Escreva um algoritmo que:\n",
        "a) leia uma matriz quadrada 20 x 20 de elementos reais;\n",
        "b) divida cada elemento de uma linha da matriz pelo elemento da diagonal principal dessa linha;\n",
        "c) imprima a matriz assim modificada**"
      ],
      "metadata": {
        "id": "795hwdd31UJe"
      }
    },
    {
      "cell_type": "code",
      "source": [
        "linhas=20\n",
        "colunas=20\n",
        "matriz=[]\n",
        "matriz2=[]\n",
        "for i in range(linhas):\n",
        "  linha=[]\n",
        "  linha2=[]\n",
        "  valor2=[]\n",
        "  for j in range(colunas):\n",
        "    valor=random.randint(1,9)\n",
        "    linha.append(valor)\n",
        "    valor2.append(valor)\n",
        "  matriz.append(linha)\n",
        "  for k in range(len(valor2)):\n",
        "    linha2.append(valor2[k]//linha[i]) # Usei divisão inteira pois o resultado estava sendo muito grande com muitos algarismos decimais\n",
        "  matriz2.append(linha2)\n",
        "print(\"MATRIZ ORIGINAL\\n\")\n",
        "print('\\n'.join(map(str,matriz)))\n",
        "print('\\nMATRIZ MODIFICADA')\n",
        "print('\\n'+'\\n'.join(map(str, matriz2)))"
      ],
      "metadata": {
        "colab": {
          "base_uri": "https://localhost:8080/"
        },
        "id": "ZQNWoDzX1WuX",
        "outputId": "898b5d5c-1514-43cb-b484-4671ff725cdc"
      },
      "execution_count": 37,
      "outputs": [
        {
          "output_type": "stream",
          "name": "stdout",
          "text": [
            "MATRIZ ORIGINAL\n",
            "\n",
            "[9, 7, 1, 6, 8, 8, 9, 7, 9, 2, 6, 3, 2, 2, 4, 5, 5, 5, 2, 4]\n",
            "[4, 2, 8, 8, 6, 5, 4, 3, 6, 3, 5, 1, 7, 9, 8, 8, 5, 1, 5, 2]\n",
            "[9, 5, 1, 7, 6, 2, 6, 7, 7, 6, 1, 3, 8, 8, 7, 8, 3, 6, 8, 5]\n",
            "[1, 2, 5, 7, 2, 2, 2, 6, 4, 5, 2, 3, 3, 2, 9, 8, 8, 8, 6, 6]\n",
            "[1, 6, 9, 1, 4, 1, 7, 8, 6, 5, 6, 3, 8, 4, 8, 7, 9, 7, 7, 1]\n",
            "[7, 3, 6, 7, 9, 6, 8, 9, 1, 7, 9, 7, 9, 5, 6, 8, 7, 5, 4, 6]\n",
            "[4, 2, 6, 9, 2, 1, 8, 3, 5, 9, 9, 5, 4, 4, 5, 1, 3, 6, 5, 7]\n",
            "[4, 7, 7, 4, 7, 4, 1, 3, 6, 3, 1, 2, 8, 5, 5, 6, 3, 5, 3, 3]\n",
            "[2, 8, 1, 9, 6, 9, 9, 1, 4, 3, 5, 3, 2, 5, 1, 4, 6, 3, 5, 8]\n",
            "[2, 7, 3, 9, 7, 1, 9, 3, 3, 5, 4, 8, 8, 1, 1, 3, 6, 3, 5, 4]\n",
            "[8, 8, 3, 7, 5, 1, 4, 8, 6, 2, 8, 8, 3, 2, 9, 5, 9, 5, 9, 9]\n",
            "[2, 9, 2, 5, 8, 4, 3, 1, 2, 8, 3, 6, 8, 7, 8, 5, 7, 3, 3, 1]\n",
            "[8, 9, 3, 1, 5, 1, 4, 6, 3, 3, 6, 2, 2, 2, 4, 1, 5, 7, 6, 8]\n",
            "[6, 2, 6, 1, 3, 3, 3, 8, 5, 4, 3, 7, 1, 6, 1, 9, 8, 5, 8, 2]\n",
            "[6, 1, 1, 4, 1, 4, 5, 8, 3, 5, 1, 8, 3, 2, 9, 5, 7, 9, 5, 5]\n",
            "[8, 2, 9, 6, 3, 7, 7, 2, 1, 3, 9, 5, 1, 8, 6, 7, 8, 2, 5, 9]\n",
            "[9, 8, 4, 8, 1, 3, 2, 8, 1, 2, 2, 2, 9, 9, 3, 5, 4, 8, 7, 5]\n",
            "[5, 9, 9, 5, 3, 8, 8, 9, 1, 9, 7, 2, 7, 3, 4, 9, 7, 1, 4, 4]\n",
            "[7, 2, 1, 7, 7, 2, 9, 5, 1, 5, 7, 1, 5, 2, 1, 7, 6, 3, 6, 4]\n",
            "[8, 3, 7, 6, 9, 3, 8, 9, 1, 4, 6, 3, 2, 7, 8, 6, 6, 1, 5, 3]\n",
            "\n",
            "MATRIZ MODIFICADA\n",
            "\n",
            "[1, 0, 0, 0, 0, 0, 1, 0, 1, 0, 0, 0, 0, 0, 0, 0, 0, 0, 0, 0]\n",
            "[2, 1, 4, 4, 3, 2, 2, 1, 3, 1, 2, 0, 3, 4, 4, 4, 2, 0, 2, 1]\n",
            "[9, 5, 1, 7, 6, 2, 6, 7, 7, 6, 1, 3, 8, 8, 7, 8, 3, 6, 8, 5]\n",
            "[0, 0, 0, 1, 0, 0, 0, 0, 0, 0, 0, 0, 0, 0, 1, 1, 1, 1, 0, 0]\n",
            "[0, 1, 2, 0, 1, 0, 1, 2, 1, 1, 1, 0, 2, 1, 2, 1, 2, 1, 1, 0]\n",
            "[1, 0, 1, 1, 1, 1, 1, 1, 0, 1, 1, 1, 1, 0, 1, 1, 1, 0, 0, 1]\n",
            "[0, 0, 0, 1, 0, 0, 1, 0, 0, 1, 1, 0, 0, 0, 0, 0, 0, 0, 0, 0]\n",
            "[1, 2, 2, 1, 2, 1, 0, 1, 2, 1, 0, 0, 2, 1, 1, 2, 1, 1, 1, 1]\n",
            "[0, 2, 0, 2, 1, 2, 2, 0, 1, 0, 1, 0, 0, 1, 0, 1, 1, 0, 1, 2]\n",
            "[0, 1, 0, 1, 1, 0, 1, 0, 0, 1, 0, 1, 1, 0, 0, 0, 1, 0, 1, 0]\n",
            "[1, 1, 0, 0, 0, 0, 0, 1, 0, 0, 1, 1, 0, 0, 1, 0, 1, 0, 1, 1]\n",
            "[0, 1, 0, 0, 1, 0, 0, 0, 0, 1, 0, 1, 1, 1, 1, 0, 1, 0, 0, 0]\n",
            "[4, 4, 1, 0, 2, 0, 2, 3, 1, 1, 3, 1, 1, 1, 2, 0, 2, 3, 3, 4]\n",
            "[1, 0, 1, 0, 0, 0, 0, 1, 0, 0, 0, 1, 0, 1, 0, 1, 1, 0, 1, 0]\n",
            "[0, 0, 0, 0, 0, 0, 0, 0, 0, 0, 0, 0, 0, 0, 1, 0, 0, 1, 0, 0]\n",
            "[1, 0, 1, 0, 0, 1, 1, 0, 0, 0, 1, 0, 0, 1, 0, 1, 1, 0, 0, 1]\n",
            "[2, 2, 1, 2, 0, 0, 0, 2, 0, 0, 0, 0, 2, 2, 0, 1, 1, 2, 1, 1]\n",
            "[5, 9, 9, 5, 3, 8, 8, 9, 1, 9, 7, 2, 7, 3, 4, 9, 7, 1, 4, 4]\n",
            "[1, 0, 0, 1, 1, 0, 1, 0, 0, 0, 1, 0, 0, 0, 0, 1, 1, 0, 1, 0]\n",
            "[2, 1, 2, 2, 3, 1, 2, 3, 0, 1, 2, 1, 0, 2, 2, 2, 2, 0, 1, 1]\n"
          ]
        }
      ]
    },
    {
      "cell_type": "markdown",
      "source": [
        "**23) Faça um algoritmo que:\n",
        "a) leia uma matriz 10 x 10 de elementos inteiros;\n",
        "b) imprima essa matriz;\n",
        "c) calcule e imprima a soma dos elementos situados abaixo da diagonal principal da matriz,\n",
        "incluindo os elementos da própria diagonal principal.**"
      ],
      "metadata": {
        "id": "xGHEUbnoSBFn"
      }
    },
    {
      "cell_type": "code",
      "source": [
        "linhas=10\n",
        "colunas=10\n",
        "matriz=[]\n",
        "num=[]\n",
        "for i in range(linhas):\n",
        "  linha=[]\n",
        "  for j in range(colunas):\n",
        "    valor=random.randint(1,9)\n",
        "    linha.append(valor)\n",
        "    if j==i:\n",
        "      num.append(valor)\n",
        "    if (i-1)==j:\n",
        "      num.append(valor)\n",
        "  matriz.append(linha)\n",
        "print(\"MATRIZ\")\n",
        "print('\\n'+'\\n' .join(map(str, matriz)))\n",
        "print(f\"\\nA SOMA DOS ELEMENTOS SITUADOS ABAIXO DA DIAGONAL PRINCIPAL, INCILUINDO OS ELEMENTOS DA DIAGONAL PRINCIPAL: {sum(num)}\")\n"
      ],
      "metadata": {
        "colab": {
          "base_uri": "https://localhost:8080/"
        },
        "id": "i6kLIrsZ3RXM",
        "outputId": "432891f2-5f10-4fa5-a3a8-c620f1c5b587"
      },
      "execution_count": 48,
      "outputs": [
        {
          "output_type": "stream",
          "name": "stdout",
          "text": [
            "MATRIZ\n",
            "\n",
            "[6, 8, 4, 5, 7, 1, 9, 2, 8, 3]\n",
            "[9, 6, 5, 7, 9, 3, 4, 2, 9, 9]\n",
            "[5, 4, 1, 8, 5, 1, 2, 7, 9, 1]\n",
            "[1, 6, 3, 8, 2, 2, 1, 1, 9, 9]\n",
            "[7, 5, 1, 2, 9, 7, 1, 8, 1, 4]\n",
            "[3, 7, 5, 3, 6, 2, 8, 9, 2, 1]\n",
            "[7, 9, 4, 4, 1, 2, 9, 5, 6, 6]\n",
            "[8, 5, 2, 3, 2, 1, 7, 3, 9, 3]\n",
            "[8, 7, 5, 4, 4, 9, 7, 6, 5, 5]\n",
            "[8, 3, 9, 7, 9, 9, 3, 1, 5, 7]\n",
            "\n",
            "A SOMA DOS ELEMENTOS SITUADOS ABAIXO DA DIAGONAL PRINCIPAL, INCILUINDO OS ELEMENTOS DA DIAGONAL PRINCIPAL: 100\n"
          ]
        }
      ]
    }
  ]
}