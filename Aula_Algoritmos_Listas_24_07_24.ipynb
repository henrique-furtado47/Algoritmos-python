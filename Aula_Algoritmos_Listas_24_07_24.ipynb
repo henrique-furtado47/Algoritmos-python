{
  "nbformat": 4,
  "nbformat_minor": 0,
  "metadata": {
    "colab": {
      "provenance": [],
      "authorship_tag": "ABX9TyPmKFlv8m2XyBi0QMy+fYst",
      "include_colab_link": true
    },
    "kernelspec": {
      "name": "python3",
      "display_name": "Python 3"
    },
    "language_info": {
      "name": "python"
    }
  },
  "cells": [
    {
      "cell_type": "markdown",
      "metadata": {
        "id": "view-in-github",
        "colab_type": "text"
      },
      "source": [
        "<a href=\"https://colab.research.google.com/github/henrique-furtado47/Algoritmos-python/blob/main/Aula_Algoritmos_Listas_24_07_24.ipynb\" target=\"_parent\"><img src=\"https://colab.research.google.com/assets/colab-badge.svg\" alt=\"Open In Colab\"/></a>"
      ]
    },
    {
      "cell_type": "markdown",
      "source": [
        "**1) Inicializar um vetor de inteiros com números de 0 a 99.**"
      ],
      "metadata": {
        "id": "vGrjQTr1vymq"
      }
    },
    {
      "cell_type": "code",
      "source": [
        "lista=list(range(100))\n",
        "print(lista)"
      ],
      "metadata": {
        "colab": {
          "base_uri": "https://localhost:8080/"
        },
        "id": "ul1nvZ4kv4eu",
        "outputId": "85f0a7a1-79ca-4619-f5ce-8d47b2abf726"
      },
      "execution_count": null,
      "outputs": [
        {
          "output_type": "stream",
          "name": "stdout",
          "text": [
            "[0, 1, 2, 3, 4, 5, 6, 7, 8, 9, 10, 11, 12, 13, 14, 15, 16, 17, 18, 19, 20, 21, 22, 23, 24, 25, 26, 27, 28, 29, 30, 31, 32, 33, 34, 35, 36, 37, 38, 39, 40, 41, 42, 43, 44, 45, 46, 47, 48, 49, 50, 51, 52, 53, 54, 55, 56, 57, 58, 59, 60, 61, 62, 63, 64, 65, 66, 67, 68, 69, 70, 71, 72, 73, 74, 75, 76, 77, 78, 79, 80, 81, 82, 83, 84, 85, 86, 87, 88, 89, 90, 91, 92, 93, 94, 95, 96, 97, 98, 99]\n"
          ]
        }
      ]
    },
    {
      "cell_type": "markdown",
      "source": [
        "**2) Escreva um algoritmo que leia um conjunto de 10 notas, armazene-as em uma variável\n",
        "composta chamada NOTA e calcule e imprima a sua média.**"
      ],
      "metadata": {
        "id": "ZExme9Sowd_x"
      }
    },
    {
      "cell_type": "code",
      "source": [
        "nota=[]\n",
        "soma=0\n",
        "for i in range(10):\n",
        "  num=float(input(f\"Digite a {i+1}º nota: \"))\n",
        "  nota.append(num)\n",
        "  soma=soma+num\n",
        "print(nota)\n",
        "print(f\"\\nA média das notas é {soma/10}\")"
      ],
      "metadata": {
        "colab": {
          "base_uri": "https://localhost:8080/"
        },
        "id": "BpEXoZZnwPZR",
        "outputId": "6c9dc665-2db5-436c-bf48-f6389585131a"
      },
      "execution_count": null,
      "outputs": [
        {
          "output_type": "stream",
          "name": "stdout",
          "text": [
            "Digite a 1º nota: 1\n",
            "Digite a 2º nota: 2\n",
            "Digite a 3º nota: 3\n",
            "Digite a 4º nota: 4\n",
            "Digite a 5º nota: 5\n",
            "Digite a 6º nota: 6\n",
            "Digite a 7º nota: 7\n",
            "Digite a 8º nota: 8\n",
            "Digite a 9º nota: 9\n",
            "Digite a 10º nota: 10\n",
            "[1.0, 2.0, 3.0, 4.0, 5.0, 6.0, 7.0, 8.0, 9.0, 10.0]\n",
            "\n",
            "A média das notas é 5.5\n"
          ]
        }
      ]
    },
    {
      "cell_type": "markdown",
      "source": [
        "**3) Repita o algoritmo acima, porém imprima quantos valores estão acima da média.**"
      ],
      "metadata": {
        "id": "SSpEZ3Jpxcc8"
      }
    },
    {
      "cell_type": "code",
      "source": [
        "nota=[]\n",
        "acima=[]\n",
        "soma=0\n",
        "for i in range(10):\n",
        "  num=float(input(f\"Digite a {i+1}º nota: \"))\n",
        "  if num>=6:\n",
        "    acima.append(num)\n",
        "  nota.append(num)\n",
        "  soma=soma+num\n",
        "print(f\"\\nA média das notas é {soma/10}\")\n",
        "print(f\"{len(acima)} notas estão acima da média\")"
      ],
      "metadata": {
        "colab": {
          "base_uri": "https://localhost:8080/"
        },
        "id": "RKCpCvM4xJ8U",
        "outputId": "0850c5d3-2199-467f-9b65-e9f8baf08729"
      },
      "execution_count": null,
      "outputs": [
        {
          "output_type": "stream",
          "name": "stdout",
          "text": [
            "Digite a 1º nota: 1\n",
            "Digite a 2º nota: 2\n",
            "Digite a 3º nota: 3\n",
            "Digite a 4º nota: 4\n",
            "Digite a 5º nota: 5\n",
            "Digite a 6º nota: 6\n",
            "Digite a 7º nota: 7\n",
            "Digite a 8º nota: 8\n",
            "Digite a 9º nota: 9\n",
            "Digite a 10º nota: 10\n",
            "\n",
            "A média das notas é 5.5\n",
            "5 notas estão acima da média\n"
          ]
        }
      ]
    },
    {
      "cell_type": "markdown",
      "source": [
        "**4) Faça um algoritmo que leia um vetor que contém as notas de 30 alunos. Imprima o maior\n",
        "valor, o menor valor, a média da turma e a quantidade de notas abaixo da média.**"
      ],
      "metadata": {
        "id": "7D8dvbbKyiCZ"
      }
    },
    {
      "cell_type": "code",
      "source": [
        "nota=[]\n",
        "abaixo=[]\n",
        "soma=0\n",
        "for i in range(10):\n",
        "  num=float(input(f\"Digite a {i+1}º nota: \"))\n",
        "  if num<6:\n",
        "    abaixo.append(num)\n",
        "  nota.append(num)\n",
        "  soma=soma+num\n",
        "print(f\"\\nA média das notas é {soma/10}\")\n",
        "print(f\"A maior nota foi {max(nota)}\")\n",
        "print(f\"A menor nota foi {min(nota)}\")\n",
        "print(f\"{len(abaixo)} notas estão abaixo da média\")"
      ],
      "metadata": {
        "colab": {
          "base_uri": "https://localhost:8080/"
        },
        "id": "AUj-RFhFxucn",
        "outputId": "cd4e3615-3f98-43eb-95df-8e4e75606010"
      },
      "execution_count": null,
      "outputs": [
        {
          "output_type": "stream",
          "name": "stdout",
          "text": [
            "Digite a 1º nota: 1\n",
            "Digite a 2º nota: 2\n",
            "Digite a 3º nota: 3\n",
            "Digite a 4º nota: 4\n",
            "Digite a 5º nota: 5\n",
            "Digite a 6º nota: 6\n",
            "Digite a 7º nota: 7\n",
            "Digite a 8º nota: 8\n",
            "Digite a 9º nota: 9\n",
            "Digite a 10º nota: 10\n",
            "\n",
            "A média das notas é 5.5\n",
            "A maior nota foi 10.0\n",
            "A menor nota foi 1.0\n",
            "5 notas estão abaixo da média\n"
          ]
        }
      ]
    },
    {
      "cell_type": "markdown",
      "source": [
        "**5) Ler um vetor de 100 elementos numéricos e verificar se existem elementos iguais a 30. Se\n",
        "existirem, escrever as posições em que estão armazenados.**"
      ],
      "metadata": {
        "id": "PZQLppO1z4DK"
      }
    },
    {
      "cell_type": "code",
      "source": [
        "vetor=[]\n",
        "indice=[]\n",
        "for i in vetor:\n",
        "  num=int(input(f\"Digite o {i+1}º número: \"))\n",
        "  vetor.append(num)\n",
        "  if vetor[i]==30:\n",
        "    indice.append(i)\n",
        "if len(indice)>1:\n",
        "  print(f\"Os elementos iguais a 30 estão nas posições: {indice}\")\n",
        "elif len(indice)==1:\n",
        "  print(f\"O elemento igual a 30 está na posição: {indice}\")\n",
        "else:\n",
        "  print(f\"Não existe nenhum elemento igual a 30\")"
      ],
      "metadata": {
        "id": "BChTtYv5zKwc",
        "colab": {
          "base_uri": "https://localhost:8080/"
        },
        "outputId": "d45b4953-80e7-4f9c-cdf4-1133ca265592"
      },
      "execution_count": 31,
      "outputs": [
        {
          "output_type": "stream",
          "name": "stdout",
          "text": [
            "Digite o 1º número: 0\n",
            "Digite o 2º número: 1\n",
            "Digite o 3º número: 2\n",
            "Digite o 4º número: 3\n",
            "Digite o 5º número: 4\n",
            "Digite o 6º número: 5\n",
            "Digite o 7º número: 6\n",
            "Digite o 8º número: 7\n",
            "Digite o 9º número: 8\n",
            "Digite o 10º número: 9\n",
            "Digite o 11º número: 10\n",
            "Digite o 12º número: 11\n",
            "Digite o 13º número: 12\n",
            "Digite o 14º número: 13\n",
            "Digite o 15º número: 14\n",
            "Digite o 16º número: 15\n",
            "Digite o 17º número: 16\n",
            "Digite o 18º número: 17\n",
            "Digite o 19º número: 18\n",
            "Digite o 20º número: 19\n",
            "Digite o 21º número: 20\n",
            "Digite o 22º número: 21\n",
            "Digite o 23º número: 22\n",
            "Digite o 24º número: 23\n",
            "Digite o 25º número: 24\n",
            "Digite o 26º número: 25\n",
            "Digite o 27º número: 26\n",
            "Digite o 28º número: 27\n",
            "Digite o 29º número: 28\n",
            "Digite o 30º número: 29\n",
            "Digite o 31º número: 30\n",
            "Digite o 32º número: 31\n",
            "Digite o 33º número: 32\n",
            "Digite o 34º número: 33\n",
            "Digite o 35º número: 34\n",
            "Digite o 36º número: 35\n",
            "Digite o 37º número: 36\n",
            "Digite o 38º número: 37\n",
            "Digite o 39º número: 38\n",
            "Digite o 40º número: 39\n",
            "Digite o 41º número: 40\n",
            "Digite o 42º número: 41\n",
            "Digite o 43º número: 42\n",
            "Digite o 44º número: 43\n",
            "Digite o 45º número: 44\n",
            "Digite o 46º número: 45\n",
            "Digite o 47º número: 46\n",
            "Digite o 48º número: 47\n",
            "Digite o 49º número: 48\n",
            "Digite o 50º número: 49\n",
            "Digite o 51º número: 50\n",
            "Digite o 52º número: 51\n",
            "Digite o 53º número: 52\n",
            "Digite o 54º número: 53\n",
            "Digite o 55º número: 54\n",
            "Digite o 56º número: 55\n",
            "Digite o 57º número: 56\n",
            "Digite o 58º número: 57\n",
            "Digite o 59º número: 58\n",
            "Digite o 60º número: 59\n",
            "Digite o 61º número: 60\n",
            "Digite o 62º número: 61\n",
            "Digite o 63º número: 62\n",
            "Digite o 64º número: 63\n",
            "Digite o 65º número: 64\n",
            "Digite o 66º número: 65\n",
            "Digite o 67º número: 66\n",
            "Digite o 68º número: 67\n",
            "Digite o 69º número: 68\n",
            "Digite o 70º número: 69\n",
            "Digite o 71º número: 70\n",
            "Digite o 72º número: 71\n",
            "Digite o 73º número: 72\n",
            "Digite o 74º número: 73\n",
            "Digite o 75º número: 74\n",
            "Digite o 76º número: 75\n",
            "Digite o 77º número: 76\n",
            "Digite o 78º número: 77\n",
            "Digite o 79º número: 78\n",
            "Digite o 80º número: 79\n",
            "Digite o 81º número: 80\n",
            "Digite o 82º número: 81\n",
            "Digite o 83º número: 82\n",
            "Digite o 84º número: 83\n",
            "Digite o 85º número: 84\n",
            "Digite o 86º número: 85\n",
            "Digite o 87º número: 86\n",
            "Digite o 88º número: 87\n",
            "Digite o 89º número: 88\n",
            "Digite o 90º número: 89\n",
            "Digite o 91º número: 90\n",
            "Digite o 92º número: 91\n",
            "Digite o 93º número: 92\n",
            "Digite o 94º número: 93\n",
            "Digite o 95º número: 94\n",
            "Digite o 96º número: 95\n",
            "Digite o 97º número: 96\n",
            "Digite o 98º número: 97\n",
            "Digite o 99º número: 98\n",
            "Digite o 100º número: 99\n",
            "O elemento igual a 30 está na posição: [30]\n"
          ]
        }
      ]
    },
    {
      "cell_type": "code",
      "source": [],
      "metadata": {
        "id": "4U9-O_A000vz"
      },
      "execution_count": null,
      "outputs": []
    }
  ]
}