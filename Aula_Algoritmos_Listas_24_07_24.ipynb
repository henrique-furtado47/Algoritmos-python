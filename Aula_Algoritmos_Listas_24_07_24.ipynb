{
  "nbformat": 4,
  "nbformat_minor": 0,
  "metadata": {
    "colab": {
      "provenance": [],
      "authorship_tag": "ABX9TyMquyIdpMLE3ByEPhkuF2k+",
      "include_colab_link": true
    },
    "kernelspec": {
      "name": "python3",
      "display_name": "Python 3"
    },
    "language_info": {
      "name": "python"
    }
  },
  "cells": [
    {
      "cell_type": "markdown",
      "metadata": {
        "id": "view-in-github",
        "colab_type": "text"
      },
      "source": [
        "<a href=\"https://colab.research.google.com/github/henrique-furtado47/Algoritmos-python/blob/main/Aula_Algoritmos_Listas_24_07_24.ipynb\" target=\"_parent\"><img src=\"https://colab.research.google.com/assets/colab-badge.svg\" alt=\"Open In Colab\"/></a>"
      ]
    },
    {
      "cell_type": "markdown",
      "source": [
        "**1) Inicializar um vetor de inteiros com números de 0 a 99.**"
      ],
      "metadata": {
        "id": "vGrjQTr1vymq"
      }
    },
    {
      "cell_type": "code",
      "source": [
        "lista=list(range(100))\n",
        "print(lista)"
      ],
      "metadata": {
        "colab": {
          "base_uri": "https://localhost:8080/"
        },
        "id": "ul1nvZ4kv4eu",
        "outputId": "85f0a7a1-79ca-4619-f5ce-8d47b2abf726"
      },
      "execution_count": null,
      "outputs": [
        {
          "output_type": "stream",
          "name": "stdout",
          "text": [
            "[0, 1, 2, 3, 4, 5, 6, 7, 8, 9, 10, 11, 12, 13, 14, 15, 16, 17, 18, 19, 20, 21, 22, 23, 24, 25, 26, 27, 28, 29, 30, 31, 32, 33, 34, 35, 36, 37, 38, 39, 40, 41, 42, 43, 44, 45, 46, 47, 48, 49, 50, 51, 52, 53, 54, 55, 56, 57, 58, 59, 60, 61, 62, 63, 64, 65, 66, 67, 68, 69, 70, 71, 72, 73, 74, 75, 76, 77, 78, 79, 80, 81, 82, 83, 84, 85, 86, 87, 88, 89, 90, 91, 92, 93, 94, 95, 96, 97, 98, 99]\n"
          ]
        }
      ]
    },
    {
      "cell_type": "markdown",
      "source": [
        "**2) Escreva um algoritmo que leia um conjunto de 10 notas, armazene-as em uma variável\n",
        "composta chamada NOTA e calcule e imprima a sua média.**"
      ],
      "metadata": {
        "id": "ZExme9Sowd_x"
      }
    },
    {
      "cell_type": "code",
      "source": [
        "nota=[]\n",
        "soma=0\n",
        "for i in range(10):\n",
        "  num=float(input(f\"Digite a {i+1}º nota: \"))\n",
        "  nota.append(num)\n",
        "  soma=soma+num\n",
        "print(nota)\n",
        "print(f\"\\nA média das notas é {soma/10}\")"
      ],
      "metadata": {
        "colab": {
          "base_uri": "https://localhost:8080/"
        },
        "id": "BpEXoZZnwPZR",
        "outputId": "6c9dc665-2db5-436c-bf48-f6389585131a"
      },
      "execution_count": null,
      "outputs": [
        {
          "output_type": "stream",
          "name": "stdout",
          "text": [
            "Digite a 1º nota: 1\n",
            "Digite a 2º nota: 2\n",
            "Digite a 3º nota: 3\n",
            "Digite a 4º nota: 4\n",
            "Digite a 5º nota: 5\n",
            "Digite a 6º nota: 6\n",
            "Digite a 7º nota: 7\n",
            "Digite a 8º nota: 8\n",
            "Digite a 9º nota: 9\n",
            "Digite a 10º nota: 10\n",
            "[1.0, 2.0, 3.0, 4.0, 5.0, 6.0, 7.0, 8.0, 9.0, 10.0]\n",
            "\n",
            "A média das notas é 5.5\n"
          ]
        }
      ]
    },
    {
      "cell_type": "markdown",
      "source": [
        "**3) Repita o algoritmo acima, porém imprima quantos valores estão acima da média.**"
      ],
      "metadata": {
        "id": "SSpEZ3Jpxcc8"
      }
    },
    {
      "cell_type": "code",
      "source": [
        "nota=[]\n",
        "acima=[]\n",
        "soma=0\n",
        "for i in range(10):\n",
        "  num=float(input(f\"Digite a {i+1}º nota: \"))\n",
        "  if num>=6:\n",
        "    acima.append(num)\n",
        "  nota.append(num)\n",
        "  soma=soma+num\n",
        "print(f\"\\nA média das notas é {soma/10}\")\n",
        "print(f\"{len(acima)} notas estão acima da média\")"
      ],
      "metadata": {
        "colab": {
          "base_uri": "https://localhost:8080/"
        },
        "id": "RKCpCvM4xJ8U",
        "outputId": "0850c5d3-2199-467f-9b65-e9f8baf08729"
      },
      "execution_count": null,
      "outputs": [
        {
          "output_type": "stream",
          "name": "stdout",
          "text": [
            "Digite a 1º nota: 1\n",
            "Digite a 2º nota: 2\n",
            "Digite a 3º nota: 3\n",
            "Digite a 4º nota: 4\n",
            "Digite a 5º nota: 5\n",
            "Digite a 6º nota: 6\n",
            "Digite a 7º nota: 7\n",
            "Digite a 8º nota: 8\n",
            "Digite a 9º nota: 9\n",
            "Digite a 10º nota: 10\n",
            "\n",
            "A média das notas é 5.5\n",
            "5 notas estão acima da média\n"
          ]
        }
      ]
    },
    {
      "cell_type": "markdown",
      "source": [
        "**4) Faça um algoritmo que leia um vetor que contém as notas de 30 alunos. Imprima o maior\n",
        "valor, o menor valor, a média da turma e a quantidade de notas abaixo da média.**"
      ],
      "metadata": {
        "id": "7D8dvbbKyiCZ"
      }
    },
    {
      "cell_type": "code",
      "source": [
        "nota=[]\n",
        "abaixo=[]\n",
        "soma=0\n",
        "for i in range(10):\n",
        "  num=float(input(f\"Digite a {i+1}º nota: \"))\n",
        "  if num<6:\n",
        "    abaixo.append(num)\n",
        "  nota.append(num)\n",
        "  soma=soma+num\n",
        "print(f\"\\nA média das notas é {soma/10}\")\n",
        "print(f\"A maior nota foi {max(nota)}\")\n",
        "print(f\"A menor nota foi {min(nota)}\")\n",
        "print(f\"{len(abaixo)} notas estão abaixo da média\")"
      ],
      "metadata": {
        "colab": {
          "base_uri": "https://localhost:8080/"
        },
        "id": "AUj-RFhFxucn",
        "outputId": "cd4e3615-3f98-43eb-95df-8e4e75606010"
      },
      "execution_count": null,
      "outputs": [
        {
          "output_type": "stream",
          "name": "stdout",
          "text": [
            "Digite a 1º nota: 1\n",
            "Digite a 2º nota: 2\n",
            "Digite a 3º nota: 3\n",
            "Digite a 4º nota: 4\n",
            "Digite a 5º nota: 5\n",
            "Digite a 6º nota: 6\n",
            "Digite a 7º nota: 7\n",
            "Digite a 8º nota: 8\n",
            "Digite a 9º nota: 9\n",
            "Digite a 10º nota: 10\n",
            "\n",
            "A média das notas é 5.5\n",
            "A maior nota foi 10.0\n",
            "A menor nota foi 1.0\n",
            "5 notas estão abaixo da média\n"
          ]
        }
      ]
    },
    {
      "cell_type": "markdown",
      "source": [
        "**5) Ler um vetor de 100 elementos numéricos e verificar se existem elementos iguais a 30. Se\n",
        "existirem, escrever as posições em que estão armazenados.**"
      ],
      "metadata": {
        "id": "PZQLppO1z4DK"
      }
    },
    {
      "cell_type": "code",
      "source": [
        "vetor=[]\n",
        "indice=[]\n",
        "for i in range(100):\n",
        "  num=int(input(f\"Digite o {i+1}º número: \"))\n",
        "  vetor.append(num)\n",
        "  if vetor[i]==30:\n",
        "    indice.append(i)\n",
        "if len(indice)>1:\n",
        "  print(f\"Os elementos iguais a 30 estão nas posições: {indice}\")\n",
        "elif len(indice)==1:\n",
        "  print(f\"O elemento igual a 30 está na posição: {indice}\")\n",
        "else:\n",
        "  print(f\"Não existe nenhum elemento igual a 30\")"
      ],
      "metadata": {
        "id": "BChTtYv5zKwc",
        "colab": {
          "base_uri": "https://localhost:8080/"
        },
        "outputId": "d45b4953-80e7-4f9c-cdf4-1133ca265592"
      },
      "execution_count": null,
      "outputs": [
        {
          "output_type": "stream",
          "name": "stdout",
          "text": [
            "Digite o 1º número: 0\n",
            "Digite o 2º número: 1\n",
            "Digite o 3º número: 2\n",
            "Digite o 4º número: 3\n",
            "Digite o 5º número: 4\n",
            "Digite o 6º número: 5\n",
            "Digite o 7º número: 6\n",
            "Digite o 8º número: 7\n",
            "Digite o 9º número: 8\n",
            "Digite o 10º número: 9\n",
            "Digite o 11º número: 10\n",
            "Digite o 12º número: 11\n",
            "Digite o 13º número: 12\n",
            "Digite o 14º número: 13\n",
            "Digite o 15º número: 14\n",
            "Digite o 16º número: 15\n",
            "Digite o 17º número: 16\n",
            "Digite o 18º número: 17\n",
            "Digite o 19º número: 18\n",
            "Digite o 20º número: 19\n",
            "Digite o 21º número: 20\n",
            "Digite o 22º número: 21\n",
            "Digite o 23º número: 22\n",
            "Digite o 24º número: 23\n",
            "Digite o 25º número: 24\n",
            "Digite o 26º número: 25\n",
            "Digite o 27º número: 26\n",
            "Digite o 28º número: 27\n",
            "Digite o 29º número: 28\n",
            "Digite o 30º número: 29\n",
            "Digite o 31º número: 30\n",
            "Digite o 32º número: 31\n",
            "Digite o 33º número: 32\n",
            "Digite o 34º número: 33\n",
            "Digite o 35º número: 34\n",
            "Digite o 36º número: 35\n",
            "Digite o 37º número: 36\n",
            "Digite o 38º número: 37\n",
            "Digite o 39º número: 38\n",
            "Digite o 40º número: 39\n",
            "Digite o 41º número: 40\n",
            "Digite o 42º número: 41\n",
            "Digite o 43º número: 42\n",
            "Digite o 44º número: 43\n",
            "Digite o 45º número: 44\n",
            "Digite o 46º número: 45\n",
            "Digite o 47º número: 46\n",
            "Digite o 48º número: 47\n",
            "Digite o 49º número: 48\n",
            "Digite o 50º número: 49\n",
            "Digite o 51º número: 50\n",
            "Digite o 52º número: 51\n",
            "Digite o 53º número: 52\n",
            "Digite o 54º número: 53\n",
            "Digite o 55º número: 54\n",
            "Digite o 56º número: 55\n",
            "Digite o 57º número: 56\n",
            "Digite o 58º número: 57\n",
            "Digite o 59º número: 58\n",
            "Digite o 60º número: 59\n",
            "Digite o 61º número: 60\n",
            "Digite o 62º número: 61\n",
            "Digite o 63º número: 62\n",
            "Digite o 64º número: 63\n",
            "Digite o 65º número: 64\n",
            "Digite o 66º número: 65\n",
            "Digite o 67º número: 66\n",
            "Digite o 68º número: 67\n",
            "Digite o 69º número: 68\n",
            "Digite o 70º número: 69\n",
            "Digite o 71º número: 70\n",
            "Digite o 72º número: 71\n",
            "Digite o 73º número: 72\n",
            "Digite o 74º número: 73\n",
            "Digite o 75º número: 74\n",
            "Digite o 76º número: 75\n",
            "Digite o 77º número: 76\n",
            "Digite o 78º número: 77\n",
            "Digite o 79º número: 78\n",
            "Digite o 80º número: 79\n",
            "Digite o 81º número: 80\n",
            "Digite o 82º número: 81\n",
            "Digite o 83º número: 82\n",
            "Digite o 84º número: 83\n",
            "Digite o 85º número: 84\n",
            "Digite o 86º número: 85\n",
            "Digite o 87º número: 86\n",
            "Digite o 88º número: 87\n",
            "Digite o 89º número: 88\n",
            "Digite o 90º número: 89\n",
            "Digite o 91º número: 90\n",
            "Digite o 92º número: 91\n",
            "Digite o 93º número: 92\n",
            "Digite o 94º número: 93\n",
            "Digite o 95º número: 94\n",
            "Digite o 96º número: 95\n",
            "Digite o 97º número: 96\n",
            "Digite o 98º número: 97\n",
            "Digite o 99º número: 98\n",
            "Digite o 100º número: 99\n",
            "O elemento igual a 30 está na posição: [30]\n"
          ]
        }
      ]
    },
    {
      "cell_type": "markdown",
      "source": [
        "**6) Fazer um algoritmo que calcule e escreva o somatório dos valores armazenados numa variável\n",
        "composta unidimensional (vetor) A, de 100 elementos numéricos a serem lidos do dispositivo\n",
        "de entrada.**"
      ],
      "metadata": {
        "id": "-zcQRqNn3cqF"
      }
    },
    {
      "cell_type": "code",
      "source": [
        "vetor=[]\n",
        "for i in range(100):\n",
        "  num=int(input(f\"Digite o {i+1}º valor: \"))\n",
        "  vetor.append(num)\n",
        "soma=sum(vetor)\n",
        "print(f\"A soma dos elementos lidos é igual a {soma}\")"
      ],
      "metadata": {
        "id": "4U9-O_A000vz",
        "colab": {
          "base_uri": "https://localhost:8080/"
        },
        "outputId": "f95c6cd4-be8b-4cfd-c5ab-3c95a22133f1"
      },
      "execution_count": null,
      "outputs": [
        {
          "output_type": "stream",
          "name": "stdout",
          "text": [
            "Digite o 1º valor: 0\n",
            "Digite o 2º valor: 1\n",
            "Digite o 3º valor: 2\n",
            "Digite o 4º valor: 3\n",
            "Digite o 5º valor: 4\n",
            "Digite o 6º valor: 5\n",
            "Digite o 7º valor: 6\n",
            "Digite o 8º valor: 7\n",
            "Digite o 9º valor: 8\n",
            "Digite o 10º valor: 9\n",
            "Digite o 11º valor: 10\n",
            "Digite o 12º valor: 11\n",
            "Digite o 13º valor: 12\n",
            "Digite o 14º valor: 13\n",
            "Digite o 15º valor: 14\n",
            "Digite o 16º valor: 15\n",
            "Digite o 17º valor: 16\n",
            "Digite o 18º valor: 17\n",
            "Digite o 19º valor: 18\n",
            "Digite o 20º valor: 19\n",
            "Digite o 21º valor: 20\n",
            "Digite o 22º valor: 21\n",
            "Digite o 23º valor: 22\n",
            "Digite o 24º valor: 23\n",
            "Digite o 25º valor: 24\n",
            "Digite o 26º valor: 25\n",
            "Digite o 27º valor: 26\n",
            "Digite o 28º valor: 27\n",
            "Digite o 29º valor: 28\n",
            "Digite o 30º valor: 29\n",
            "Digite o 31º valor: 30\n",
            "Digite o 32º valor: 31\n",
            "Digite o 33º valor: 32\n",
            "Digite o 34º valor: 33\n",
            "Digite o 35º valor: 34\n",
            "Digite o 36º valor: 35\n",
            "Digite o 37º valor: 36\n",
            "Digite o 38º valor: 37\n",
            "Digite o 39º valor: 38\n",
            "Digite o 40º valor: 39\n",
            "Digite o 41º valor: 40\n",
            "Digite o 42º valor: 41\n",
            "Digite o 43º valor: 42\n",
            "Digite o 44º valor: 43\n",
            "Digite o 45º valor: 44\n",
            "Digite o 46º valor: 45\n",
            "Digite o 47º valor: 46\n",
            "Digite o 48º valor: 47\n",
            "Digite o 49º valor: 48\n",
            "Digite o 50º valor: 49\n",
            "Digite o 51º valor: 50\n",
            "Digite o 52º valor: 51\n",
            "Digite o 53º valor: 52\n",
            "Digite o 54º valor: 53\n",
            "Digite o 55º valor: 54\n",
            "Digite o 56º valor: 55\n",
            "Digite o 57º valor: 56\n",
            "Digite o 58º valor: 57\n",
            "Digite o 59º valor: 58\n",
            "Digite o 60º valor: 59\n",
            "Digite o 61º valor: 60\n",
            "Digite o 62º valor: 61\n",
            "Digite o 63º valor: 62\n",
            "Digite o 64º valor: 63\n",
            "Digite o 65º valor: 64\n",
            "Digite o 66º valor: 65\n",
            "Digite o 67º valor: 66\n",
            "Digite o 68º valor: 67\n",
            "Digite o 69º valor: 68\n",
            "Digite o 70º valor: 69\n",
            "Digite o 71º valor: 70\n",
            "Digite o 72º valor: 71\n",
            "Digite o 73º valor: 72\n",
            "Digite o 74º valor: 73\n",
            "Digite o 75º valor: 74\n",
            "Digite o 76º valor: 75\n",
            "Digite o 77º valor: 76\n",
            "Digite o 78º valor: 77\n",
            "Digite o 79º valor: 78\n",
            "Digite o 80º valor: 79\n",
            "Digite o 81º valor: 80\n",
            "Digite o 82º valor: 81\n",
            "Digite o 83º valor: 82\n",
            "Digite o 84º valor: 83\n",
            "Digite o 85º valor: 84\n",
            "Digite o 86º valor: 85\n",
            "Digite o 87º valor: 86\n",
            "Digite o 88º valor: 87\n",
            "Digite o 89º valor: 88\n",
            "Digite o 90º valor: 89\n",
            "Digite o 91º valor: 90\n",
            "Digite o 92º valor: 91\n",
            "Digite o 93º valor: 92\n",
            "Digite o 94º valor: 93\n",
            "Digite o 95º valor: 94\n",
            "Digite o 96º valor: 95\n",
            "Digite o 97º valor: 96\n",
            "Digite o 98º valor: 97\n",
            "Digite o 99º valor: 98\n",
            "Digite o 100º valor: 99\n",
            "A soma dos elementos lidos é igual a 4950\n"
          ]
        }
      ]
    },
    {
      "cell_type": "markdown",
      "source": [
        "**7) Escreva um algoritmo que leia um vetor de 200 valores numéricos reais e os imprima na\n",
        "ordem contrária em que foi lida.**"
      ],
      "metadata": {
        "id": "ovPOmx1q5KLj"
      }
    },
    {
      "cell_type": "code",
      "source": [
        "vetor=[]\n",
        "for i in range(200):\n",
        "  num=float(input(f\"Digite o {i+1}º valor real: \"))\n",
        "  vetor.append(num)\n",
        "vetor.reverse()\n",
        "print(f\"\\n{vetor}\")"
      ],
      "metadata": {
        "colab": {
          "base_uri": "https://localhost:8080/"
        },
        "id": "GNfhTNMz38bQ",
        "outputId": "6e117d34-7c1b-4eb3-a559-442ad73673ac"
      },
      "execution_count": null,
      "outputs": [
        {
          "output_type": "stream",
          "name": "stdout",
          "text": [
            "Digite o 1º valor real: 3\n",
            "Digite o 2º valor real: 46\n",
            "Digite o 3º valor real: 484\n",
            "Digite o 4º valor real: 12\n",
            "Digite o 5º valor real: 786\n",
            "Digite o 6º valor real: 348\n",
            "Digite o 7º valor real: 489\n",
            "Digite o 8º valor real: 12\n",
            "Digite o 9º valor real: 348\n",
            "Digite o 10º valor real: 6\n",
            "\n",
            "[6.0, 348.0, 12.0, 489.0, 348.0, 786.0, 12.0, 484.0, 46.0, 3.0]\n"
          ]
        }
      ]
    },
    {
      "cell_type": "markdown",
      "source": [
        "![image.png](data:image/png;base64,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)"
      ],
      "metadata": {
        "id": "4nawRvyw9e0G"
      }
    },
    {
      "cell_type": "code",
      "source": [
        "vetor1=[]\n",
        "vetor2=[]\n",
        "vetor3=[]\n",
        "for i in range(10):\n",
        "  num=float(input(f\"Digite o {i+1}º valor do vetor 1: \"))\n",
        "  vetor1.append(num)\n",
        "print(\"\\n\")\n",
        "for j in range(10):\n",
        "  num=float(input(f\"Digite o valor {j+1}º valor do vetor 2: \"))\n",
        "  vetor2.append(num)\n",
        "  vetor3.append(vetor1[j]+vetor2[j])\n",
        "print(f'\\nVETOR 1: {vetor1}\\nVETOR 2: {vetor2}\\nVETOR 3: {vetor3}')"
      ],
      "metadata": {
        "colab": {
          "base_uri": "https://localhost:8080/"
        },
        "id": "3EvJEtB55Zil",
        "outputId": "c8c8edd3-aaa2-4aac-db45-e1f03c99de93"
      },
      "execution_count": null,
      "outputs": [
        {
          "output_type": "stream",
          "name": "stdout",
          "text": [
            "Digite o 1º valor do vetor 1: 5\n",
            "Digite o 2º valor do vetor 1: 12\n",
            "Digite o 3º valor do vetor 1: 7\n",
            "Digite o 4º valor do vetor 1: 34\n",
            "Digite o 5º valor do vetor 1: 87\n",
            "Digite o 6º valor do vetor 1: 213\n",
            "Digite o 7º valor do vetor 1: 487\n",
            "Digite o 8º valor do vetor 1: 621\n",
            "Digite o 9º valor do vetor 1: 38\n",
            "Digite o 10º valor do vetor 1: 94\n",
            "\n",
            "\n",
            "Digite o valor 1º valor do vetor 2: 123\n",
            "Digite o valor 2º valor do vetor 2: 478\n",
            "Digite o valor 3º valor do vetor 2: 64\n",
            "Digite o valor 4º valor do vetor 2: 21\n",
            "Digite o valor 5º valor do vetor 2: 35\n",
            "Digite o valor 6º valor do vetor 2: 78\n",
            "Digite o valor 7º valor do vetor 2: 63\n",
            "Digite o valor 8º valor do vetor 2: 41\n",
            "Digite o valor 9º valor do vetor 2: 32\n",
            "Digite o valor 10º valor do vetor 2: 47\n",
            "\n",
            "VETOR 1: [5.0, 12.0, 7.0, 34.0, 87.0, 213.0, 487.0, 621.0, 38.0, 94.0]\n",
            "VETOR 2: [123.0, 478.0, 64.0, 21.0, 35.0, 78.0, 63.0, 41.0, 32.0, 47.0]\n",
            "VETOR 3: [128.0, 490.0, 71.0, 55.0, 122.0, 291.0, 550.0, 662.0, 70.0, 141.0]\n"
          ]
        }
      ]
    },
    {
      "cell_type": "markdown",
      "source": [
        "![image.png](data:image/png;base64,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)"
      ],
      "metadata": {
        "id": "0089-tmluWYz"
      }
    },
    {
      "cell_type": "code",
      "source": [
        "A=list(range(1, 101))\n",
        "S=0\n",
        "menor=0\n",
        "for i in range(100):\n",
        "  num=float(input(f\"Digite o {i+1}º número diferente de 0: \"))\n",
        "  while num==0:\n",
        "    num=float(input(f\"Digite um número diferente de 0: \"))\n",
        "  A.append(num)\n",
        "  if i<A[i]:\n",
        "    menor+=1\n",
        "  S+=i/A[i]\n",
        "print(f\"\\n O resultado do somatório é {S}\")\n",
        "print(f\"\\n O número de termos que possuem o numerador menor que o denominador é {menor}\")"
      ],
      "metadata": {
        "colab": {
          "base_uri": "https://localhost:8080/"
        },
        "id": "dz4IhMBAuXDS",
        "outputId": "67f06acb-877d-4d6a-d01d-403613443da2"
      },
      "execution_count": 13,
      "outputs": [
        {
          "output_type": "stream",
          "name": "stdout",
          "text": [
            "Digite o 1º número diferente de 0: 1\n",
            "Digite o 2º número diferente de 0: 2\n",
            "Digite o 3º número diferente de 0: 3\n",
            "Digite o 4º número diferente de 0: 4\n",
            "Digite o 5º número diferente de 0: 5\n",
            "Digite o 6º número diferente de 0: 6\n",
            "Digite o 7º número diferente de 0: 7\n",
            "Digite o 8º número diferente de 0: 8\n",
            "Digite o 9º número diferente de 0: 9\n",
            "Digite o 10º número diferente de 0: 10\n",
            "Digite o 11º número diferente de 0: 11\n",
            "Digite o 12º número diferente de 0: 12\n",
            "Digite o 13º número diferente de 0: 13\n",
            "Digite o 14º número diferente de 0: 14\n",
            "Digite o 15º número diferente de 0: 15\n",
            "Digite o 16º número diferente de 0: 16\n",
            "Digite o 17º número diferente de 0: 17\n",
            "Digite o 18º número diferente de 0: 18\n",
            "Digite o 19º número diferente de 0: 19\n",
            "Digite o 20º número diferente de 0: 20\n",
            "Digite o 21º número diferente de 0: 21\n",
            "Digite o 22º número diferente de 0: 22\n",
            "Digite o 23º número diferente de 0: 23\n",
            "Digite o 24º número diferente de 0: 24\n",
            "Digite o 25º número diferente de 0: 25\n",
            "Digite o 26º número diferente de 0: 26\n",
            "Digite o 27º número diferente de 0: 27\n",
            "Digite o 28º número diferente de 0: 28\n",
            "Digite o 29º número diferente de 0: 29\n",
            "Digite o 30º número diferente de 0: 30\n",
            "Digite o 31º número diferente de 0: 31\n",
            "Digite o 32º número diferente de 0: 32\n",
            "Digite o 33º número diferente de 0: 33\n",
            "Digite o 34º número diferente de 0: 34\n",
            "Digite o 35º número diferente de 0: 35\n",
            "Digite o 36º número diferente de 0: 36\n",
            "Digite o 37º número diferente de 0: 37\n",
            "Digite o 38º número diferente de 0: 38\n",
            "Digite o 39º número diferente de 0: 39\n",
            "Digite o 40º número diferente de 0: 40\n",
            "Digite o 41º número diferente de 0: 41\n",
            "Digite o 42º número diferente de 0: 42\n",
            "Digite o 43º número diferente de 0: 43\n",
            "Digite o 44º número diferente de 0: 44\n",
            "Digite o 45º número diferente de 0: 45\n",
            "Digite o 46º número diferente de 0: 46\n",
            "Digite o 47º número diferente de 0: 47\n",
            "Digite o 48º número diferente de 0: 48\n",
            "Digite o 49º número diferente de 0: 49\n",
            "Digite o 50º número diferente de 0: 50\n",
            "Digite o 51º número diferente de 0: 51\n",
            "Digite o 52º número diferente de 0: 52\n",
            "Digite o 53º número diferente de 0: 53\n",
            "Digite o 54º número diferente de 0: 54\n",
            "Digite o 55º número diferente de 0: 55\n",
            "Digite o 56º número diferente de 0: 56\n",
            "Digite o 57º número diferente de 0: 57\n",
            "Digite o 58º número diferente de 0: 58\n",
            "Digite o 59º número diferente de 0: 59\n",
            "Digite o 60º número diferente de 0: 60\n",
            "Digite o 61º número diferente de 0: 61\n",
            "Digite o 62º número diferente de 0: 62\n",
            "Digite o 63º número diferente de 0: 63\n",
            "Digite o 64º número diferente de 0: 64\n",
            "Digite o 65º número diferente de 0: 65\n",
            "Digite o 66º número diferente de 0: 66\n",
            "Digite o 67º número diferente de 0: 67\n",
            "Digite o 68º número diferente de 0: 68\n",
            "Digite o 69º número diferente de 0: 69\n",
            "Digite o 70º número diferente de 0: 70\n",
            "Digite o 71º número diferente de 0: 71\n",
            "Digite o 72º número diferente de 0: 72\n",
            "Digite o 73º número diferente de 0: 73\n",
            "Digite o 74º número diferente de 0: 74\n",
            "Digite o 75º número diferente de 0: 75\n",
            "Digite o 76º número diferente de 0: 76\n",
            "Digite o 77º número diferente de 0: 77\n",
            "Digite o 78º número diferente de 0: 78\n",
            "Digite o 79º número diferente de 0: 79\n",
            "Digite o 80º número diferente de 0: 80\n",
            "Digite o 81º número diferente de 0: 81\n",
            "Digite o 82º número diferente de 0: 82\n",
            "Digite o 83º número diferente de 0: 83\n",
            "Digite o 84º número diferente de 0: 84\n",
            "Digite o 85º número diferente de 0: 85\n",
            "Digite o 86º número diferente de 0: 86\n",
            "Digite o 87º número diferente de 0: 87\n",
            "Digite o 88º número diferente de 0: 88\n",
            "Digite o 89º número diferente de 0: 89\n",
            "Digite o 90º número diferente de 0: 90\n",
            "Digite o 91º número diferente de 0: 91\n",
            "Digite o 92º número diferente de 0: 92\n",
            "Digite o 93º número diferente de 0: 93\n",
            "Digite o 94º número diferente de 0: 94\n",
            "Digite o 95º número diferente de 0: 95\n",
            "Digite o 96º número diferente de 0: 96\n",
            "Digite o 97º número diferente de 0: 97\n",
            "Digite o 98º número diferente de 0: 98\n",
            "Digite o 99º número diferente de 0: 99\n",
            "Digite o 100º número diferente de 0: 100\n",
            "\n",
            " O resultado do somatório é 94.81262248236033\n",
            "\n",
            " O número de termos que possuem o numerador menor que o denominador é 100\n"
          ]
        }
      ]
    },
    {
      "cell_type": "markdown",
      "source": [
        "**11) Faça um algoritmo que leia um conjunto de 10 elementos reais e os coloque em um vetor.\n",
        "Construa um segundo vetor formado da seguinte maneira:\n",
        "• Os elementos de ordem par são os correspondentes do primeiro vetor multiplicados por 3.\n",
        "• Os elementos de ordem ímpar são os correspondentes do primeiro vetor divididos por 2.\n",
        "• Imprima os dois vetores.**"
      ],
      "metadata": {
        "id": "QNSGNlQWyGwz"
      }
    },
    {
      "cell_type": "code",
      "source": [
        "vetor1=[]\n",
        "vetor2=[]\n",
        "for i in range(10):\n",
        "  num=float(input(f\"Digite o {i+1}º número real: \"))\n",
        "  vetor1.append(num)\n",
        "  if i%2==0:\n",
        "    vetor2.append(vetor1[i]*3)\n",
        "  else:\n",
        "    vetor2.append(vetor1[i]/2)\n",
        "print(f\"\\nVetor 1: {vetor1}\\nVetor2: {vetor2}\")\n"
      ],
      "metadata": {
        "colab": {
          "base_uri": "https://localhost:8080/"
        },
        "id": "zVydd8s3uh4e",
        "outputId": "e4e90887-ec00-4031-9d2d-1887e42ec886"
      },
      "execution_count": 15,
      "outputs": [
        {
          "output_type": "stream",
          "name": "stdout",
          "text": [
            "Digite o 1º número real: 2\n",
            "Digite o 2º número real: 5\n",
            "Digite o 3º número real: 4\n",
            "Digite o 4º número real: 6\n",
            "Digite o 5º número real: 8\n",
            "Digite o 6º número real: 10\n",
            "Digite o 7º número real: 12\n",
            "Digite o 8º número real: 14\n",
            "Digite o 9º número real: 15\n",
            "Digite o 10º número real: 16\n",
            "\n",
            "Vetor 1: [2.0, 5.0, 4.0, 6.0, 8.0, 10.0, 12.0, 14.0, 15.0, 16.0]\n",
            "Vetor2: [6.0, 2.5, 12.0, 3.0, 24.0, 5.0, 36.0, 7.0, 45.0, 8.0]\n"
          ]
        }
      ]
    },
    {
      "cell_type": "code",
      "source": [],
      "metadata": {
        "id": "a3zqjkOJyR57"
      },
      "execution_count": null,
      "outputs": []
    }
  ]
}