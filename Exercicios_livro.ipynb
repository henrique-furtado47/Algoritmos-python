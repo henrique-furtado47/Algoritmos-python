{
  "nbformat": 4,
  "nbformat_minor": 0,
  "metadata": {
    "colab": {
      "provenance": [],
      "authorship_tag": "ABX9TyMqWYs11/vzI4tK/5XmEsXu",
      "include_colab_link": true
    },
    "kernelspec": {
      "name": "python3",
      "display_name": "Python 3"
    },
    "language_info": {
      "name": "python"
    }
  },
  "cells": [
    {
      "cell_type": "markdown",
      "metadata": {
        "id": "view-in-github",
        "colab_type": "text"
      },
      "source": [
        "<a href=\"https://colab.research.google.com/github/henrique-furtado47/Algoritmos-python/blob/main/Exercicios_livro.ipynb\" target=\"_parent\"><img src=\"https://colab.research.google.com/assets/colab-badge.svg\" alt=\"Open In Colab\"/></a>"
      ]
    },
    {
      "cell_type": "code",
      "execution_count": null,
      "metadata": {
        "id": "0Ot41wnsRmqr",
        "colab": {
          "base_uri": "https://localhost:8080/"
        },
        "outputId": "aa1acecf-9959-4d65-ab32-24822d63d0a1"
      },
      "outputs": [
        {
          "output_type": "stream",
          "name": "stdout",
          "text": [
            "Digite a velocidade do carro: 200\n",
            "Você foi multado em R$ 600.0\n"
          ]
        }
      ],
      "source": [
        "velocidade=float(input(\"Digite a velocidade do carro: \"))\n",
        "multa=0\n",
        "if velocidade > 80:\n",
        "   multa= float(velocidade-80)*5\n",
        "   print(\"Você foi multado em R$\", multa)\n",
        "else:\n",
        "  print(\"Você não foi multado\")"
      ]
    },
    {
      "cell_type": "code",
      "source": [
        "num1=float(input(\"Digite o valor do primeiro número: \"))\n",
        "sinal= str(input(\"Digite o sinal da operação: \"))\n",
        "num2=float(input(\"Digite o valor do segundo número: \"))\n",
        "\n",
        "\n",
        "if sinal==\"/\":\n",
        " resultado=(num1/num2)\n",
        "elif sinal==\"*\":\n",
        " resultado=(num1*num2)\n",
        "elif sinal==\"+\":\n",
        " resultado=(num1+num2)\n",
        "elif sinal==\"-\":\n",
        " resultado=(num1-num2)\n",
        "elif len(sinal)!=1:\n",
        " print(\"Operação inválida\")\n",
        " resultado=(\"\")\n",
        "\n",
        "print(\"O resultado deu: \", resultado)"
      ],
      "metadata": {
        "id": "U5fJv933TMsW",
        "colab": {
          "base_uri": "https://localhost:8080/"
        },
        "outputId": "6be5c601-250d-48d7-9bab-fc9a1d325c30"
      },
      "execution_count": null,
      "outputs": [
        {
          "output_type": "stream",
          "name": "stdout",
          "text": [
            "Digite o valor do primeiro número: 6\n",
            "Digite o sinal da operação: *\n",
            "Digite o valor do segundo número: 4\n",
            "O resultado deu:  24.0\n"
          ]
        }
      ]
    },
    {
      "cell_type": "code",
      "source": [
        "distancia= int(input(\"Digiie a distância que você deseja percorrer: \"))\n",
        "\n",
        "if distancia<=200:\n",
        "  preco=(distancia*0.50)\n",
        "else:\n",
        "  preco=(distancia*0.45)\n",
        "print(f\"O valor da passagem é igual a R${preco: .2f}\")"
      ],
      "metadata": {
        "colab": {
          "base_uri": "https://localhost:8080/"
        },
        "id": "A35XkY3nnbkj",
        "outputId": "ba9b0505-f220-426f-866f-0bc03c503ce5"
      },
      "execution_count": null,
      "outputs": [
        {
          "output_type": "stream",
          "name": "stdout",
          "text": [
            "Digiie a distância que você deseja percorrer: 200\n",
            "O valor da passagem é igual a R$ 100.00\n"
          ]
        }
      ]
    },
    {
      "cell_type": "code",
      "source": [
        "valor= float(input(\"Qual é o valor da casa a comprar? \"))\n",
        "salario= float(input(\"Qual é o seu salário? \"))\n",
        "anos= float(input(\"Em quantos anos você vai pagar? \"))\n",
        "\n",
        "prestacao=(valor/(anos*12))\n",
        "\n",
        "if prestacao>(salario*30/100):\n",
        " resultado=\"negado\"\n",
        "else:\n",
        " resultado=\"aprovado\"\n",
        "print(\"Seu empréstimo foi\", resultado)"
      ],
      "metadata": {
        "colab": {
          "base_uri": "https://localhost:8080/"
        },
        "id": "HDf84RRB0M7U",
        "outputId": "a9b877f8-5f0f-4fc2-861f-aff77575e182"
      },
      "execution_count": null,
      "outputs": [
        {
          "output_type": "stream",
          "name": "stdout",
          "text": [
            "Qual é o valor da casa a comprar? 1\n",
            "Qual é o seu salário? 1000\n",
            "Em quantos anos você vai pagar? 2\n",
            "Seu empréstimo foi aprovado\n"
          ]
        }
      ]
    },
    {
      "cell_type": "code",
      "source": [
        "kwh= float(input(\"Digite a quantidade de kWh: \"))\n",
        "inst= str(input(\"Qual seu tipo de instalação? Digite R para residências, I para indústrias e C para comércios:\" ))\n",
        "\n",
        "if kwh<=500 and (inst==\"R\" or inst==\"r\"):\n",
        " preco=float(0.40*kwh)\n",
        "elif kwh>500 and (inst==\"R\" or inst==\"r\"):\n",
        " preco=float(0.65*kwh)\n",
        "elif kwh<=1000 and (inst==\"C\" or inst==\"c\"):\n",
        " preco=float(0.55*kwh)\n",
        "elif (inst==\"C\" or inst==\"c\") and kwh>1000:\n",
        " preco=float(0.60*kwh)\n",
        "elif (inst==\"I\" or inst==\"i\") and kwh<=5000:\n",
        "  preco=float(0.55*kwh)\n",
        "elif (inst==\"I\" or inst==\"i\") and kwh>5000:\n",
        "  preco=float(0.60*kwh)\n",
        "else:\n",
        "  print(\"Tipo de instalação inválido\")\n",
        "  preco=\"\"\n",
        "\n",
        "print(f\"O valor que você deve pagar de energia é R${preco: .2f}\")"
      ],
      "metadata": {
        "colab": {
          "base_uri": "https://localhost:8080/"
        },
        "id": "NWZl7xs613wN",
        "outputId": "24b75f55-b01c-41c1-d939-79e7fdb11464"
      },
      "execution_count": null,
      "outputs": [
        {
          "output_type": "stream",
          "name": "stdout",
          "text": [
            "Digite a quantidade de kWh: 300\n",
            "Qual seu tipo de instalação? Digite R para residências, I para indústrias e C para comércios:i\n",
            "O valor que você deve pagar de energia é R$ 165.00\n"
          ]
        }
      ]
    },
    {
      "cell_type": "code",
      "source": [
        "x=50\n",
        "while x<=100:\n",
        " print(x)\n",
        " x = x + 1"
      ],
      "metadata": {
        "id": "ohC8CTbL9IqK"
      },
      "execution_count": null,
      "outputs": []
    },
    {
      "cell_type": "code",
      "source": [
        "x=10\n",
        "while x>=0:\n",
        "  print(x)\n",
        "  x= x-1\n",
        "print(\"Fogo!\")"
      ],
      "metadata": {
        "id": "kQ9SzqTdAcEm"
      },
      "execution_count": null,
      "outputs": []
    },
    {
      "cell_type": "code",
      "source": [
        "fim=int(input(\"Digite o último número da contagem: \"))\n",
        "x=0\n",
        "while x<=fim:\n",
        "  if x%3==0:\n",
        "   print(x)\n",
        "  x=x+1\n"
      ],
      "metadata": {
        "id": "i0ZjLXKgBF3A"
      },
      "execution_count": null,
      "outputs": []
    },
    {
      "cell_type": "code",
      "source": [
        "n= int(input(\"Tabuada de \"))\n",
        "x=1\n",
        "while x<=10:\n",
        "  print(n,\"x\",x)\n",
        "  print(n*x)\n",
        "  x=x+1\n"
      ],
      "metadata": {
        "colab": {
          "base_uri": "https://localhost:8080/"
        },
        "id": "nG_WVAW7E1iS",
        "outputId": "bd6791fc-2c17-4aff-9372-07aef9d8b36d"
      },
      "execution_count": null,
      "outputs": [
        {
          "output_type": "stream",
          "name": "stdout",
          "text": [
            "Tabuada de 2\n",
            "2 x 1\n",
            "2\n",
            "2 x 2\n",
            "4\n",
            "2 x 3\n",
            "6\n",
            "2 x 4\n",
            "8\n",
            "2 x 5\n",
            "10\n",
            "2 x 6\n",
            "12\n",
            "2 x 7\n",
            "14\n",
            "2 x 8\n",
            "16\n",
            "2 x 9\n",
            "18\n",
            "2 x 10\n",
            "20\n"
          ]
        }
      ]
    },
    {
      "cell_type": "code",
      "source": [
        "n = int(input(\"Tabuada de \"))\n",
        "x=int(input(\"Digite o inicio da tabuada: \"))\n",
        "fim= int(input(\"Digite o fim da tabuada: \"))\n",
        "\n",
        "while x<=fim:\n",
        " print(n, \"x\",x,\"=\")\n",
        " print(n*x)\n",
        " x=x+1"
      ],
      "metadata": {
        "id": "AhATClYIINFd",
        "colab": {
          "base_uri": "https://localhost:8080/"
        },
        "outputId": "f8500af6-5a7a-499e-e9b9-759bfc30f348"
      },
      "execution_count": null,
      "outputs": [
        {
          "output_type": "stream",
          "name": "stdout",
          "text": [
            "Tabuada de 9\n",
            "Digite o inicio da tabuada: 0\n",
            "Digite o fim da tabuada: 2\n",
            "9 x 0 =\n",
            "0\n",
            "9 x 1 =\n",
            "9\n",
            "9 x 2 =\n",
            "18\n"
          ]
        }
      ]
    },
    {
      "cell_type": "code",
      "source": [
        "num1= int(input(\"Insira o primeiro número: \"))\n",
        "num2= int(input(\"Insira o segundo número: \"))\n",
        "resultado = 0\n",
        "contador = 0\n",
        "negativo=False\n",
        "if num2<0:\n",
        "  num2=-num2\n",
        "  negativo= True\n",
        "\n",
        "while contador < num2:\n",
        "    resultado+=num1\n",
        "    contador+= 1\n",
        "if negativo:\n",
        "  resultado = -resultado\n",
        "print(resultado)"
      ],
      "metadata": {
        "colab": {
          "base_uri": "https://localhost:8080/"
        },
        "id": "rMANKJ_uq_tF",
        "outputId": "cdbefe30-7ab3-44bf-e652-3da220ce6253"
      },
      "execution_count": null,
      "outputs": [
        {
          "output_type": "stream",
          "name": "stdout",
          "text": [
            "Insira o primeiro número: 3\n",
            "Insira o segundo número: -4\n",
            "-12\n"
          ]
        }
      ]
    },
    {
      "cell_type": "code",
      "source": [
        "# Leitura dos números\n",
        "dividendo = int(input(\"Digite o primeiro número: \"))\n",
        "divisor = int(input(\"Digite o segundo número: \"))\n",
        "\n",
        "# Inicializando variáveis\n",
        "quociente = 0\n",
        "resto = dividendo\n",
        "\n",
        "# Realizando a divisão inteira\n",
        "while resto >= divisor:\n",
        "    resto -= divisor\n",
        "    quociente += 1\n",
        "\n",
        "# Imprimindo o resultado\n",
        "print(\"Divisão inteira:\", quociente)\n",
        "print(\"Resto da divisão:\", resto)"
      ],
      "metadata": {
        "colab": {
          "base_uri": "https://localhost:8080/"
        },
        "id": "rjMIRjCFw2Ym",
        "outputId": "8cb0e595-fa20-457b-d1d0-6cfeb6b3d91e"
      },
      "execution_count": null,
      "outputs": [
        {
          "output_type": "stream",
          "name": "stdout",
          "text": [
            "Digite o primeiro número: 9\n",
            "Digite o segundo número: 3\n",
            "Divisão inteira: 3\n",
            "Resto da divisão: 0\n"
          ]
        }
      ]
    },
    {
      "cell_type": "code",
      "source": [
        "pontos=0\n",
        "questão=1\n",
        "while questão<=3:\n",
        "  resposta=str(input(f\"Insira a resposta da questão{questão}: \"))\n",
        "  if questão==1 and resposta ==\"b\":\n",
        "    pontos=pontos+1\n",
        "  if questão ==2 and resposta ==\"a\":\n",
        "    pontos=pontos+1\n",
        "  if questão ==3 and resposta ==\"d\":\n",
        "    pontos=pontos+1\n",
        "  questão+=1\n",
        "print(f\"O aluno fez {pontos} pontos\")\n"
      ],
      "metadata": {
        "colab": {
          "base_uri": "https://localhost:8080/"
        },
        "id": "OujiLyiryk6a",
        "outputId": "6dc45820-9384-4f7d-8f20-32ea9fbcdc12"
      },
      "execution_count": null,
      "outputs": [
        {
          "output_type": "stream",
          "name": "stdout",
          "text": [
            "Insira a resposta da questão1: b\n",
            "Insira a resposta da questão2: a\n",
            "Insira a resposta da questão3: d\n",
            "O aluno fez3 pontos\n"
          ]
        }
      ]
    }
  ]
}