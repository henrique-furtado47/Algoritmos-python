{
  "nbformat": 4,
  "nbformat_minor": 0,
  "metadata": {
    "colab": {
      "provenance": [],
      "authorship_tag": "ABX9TyNbL0XIOp5BpYSG1m+05ElS",
      "include_colab_link": true
    },
    "kernelspec": {
      "name": "python3",
      "display_name": "Python 3"
    },
    "language_info": {
      "name": "python"
    }
  },
  "cells": [
    {
      "cell_type": "markdown",
      "metadata": {
        "id": "view-in-github",
        "colab_type": "text"
      },
      "source": [
        "<a href=\"https://colab.research.google.com/github/henrique-furtado47/Algoritmos-python/blob/main/Exercicio_algoritmo_06_04_2024.ipynb\" target=\"_parent\"><img src=\"https://colab.research.google.com/assets/colab-badge.svg\" alt=\"Open In Colab\"/></a>"
      ]
    },
    {
      "cell_type": "markdown",
      "source": [
        "\n",
        "\n",
        "**1. Faça um programa que peça dois números inteiros e imprima a soma desses dois números.**\n"
      ],
      "metadata": {
        "id": "ITsH1BquH4JB"
      }
    },
    {
      "cell_type": "code",
      "source": [
        "#fase de entrada\n",
        "num1= int(input(\"Digite o primeiro número: \"))\n",
        "num2= int(input(\"Digite o segundo número: \"))\n",
        "\n",
        "#fase de processamento\n",
        "soma= (num1+num2)\n",
        "\n",
        "#fase de saída\n",
        "print(\"A soma dos dois números é igual a\", soma)"
      ],
      "metadata": {
        "colab": {
          "base_uri": "https://localhost:8080/"
        },
        "id": "VW1l_x_dH67h",
        "outputId": "206e0649-4809-4f82-e8b1-35cdec3fc6da"
      },
      "execution_count": null,
      "outputs": [
        {
          "output_type": "stream",
          "name": "stdout",
          "text": [
            "Digite o primeiro número: 1\n",
            "Digite o segundo número: 2\n",
            "A soma dos dois números é igual a 3\n"
          ]
        }
      ]
    },
    {
      "cell_type": "markdown",
      "source": [
        "**2. Escreva um programa que leia um valor em metros e o exiba convertido em milímetros.**"
      ],
      "metadata": {
        "id": "upjX8BEVIC5a"
      }
    },
    {
      "cell_type": "code",
      "source": [
        "#fase de entrada\n",
        "metros= float(input(\"Digite o valor em metros: \"))\n",
        "\n",
        "#fase de processamento\n",
        "milimetros= float(metros*1000)\n",
        "\n",
        "#fase de saída\n",
        "print(\"O valor de\", metros, \"metro(s), é igual a\", milimetros, \"milimetro(s)\")"
      ],
      "metadata": {
        "colab": {
          "base_uri": "https://localhost:8080/"
        },
        "id": "OHeCLpWqIG5D",
        "outputId": "0bf473e0-69ba-45b4-a5a2-d07279ba1026"
      },
      "execution_count": null,
      "outputs": [
        {
          "output_type": "stream",
          "name": "stdout",
          "text": [
            "Digite o valor em metros: 2\n",
            "O valor de 2.0 metro(s), é igual a 2000.0 milimetro(s)\n"
          ]
        }
      ]
    },
    {
      "cell_type": "markdown",
      "source": [
        "**3. Escreva um programa que leia a quantidade de dias, horas, minutos e segundos do usuário. Calcule o total em segundos**"
      ],
      "metadata": {
        "id": "NH7kopUTIKmz"
      }
    },
    {
      "cell_type": "code",
      "source": [
        "#fase de entrada\n",
        "dias= int(input(\"Insira a quantidade de dias: \"))\n",
        "horas= int(input(\"Insira a quantidade de horas: \"))\n",
        "minutos= int(input(\"Insira a quantidade de minutos: \"))\n",
        "segundos= int(input(\"Insira a quantidade de segundos: \"))\n",
        "\n",
        "#fase de processamento\n",
        "total= float((dias * 24 * 3600) + (horas * 3600) + (minutos * 60) + segundos)\n",
        "\n",
        "#fase de saída\n",
        "print(\"Sua quantidade de segundos foi\", total, \"segundos\")"
      ],
      "metadata": {
        "colab": {
          "base_uri": "https://localhost:8080/"
        },
        "id": "FObLaeTmINlc",
        "outputId": "394a7904-bef0-4a24-af26-810ab50d72df"
      },
      "execution_count": null,
      "outputs": [
        {
          "output_type": "stream",
          "name": "stdout",
          "text": [
            "Insira a quantidade de dias: 3\n",
            "Insira a quantidade de horas: 4\n",
            "Insira a quantidade de minutos: 1\n",
            "Insira a quantidade de segundos: 2\n",
            "Sua quantidade de segundos foi 273662 segundos\n"
          ]
        }
      ]
    },
    {
      "cell_type": "markdown",
      "source": [
        "**4. Faça um programa que calcule o aumento de um salário. Ele deve solicitar o valor do salário e a porcentagem do aumento. Exiba o valor do aumento e do novo salário.**"
      ],
      "metadata": {
        "id": "0dlnrn3QIYW8"
      }
    },
    {
      "cell_type": "code",
      "source": [
        "#fase de entrada\n",
        "salario= float(input(\"Digite seu salário: \"))\n",
        "aumento= float(input(\"Digite a porcentagem do aumento: \"))\n",
        "\n",
        "#fase de processamento\n",
        "valor_aumento= float(salario*(aumento/100))\n",
        "total= float(salario+valor_aumento)\n",
        "\n",
        "#fase de saída\n",
        "print(\"O valor do aumento foi de\", valor_aumento,\"reais. O novo salário é igual a\", total,\"reais\")\n"
      ],
      "metadata": {
        "colab": {
          "base_uri": "https://localhost:8080/"
        },
        "id": "IbACSJe_Ibhs",
        "outputId": "71cf7167-d7e4-43dc-d328-5c89ab216c4c"
      },
      "execution_count": null,
      "outputs": [
        {
          "output_type": "stream",
          "name": "stdout",
          "text": [
            "Digite seu salário: 1000\n",
            "Digite a porcentagem do aumento: 10\n",
            "O valor do aumento foi de 100.0 reais. O novo salário é igual a 1100.0 reais\n"
          ]
        }
      ]
    },
    {
      "cell_type": "markdown",
      "source": [],
      "metadata": {
        "id": "0uymlulVI-Xg"
      }
    },
    {
      "cell_type": "markdown",
      "source": [
        "**5. Solicite o preço de uma mercadoria e o percentual de desconto. Exiba o valor do desconto e o preço a\n",
        "pagar.**"
      ],
      "metadata": {
        "id": "FbGj3N7vJIzx"
      }
    },
    {
      "cell_type": "code",
      "source": [
        "#fase de entrada\n",
        "preco= float(input(\"Digite o preço da mercadoria: \"))\n",
        "desconto= float(input(\"Digite o percentual de desconto: \"))\n",
        "\n",
        "#fase de processamento\n",
        "valor_desconto= float(preco*(desconto/100))\n",
        "total= float(preco-valor_desconto)\n",
        "\n",
        "#fase de saída\n",
        "print(\"O desconto foi de\", valor_desconto, \"reais. O preço do produto ficou por\", total, \"reais\")"
      ],
      "metadata": {
        "colab": {
          "base_uri": "https://localhost:8080/"
        },
        "id": "W95gNtXuJS2Z",
        "outputId": "53eca351-bff4-4b24-f78e-d6b1f33829a2"
      },
      "execution_count": null,
      "outputs": [
        {
          "output_type": "stream",
          "name": "stdout",
          "text": [
            "Digite o preço da mercadoria: 100\n",
            "Digite o percentual de desconto: 1\n",
            "O desconto foi de 1.0 reais. O preço do produto ficou por 99.0 reais\n"
          ]
        }
      ]
    },
    {
      "cell_type": "markdown",
      "source": [
        "**6. Calcule o tempo de uma viagem de carro. Pergunte a distância a percorrer e a velocidade média\n",
        "esperada para a viagem.**"
      ],
      "metadata": {
        "id": "xcuDCe8AJ-Wd"
      }
    },
    {
      "cell_type": "code",
      "source": [
        "#fase de entrada\n",
        "distancia= float(input(\"Digite a distância a percorrer da viagem em km: \"))\n",
        "vm= float(input(\"Digite a velocidade média da viagem em km/h: \"))\n",
        "\n",
        "#fase de processamento\n",
        "tempo= float(distancia/vm)\n",
        "\n",
        "#fase de saída\n",
        "print(\"A viagem irá durar aproximadamente\", tempo, \"horas\")"
      ],
      "metadata": {
        "colab": {
          "base_uri": "https://localhost:8080/"
        },
        "id": "S0PpZVQkKMa5",
        "outputId": "1869687e-175d-48ea-c755-763156c90233"
      },
      "execution_count": null,
      "outputs": [
        {
          "output_type": "stream",
          "name": "stdout",
          "text": [
            "Digite a distância a percorrer da viagem em km: 30\n",
            "Digite a velocidade média da viagem em km/h: 10\n",
            "A viagem irá durar aproximadamente 3.0 horas\n"
          ]
        }
      ]
    },
    {
      "cell_type": "markdown",
      "source": [
        "**7. Converta uma temperatura digitada em Celsius para Fahrenheit. F = 9*C/5 + 32 . Faça agora o\n",
        "contrário, de Fahrenheit para Celsius.**"
      ],
      "metadata": {
        "id": "PQ_tMn1PLEK6"
      }
    },
    {
      "cell_type": "code",
      "source": [
        "#fase de entrada\n",
        "temp_c= float(input(\"Digite a temperatura em Celsius: \"))\n",
        "\n",
        "#fase de processamento\n",
        "temp_f= float(9*temp_c/5 + 32)\n",
        "\n",
        "#fase de saída\n",
        "print(\"A temperatura de\", temp_c, \"graus celsius é equivalente a\", temp_f, \"graus fahrenheit.\")"
      ],
      "metadata": {
        "colab": {
          "base_uri": "https://localhost:8080/"
        },
        "id": "T5lWeHrOLXgH",
        "outputId": "5451df11-48f9-42a4-fe27-d4f83329f3b3"
      },
      "execution_count": null,
      "outputs": [
        {
          "output_type": "stream",
          "name": "stdout",
          "text": [
            "Digite a temperatura em Celsius: 1\n",
            "A temperatura de 1.0 graus celsius é equivalente a 33.8 graus fahrenheit.\n"
          ]
        }
      ]
    },
    {
      "cell_type": "code",
      "source": [
        "#fase de entrada\n",
        "temp_f= float(input(\"Digite a temperatura em Fahrenheit: \" ))\n",
        "\n",
        "#fase de processamento\n",
        "temp_c= ((temp_f - 32) * 5/9)\n",
        "\n",
        "#fase de saída\n",
        "print(\"A temperatura de\", temp_f, \"graus fahrenheit é equivalente a\", temp_c, \"graus celsius\")"
      ],
      "metadata": {
        "colab": {
          "base_uri": "https://localhost:8080/"
        },
        "id": "oHiZeBIuMSCH",
        "outputId": "a2a28943-5a51-4826-8e89-05b5fbaf958a"
      },
      "execution_count": null,
      "outputs": [
        {
          "output_type": "stream",
          "name": "stdout",
          "text": [
            "Digite a temperatura em Fahrenheit: 33.8\n",
            "A temperatura de 33.8 graus fahrenheit é equivalente a 0.9999999999999984 graus celsius\n"
          ]
        }
      ]
    },
    {
      "cell_type": "markdown",
      "source": [
        "**8. Escreva um programa que pergunte a quantidade de km percorridos por um carro alugado pelo usuário,\n",
        "assim como a quantidade de dias pelos quais o carro foi alugado. Calcule o preço a pagar, sabendo que o\n",
        "carro custa RS 60,00 por dia e R$ 0,15 por km rodado.**"
      ],
      "metadata": {
        "id": "_Mt4fjx4NRov"
      }
    },
    {
      "cell_type": "code",
      "source": [
        "#fase de entrada\n",
        "km= float(input(\"Digite a quantidade de km percorridos pelo carro: \"))\n",
        "dias= int(input(\"Digite a quantidade de dias que o carro foi alugado: \"))\n",
        "\n",
        "#fase de processamento\n",
        "preco= float(dias*60)+(km*0.15)\n",
        "\n",
        "#fase de saída\n",
        "print(\"O valor do aluguel será de\", preco, \"reais\")"
      ],
      "metadata": {
        "colab": {
          "base_uri": "https://localhost:8080/"
        },
        "id": "Z6miNARKNgEx",
        "outputId": "1b45ab78-edce-426e-b5df-d2976e530144"
      },
      "execution_count": null,
      "outputs": [
        {
          "output_type": "stream",
          "name": "stdout",
          "text": [
            "Digite a quantidade de km percorridos pelo carro: 10\n",
            "Digite a quantidade de dias que o carro foi alugado: 2\n",
            "O valor do aluguel será de 121.5 reais\n"
          ]
        }
      ]
    },
    {
      "cell_type": "markdown",
      "source": [
        "**9. Escreva um programa para calcular a redução do tempo de vida de um fumante. Pergunte a quantidade\n",
        "de cigarros fumados por dia e quantos anos ele já fumou. Considere que um fumante perde 10 minutos\n",
        "de vida a cada cigarro, calcule quantos dias de vida um fumante perderá. Exiba o total de dias.**"
      ],
      "metadata": {
        "id": "fZzyY6v-Oo4Y"
      }
    },
    {
      "cell_type": "code",
      "source": [
        "#fase de entrada\n",
        "quantidade= int(input(\"Quantos cigarros você fuma por dia? \"))\n",
        "tempo= int(input(\"Você fuma por quantos anos?  \"))\n",
        "\n",
        "#fase de processamento\n",
        "dias_perdidos=int(((tempo*365)*(quantidade*10))/(24*60))\n",
        "\n",
        "#fase de saída\n",
        "print(\"O fumante perderá\", dias_perdidos, \"dias de vida.\")\n"
      ],
      "metadata": {
        "colab": {
          "base_uri": "https://localhost:8080/"
        },
        "id": "az5Nqa0mOqEg",
        "outputId": "909ef26c-6514-4995-a756-58e0a813fbc1"
      },
      "execution_count": null,
      "outputs": [
        {
          "output_type": "stream",
          "name": "stdout",
          "text": [
            "Quantos cigarros você fuma por dia? 2\n",
            "Você fuma por quantos anos?  2\n",
            "O fumante perderá 10 dias de vida.\n"
          ]
        }
      ]
    },
    {
      "cell_type": "markdown",
      "source": [
        "**10. Sabendo que str( ) converte valores numéricos para string, calcule quantos dígitos há em 2 elevado a um\n",
        "milhão.**"
      ],
      "metadata": {
        "id": "t7XcsId3Rq6d"
      }
    },
    {
      "cell_type": "code",
      "source": [
        "#fase de entrada\n",
        "numero=(2**1000000)\n",
        "\n",
        "#fase de processamento\n",
        "tamanho= str(numero)\n",
        "comprimento= len(tamanho)\n",
        "\n",
        "\n",
        "#fase de saida\n",
        "print(\"Existem\", comprimento, \"digitos em 2 elevado a um milhão.\")"
      ],
      "metadata": {
        "colab": {
          "base_uri": "https://localhost:8080/",
          "height": 211
        },
        "id": "6HC7e82oRtbW",
        "outputId": "d345c1cc-7bef-4ffa-c5ad-06e3cbad888b"
      },
      "execution_count": null,
      "outputs": [
        {
          "output_type": "error",
          "ename": "ValueError",
          "evalue": "Exceeds the limit (4300) for integer string conversion; use sys.set_int_max_str_digits() to increase the limit",
          "traceback": [
            "\u001b[0;31m---------------------------------------------------------------------------\u001b[0m",
            "\u001b[0;31mValueError\u001b[0m                                Traceback (most recent call last)",
            "\u001b[0;32m<ipython-input-31-f4e206f3d425>\u001b[0m in \u001b[0;36m<cell line: 5>\u001b[0;34m()\u001b[0m\n\u001b[1;32m      3\u001b[0m \u001b[0;34m\u001b[0m\u001b[0m\n\u001b[1;32m      4\u001b[0m \u001b[0;31m#fase de processamento\u001b[0m\u001b[0;34m\u001b[0m\u001b[0;34m\u001b[0m\u001b[0m\n\u001b[0;32m----> 5\u001b[0;31m \u001b[0mtamanho\u001b[0m\u001b[0;34m=\u001b[0m \u001b[0mstr\u001b[0m\u001b[0;34m(\u001b[0m\u001b[0mnumero\u001b[0m\u001b[0;34m)\u001b[0m\u001b[0;34m\u001b[0m\u001b[0;34m\u001b[0m\u001b[0m\n\u001b[0m\u001b[1;32m      6\u001b[0m \u001b[0mcomprimento\u001b[0m\u001b[0;34m=\u001b[0m \u001b[0mlen\u001b[0m\u001b[0;34m(\u001b[0m\u001b[0mtamanho\u001b[0m\u001b[0;34m)\u001b[0m\u001b[0;34m\u001b[0m\u001b[0;34m\u001b[0m\u001b[0m\n\u001b[1;32m      7\u001b[0m \u001b[0;34m\u001b[0m\u001b[0m\n",
            "\u001b[0;31mValueError\u001b[0m: Exceeds the limit (4300) for integer string conversion; use sys.set_int_max_str_digits() to increase the limit"
          ]
        }
      ]
    }
  ]
}