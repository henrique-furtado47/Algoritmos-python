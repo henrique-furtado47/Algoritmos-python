{
  "nbformat": 4,
  "nbformat_minor": 0,
  "metadata": {
    "colab": {
      "provenance": [],
      "authorship_tag": "ABX9TyNnIGR7Q+0LFasDxxDeaukb",
      "include_colab_link": true
    },
    "kernelspec": {
      "name": "python3",
      "display_name": "Python 3"
    },
    "language_info": {
      "name": "python"
    }
  },
  "cells": [
    {
      "cell_type": "markdown",
      "metadata": {
        "id": "view-in-github",
        "colab_type": "text"
      },
      "source": [
        "<a href=\"https://colab.research.google.com/github/henrique-furtado47/Algoritmos-python/blob/main/Exercicios_cap5_livro_python_.ipynb\" target=\"_parent\"><img src=\"https://colab.research.google.com/assets/colab-badge.svg\" alt=\"Open In Colab\"/></a>"
      ]
    },
    {
      "cell_type": "code",
      "execution_count": null,
      "metadata": {
        "colab": {
          "base_uri": "https://localhost:8080/"
        },
        "id": "cmT-Mm52uG9E",
        "outputId": "56dea1b2-7ba1-4220-ebb2-1127b14d17d7"
      },
      "outputs": [
        {
          "output_type": "stream",
          "name": "stdout",
          "text": [
            "Sua soma terá quantos números? 2\n",
            "Digite o 1º número: 1\n",
            "Digite o 2º número: 3\n",
            "Soma: 4\n"
          ]
        }
      ],
      "source": [
        "n=1\n",
        "soma=0\n",
        "fim= int(input(\"Sua soma terá quantos números? \"))\n",
        "while n <=fim:\n",
        "  x=int(input(f\"Digite o {n}º número: \"))\n",
        "  soma = soma + x\n",
        "  n = n + 1\n",
        "print(f\"Soma: {soma}\")"
      ]
    },
    {
      "cell_type": "code",
      "source": [
        "#dia\n",
        "n =1\n",
        "soma=0\n",
        "fim=int(input(\"Digite a quantidade de avaliações que você teve: \"))\n",
        "while n <=fim:\n",
        "  nota=int(input(f\"Digite a nota da {n}º avaliação: \"))\n",
        "  soma= soma+nota\n",
        "  n= n + 1\n",
        "media=(soma/fim)\n",
        "if media>7:\n",
        "  print(f\"A sua média é igual a {media: .1f} e você foi aprovado!\")\n",
        "else:\n",
        "  print(f\"A sua média é igual a {media: .1f} e você foi reprovado.\")"
      ],
      "metadata": {
        "colab": {
          "base_uri": "https://localhost:8080/"
        },
        "id": "6TAogI_8vF8J",
        "outputId": "01557f0d-fcb5-4360-fd59-88df5be5145f"
      },
      "execution_count": null,
      "outputs": [
        {
          "output_type": "stream",
          "name": "stdout",
          "text": [
            "Digite a quantidade de avaliações que você teve: 3\n",
            "Digite a nota da 1º avaliação: 10\n",
            "Digite a nota da 2º avaliação: 4\n",
            "Digite a nota da 3º avaliação: 8\n",
            "A sua média é igual a  7.3 e você foi aprovado!\n"
          ]
        }
      ]
    },
    {
      "cell_type": "code",
      "source": [
        "#Poupança 1\n",
        "depósito = float(input(\"Depósito inicial: \"))\n",
        "taxa = float(input(\"Taxa de juros (Ex.: 3 para 3%): \"))\n",
        "mês = 1\n",
        "saldo = depósito\n",
        "while mês <= 24:\n",
        "    saldo = saldo + (saldo * (taxa / 100))\n",
        "    print(f\"Saldo do mês {mês} é de R${saldo:5.2f}.\")\n",
        "    mês = mês + 1\n",
        "print(f\"O ganho obtido com os juros foi de R${saldo-depósito:8.2f}.\")\n"
      ],
      "metadata": {
        "colab": {
          "base_uri": "https://localhost:8080/"
        },
        "id": "I6qiUNE9vgbu",
        "outputId": "9728236c-16fc-4087-aad7-67adef356fb7"
      },
      "execution_count": null,
      "outputs": [
        {
          "output_type": "stream",
          "name": "stdout",
          "text": [
            "Depósito inicial: 1000\n",
            "Taxa de juros (Ex.: 3 para 3%): 5\n",
            "Saldo do mês 1 é de R$1050.00.\n",
            "Saldo do mês 2 é de R$1102.50.\n",
            "Saldo do mês 3 é de R$1157.62.\n",
            "Saldo do mês 4 é de R$1215.51.\n",
            "Saldo do mês 5 é de R$1276.28.\n",
            "Saldo do mês 6 é de R$1340.10.\n",
            "Saldo do mês 7 é de R$1407.10.\n",
            "Saldo do mês 8 é de R$1477.46.\n",
            "Saldo do mês 9 é de R$1551.33.\n",
            "Saldo do mês 10 é de R$1628.89.\n",
            "Saldo do mês 11 é de R$1710.34.\n",
            "Saldo do mês 12 é de R$1795.86.\n",
            "Saldo do mês 13 é de R$1885.65.\n",
            "Saldo do mês 14 é de R$1979.93.\n",
            "Saldo do mês 15 é de R$2078.93.\n",
            "Saldo do mês 16 é de R$2182.87.\n",
            "Saldo do mês 17 é de R$2292.02.\n",
            "Saldo do mês 18 é de R$2406.62.\n",
            "Saldo do mês 19 é de R$2526.95.\n",
            "Saldo do mês 20 é de R$2653.30.\n",
            "Saldo do mês 21 é de R$2785.96.\n",
            "Saldo do mês 22 é de R$2925.26.\n",
            "Saldo do mês 23 é de R$3071.52.\n",
            "Saldo do mês 24 é de R$3225.10.\n",
            "O ganho obtido com os juros foi de R$ 2225.10.\n"
          ]
        }
      ]
    },
    {
      "cell_type": "code",
      "source": [
        "#Poupança 2\n",
        "depósito = float(input(\"Depósito inicial: \"))\n",
        "taxa = float(input(\"Taxa de juros (Ex.: 3 para 3%): \"))\n",
        "investimento = float(input(\"Depósito mensal: \"))\n",
        "mês = 1\n",
        "saldo = depósito\n",
        "while mês <= 24:\n",
        "    saldo = saldo + (saldo * (taxa / 100)) + investimento\n",
        "    print(f\"Saldo do mês {mês} é de R${saldo:5.2f}.\")\n",
        "    mês = mês + 1"
      ],
      "metadata": {
        "colab": {
          "base_uri": "https://localhost:8080/"
        },
        "id": "d-aYSzFeyQPP",
        "outputId": "26543429-6125-4e69-f8ab-36c1db922c2d"
      },
      "execution_count": null,
      "outputs": [
        {
          "output_type": "stream",
          "name": "stdout",
          "text": [
            "Depósito inicial: 1000\n",
            "Taxa de juros (Ex.: 3 para 3%): 3\n",
            "Depósito mensal: 1000\n",
            "Saldo do mês 1 é de R$2030.00.\n",
            "Saldo do mês 2 é de R$3090.90.\n",
            "Saldo do mês 3 é de R$4183.63.\n",
            "Saldo do mês 4 é de R$5309.14.\n",
            "Saldo do mês 5 é de R$6468.41.\n",
            "Saldo do mês 6 é de R$7662.46.\n",
            "Saldo do mês 7 é de R$8892.34.\n",
            "Saldo do mês 8 é de R$10159.11.\n",
            "Saldo do mês 9 é de R$11463.88.\n",
            "Saldo do mês 10 é de R$12807.80.\n",
            "Saldo do mês 11 é de R$14192.03.\n",
            "Saldo do mês 12 é de R$15617.79.\n",
            "Saldo do mês 13 é de R$17086.32.\n",
            "Saldo do mês 14 é de R$18598.91.\n",
            "Saldo do mês 15 é de R$20156.88.\n",
            "Saldo do mês 16 é de R$21761.59.\n",
            "Saldo do mês 17 é de R$23414.44.\n",
            "Saldo do mês 18 é de R$25116.87.\n",
            "Saldo do mês 19 é de R$26870.37.\n",
            "Saldo do mês 20 é de R$28676.49.\n",
            "Saldo do mês 21 é de R$30536.78.\n",
            "Saldo do mês 22 é de R$32452.88.\n",
            "Saldo do mês 23 é de R$34426.47.\n",
            "Saldo do mês 24 é de R$36459.26.\n"
          ]
        }
      ]
    },
    {
      "cell_type": "code",
      "source": [
        "#Dívida\n",
        "dívida = float(input(\"Dívida: \"))\n",
        "taxa = float(input(\"Juros (Ex.: 3 para 3%): \"))\n",
        "pagamento = float(input(\"Pagamento mensal:\"))\n",
        "mês = 1\n",
        "if dívida * (taxa / 100) > pagamento:\n",
        "    print(\n",
        "        \"Sua dívida não será paga nunca, pois os juros são superiores ao pagamento mensal.\"\n",
        "    )\n",
        "else:\n",
        "    saldo = dívida\n",
        "    juros_pago = 0\n",
        "    while saldo > pagamento:\n",
        "        juros = saldo * taxa / 100\n",
        "        saldo = saldo + juros - pagamento\n",
        "        juros_pago = juros_pago + juros\n",
        "        print(f\"Saldo da dívida no mês {mês} é de R${saldo:6.2f}.\")\n",
        "        mês = mês + 1\n",
        "    print(f\"Para pagar uma dívida de R${dívida:8.2f}, a {taxa:5.2f} % de juros,\")\n",
        "    print(\n",
        "        f\"você precisará de {mês - 1} meses, pagando um total de R${juros_pago:8.2f} de juros.\"\n",
        "    )\n",
        "    print(f\"No último mês, você teria um saldo residual de R${saldo:8.2f} a pagar.\")"
      ],
      "metadata": {
        "colab": {
          "base_uri": "https://localhost:8080/"
        },
        "id": "cS1pI1M87060",
        "outputId": "5b7d9eec-0449-4ec7-acf0-333cea446602"
      },
      "execution_count": null,
      "outputs": [
        {
          "output_type": "stream",
          "name": "stdout",
          "text": [
            "Dívida: 1000\n",
            "Juros (Ex.: 3 para 3%): 5\n",
            "Pagamento mensal:100\n",
            "Saldo da dívida no mês 1 é de R$950.00.\n",
            "Saldo da dívida no mês 2 é de R$897.50.\n",
            "Saldo da dívida no mês 3 é de R$842.38.\n",
            "Saldo da dívida no mês 4 é de R$784.49.\n",
            "Saldo da dívida no mês 5 é de R$723.72.\n",
            "Saldo da dívida no mês 6 é de R$659.90.\n",
            "Saldo da dívida no mês 7 é de R$592.90.\n",
            "Saldo da dívida no mês 8 é de R$522.54.\n",
            "Saldo da dívida no mês 9 é de R$448.67.\n",
            "Saldo da dívida no mês 10 é de R$371.11.\n",
            "Saldo da dívida no mês 11 é de R$289.66.\n",
            "Saldo da dívida no mês 12 é de R$204.14.\n",
            "Saldo da dívida no mês 13 é de R$114.35.\n",
            "Saldo da dívida no mês 14 é de R$ 20.07.\n",
            "Para pagar uma dívida de R$ 1000.00, a  5.00 % de juros,\n",
            "você precisará de 14 meses, pagando um total de R$  420.07 de juros.\n",
            "No último mês, você teria um saldo residual de R$   20.07 a pagar.\n"
          ]
        }
      ]
    },
    {
      "cell_type": "code",
      "source": [
        "l=0\n",
        "soma=0\n",
        "media=0\n",
        "while True:\n",
        "  n=int(input(\"Digite um número inteiro: \"))\n",
        "  if n==0:\n",
        "    break\n",
        "  l+=1\n",
        "  soma+=n\n",
        "  media=(soma/l)\n",
        "print(f\"A quantidade de números digitados foi {l}, a soma dos números foi {soma} e a média aritmética é {media: .2f}\")\n"
      ],
      "metadata": {
        "id": "pbCpLQzbVT5g"
      },
      "execution_count": null,
      "outputs": []
    },
    {
      "cell_type": "code",
      "source": [
        "total=0\n",
        "preco=0\n",
        "while True:\n",
        "  produto=int(input(\"Digite o código do produto: \"))\n",
        "  if produto==1:\n",
        "    preco=0.5\n",
        "    quantidade=int(input(\"Digite a quantidade deste produto: \"))\n",
        "  elif produto==2:\n",
        "    preco=1\n",
        "    quantidade=int(input(\"Digite a quantidade deste produto: \"))\n",
        "  elif produto==3:\n",
        "    preco=4\n",
        "    quantidade=int(input(\"Digite a quantidade deste produto: \"))\n",
        "  elif produto==5:\n",
        "    preco=7\n",
        "    quantidade=int(input(\"Digite a quantidade deste produto: \"))\n",
        "  elif produto==9:\n",
        "    preco=8\n",
        "    quantidade=int(input(\"Digite a quantidade deste produto: \"))\n",
        "  elif produto==0:\n",
        "    break\n",
        "  else:\n",
        "    print(\"Código inválido\")\n",
        "  total+=(preco*quantidade)\n",
        "print(f\"O total da compra foi R${total: .2f}\")\n",
        "pago=float(input(\"Digite o total que foi pago: \"))\n",
        "troco=pago-total\n",
        "if troco>0:\n",
        " print(f\"Retorne R${troco: .2f} de troco\")\n",
        "elif troco==0\n",
        " print(\"Operação concluída\")\n",
        "else:\n",
        " print(f\"Faltou R${troco: .2f} a pagar\")"
      ],
      "metadata": {
        "id": "Z7RDLcInWmsM",
        "outputId": "2b6ed550-00a4-4efe-e947-0b6bae8a08de",
        "colab": {
          "base_uri": "https://localhost:8080/"
        }
      },
      "execution_count": 9,
      "outputs": [
        {
          "output_type": "stream",
          "name": "stdout",
          "text": [
            "Digite o código do produto: 1\n",
            "Digite a quantidade deste produto: 4\n",
            "Digite o código do produto: 7\n",
            "Código inválido\n",
            "Digite o código do produto: 6\n",
            "Código inválido\n",
            "Digite o código do produto: 9\n",
            "Digite a quantidade deste produto: 2\n",
            "Digite o código do produto: 3\n",
            "Digite a quantidade deste produto: 2\n",
            "Digite o código do produto: 0\n",
            "O total da compra foi R$ 30.00\n",
            "Digite o total que foi pago: 35\n",
            "Retorne R$ 5.00 de troco\n"
          ]
        }
      ]
    },
    {
      "cell_type": "code",
      "source": [
        "valor = float(input(\"Digite o valor a pagar:\"))\n",
        "cédulas = 0\n",
        "atual = 100\n",
        "apagar = valor\n",
        "while True:\n",
        "    if atual <= apagar:\n",
        "        apagar -= atual\n",
        "        cédulas += 1\n",
        "    else:\n",
        "        if atual >= 1:\n",
        "            print(f\"{cédulas} cédula(s) de R${atual}\")\n",
        "        else:\n",
        "            print(f\"{cédulas} moeda(s) de R${atual:5.2f}\")\n",
        "        if apagar < 0.01:\n",
        "            break\n",
        "        elif atual == 100:\n",
        "            atual = 50\n",
        "        elif atual == 50:\n",
        "            atual = 20\n",
        "        elif atual == 20:\n",
        "            atual = 10\n",
        "        elif atual == 10:\n",
        "            atual = 5\n",
        "        elif atual == 5:\n",
        "            atual = 1\n",
        "        elif atual == 1:\n",
        "            atual = 0.50\n",
        "        elif atual == 0.50:\n",
        "            atual = 0.10\n",
        "        elif atual == 0.10:\n",
        "            atual = 0.05\n",
        "        elif atual == 0.05:\n",
        "            atual = 0.02\n",
        "        elif atual == 0.02:\n",
        "            atual = 0.01\n",
        "        cédulas = 0"
      ],
      "metadata": {
        "id": "aq6xDnlZfrex"
      },
      "execution_count": null,
      "outputs": []
    }
  ]
}