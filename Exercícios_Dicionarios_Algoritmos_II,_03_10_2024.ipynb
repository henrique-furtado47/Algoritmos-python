{
  "nbformat": 4,
  "nbformat_minor": 0,
  "metadata": {
    "colab": {
      "provenance": [],
      "authorship_tag": "ABX9TyNFvjAWWMQBL83+oIIJDOSe",
      "include_colab_link": true
    },
    "kernelspec": {
      "name": "python3",
      "display_name": "Python 3"
    },
    "language_info": {
      "name": "python"
    }
  },
  "cells": [
    {
      "cell_type": "markdown",
      "metadata": {
        "id": "view-in-github",
        "colab_type": "text"
      },
      "source": [
        "<a href=\"https://colab.research.google.com/github/henrique-furtado47/Algoritmos-python/blob/main/Exerc%C3%ADcios_Dicionarios_Algoritmos_II%2C_03_10_2024.ipynb\" target=\"_parent\"><img src=\"https://colab.research.google.com/assets/colab-badge.svg\" alt=\"Open In Colab\"/></a>"
      ]
    },
    {
      "cell_type": "markdown",
      "source": [
        "**1. Crie um dicionário que contenha os nomes de 10 pessoas e suas respectivas\n",
        "idades.**"
      ],
      "metadata": {
        "id": "LxCksHF8gHFR"
      }
    },
    {
      "cell_type": "code",
      "execution_count": 54,
      "metadata": {
        "id": "1g1YnIO2f-CK"
      },
      "outputs": [],
      "source": [
        "dicionario={'Henrique': 18, 'Luis': 19, 'Gabrieli': 19, 'José': 19, 'Paulo': 19, 'Regiane': 45, 'Claudemir': 50, 'Larissa': 23, 'Leticia': 20, 'João Lucas': 22}"
      ]
    },
    {
      "cell_type": "markdown",
      "source": [
        "**2. Imprima o nome e a idade de todas as pessoas no dicionário.**"
      ],
      "metadata": {
        "id": "6ZyJiGo1gtmY"
      }
    },
    {
      "cell_type": "code",
      "source": [
        "for i, j in dicionario.items():\n",
        "  print(f'Nome: {i}, Idade: {j}')"
      ],
      "metadata": {
        "colab": {
          "base_uri": "https://localhost:8080/"
        },
        "id": "qGdCdbAwgvS4",
        "outputId": "7984f446-6f4d-4935-89cd-9371328a6c47"
      },
      "execution_count": 11,
      "outputs": [
        {
          "output_type": "stream",
          "name": "stdout",
          "text": [
            "Nome: Henrique, Idade: 18\n",
            "Nome: Luis, Idade: 18\n",
            "Nome: Gabrieli, Idade: 19\n",
            "Nome: José, Idade: 19\n",
            "Nome: Paulo, Idade: 19\n",
            "Nome: Regiane, Idade: 45\n",
            "Nome: Claudemir, Idade: 50\n",
            "Nome: Larissa, Idade: 23\n",
            "Nome: Leticia, Idade: 20\n",
            "Nome: João Lucas, Idade: 22\n"
          ]
        }
      ]
    },
    {
      "cell_type": "markdown",
      "source": [
        "**3. Crie uma função que receba um nome como parâmetro e retorne a idade da\n",
        "pessoa correspondente no dicionário.**"
      ],
      "metadata": {
        "id": "prFxfa1ihOSq"
      }
    },
    {
      "cell_type": "code",
      "source": [
        "def verificar_nome(nome):\n",
        "  if nome not in dicionario:\n",
        "    print('Pessoa não encontrada')\n",
        "verificar_nome('Jorge')"
      ],
      "metadata": {
        "colab": {
          "base_uri": "https://localhost:8080/"
        },
        "id": "nxF1l-lLi4Lf",
        "outputId": "21146e97-6d92-4f5b-cdbd-a6c5b249c482"
      },
      "execution_count": 23,
      "outputs": [
        {
          "output_type": "stream",
          "name": "stdout",
          "text": [
            "Pessoa não encontrada\n"
          ]
        }
      ]
    },
    {
      "cell_type": "code",
      "source": [
        "def procurar_idade(nome):\n",
        "  verificar_nome(nome)\n",
        "  return dicionario[nome]\n",
        "print(procurar_idade('Henrique'))"
      ],
      "metadata": {
        "colab": {
          "base_uri": "https://localhost:8080/"
        },
        "id": "D9xiN02fgwqr",
        "outputId": "13f1456e-2806-4c77-d21a-37abde069354"
      },
      "execution_count": 52,
      "outputs": [
        {
          "output_type": "stream",
          "name": "stdout",
          "text": [
            "18\n"
          ]
        }
      ]
    },
    {
      "cell_type": "markdown",
      "source": [
        "**4. Crie uma função que receba um nome e uma nova idade como parâmetros e\n",
        "atualize a idade da pessoa correspondente no dicionário.**"
      ],
      "metadata": {
        "id": "1fo-7M7Mhxw3"
      }
    },
    {
      "cell_type": "code",
      "source": [
        "def atualizar_idade(nome, idade):\n",
        "  verificar_nome(nome)\n",
        "  dicionario[nome]=idade"
      ],
      "metadata": {
        "colab": {
          "base_uri": "https://localhost:8080/"
        },
        "id": "tJKwMS6Whh-m",
        "outputId": "5d8aca66-d9f9-49b3-da6f-cd19834f0ac7"
      },
      "execution_count": 16,
      "outputs": [
        {
          "output_type": "stream",
          "name": "stdout",
          "text": [
            "18\n"
          ]
        }
      ]
    },
    {
      "cell_type": "markdown",
      "source": [
        "**5. Crie uma função que remova uma pessoa do dicionário.**"
      ],
      "metadata": {
        "id": "VAyIfNvwiqjl"
      }
    },
    {
      "cell_type": "code",
      "source": [
        "def remover_pessoa(nome):\n",
        "  verificar_nome(nome)\n",
        "  dicionario.pop(nome)\n",
        "  print(f\"{nome} removid@\")"
      ],
      "metadata": {
        "id": "UxIGSUoXiKqo"
      },
      "execution_count": 53,
      "outputs": []
    },
    {
      "cell_type": "markdown",
      "source": [
        "**6. Crie uma função que retorne a quantidade de pessoas no dicionário.**"
      ],
      "metadata": {
        "id": "CtZMwMJdjZqo"
      }
    },
    {
      "cell_type": "code",
      "source": [
        "def quantidade_pessoas():\n",
        "  return len(dicionario)\n",
        "print(quantidade_pessoas())"
      ],
      "metadata": {
        "colab": {
          "base_uri": "https://localhost:8080/"
        },
        "id": "2GjrRweaiyR4",
        "outputId": "c5ee483b-6ef8-488b-d357-9c3c4f0a1ef6"
      },
      "execution_count": 20,
      "outputs": [
        {
          "output_type": "stream",
          "name": "stdout",
          "text": [
            "10\n"
          ]
        }
      ]
    },
    {
      "cell_type": "markdown",
      "source": [
        "**7. Crie uma função que retorne a média das idades das pessoas no dicionário.**"
      ],
      "metadata": {
        "id": "hsYKWXvckBKV"
      }
    },
    {
      "cell_type": "code",
      "source": [
        "def calcular_media():\n",
        "  soma=sum(dicionario.values())\n",
        "  return soma/len(dicionario)"
      ],
      "metadata": {
        "colab": {
          "base_uri": "https://localhost:8080/"
        },
        "id": "V4mx5PlkjfFm",
        "outputId": "814c16f4-0606-48ec-8aff-184a9cbcb8fd"
      },
      "execution_count": 28,
      "outputs": [
        {
          "output_type": "stream",
          "name": "stdout",
          "text": [
            "25.3\n"
          ]
        }
      ]
    },
    {
      "cell_type": "markdown",
      "source": [
        "**8. Crie uma função que retorne a pessoa mais velha do dicionário.**"
      ],
      "metadata": {
        "id": "-9z7S4_2kjIX"
      }
    },
    {
      "cell_type": "code",
      "source": [
        "def mais_velha():\n",
        "  idade=max(dicionario, key=dicionario.get)\n",
        "  return idade\n",
        "print(mais_velha())"
      ],
      "metadata": {
        "colab": {
          "base_uri": "https://localhost:8080/"
        },
        "id": "TnC5v1mkkaWT",
        "outputId": "56d2b370-2da9-4c0c-9f07-20a4da5f89cf"
      },
      "execution_count": 44,
      "outputs": [
        {
          "output_type": "stream",
          "name": "stdout",
          "text": [
            "Claudemir\n"
          ]
        }
      ]
    },
    {
      "cell_type": "markdown",
      "source": [
        "**9. Crie uma função que retorne a pessoa mais nova do dicionário.**"
      ],
      "metadata": {
        "id": "orhLAbKGmkn5"
      }
    },
    {
      "cell_type": "code",
      "source": [
        "def mais_nova():\n",
        "  idade=min(dicionario, key=dicionario.get)\n",
        "  return idade\n",
        "print(mais_nova())"
      ],
      "metadata": {
        "colab": {
          "base_uri": "https://localhost:8080/"
        },
        "id": "j-PM0quWkuzE",
        "outputId": "39ea800a-e4f0-4164-f78d-f50b2654cf38"
      },
      "execution_count": 46,
      "outputs": [
        {
          "output_type": "stream",
          "name": "stdout",
          "text": [
            "Henrique\n"
          ]
        }
      ]
    },
    {
      "cell_type": "markdown",
      "source": [
        "**10. Crie uma função que retorne uma lista com as pessoas cujo nome começa com a\n",
        "letra \"J\".**"
      ],
      "metadata": {
        "id": "68o8FAL2mwoX"
      }
    },
    {
      "cell_type": "code",
      "source": [
        "def lista_j():\n",
        "  lista=[]\n",
        "  for nome in dicionario.keys():\n",
        "    if nome[0:1]=='J':\n",
        "      lista.append(nome)\n",
        "  return lista\n",
        "print(lista_j())"
      ],
      "metadata": {
        "colab": {
          "base_uri": "https://localhost:8080/"
        },
        "id": "jvjAAnilmr9F",
        "outputId": "98dc7d81-c497-41f1-baa5-96480958a060"
      },
      "execution_count": 50,
      "outputs": [
        {
          "output_type": "stream",
          "name": "stdout",
          "text": [
            "['José', 'João Lucas']\n"
          ]
        }
      ]
    }
  ]
}