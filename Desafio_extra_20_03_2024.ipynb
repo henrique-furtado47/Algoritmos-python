{
  "nbformat": 4,
  "nbformat_minor": 0,
  "metadata": {
    "colab": {
      "provenance": [],
      "authorship_tag": "ABX9TyMzVvFUBsBWhc3KT6QNto76",
      "include_colab_link": true
    },
    "kernelspec": {
      "name": "python3",
      "display_name": "Python 3"
    },
    "language_info": {
      "name": "python"
    }
  },
  "cells": [
    {
      "cell_type": "markdown",
      "metadata": {
        "id": "view-in-github",
        "colab_type": "text"
      },
      "source": [
        "<a href=\"https://colab.research.google.com/github/henrique-furtado47/Algoritmos-python/blob/main/Desafio_extra_20_03_2024.ipynb\" target=\"_parent\"><img src=\"https://colab.research.google.com/assets/colab-badge.svg\" alt=\"Open In Colab\"/></a>"
      ]
    },
    {
      "cell_type": "code",
      "execution_count": null,
      "metadata": {
        "colab": {
          "base_uri": "https://localhost:8080/"
        },
        "id": "hEFpiRVnmu2I",
        "outputId": "fefe84ef-3b36-43d7-8bd6-e8408ccf3807"
      },
      "outputs": [
        {
          "output_type": "stream",
          "name": "stdout",
          "text": [
            "Insira o valor do lado do quadrado: 6\n",
            "A área do quadrado é igual a  36.0, e seu perímetro é igual a  24.0 \n"
          ]
        }
      ],
      "source": [
        "lado = float(input(\"Insira o valor do lado do quadrado: \"))\n",
        "area= (lado**2)\n",
        "perimetro= (lado*4)\n",
        "print(f\"A área do quadrado é igual a {area: .1f}, e seu perímetro é igual a {perimetro: .1f} \")"
      ]
    },
    {
      "cell_type": "code",
      "source": [
        "print(\"Vou adivinhar seu nome e quantos filhos você tem\")\n",
        "nome= str(input(\"Qual é seu nome? \"))\n",
        "filhos= int(input(\"Quantos filhos você tem? \"))\n",
        "print(f\"{nome} tem {filhos} filhos.\")"
      ],
      "metadata": {
        "colab": {
          "base_uri": "https://localhost:8080/"
        },
        "id": "R5dxUJlSnhg1",
        "outputId": "3c84dda7-c198-4f53-9765-bfeadbbc03ad"
      },
      "execution_count": null,
      "outputs": [
        {
          "output_type": "stream",
          "name": "stdout",
          "text": [
            "Vou adivinhar seu nome e quantos filhos você tem\n",
            "Qual é seu nome? Henrique\n",
            "Quantos filhos você tem? 0\n",
            "Henrique tem 0 filhos.\n"
          ]
        }
      ]
    },
    {
      "cell_type": "code",
      "source": [
        "base = float(input(\"Insira a base do retângulo: \"))\n",
        "altura= float(input(\"Insira a altura do retângulo: \"))\n",
        "area= (base*altura)\n",
        "perimetro= (2*(base+altura))\n",
        "print(f\"A área do retângulo é igual a {area: .1f} e o perímetro é igual a {perimetro: .1f}\")"
      ],
      "metadata": {
        "colab": {
          "base_uri": "https://localhost:8080/"
        },
        "id": "ygG-4SPeoKk4",
        "outputId": "a16069ac-9057-4c7d-95da-4854b98e7df1"
      },
      "execution_count": null,
      "outputs": [
        {
          "output_type": "stream",
          "name": "stdout",
          "text": [
            "Insira a base do retângulo: 9\n",
            "Insira a altura do retângulo: 8\n",
            "A área do retângulo é igual a  72.0 e o perímetro é igual a  34.0\n"
          ]
        }
      ]
    },
    {
      "cell_type": "code",
      "source": [
        "lado=float(input(\"Insira o valor do lado do cubo: \"))\n",
        "area=(6*(lado**2))\n",
        "volume=(lado**3)\n",
        "print(f\"A área do cubo é igual a{area: .1f} e o volume é igual a {volume: .1f}\")"
      ],
      "metadata": {
        "colab": {
          "base_uri": "https://localhost:8080/"
        },
        "id": "0JMoTG0so9IP",
        "outputId": "168e0f46-3a19-48fb-e14c-3349419d7868"
      },
      "execution_count": null,
      "outputs": [
        {
          "output_type": "stream",
          "name": "stdout",
          "text": [
            "Insira o valor do lado do cubo: 2\n",
            "A área do cubo é igual a 24.0 e o volume é igual a  8.0\n"
          ]
        }
      ]
    },
    {
      "cell_type": "code",
      "source": [
        "num1=float(input(\"Insira o valor do primeiro número: \"))\n",
        "num2=float(input(\"Insira o valor do segundo número: \"))\n",
        "quociente=int(num1//num2)\n",
        "resto=int(num1%num2)\n",
        "print(f\"O quociente da divisão inteira de {num1} por {num2} é igual a {quociente} e o resto da divisão é igual a {resto}.\")"
      ],
      "metadata": {
        "colab": {
          "base_uri": "https://localhost:8080/"
        },
        "id": "wrD4dyitqA4a",
        "outputId": "6c13db86-1df9-4152-846c-e0e153da7080"
      },
      "execution_count": null,
      "outputs": [
        {
          "output_type": "stream",
          "name": "stdout",
          "text": [
            "Insira o valor do primeiro número: 4.5\n",
            "Insira o valor do segundo número: 9.1\n",
            "O quociente da divisão inteira de 4.5 por 9.1 é igual a 0 e o resto da divisão é igual a 4.\n"
          ]
        }
      ]
    },
    {
      "cell_type": "code",
      "source": [
        "base=float(input(\"Insira o valor da base do triângulo: \"))\n",
        "altura=float(input(\"Insira o valor da altura do triângulo: \"))\n",
        "area=((base*altura)/2)\n",
        "print(f\"A área do triângulo é igual a {area}\")"
      ],
      "metadata": {
        "colab": {
          "base_uri": "https://localhost:8080/"
        },
        "id": "6cRGGuzZq-lq",
        "outputId": "9e81a77a-3cee-4298-ca3c-33d69c7d77b8"
      },
      "execution_count": null,
      "outputs": [
        {
          "output_type": "stream",
          "name": "stdout",
          "text": [
            "Insira o valor da base do triângulo: 2\n",
            "Insira o valor da altura do triângulo: 5\n",
            "A área do triângulo é igual a 5.0\n"
          ]
        }
      ]
    },
    {
      "cell_type": "code",
      "source": [
        "import math\n",
        "\n",
        "raio=float(input(\"Digite o raio da circunferência: \"))\n",
        "perimetro= (2 * math.pi * raio)\n",
        "area=(math.pi *(raio**2))\n",
        "print(f\"A área da circunferência é igual a {area: .2f} e seu perímetro é igual a {perimetro: .2f}\")"
      ],
      "metadata": {
        "colab": {
          "base_uri": "https://localhost:8080/"
        },
        "id": "cNPNe5jRr02u",
        "outputId": "13c23a98-9e47-41c3-ddcf-7764647f3e02"
      },
      "execution_count": null,
      "outputs": [
        {
          "output_type": "stream",
          "name": "stdout",
          "text": [
            "Digite o raio da circunferência: 5\n",
            "A área da circunferência é igual a  78.54 e seu perímetro é igual a  31.42\n"
          ]
        }
      ]
    }
  ]
}