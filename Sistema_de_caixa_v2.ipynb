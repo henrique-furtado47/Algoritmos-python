{
  "nbformat": 4,
  "nbformat_minor": 0,
  "metadata": {
    "colab": {
      "provenance": [],
      "authorship_tag": "ABX9TyPRhD24uz0LOaLuYJkOZj6i",
      "include_colab_link": true
    },
    "kernelspec": {
      "name": "python3",
      "display_name": "Python 3"
    },
    "language_info": {
      "name": "python"
    }
  },
  "cells": [
    {
      "cell_type": "markdown",
      "metadata": {
        "id": "view-in-github",
        "colab_type": "text"
      },
      "source": [
        "<a href=\"https://colab.research.google.com/github/henrique-furtado47/Algoritmos-python/blob/main/Sistema_de_caixa_v2.ipynb\" target=\"_parent\"><img src=\"https://colab.research.google.com/assets/colab-badge.svg\" alt=\"Open In Colab\"/></a>"
      ]
    },
    {
      "cell_type": "markdown",
      "source": [
        "# Sistema de Caixa feito em python\n",
        "## Desenvolvido por Henrique Furtado\n",
        "\n",
        "Remake do sistema de caixa com estoque e carrinho feito em python com Jupyter Notebook.\n",
        "\n",
        "Bibliotecas usadas: Pandas\n",
        "                    IPython.display"
      ],
      "metadata": {
        "id": "mzNTFaTfQR2m"
      }
    },
    {
      "cell_type": "code",
      "source": [
        "import pandas as pd\n",
        "from IPython.display import clear_output"
      ],
      "metadata": {
        "id": "ZRdClg0-3mig"
      },
      "execution_count": 117,
      "outputs": []
    },
    {
      "cell_type": "code",
      "source": [
        "#Criação dos dicionários\n",
        "estoque= {\"nomes\": [], \"quantidade\": [], \"preco\": [], \"codigo\": []}\n",
        "carrinho= {\"nomes\": [], \"quantidade\": [], \"preco\": [], \"codigo\": []}"
      ],
      "metadata": {
        "id": "uk_JOOJp87pZ"
      },
      "execution_count": 118,
      "outputs": []
    },
    {
      "cell_type": "code",
      "source": [
        "#Função visualizar estoque\n",
        "def visualizar_estoque():\n",
        "  clear_output() # Limpa o terminal\n",
        "  df=pd.DataFrame(estoque) # Transforma o dicionário em um DataFrame Pandas\n",
        "  display(df) # Mostra o DataFrame"
      ],
      "metadata": {
        "id": "HVIOvbi37PxP"
      },
      "execution_count": 119,
      "outputs": []
    },
    {
      "cell_type": "code",
      "source": [
        "def visualizar_carrinho():\n",
        "  clear_output()\n",
        "  df=pd.DataFrame(carrinho)\n",
        "  display(df)"
      ],
      "metadata": {
        "id": "xh7I_mu97Xtn"
      },
      "execution_count": 120,
      "outputs": []
    },
    {
      "cell_type": "code",
      "source": [
        "# Função de cadastrar produto no estoque\n",
        "def cadastrar_produto():\n",
        "  # Leitura dos dados\n",
        "    nome= input(\"Digite o nome do produto: \")\n",
        "    quantidade= int(input(\"Digite a quantidade do produto: \"))\n",
        "    preco= float(input(\"Digite o preço do produto: \"))\n",
        "    for i in range(len(estoque)): # Definição do código\n",
        "        codigo= len(estoque[\"codigo\"])+1\n",
        "    # Adição dos dados no estoque\n",
        "    estoque[\"nomes\"].append(nome)\n",
        "    estoque[\"quantidade\"].append(quantidade)\n",
        "    estoque[\"preco\"].append(preco)\n",
        "    estoque[\"codigo\"].append(codigo)\n",
        "    print(\"Produto cadastrado com sucesso!\")"
      ],
      "metadata": {
        "id": "r_3ip18f4Cvi"
      },
      "execution_count": 121,
      "outputs": []
    },
    {
      "cell_type": "code",
      "source": [
        "# Função de atualizar produto\n",
        "def atualizar_produto():\n",
        "  id= int(input(\"Digite o código do produto: \")) # Seleção do produto pelo ID\n",
        "  for i in range(len(estoque[\"codigo\"])):\n",
        "    if id not in estoque[\"codigo\"]: # Verificação se o produto está no estoque\n",
        "      print(\"Produto não encontrado\")\n",
        "    else:\n",
        "      # Opções\n",
        "      print(\"1 - Atualizar nome\")\n",
        "      print(\"2 - Atualizar quantidade\")\n",
        "      print(\"3 - Atualizar preço\")\n",
        "      print(\"0 - Sair\")\n",
        "      opcao= int(input(\"Digite uma opção: \"))\n",
        "      if opcao==1:\n",
        "        nome= input(\"Digite o novo nome do produto: \")\n",
        "        estoque[\"nomes\"][i]= nome\n",
        "        print(\"Produto atualizado com sucesso!\")\n",
        "      elif opcao==2:\n",
        "        quantidade= int(input(\"Digite a nova quantidade do produto: \"))\n",
        "        estoque[\"quantidade\"][i]= quantidade\n",
        "        print(\"Produto atualizado com sucesso!\")\n",
        "      elif opcao==3:\n",
        "        preco= float(input(\"Digite o novo preço do produto: \"))\n",
        "        estoque[\"preco\"][i]= preco\n",
        "        print(\"Produto atualizado com sucesso!\")\n",
        "      elif opcao==0:\n",
        "        break\n",
        "      else:\n",
        "        print(\"Opção inválida!\")"
      ],
      "metadata": {
        "id": "e5IvBxHyFzFB"
      },
      "execution_count": 122,
      "outputs": []
    },
    {
      "cell_type": "code",
      "source": [
        "def remover_produto():\n",
        "    id = int(input(\"Digite o código do produto: \"))\n",
        "    for i in range(len(estoque[\"codigo\"])):\n",
        "      if id not in estoque[\"codigo\"]:\n",
        "        print(\"Produto não encontrado\")\n",
        "      else:\n",
        "        if id == estoque[\"codigo\"][i]:\n",
        "              estoque[\"nomes\"].pop(i)\n",
        "              estoque[\"quantidade\"].pop(i)\n",
        "              estoque[\"preco\"].pop(i)\n",
        "              estoque[\"codigo\"].pop(i)\n",
        "              print(\"Produto removido com sucesso!\")"
      ],
      "metadata": {
        "id": "YMr_PY4ECxBd"
      },
      "execution_count": 133,
      "outputs": []
    },
    {
      "cell_type": "code",
      "source": [
        "def remover_produto_carrinho():\n",
        "    id = int(input(\"Digite o código do produto: \"))\n",
        "    quantidade= int(input(\"Digite a quantidade que você deseja remover: \"))\n",
        "    for i in range(len(carrinho[\"codigo\"])):\n",
        "      if id not in carrinho[\"codigo\"]:\n",
        "        print(\"Produto não encontrado\")\n",
        "      elif quantidade==carrinho[\"quantidade\"][i]:\n",
        "        carrinho[\"nomes\"].pop(i)\n",
        "        carrinho[\"quantidade\"].pop(i)\n",
        "        carrinho[\"preco\"].pop(i)\n",
        "        carrinho[\"codigo\"].pop(i)\n",
        "        print(\"Produto removido com sucesso!\")\n",
        "        break\n",
        "      elif quantidade<int(carrinho[\"quantidade\"][i]):\n",
        "        carrinho[\"quantidade\"][i]=int(carrinho[\"quantidade\"][i])-quantidade\n",
        "        print(\"Produto removido com sucesso!\")\n",
        "        break\n",
        "      else:\n",
        "        print(\"Quantidade insuficiente!\")\n",
        "        break"
      ],
      "metadata": {
        "id": "_YSdexPsNrl8"
      },
      "execution_count": 149,
      "outputs": []
    },
    {
      "cell_type": "code",
      "source": [
        "def adicionar_carrinho():\n",
        "    codigo= int(input(\"Digite o código do produto: \"))\n",
        "    if codigo in estoque[\"codigo\"]:\n",
        "        index=estoque[\"codigo\"].index(codigo)\n",
        "        carrinho[\"nomes\"].append(estoque[\"nomes\"][index])\n",
        "        carrinho[\"quantidade\"].append(input(\"Digite a quantidade do produto: \"))\n",
        "        if int(carrinho[\"quantidade\"][-1])>estoque[\"quantidade\"][index]:\n",
        "            print(\"Quantidade insuficiente!\")\n",
        "            carrinho[\"quantidade\"].pop()\n",
        "            carrinho[\"nomes\"].pop()\n",
        "            return\n",
        "        carrinho[\"preco\"].append(estoque[\"preco\"][index])\n",
        "        carrinho[\"codigo\"].append(estoque[\"codigo\"][index])\n",
        "        print(\"Produto adicionado ao carrinho com sucesso!\")\n",
        "    else:\n",
        "        print(\"Produto não encontrado!\")"
      ],
      "metadata": {
        "id": "g37r7r_84H0-"
      },
      "execution_count": 136,
      "outputs": []
    },
    {
      "cell_type": "code",
      "source": [
        "def limpar_carrinho():\n",
        "    opcao=int(input(\"Você tem certeza que quer limpar o carrinho? Essa ação é irreversível\\n1-SIM\\n2-NÃO\\n\"))\n",
        "    if opcao==1:\n",
        "      carrinho[\"nomes\"].clear()\n",
        "      carrinho[\"quantidade\"].clear()\n",
        "      carrinho[\"preco\"].clear()\n",
        "      carrinho[\"codigo\"].clear()\n",
        "      clear_output()\n",
        "      print(\"Carrinho limpo com sucesso!\")\n",
        "    elif opcao==2:\n",
        "      print(\"Carrinho não limpo!\")\n",
        "    else:\n",
        "      print(\"Opção inválida!\")"
      ],
      "metadata": {
        "id": "uYdIVlzzMva9"
      },
      "execution_count": 137,
      "outputs": []
    },
    {
      "cell_type": "code",
      "source": [
        "def finalizar_compra():\n",
        "    total = 0\n",
        "    for i in range(len(carrinho[\"nomes\"])):\n",
        "        preco = carrinho[\"preco\"][i]\n",
        "        quantidade = carrinho[\"quantidade\"][i]\n",
        "        if not isinstance(preco, (int, float)):\n",
        "            preco = float(preco)\n",
        "        if not isinstance(quantidade, (int, float)):\n",
        "            quantidade = int(quantidade)\n",
        "        total += preco * quantidade\n",
        "        estoque[\"quantidade\"][i]=estoque[\"quantidade\"][i] - int(carrinho[\"quantidade\"][i])\n",
        "    carrinho[\"nomes\"].clear()\n",
        "    carrinho[\"quantidade\"].clear()\n",
        "    carrinho[\"preco\"].clear()\n",
        "    carrinho[\"codigo\"].clear()\n",
        "    clear_output()\n",
        "    print(\"Total da compra: \", total)\n",
        "    print(\"Compra finalizada com sucesso!\")"
      ],
      "metadata": {
        "id": "vncBrPFM4Kfb"
      },
      "execution_count": 138,
      "outputs": []
    },
    {
      "cell_type": "code",
      "source": [
        "def menu():\n",
        "    print(\"1 - Acessar estoque\")\n",
        "    print(\"2 - Acessar carrinho\")\n",
        "    print(\"0 - Sair\")"
      ],
      "metadata": {
        "id": "RG1vW0JE4Nk6"
      },
      "execution_count": 139,
      "outputs": []
    },
    {
      "cell_type": "code",
      "source": [
        "def acessar_estoque():\n",
        "    print(\"1 - Cadastrar produto\")\n",
        "    print(\"2 - Listar produtos\")\n",
        "    print(\"3 - Remover produto\")\n",
        "    print(\"4 - Atualizar produto\")\n",
        "    print(\"0 - Sair\")"
      ],
      "metadata": {
        "id": "gypDXLWb4RIq"
      },
      "execution_count": 140,
      "outputs": []
    },
    {
      "cell_type": "code",
      "source": [
        "def acessar_carrinho():\n",
        "    print(\"1 - Adicionar produto ao carrinho\")\n",
        "    print(\"2 - Listar produtos do carrinho\")\n",
        "    print(\"3 - Limpar carrinho\")\n",
        "    print(\"4 - Remover produto do carrinho\")\n",
        "    print(\"5 - Finalizar compra\")\n",
        "    print(\"0 - Sair\")"
      ],
      "metadata": {
        "id": "F8vnGqI24T5i"
      },
      "execution_count": 141,
      "outputs": []
    },
    {
      "cell_type": "code",
      "source": [
        "while True:\n",
        "    menu()\n",
        "    opcao= int(input(\"Digite uma opção: \"))\n",
        "    if opcao==1:\n",
        "        acessar_estoque()\n",
        "        opcao= int(input(\"Digite uma opção: \"))\n",
        "        if opcao==1:\n",
        "            cadastrar_produto()\n",
        "        elif opcao==2:\n",
        "            visualizar_estoque()\n",
        "        elif opcao==3:\n",
        "            remover_produto()\n",
        "        elif opcao==4:\n",
        "            atualizar_produto()\n",
        "        elif opcao==0:\n",
        "            clear_output()\n",
        "            continue\n",
        "        else:\n",
        "            print(\"Opção inválida!\")\n",
        "    elif opcao==2:\n",
        "        acessar_carrinho()\n",
        "        opcao= int(input(\"Digite uma opção: \"))\n",
        "        if opcao==1:\n",
        "            adicionar_carrinho()\n",
        "        elif opcao==2:\n",
        "            visualizar_carrinho()\n",
        "        elif opcao==3:\n",
        "            limpar_carrinho()\n",
        "        elif opcao==4:\n",
        "            remover_produto_carrinho()\n",
        "        elif opcao==5:\n",
        "            finalizar_compra()\n",
        "        elif opcao==0:\n",
        "            clear_output()\n",
        "            continue\n",
        "        else:\n",
        "            print(\"Opção inválida!\")\n",
        "    elif opcao==0:\n",
        "        clear_output()\n",
        "        print(\"FIM DO PROGRAMA \")\n",
        "        break\n",
        "    else:\n",
        "        print(\"Opção inválida!\")"
      ],
      "metadata": {
        "colab": {
          "base_uri": "https://localhost:8080/",
          "height": 182
        },
        "id": "Z7yqA72C4ays",
        "outputId": "c423c05a-e25d-4f6f-9af0-f4643fb67713"
      },
      "execution_count": 151,
      "outputs": [
        {
          "output_type": "stream",
          "name": "stdout",
          "text": [
            "FIM DO PROGRAMA \n"
          ]
        }
      ]
    },
    {
      "cell_type": "code",
      "source": [],
      "metadata": {
        "id": "BNb9HjHaLnF1"
      },
      "execution_count": null,
      "outputs": []
    }
  ]
}