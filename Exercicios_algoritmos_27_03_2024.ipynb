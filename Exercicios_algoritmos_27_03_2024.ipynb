{
  "nbformat": 4,
  "nbformat_minor": 0,
  "metadata": {
    "colab": {
      "provenance": [],
      "authorship_tag": "ABX9TyMQiVVmvNX2mnFFcO+fyKgN",
      "include_colab_link": true
    },
    "kernelspec": {
      "name": "python3",
      "display_name": "Python 3"
    },
    "language_info": {
      "name": "python"
    }
  },
  "cells": [
    {
      "cell_type": "markdown",
      "metadata": {
        "id": "view-in-github",
        "colab_type": "text"
      },
      "source": [
        "<a href=\"https://colab.research.google.com/github/henrique-furtado47/Algoritmos-python/blob/main/Exercicios_algoritmos_27_03_2024.ipynb\" target=\"_parent\"><img src=\"https://colab.research.google.com/assets/colab-badge.svg\" alt=\"Open In Colab\"/></a>"
      ]
    },
    {
      "cell_type": "markdown",
      "source": [
        "**2. Ler um valor e escrever se é positivo, negativo ou zero.**"
      ],
      "metadata": {
        "id": "EB7Al7JC1erm"
      }
    },
    {
      "cell_type": "code",
      "source": [
        "num=float(input(\"Digite um número: \"))\n",
        "if num>0:\n",
        "  print(\"\\n Esse número é positivo.\")\n",
        "elif num<0:\n",
        "  print(\"\\n Esse número é negativo.\")\n",
        "else:\n",
        "  print(\"\\n Esse número é zero.\")"
      ],
      "metadata": {
        "colab": {
          "base_uri": "https://localhost:8080/"
        },
        "id": "cCyuBTkY1njU",
        "outputId": "140dd26a-78ce-40cc-f45f-29b797d64a3b"
      },
      "execution_count": null,
      "outputs": [
        {
          "output_type": "stream",
          "name": "stdout",
          "text": [
            "Digite um número: -2\n",
            "\n",
            " Esse número é negativo.\n"
          ]
        }
      ]
    },
    {
      "cell_type": "markdown",
      "source": [
        "**2. Ler um valor e escrever a mensagem É MAIOR QUE 10! se o valor lido for maior que 10,\n",
        "caso contrário escrever NÃO É MAIOR QUE 10!**"
      ],
      "metadata": {
        "id": "uaJwcXvb2D0W"
      }
    },
    {
      "cell_type": "code",
      "source": [
        "num=float(input(\"Digite um número: \"))\n",
        "if num>10:\n",
        "  print(\"É MAIOR QUE 10!\")\n",
        "else:\n",
        "  print(\"NÃO É MAIOR QUE 10!\")"
      ],
      "metadata": {
        "colab": {
          "base_uri": "https://localhost:8080/"
        },
        "id": "rbjUTDU02FW-",
        "outputId": "6a3b3869-48bf-47ea-b65e-1bfa4fcf86f6"
      },
      "execution_count": null,
      "outputs": [
        {
          "output_type": "stream",
          "name": "stdout",
          "text": [
            "Digite um número: 10.00000000000001\n",
            "É MAIOR QUE 10!\n"
          ]
        }
      ]
    },
    {
      "cell_type": "markdown",
      "source": [
        "**4. Calcule a soma de dois números, se o resultado for maior que 10, mostre-o na tela**"
      ],
      "metadata": {
        "id": "xc63tmcQ2hSE"
      }
    },
    {
      "cell_type": "code",
      "source": [
        "num1=float(input(\"Digite o primeiro número: \"))\n",
        "num2=float(input(\"Digite o segundo número: \"))\n",
        "resultado=num1+num2\n",
        "if resultado>10:\n",
        "  print(f\"O resultado é {resultado}\")"
      ],
      "metadata": {
        "colab": {
          "base_uri": "https://localhost:8080/"
        },
        "id": "TmzxWSk_2nrM",
        "outputId": "30cc5ca2-631b-4b30-e09b-6e76cdb1c895"
      },
      "execution_count": null,
      "outputs": [
        {
          "output_type": "stream",
          "name": "stdout",
          "text": [
            "Digite o primeiro número: 14\n",
            "Digite o segundo número: -3\n",
            "O resultado é 11.0\n"
          ]
        }
      ]
    },
    {
      "cell_type": "markdown",
      "source": [
        "**5. Entrar com um número e informar se ele é divisível por 5.**"
      ],
      "metadata": {
        "id": "ewRHqnTz3Hyd"
      }
    },
    {
      "cell_type": "code",
      "source": [
        "num=int(input(\"Escreva um número: \"))\n",
        "if num%5==0:\n",
        "  print(\"É divísiel por 5.\")\n",
        "else:\n",
        "  print(\"Não é divísivel por 5.\")"
      ],
      "metadata": {
        "colab": {
          "base_uri": "https://localhost:8080/"
        },
        "id": "cbawwOul3JoN",
        "outputId": "d622325c-6407-4e54-879f-6cbdc99e7b3e"
      },
      "execution_count": null,
      "outputs": [
        {
          "output_type": "stream",
          "name": "stdout",
          "text": [
            "Escreva um número: 25\n",
            "É divísiel por 5.\n"
          ]
        }
      ]
    },
    {
      "cell_type": "markdown",
      "source": [
        "**6. Construir um algoritmo que indique se o número digitado está entre 20 e 90 ou não.**"
      ],
      "metadata": {
        "id": "ZPrr8run3cVQ"
      }
    },
    {
      "cell_type": "code",
      "source": [
        "num=float(input(\"Digite um número: \"))\n",
        "if num> 20 and num<90:\n",
        "  print(f\"{num} está entre 20 e 90.\")\n",
        "else:\n",
        "  print(f\"{num} não está entre 20 e 90.\")"
      ],
      "metadata": {
        "colab": {
          "base_uri": "https://localhost:8080/"
        },
        "id": "8o1HBX_Y3kUt",
        "outputId": "fb3467f0-f35e-418c-cfff-1c4dcc160d30"
      },
      "execution_count": null,
      "outputs": [
        {
          "output_type": "stream",
          "name": "stdout",
          "text": [
            "Digite um número: 32\n",
            "32.0 está entre 20 e 90.\n"
          ]
        }
      ]
    },
    {
      "cell_type": "markdown",
      "source": [
        "**7. Ler o ano atual e o ano de nascimento de uma pessoa. Escrever uma mensagem que\n",
        "diga se ela poderá ou não votar este ano (não é necessário considerar o mês em que a\n",
        "pessoa nasceu).**"
      ],
      "metadata": {
        "id": "33g6kL-a4DP6"
      }
    },
    {
      "cell_type": "code",
      "source": [
        "atual=int(input(\"Digite o ano atual: \"))\n",
        "nascimento=int(input(\"Digite o ano de nascimento: \"))\n",
        "if atual-nascimento>=16:\n",
        "  print(\"Você pode votar esse ano.\")\n",
        "else:\n",
        "  print(\"Você ainda não pode votar esse ano.\")"
      ],
      "metadata": {
        "colab": {
          "base_uri": "https://localhost:8080/"
        },
        "id": "mkJa7BVY4GcY",
        "outputId": "a92373a5-6c51-498f-c97e-08ad6987f99e"
      },
      "execution_count": null,
      "outputs": [
        {
          "output_type": "stream",
          "name": "stdout",
          "text": [
            "Digite o ano atual: 2024\n",
            "Digite o ano de nascimento: 2005\n",
            "Você pode votar esse ano.\n"
          ]
        }
      ]
    },
    {
      "cell_type": "markdown",
      "source": [
        "**8. Entrar com o ano de nascimento de uma pessoa e imprimir a idade dela. Verificar se o\n",
        "ano digitado é válido.**"
      ],
      "metadata": {
        "id": "on-Ft75P4cpJ"
      }
    },
    {
      "cell_type": "code",
      "source": [
        "nascimento=int(input(\"Digite o ano de nascimento: \"))\n",
        "idade=2024-nascimento\n",
        "if nascimento>2024:\n",
        "  print(\"Ano inválido.\")\n",
        "else:\n",
        "  print(f\"Você tem {idade} anos.\")"
      ],
      "metadata": {
        "colab": {
          "base_uri": "https://localhost:8080/"
        },
        "id": "HI8E-2AB4dd2",
        "outputId": "a37df08d-013b-4c2a-c6d4-3e955fa19154"
      },
      "execution_count": null,
      "outputs": [
        {
          "output_type": "stream",
          "name": "stdout",
          "text": [
            "Digite o ano de nascimento: 1998\n",
            "Você tem 26 anos.\n"
          ]
        }
      ]
    },
    {
      "cell_type": "markdown",
      "source": [
        "**9. Entrar com a idade de uma pessoa e exibir a mensagem; Maior de idade, menor de\n",
        "idade ou acima de 65 anos.**"
      ],
      "metadata": {
        "id": "Otu4Q2t65NJ-"
      }
    },
    {
      "cell_type": "code",
      "source": [
        "idade=int(input(\"Digite sua idade: \"))\n",
        "if idade>=18 and idade<=65:\n",
        "  print(\"Você é maior de idade.\")\n",
        "elif idade<18:\n",
        "  print(\"Você é menor de idade.\")\n",
        "else:\n",
        "  print(\"Você é maior de 65 anos.\")"
      ],
      "metadata": {
        "colab": {
          "base_uri": "https://localhost:8080/"
        },
        "id": "f3I7zpha5SDd",
        "outputId": "c29ed3d4-99c9-41f4-c888-f3cf4e96a693"
      },
      "execution_count": null,
      "outputs": [
        {
          "output_type": "stream",
          "name": "stdout",
          "text": [
            "Digite sua idade: 65\n",
            "Você é maior de 65 anos.\n"
          ]
        }
      ]
    },
    {
      "cell_type": "markdown",
      "source": [
        "**10. Ler as notas da 1a\n",
        ". e 2a\n",
        ". avaliações de um aluno. Calcular a média aritmética simples e\n",
        "escrever uma mensagem que diga se o aluno foi ou não aprovado (considerar que se a\n",
        "nota for igual ou maior que 6 o aluno é aprovado). Escrever também a média\n",
        "calculada.**"
      ],
      "metadata": {
        "id": "RL3Xxpgy5wDn"
      }
    },
    {
      "cell_type": "code",
      "source": [
        "av1=float(input(\"Digite a nota da primeira availiação: \"))\n",
        "av2=float(input(\"Digite a nota da segunda avaliação: \"))\n",
        "media= ((av1+av2)/2)\n",
        "if media>=6:\n",
        "  print(f\"\\n Sua média foi {media} e você foi aprovado!\")\n",
        "else:\n",
        "  print(f\"\\n Sua média foi {media} e você foi reprovado.\")"
      ],
      "metadata": {
        "colab": {
          "base_uri": "https://localhost:8080/"
        },
        "id": "BtZuTrOy50YF",
        "outputId": "b34045a4-657c-48c7-8dda-e98b8ae09ed4"
      },
      "execution_count": null,
      "outputs": [
        {
          "output_type": "stream",
          "name": "stdout",
          "text": [
            "Digite a nota da primeira availiação: 4\n",
            "Digite a nota da segunda avaliação: 7\n",
            "\n",
            " Sua média foi 5.5 e você foi reprovado.\n"
          ]
        }
      ]
    },
    {
      "cell_type": "markdown",
      "source": [
        "**11. Escrever um algoritmo para ler duas notas de um aluno e escrever na tela a palavra\n",
        "“Aprovado” se a média das duas notas for maior ou igual a 7,0. Caso a média seja\n",
        "inferior a 7,0, o programa deve ler a nota do exame e calcular a média final. Se esta\n",
        "média for maior ou igual a 5,0, o programa deve escrever “Aprovado”, caso contrário\n",
        "deve escrever “Reprovado”.**"
      ],
      "metadata": {
        "id": "QbHbpaND6Zs-"
      }
    },
    {
      "cell_type": "code",
      "source": [
        "av1=float(input(\"Digite a nota da primeira avaliação: \"))\n",
        "av2=float(input(\"Digite a nota da segunda avaliação: \"))\n",
        "media1=((av1+av2)/2)\n",
        "if media1>=7:\n",
        "  print(\"Aprovado.\")\n",
        "else:\n",
        "  exame=float(input(\"Digite a nota que você tirou no exame: \"))\n",
        "  media2=((media+exame)/3)\n",
        "  if media2>=5:\n",
        "    print(\"Aprovado.\")\n",
        "  else:\n",
        "    print(\"Reprovado.\")"
      ],
      "metadata": {
        "colab": {
          "base_uri": "https://localhost:8080/"
        },
        "id": "SyPUlkbu6cW-",
        "outputId": "1514996d-e7e7-4f1e-e6f9-dabf11b1adfe"
      },
      "execution_count": null,
      "outputs": [
        {
          "output_type": "stream",
          "name": "stdout",
          "text": [
            "Digite a nota da primeira avaliação: 5\n",
            "Digite a nota da segunda avaliação: 4\n",
            "Digite a nota que você tirou no exame: 10\n",
            "Aprovado.\n"
          ]
        }
      ]
    },
    {
      "cell_type": "markdown",
      "source": [
        "**12. Escrever um algoritmo para ler a quantidade de horas aula dadas por dois professores\n",
        "e o valor por hora recebido por cada um. Mostrar na tela qual dos professores tem\n",
        "salário total maior.**\n"
      ],
      "metadata": {
        "id": "_ObHuSBJ7jre"
      }
    },
    {
      "cell_type": "code",
      "source": [
        "hora1=int(input(\"Digite a quantidade de horas que o primeiro professor recebe: \"))\n",
        "hora2=int(input(\"Digite a quantidade de horas que o segundo professor recebe: \"))\n",
        "ph1=float(input(\"\\n Digite o valor que o primeiro professor recebe por hora: \"))\n",
        "ph2=float(input(\" Digite o valor que o segundo professor recebe por hora: \"))\n",
        "if (hora1*ph1)>(hora2*ph2):\n",
        "  print(\"O primeiro professor recebe mais.\")\n",
        "elif (hora1*ph1)<(hora2*ph2):\n",
        "  print(\"O segundo professor recebe mais.\")\n",
        "else:\n",
        "  print(\"Eles recebem o mesmo.\")\n"
      ],
      "metadata": {
        "colab": {
          "base_uri": "https://localhost:8080/"
        },
        "id": "TNd6TGEZ7lo4",
        "outputId": "179f484e-4735-461d-adcd-c25764eeb94d"
      },
      "execution_count": null,
      "outputs": [
        {
          "output_type": "stream",
          "name": "stdout",
          "text": [
            "Digite a quantidade de horas que o primeiro professor recebe: 30\n",
            "Digite a quantidade de horas que o segundo professor recebe: 50\n",
            "\n",
            " Digite o valor que o primeiro professor recebe por hora: 30\n",
            "Digite o valor que o segundo professor recebe por hora: 50\n",
            "O segundo professor recebe mais.\n"
          ]
        }
      ]
    },
    {
      "cell_type": "markdown",
      "source": [
        "**13. Faça um algoritmo que leia um número inteiro e mostre uma mensagem indicando se\n",
        "este número é par ou ímpar.**"
      ],
      "metadata": {
        "id": "2gRzlad_8wNI"
      }
    },
    {
      "cell_type": "code",
      "source": [
        "num=int(input(\"Digite um número: \"))\n",
        "if num%2==0:\n",
        "  print(f\"{num} é par.\")\n",
        "else:\n",
        "  print(f\"{num} é ímpar.\")"
      ],
      "metadata": {
        "colab": {
          "base_uri": "https://localhost:8080/"
        },
        "id": "dyjA1Z_18zly",
        "outputId": "701ee3de-b959-46c0-fadf-01c736ab98d5"
      },
      "execution_count": null,
      "outputs": [
        {
          "output_type": "stream",
          "name": "stdout",
          "text": [
            "Digite um número: 0\n",
            "0 é par.\n"
          ]
        }
      ]
    },
    {
      "cell_type": "markdown",
      "source": [
        "**14. Ler o nome de 2 times e o número de gols marcados na partida. Escrever o nome do\n",
        "vencedor. Caso não haja vencedor deverá ser impressa a palavra EMPATE.**"
      ],
      "metadata": {
        "id": "bH2OLUFv9Q3s"
      }
    },
    {
      "cell_type": "code",
      "source": [
        "time1=str(input(\"Digite o nome do primeiro time: \"))\n",
        "time2=str(input(\"Digite o nome do segundo time: \"))\n",
        "gol1=int(input(f\"Digite a quantidade de gols que o {time1} fez: \"))\n",
        "gol2=int(input(f\"Digite a quantidade de gols que o {time2} fez: \"))\n",
        "if gol1>gol2:\n",
        "  print(f\"\\n O {time1} ganhou.\")\n",
        "elif gol2>gol1:\n",
        "  print(f\"\\n O {time2} ganhou.\")\n",
        "else:\n",
        "  print(\"EMPATE.\")"
      ],
      "metadata": {
        "colab": {
          "base_uri": "https://localhost:8080/"
        },
        "id": "FtiVLu6t9Z62",
        "outputId": "bc1f3bd5-368c-4f46-f342-aaf3aa621ecc"
      },
      "execution_count": null,
      "outputs": [
        {
          "output_type": "stream",
          "name": "stdout",
          "text": [
            "Digite o nome do primeiro time: Vasco\n",
            "Digite o nome do segundo time: Flamengo\n",
            "Digite a quantidade de gols que o Vasco fez: 56\n",
            "Digite a quantidade de gols que o Flamengo fez: -1246197486135613561357645619561451475698147561984\n",
            "\n",
            " O Vasco ganhou.\n"
          ]
        }
      ]
    },
    {
      "cell_type": "markdown",
      "source": [
        "**15. Entrar com a sigla do estado de uma pessoa e imprimir uma das mensagens: “Carioca,\n",
        "Paulista, Mineiro ou Outros”**"
      ],
      "metadata": {
        "id": "2kHN7tnG-ZrR"
      }
    },
    {
      "cell_type": "code",
      "source": [
        "uf=str(input(\"Digite a sigla de um estado: \"))\n",
        "if uf==\"RJ\":\n",
        "  print(\"Carioca.\")\n",
        "elif uf==\"SP\":\n",
        "  print(\"Paulista.\")\n",
        "elif uf==\"MG\":\n",
        "  print(\"Mineiro.\")\n",
        "elif uf==\"SC\":\n",
        "  print(\"Catarinense.\")\n",
        "else:\n",
        "  print(\"Outros.\")"
      ],
      "metadata": {
        "colab": {
          "base_uri": "https://localhost:8080/"
        },
        "id": "eIZkJFZx-e09",
        "outputId": "f9ce4d52-44ee-4022-9f32-15d0ee6ace1d"
      },
      "execution_count": null,
      "outputs": [
        {
          "output_type": "stream",
          "name": "stdout",
          "text": [
            "Digite a sigla de um estado: GOGOGOGO\n",
            "Outros.\n"
          ]
        }
      ]
    },
    {
      "cell_type": "markdown",
      "source": [
        "**16. Um comerciante comprou um produto e quer vendê-lo com um lucro de 45% se o valor\n",
        "da compra for menor que R$ 20,00; Caso contrário, o lucro será de 30%. Entrar com o\n",
        "valor do produto e imprimir o valor da venda.**"
      ],
      "metadata": {
        "id": "gEllQ_94_XJA"
      }
    },
    {
      "cell_type": "code",
      "source": [
        "prod=float(input(\"Digite o valor do produto: \"))\n",
        "if prod<20:\n",
        "  venda=(prod+(prod*0.45))\n",
        "else:\n",
        "  venda=(prod+(prod*0.30))\n",
        "print(f\"O valor da venda vai ser R${venda: .2f}.\")"
      ],
      "metadata": {
        "colab": {
          "base_uri": "https://localhost:8080/"
        },
        "id": "pmW_zU6K_YIa",
        "outputId": "41109674-0c89-49d5-95dd-ee96eb2da0a8"
      },
      "execution_count": null,
      "outputs": [
        {
          "output_type": "stream",
          "name": "stdout",
          "text": [
            "Digite o valor do produto: 30\n",
            "O valor da venda vai ser R$ 39.00.\n"
          ]
        }
      ]
    },
    {
      "cell_type": "markdown",
      "source": [
        "**17. Entrar com um número de 1 a 12 e exibir o mês correspondente.**"
      ],
      "metadata": {
        "id": "Uf99iI5-_5kt"
      }
    },
    {
      "cell_type": "code",
      "source": [
        "num= int(input(\"Digite um número de 1 a 12: \"))\n",
        "if num==1:\n",
        "  print(\"O mês correspondente é janeiro.\")\n",
        "elif num==2:\n",
        "  print(\"O mês correspondente é fevereiro.\")\n",
        "elif num==3:\n",
        "  print(\"O mês correspondente é março.\")\n",
        "elif num==4:\n",
        "  print(\"O mês correspondente é abril.\")\n",
        "elif num==5:\n",
        "  print(\"O mês correspondente é maio.\")\n",
        "elif num==6:\n",
        "  print(\"O mês correspondente é junho.\")\n",
        "elif num==7:\n",
        "  print(\"O mês correspondente é julho.\")\n",
        "elif num==8:\n",
        "  print(\"O mês correspondente é agosto.\")\n",
        "elif num==9:\n",
        "  print(\"O mês correspondente é setembro.\")\n",
        "elif num==10:\n",
        "  print(\"O mês correspondente é outubro.\")\n",
        "elif num==11:\n",
        "  print(\"O mês correspondente é novembro.\")\n",
        "elif num==12:\n",
        "  print(\"O mês correspondente é dezembro.\")\n",
        "else:\n",
        "  print(\"Número inválido.\")"
      ],
      "metadata": {
        "colab": {
          "base_uri": "https://localhost:8080/"
        },
        "id": "NwEZCJri_7Kp",
        "outputId": "65663890-c18f-4ccf-d9ee-032643c673b1"
      },
      "execution_count": null,
      "outputs": [
        {
          "output_type": "stream",
          "name": "stdout",
          "text": [
            "Digite um número de 1 a 12: 2\n",
            "O mês correspondente é fevereiro.\n"
          ]
        }
      ]
    },
    {
      "cell_type": "markdown",
      "source": [
        "**18. Faça um algoritmo que verifique se uma letra digitada é vogal ou consoante.**"
      ],
      "metadata": {
        "id": "YrHVBfLBAxoN"
      }
    },
    {
      "cell_type": "code",
      "source": [
        "l=str(input(\"Digite uma letra: \"))\n",
        "if l==(\"a\") or l==(\"A\") or l==(\"e\") or l==(\"E\") or l==(\"i\") or l==(\"I\") or l==(\"o\") or l==(\"O\") or l==(\"u\") or l==(\"U\"):\n",
        "  print(f\"{l} é uma vogal.\")\n",
        "elif len(l)>1:\n",
        "  print(\"Você não digitou uma letra.\")\n",
        "else:\n",
        "  print(f\"{l} é uma consoante.\")"
      ],
      "metadata": {
        "colab": {
          "base_uri": "https://localhost:8080/"
        },
        "id": "DfXcktdpAzy4",
        "outputId": "e951d8ae-df1e-44d6-a344-ebf5219469cd"
      },
      "execution_count": null,
      "outputs": [
        {
          "output_type": "stream",
          "name": "stdout",
          "text": [
            "Digite uma letra: ab\n",
            "Você não digitou uma letra.\n"
          ]
        }
      ]
    },
    {
      "cell_type": "markdown",
      "source": [
        "**19. Ler 2 valores (considere que não serão lidos valores iguais) e escrever o maior deles.**"
      ],
      "metadata": {
        "id": "NLWa1W34B_tn"
      }
    },
    {
      "cell_type": "code",
      "source": [
        "num1=float(input(\"Digite o primeiro valor: \"))\n",
        "num2=float(input(\"Digite o segundo valor: \"))\n",
        "if num1!=num2:\n",
        " if num1>num2:\n",
        "  print(f\"{num1} é maior.\")\n",
        " else:\n",
        "  print(f\"{num2} é maior.\")"
      ],
      "metadata": {
        "colab": {
          "base_uri": "https://localhost:8080/"
        },
        "id": "IcOWUw6TDPlN",
        "outputId": "2be728ec-cfb5-4cdf-c663-d945ed43f739"
      },
      "execution_count": 1,
      "outputs": [
        {
          "output_type": "stream",
          "name": "stdout",
          "text": [
            "Digite o primeiro valor: 5\n",
            "Digite o segundo valor: 4\n",
            "5.0 é maior.\n"
          ]
        }
      ]
    },
    {
      "cell_type": "markdown",
      "source": [
        "**20. Ler 2 valores (considere que não serão lidos valores iguais) e escrevê-los em ordem\n",
        "crescente.**"
      ],
      "metadata": {
        "id": "8qp6zMBzDri1"
      }
    },
    {
      "cell_type": "code",
      "source": [
        "num1=float(input(\"Digite o primeiro valor: \"))\n",
        "num2=float(input(\"Digite o segundo valor: \"))\n",
        "if num1!=num2:\n",
        " if num1>num2:\n",
        "  print(f\"{num2}, {num1}\")\n",
        " else:\n",
        "  print(f\"{num1}, {num2}\")"
      ],
      "metadata": {
        "colab": {
          "base_uri": "https://localhost:8080/"
        },
        "id": "OcyS9pmuDslu",
        "outputId": "0caf511e-703c-404a-8b18-15df9daa4b5f"
      },
      "execution_count": null,
      "outputs": [
        {
          "output_type": "stream",
          "name": "stdout",
          "text": [
            "Digite o primeiro valor: 3\n",
            "Digite o segundo valor: 6\n",
            "6.0, 3.0\n"
          ]
        }
      ]
    },
    {
      "cell_type": "markdown",
      "source": [
        "**21. Ler 3 valores (considere que não serão informados valores iguais) e escrever o maior\n",
        "deles.**"
      ],
      "metadata": {
        "id": "g22q9e3qEdve"
      }
    },
    {
      "cell_type": "code",
      "source": [
        "num1=float(input(\"Digite o primeiro valor: \"))\n",
        "num2=float(input(\"Digite o segundo valor: \"))\n",
        "num3=float(input(\"Digite o terceiro valor: \"))\n",
        "if num1 != num2 != num3:\n",
        "  if num1>num2 and num1>3:\n",
        "   print(f\"{num1} é o maior.\")\n",
        "  elif num2>num1 and num2>num3:\n",
        "    print(f\"{num2} é o maior.\")\n",
        "  else:\n",
        "    print(f\"{num3} é o maior.\")"
      ],
      "metadata": {
        "colab": {
          "base_uri": "https://localhost:8080/"
        },
        "id": "QONhu6niEes-",
        "outputId": "6215f114-c77c-4299-9d36-8a98e4fff6f5"
      },
      "execution_count": null,
      "outputs": [
        {
          "output_type": "stream",
          "name": "stdout",
          "text": [
            "Digite o primeiro valor: 2\n",
            "Digite o segundo valor: 1\n",
            "Digite o terceiro valor: 7\n",
            "7.0 é o maior.\n"
          ]
        }
      ]
    },
    {
      "cell_type": "markdown",
      "source": [
        "**22. Ler 3 valores (considere que não serão informados valores iguais) e escrever a soma\n",
        "dos 2 maiores.**"
      ],
      "metadata": {
        "id": "jy0GB-eMFiHV"
      }
    },
    {
      "cell_type": "code",
      "source": [
        "num1=float(input(\"Digite o primeiro valor: \"))\n",
        "num2=float(input(\"Digite o segundo valor: \"))\n",
        "num3=float(input(\"Digite o terceiro valor: \"))\n",
        "if num1!=num2!=num3:\n",
        "  if num1>num2>num3 or num2>num1>num3:\n",
        "    print(f\"A soma dos maiores números é {num1+num2}\")\n",
        "  elif num1>num3>num2 or num3>num1>num2:\n",
        "    print(f\"A soma dos maiores números é {num1+num3}\")\n",
        "  else:\n",
        "    print(f\"A soma dos maiores números é {num2+num3}.\")"
      ],
      "metadata": {
        "colab": {
          "base_uri": "https://localhost:8080/"
        },
        "id": "i6gwmodLFjjJ",
        "outputId": "6e6a0985-23c6-4a3f-bbb8-f94ec4e50f79"
      },
      "execution_count": 7,
      "outputs": [
        {
          "name": "stdout",
          "output_type": "stream",
          "text": [
            "Digite o primeiro valor: 5\n",
            "Digite o segundo valor: 5\n",
            "Digite o terceiro valor: 6\n"
          ]
        }
      ]
    },
    {
      "cell_type": "markdown",
      "source": [
        "**23. Ler 3 valores (considere que não serão informados valores iguais) e escrevê-los em\n",
        "ordem crescente.**"
      ],
      "metadata": {
        "id": "o5tHd3KeG3HO"
      }
    },
    {
      "cell_type": "code",
      "source": [
        "num1=float(input(\"Digite o primeiro valor: \"))\n",
        "num2=float(input(\"Digite o segundo valor: \"))\n",
        "num3=float(input(\"Digite o terceiro valor: \"))\n",
        "if num1!=num2!=num3:\n",
        "  if num1>num2>num3:\n",
        "    print(f\"{num3}, {num2}, {num1}.\")\n",
        "  elif num1>num3>num2:\n",
        "    print(f\"{num2}, {num3}, {num1}.\")\n",
        "  elif num2>num1>num3:\n",
        "    print(f\"{num3}, {num1}, {num2}.\")\n",
        "  elif num2>num3>num1:\n",
        "    print(f\"{num1}, {num3}, {num2}.\")\n",
        "  elif num3>num2>num1:\n",
        "    print(f\"{num1}, {num2}, {num3}.\")\n",
        "  else:\n",
        "    print(f\"{num2}, {num1}, {num3}.\")"
      ],
      "metadata": {
        "colab": {
          "base_uri": "https://localhost:8080/"
        },
        "id": "aRXOjarfG4Pm",
        "outputId": "8fec1a75-c27b-4b3d-8fe5-b0775ec3b484"
      },
      "execution_count": null,
      "outputs": [
        {
          "output_type": "stream",
          "name": "stdout",
          "text": [
            "Digite o primeiro valor: 2\n",
            "Digite o segundo valor: 1\n",
            "Digite o terceiro valor: 3\n",
            "1.0, 2.0, 3.0.\n"
          ]
        }
      ]
    },
    {
      "cell_type": "code",
      "source": [
        "##24. Faça um algoritmo que leia as duas notas parciais obtidas por um aluno numa\n",
        "#disciplina ao longo de um semestre, e calcule a sua média. A atribuição de conceitos\n",
        "#obedece à tabela abaixo:\n",
        "\n",
        "#Média de\n",
        "#Aproveitamento Conceito\n",
        "#Entre 9.0 e 10.0 A\n",
        "#Entre 7.5 e 9.0 B\n",
        "#Entre 6.0 e 7.5 C\n",
        "#Entre 4.0 e 6.0 D\n",
        "#Entre 4.0 e zero E\n",
        "\n",
        "#O algoritmo deve mostrar na tela as notas, a média, o conceito correspondente e a\n",
        "#mensagem “APROVADO” se o conceito for A, B ou C ou “REPROVADO” se o conceito for D\n",
        "#ou E.\n",
        "\n",
        "nota1=float(input(\"Digite a primeira nota: \"))\n",
        "nota2=float(input(\"Digite a segunda nota: \"))\n",
        "media=((nota1+nota2)/2)\n",
        "if media>=0 and media<4:\n",
        "  conceito=str(\"E\")\n",
        "elif media>=4 and media<6:\n",
        "  conceito=str(\"D\")\n",
        "elif media>=6 and media<7.5:\n",
        "  conceito=str(\"C\")\n",
        "elif media>=7.5 and media<9:\n",
        "  conceito=str(\"B\")\n",
        "elif media>=9 and media<=10:\n",
        "  conceito=str(\"A\")\n",
        "if conceito==\"D\" or conceito==\"E\":\n",
        "   print(\"REPROVADO.\")\n",
        "else:\n",
        "  print(\"APROVADO.\")"
      ],
      "metadata": {
        "colab": {
          "base_uri": "https://localhost:8080/"
        },
        "id": "kbl96nwUIMAr",
        "outputId": "3e96fbd1-fb8b-4ee3-e02a-c205a6fe4748"
      },
      "execution_count": null,
      "outputs": [
        {
          "output_type": "stream",
          "name": "stdout",
          "text": [
            "Digite a primeira nota: 10\n",
            "Digite a segunda nota: 10\n",
            "APROVADO\n"
          ]
        }
      ]
    },
    {
      "cell_type": "markdown",
      "source": [
        "**25. Escrever um algoritmo para ler dois valores e uma das seguintes operações a serem\n",
        "executadas (codificadas da seguinte forma: 1 – Adição, 2 – Subtração, 3 – Multiplicação\n",
        "e 4 – Divisão). Calcular e escrever o resultado dessa operação sobre os dois valores\n",
        "lidos.**"
      ],
      "metadata": {
        "id": "JpcALVxPKSug"
      }
    },
    {
      "cell_type": "code",
      "source": [
        "num1=float(input(\"Digite o primeiro número: \"))\n",
        "num2=float(input(\"Digite o segundo número: \"))\n",
        "operacao=int(input(\"Digite o número da operação (1- ADIÇÃO, 2- SUBTRAÇÃO, 3- MULTIPLICAÇÃO, 4- DIVISÃO: \"))\n",
        "\n",
        "if operacao==1:\n",
        "  print(f\"O resultado de {num1} + {num2} é {num1+num2}.\")\n",
        "elif operacao==2:\n",
        "  print(f\"O resultado de {num1} - {num2} é {num1-num2}.\")\n",
        "elif operacao==3:\n",
        "  print(f\"O resultado de {num1} x {num2} é {num1*num2}.\")\n",
        "elif operacao==4:\n",
        "  print(f\"O resultado de {num1} / {num2} é {num1/num2: .1f}\")"
      ],
      "metadata": {
        "colab": {
          "base_uri": "https://localhost:8080/"
        },
        "id": "Pp5TLAjhKaDW",
        "outputId": "abebba97-5b7b-4730-e63d-b6f9cb649884"
      },
      "execution_count": 5,
      "outputs": [
        {
          "output_type": "stream",
          "name": "stdout",
          "text": [
            "Digite o primeiro número: 4\n",
            "Digite o segundo número: 5\n",
            "Digite o número da operação (1- ADIÇÃO, 2- SUBTRAÇÃO, 3- MULTIPLICAÇÃO, 4- DIVISÃO: 4\n",
            "O resultado de 4.0 / 5.0 é  0.8\n"
          ]
        }
      ]
    },
    {
      "cell_type": "markdown",
      "source": [
        "**26. Faça um algoritmo para calcular as raízes reais de uma equação quadrática: ax2 + bx +\n",
        "c = 0. Uma equação quadrática só tem raiz reais se (b2 - 4ac) for maior ou igual a\n",
        "zero. O algoritmo deverá informar as seguintes situações:\n",
        "• Se o delta calculado for negativo, a equação não possui raízes reais. Informe ao\n",
        "usuário e encerre o programa;\n",
        "• Se o delta calculado for igual a zero a equação possui apenas uma raiz real,\n",
        "informe-a ao usuário;\n",
        "• Se o delta for positivo, a equação possui duas raiz reais, informe-as ao usuário.**"
      ],
      "metadata": {
        "id": "arqIvHkQL5fM"
      }
    },
    {
      "cell_type": "code",
      "source": [
        "import math\n",
        "a=float(input(\"Digite o valor de a: \"))\n",
        "b=float(input(\"Digite o valor de b: \"))\n",
        "c=float(input(\"Digite o valro de c: \"))\n",
        "delta=((b**2)-(4*a*c))\n",
        "if delta<0:\n",
        "  print(\"A equação não possui raízes reais. FIM.\")\n",
        "  exit()\n",
        "else:\n",
        "  raiz1=(((b*-1)-(math.sqrt(delta)))/a*2)\n",
        "  raiz2=(((b*-1)+(math.sqrt(delta)))/a*2)\n",
        "  if delta==0:\n",
        "   print(f\"A equação possui apenas uma raíz, que é igual a {raiz2}.\")\n",
        "  else:\n",
        "   print(f\"A equação possui duas raízes, que são {raiz1} e {raiz2}.\")"
      ],
      "metadata": {
        "id": "jk0oFd-3MCLs"
      },
      "execution_count": null,
      "outputs": []
    },
    {
      "cell_type": "markdown",
      "source": [
        "**27. Faça um algoritmo que leia 3 valores a, b, c, e verifique se podem ser os\n",
        "comprimentos dos lados de um triângulo. Em caso afirmativo, verifique se é “triângulo\n",
        "equilátero”, “triângulo isósceles” ou “triângulo escaleno”. Em caso negativo, escreva\n",
        "uma mensagem: “os valores lidos não formam um triângulo”.**"
      ],
      "metadata": {
        "id": "d7Dve7smQ1Bj"
      }
    },
    {
      "cell_type": "code",
      "source": [
        "a=float(input(\"Digite o valor de a: \"))\n",
        "b=float(input(\"Digite o valor de b: \"))\n",
        "c=float(input(\"Digite o valor de c: \"))\n",
        "if a>b+c:\n",
        "  print(\"Os valores lidos não formam um triângulo.\")\n",
        "elif b>a+c:\n",
        "  print(\"Os valores lidos não formam um triângulo.\")\n",
        "elif c>a+b:\n",
        "  print(\"Os valores lidos não formam um triângulo.\")\n",
        "else:\n",
        "  if a==b==c:\n",
        "    print(\"Os valores formam um triângulo equílatero.\")\n",
        "  elif a!=b!=c:\n",
        "    print(\"Os valores formam um triângulo escaleno.\")\n",
        "  else:\n",
        "    print(\"Os valores formam um triângulo isóceles.\")"
      ],
      "metadata": {
        "colab": {
          "base_uri": "https://localhost:8080/"
        },
        "id": "aQODJacXRQwf",
        "outputId": "cad93c51-2ae6-4d3f-dce6-3710cb411e70"
      },
      "execution_count": 5,
      "outputs": [
        {
          "output_type": "stream",
          "name": "stdout",
          "text": [
            "Digite o valor de a: 4\n",
            "Digite o valor de b: 5\n",
            "Digite o valor de c: 7\n",
            "Os valores formam um triângulo escaleno.\n"
          ]
        }
      ]
    },
    {
      "cell_type": "markdown",
      "source": [
        "**28. Escreva um algoritmo que leia 4 valores (opção, a, b, c), onde opção é um valor\n",
        "inteiro e positivo e a, b, c são quaisquer valores reais. Escreva os valores lidos da\n",
        "seguinte maneira:\n",
        "se opção = 1 Þ escreva os 3 valores a, b, c em ordem crescente\n",
        "se opção = 2 Þ escreva os 3 valores a, b, c em ordem decrescente\n",
        "se opção = 3 Þ escreva os 3 valores de forma que o maior valor entre a, b, c fica\n",
        "entre os outros 2.**"
      ],
      "metadata": {
        "id": "JmbZr15FSm-h"
      }
    },
    {
      "cell_type": "code",
      "source": [
        "opcao=int(input(\"Digite o valor de opção: \"))\n",
        "a=float(input(\"Digite o valor de a: \"))\n",
        "b=float(input(\"Digite o valor de b: \"))\n",
        "c=float(input(\"Digite o valor de c: \"))\n",
        "if opcao<=0:\n",
        "  print(\"Opção tem que ser um número inteiro positivo. FIM.\")\n",
        "  exit()\n",
        "elif opcao==1:\n",
        "  if a>b>c:\n",
        "    print(f\"{c}, {b}, {a}.\")\n",
        "  elif a>c>b:\n",
        "    print(f\"{b}, {c}, {a}.\")\n",
        "  elif b>a>c:\n",
        "    print(f\"{c}, {a}, {b}.\")\n",
        "  elif b>c>a:\n",
        "    print(f\"{a}, {c}, {b}.\")\n",
        "  elif c>b>a:\n",
        "    print(f\"{a}, {b}, {c}.\")\n",
        "  else:\n",
        "    print(f\"{b}, {a}, {c}.\")\n",
        "elif opcao==2:\n",
        "  if a>b>c:\n",
        "    print(f\"{a}, {b}, {c}.\")\n",
        "  elif a>c>b:\n",
        "    print(f\"{a}, {c}, {b}.\")\n",
        "  elif b>a>c:\n",
        "    print(f\"{b}, {a}, {c}.\")\n",
        "  elif b>c>a:\n",
        "    print(f\"{b}, {c}, {a}.\")\n",
        "  elif c>b>a:\n",
        "    print(f\"{c}, {b}, {a}.\")\n",
        "  else:\n",
        "    print(f\"{c}, {a}, {b}.\")\n",
        "elif opcao==3:\n",
        "  if a>b>c:\n",
        "    print(f\"{c}, {a}, {b}.\")\n",
        "  elif a>c>b:\n",
        "    print(f\"{b}, {a}, {c}.\")\n",
        "  elif b>a>c:\n",
        "    print(f\"{c}, {b}, {a}.\")\n",
        "  elif b>c>a:\n",
        "    print(f\"{a}, {b}, {c}.\")\n",
        "  elif c>b>a:\n",
        "    print(f\"{a}, {c}, {b}.\")\n",
        "  else:\n",
        "    print(f\"{b}, {c}, {a}.\")\n",
        "else:\n",
        "  print(\"Só existem opções de 1 a 3.\")"
      ],
      "metadata": {
        "colab": {
          "base_uri": "https://localhost:8080/"
        },
        "id": "n93RCg7OSzka",
        "outputId": "8a13ad60-47e9-4854-b000-8022951062ff"
      },
      "execution_count": 13,
      "outputs": [
        {
          "output_type": "stream",
          "name": "stdout",
          "text": [
            "Digite o valor de opção: 3\n",
            "Digite o valor de a: 2\n",
            "Digite o valor de b: 3\n",
            "Digite o valor de c: 1\n",
            "1.0, 3.0, 2.0.\n"
          ]
        }
      ]
    },
    {
      "cell_type": "code",
      "source": [
        "# ##29. Uma empresa decidiu conceder um aumento de salário a seus funcionários de acordo\n",
        "# com a tabela:\n",
        "\n",
        "# em R$    Índice de\n",
        "#            Aumento\n",
        "# salário £ 400.00 15%\n",
        "# 400.00 < salário £ 700.00 12%\n",
        "# 700.00 < salário £ 1000.00 10%\n",
        "# 1000.00 < salário £ 1500.00 7%\n",
        "# 1500.00 < salário £ 2000.00 4%\n",
        "# salário > 2000.00 sem aumento\n",
        "\n",
        "# Faça um algoritmo que leia o salário atual de um funcionário e escreva o índice de\n",
        "# aumento e o valor do salário corrigido.\n",
        "\n",
        "salario=float(input(\"Digite o seu salário atual: \"))\n",
        "if salario<=400:\n",
        "  indice=0.15\n",
        "elif salario>400 and salario<=700:\n",
        "  indice=0.12\n",
        "elif salario>700 and salario<=1000:\n",
        "  indice=0.10\n",
        "elif salario<1000 and salario<=1500:\n",
        "  indice=0.07\n",
        "elif salario>1500 and salario<=2000:\n",
        "  indice=0.04\n",
        "else:\n",
        "  indice=0\n",
        "print(f\"O índice de aumento do seu salário é {(indice*100):.0f}% e seu novo salário é R${(salario+(salario*indice)): .2f}.\")\n",
        "\n",
        "\n"
      ],
      "metadata": {
        "colab": {
          "base_uri": "https://localhost:8080/"
        },
        "id": "DZS_6dqsW7kX",
        "outputId": "afe2ca00-6b0e-4a07-fc3d-d05a487e260b"
      },
      "execution_count": 15,
      "outputs": [
        {
          "output_type": "stream",
          "name": "stdout",
          "text": [
            "Digite o seu salário atual: 200\n",
            "O índice de aumento do seu salário é 15% e seu novo salário é R$ 230.00.\n"
          ]
        }
      ]
    },
    {
      "cell_type": "markdown",
      "source": [
        "**30. Faça um algoritmo para calcular o reajuste salarial de um funcionário, de acordo com\n",
        "os critérios abaixo:\n",
        "• se salário é inferior a RS 10.000,00 deve ter um reajuste de 55%\n",
        "• se salário está entre RS 10.000,00 (inclusive) e RS 25.000,00 (inclusive) deve ter\n",
        "um reajuste de 20%\n",
        "• se salário é superior a R$ 25.000,00 deve ter um reajuste de 20%.**"
      ],
      "metadata": {
        "id": "iI4wQgnVZc_o"
      }
    },
    {
      "cell_type": "code",
      "source": [
        "salario=float(input(\"Digite o salário: \"))\n",
        "if salario>=10000:\n",
        "  reajuste=0.20\n",
        "else:\n",
        "  reajuste=0.55\n",
        "print(f\"O reajuste foi de {(reajuste*100): .0f}% que é igual a R${(reajuste*salario): .2f}\")"
      ],
      "metadata": {
        "colab": {
          "base_uri": "https://localhost:8080/"
        },
        "id": "Am_-K3ZGZf8v",
        "outputId": "ad18bc33-684c-4e9d-e46a-027d6ed7353b"
      },
      "execution_count": 18,
      "outputs": [
        {
          "output_type": "stream",
          "name": "stdout",
          "text": [
            "Digite o salário: 10000\n",
            "O reajuste foi de  20% que é igual a R$ 2000.00\n"
          ]
        }
      ]
    },
    {
      "cell_type": "markdown",
      "source": [
        "**31. Faça um algoritmo para controle de temperatura de um forno que derrete alumínio. O\n",
        "programa deverá perguntar qual a temperatura que o alumínio deverá ser trabalhado e\n",
        "operar nas seguintes condições:\n",
        "• Se temperatura for inferior ou igual 500°C enviar uma mensagem para tela\n",
        "\"Temperatura Inválida\";\n",
        "• Se temperatura for menor do que 700°C enviar uma mensagem para tela\n",
        "\"Aquecimento Ligado em 100%\";\n",
        "• Se temperatura for menor do que 735°C enviar uma mensagem para tela\n",
        "\"Aquecimento Ligado em 50%\";\n",
        "• Se temperatura for maior ou igual 735°C enviar uma mensagem para tela\n",
        "\"Aquecimento Desligado\";\n",
        "• Se temperatura for maior do que 780°C enviar uma mensagem para tela\n",
        "\"Superaquecimento\";\n",
        "Os valores digitados devem ser inteiros e inferiores a 1000.**"
      ],
      "metadata": {
        "id": "3JG3xfOmbLwL"
      }
    },
    {
      "cell_type": "code",
      "source": [
        "temp= int(input(\"Digite a temperatura que o alumínio deverá ser trabalhado em °C: \"))\n",
        "if temp<1000:\n",
        "  if temp<=500:\n",
        "    print(\"Temperatura inválida\")\n",
        "  elif temp<700:\n",
        "    print(\"Aquecimento ligado em 100%\")\n",
        "  elif temp<735:\n",
        "    print(\"Aquecimento ligado em 50%\")\n",
        "  elif temp>=735 and temp <=780:\n",
        "    print(\"Aquecimento desligado\")\n",
        "  elif temp>780:\n",
        "    print(\"Superaquecimento\")\n",
        "else:\n",
        "  print(\"Temperatura inválida\")"
      ],
      "metadata": {
        "colab": {
          "base_uri": "https://localhost:8080/"
        },
        "id": "n2TaQzjFbXXD",
        "outputId": "e66d8ebf-3a99-4665-bee4-80367d7867b5"
      },
      "execution_count": 22,
      "outputs": [
        {
          "output_type": "stream",
          "name": "stdout",
          "text": [
            "Digite a temperatura que o alumínio deverá ser trabalhado em °C: 999\n",
            "Superaquecimento\n"
          ]
        }
      ]
    },
    {
      "cell_type": "markdown",
      "source": [
        "**32. Faça um algoritmo que permita a entrada de um valor de 1 a 4. Em seguida, leia dois\n",
        "valores. Calcular e imprimir:\n",
        "• Se valor digitado for 0, calcular e exibir a soma dos números\n",
        "• Se valor digitado for 1, calcular e exibir a subtração dos números\n",
        "• Se valor digitado for 2, calcular e exibir a multiplicação dos números\n",
        "• Se valor digitado for 3, calcular e exibir a divisão dos números\n",
        "• Se valor digitado for 4, calcular e exibir a média dos números\n",
        "• Diferente de 1,2,3 ou 4, exibir a mensagem “Valor errado. Programa encerrado sem\n",
        "cálculos”**"
      ],
      "metadata": {
        "id": "fGIXxrjAcqYP"
      }
    },
    {
      "cell_type": "code",
      "source": [
        "operacao=int(input(\"Digite um número de 0 a 4: \"))\n",
        "num1=float(input(\"Digite o primeiro número: \"))\n",
        "num2=float(input(\"Digite o segundo número: \"))\n",
        "\n",
        "\n",
        "if operacao==0:\n",
        "  print(f\"O resultado de {num1} + {num2} é {num1+num2}.\")\n",
        "elif operacao==1:\n",
        "  print(f\"O resultado de {num1} - {num2} é {num1-num2}.\")\n",
        "elif operacao==2:\n",
        "  print(f\"O resultado de {num1} x {num2} é {num1*num2}.\")\n",
        "elif operacao==3:\n",
        "  print(f\"O resultado de {num1} / {num2} é {num1/num2: .1f}\")\n",
        "elif operacao==5:\n",
        "  print(f\"A média de {num1} e {num2} é {((num1+num2)/2): .1f}\")\n",
        "else:\n",
        "  print(\"Valor errado. Programa encerrado sem cálculos.\")"
      ],
      "metadata": {
        "colab": {
          "base_uri": "https://localhost:8080/"
        },
        "id": "SWnyzpljcsfO",
        "outputId": "4c02817a-bd2d-4410-cb2a-41f494a84c96"
      },
      "execution_count": 1,
      "outputs": [
        {
          "output_type": "stream",
          "name": "stdout",
          "text": [
            "Digite um número de 0 a 4: 2\n",
            "Valor errado. Programa encerrado sem cálculos.\n"
          ]
        }
      ]
    },
    {
      "cell_type": "markdown",
      "source": [
        "**33. Escrever um algoritmo que leia valores inteiros em duas variáveis distintas e se o resto\n",
        "da divisão da primeira pela segunda for 1 mostre a soma dessas variáveis mais o resto\n",
        "da divisão; se for 2 escreva se o primeiro e o segundo valor são pares ou ímpares; se\n",
        "for igual a 3 multiplique a soma dos valores lidos pelo primeiro; se for igual a 4 divida\n",
        "a soma dos números lidos pelo segundo, se este for diferente de zero. Em qualquer\n",
        "outra situação mostre o quadrado dos números lidos.**"
      ],
      "metadata": {
        "id": "BTA-MzjgecGD"
      }
    },
    {
      "cell_type": "code",
      "source": [
        "num1=int(input(\"Digite o primeiro valor: \"))\n",
        "num2=int(input(\"Digite o segundo valor: \"))\n",
        "resto=num1%num2\n",
        "if resto==1:\n",
        "  print(num1+num2+resto)\n",
        "elif resto==2:\n",
        "  if num1%2==0:\n",
        "   print(f\"{num1} é par\")\n",
        "  else:\n",
        "   print(f\"{num1} é ímpar\")\n",
        "  if num2%2==0:\n",
        "    print(f\"{num2} é par\")\n",
        "  else:\n",
        "    print(f\"{num2} é ímpar\")\n",
        "elif resto==3:\n",
        "  print((num1+num2)*num1)\n",
        "elif resto==4:\n",
        "  print((num1+num2)/num2)\n",
        "else:\n",
        "  print(num1**2, num2**2)"
      ],
      "metadata": {
        "colab": {
          "base_uri": "https://localhost:8080/"
        },
        "id": "wpA7NlRUexnc",
        "outputId": "bcfe8a31-39ae-48d9-c9ee-51398fbe807d"
      },
      "execution_count": 1,
      "outputs": [
        {
          "output_type": "stream",
          "name": "stdout",
          "text": [
            "Digite o primeiro valor: 5\n",
            "Digite o segundo valor: 7\n",
            "25 49\n"
          ]
        }
      ]
    },
    {
      "cell_type": "markdown",
      "source": [
        "**34. Escreva um algoritmo que leia as idades de 2 homens e 2 mulheres (considere que as\n",
        "idades dos homens serão sempre diferentes, bem como as das mulheres). Calcule e\n",
        "escreva a soma das idades do homem mais velho com a mulher mais nova, e o\n",
        "produto das idades do homem mais novo com a mulher mais velha.**"
      ],
      "metadata": {
        "id": "FHj1SWfMgnQB"
      }
    },
    {
      "cell_type": "code",
      "source": [
        "h1=int(input(\"Digite a idade do primeiro homem: \"))\n",
        "h2=int(input(\"Digite a idade do segundo homem: \"))\n",
        "m1=int(input(\"Digite a idade da primeira mulher: \"))\n",
        "m2=int(input(\"Digite a idade da segunda mulher: \"))\n",
        "if m1 != m2 and h1!=h2:\n",
        " if h1>h2:\n",
        "  hv=h1\n",
        "  hn=h2\n",
        " elif h1<h2:\n",
        "  hv=h2\n",
        "  hn=h1\n",
        " if m1>m2:\n",
        "  mv=m1\n",
        "  mn=m2\n",
        " elif m1<m2:\n",
        "  mv=m2\n",
        "  mv=m1\n",
        "print(f\"A soma das idades do homem mais velho com a mulher mais nova é igual a {hv+mn} e o produto das idades do homem mais novo a mulher mais velha é igual a {hn*mv}.\")"
      ],
      "metadata": {
        "colab": {
          "base_uri": "https://localhost:8080/"
        },
        "id": "9VazaGv8guE4",
        "outputId": "626e672e-09b5-4da3-e5f3-6478214183f2"
      },
      "execution_count": 4,
      "outputs": [
        {
          "output_type": "stream",
          "name": "stdout",
          "text": [
            "Digite a idade do primeiro homem: 45\n",
            "Digite a idade do segundo homem: 21\n",
            "Digite a idade da primeira mulher: 78\n",
            "Digite a idade da segunda mulher: 24\n",
            "A soma das idades do homem mais velho com a mulher mais nova é igual a 69 e o produto das idades do homem mais novo a mulher mais velha é igual a 1638.\n"
          ]
        }
      ]
    },
    {
      "cell_type": "markdown",
      "source": [
        "**35. Existem números de 4 dígitos (entre 1000 e 9999) que obedecem à seguinte\n",
        "característica: se dividirmos o número em dois números de dois dígitos, um composto\n",
        "pela dezena e pela unidade, e outro pelo milhar e pela centena, e, ao somarmos estes\n",
        "dois novos números gerando um terceiro, o quadrado deste terceiro número é\n",
        "exatamente o número original de quatro dígitos. Por exemplo:\n",
        "2025 -> dividindo: 20 e 25 -> somando temos 45 -> 452 = 2025.\n",
        "Escreva um programa para ler um número e verificar se ele obedece a esta\n",
        "característica.**"
      ],
      "metadata": {
        "id": "GocLUKK6iieT"
      }
    },
    {
      "cell_type": "code",
      "source": [
        "n=str(input(\"Digite um número de 4 dígitos: \"))\n",
        "if len(n)==4:\n",
        " n1= int(n[:2])\n",
        " n2= int(n[2:])\n",
        " n3= n1+n2\n",
        " n4= n3**2\n",
        " print(f\" O número {n} se dividiu em {n1} e {n2}, a soma desses números é igual a {n3}, o quadrado desse número é {n4}\")\n",
        " if n4==int(n):\n",
        "  print(\"Ele obedece a regra!\")\n",
        " else:\n",
        "  print(\"Ele não obedece a regra!\")\n",
        "else:\n",
        " print(\"Você não digitou um número de 4 digitos.\")\n"
      ],
      "metadata": {
        "colab": {
          "base_uri": "https://localhost:8080/"
        },
        "id": "xJ5697F2il24",
        "outputId": "3c39afbd-4925-41ac-ad38-d3943de8e5af"
      },
      "execution_count": 7,
      "outputs": [
        {
          "output_type": "stream",
          "name": "stdout",
          "text": [
            "Digite um número de 4 dígitos: 5724\n",
            " O número 5724 se dividiu em 57 e 24, a soma desses números é igual a 81, o quadrado desse número é 6561\n",
            "Ele não obedece a regra!\n"
          ]
        }
      ]
    }
  ]
}