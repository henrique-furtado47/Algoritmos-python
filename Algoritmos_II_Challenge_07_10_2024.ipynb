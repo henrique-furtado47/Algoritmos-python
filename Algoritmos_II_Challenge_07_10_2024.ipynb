{
  "nbformat": 4,
  "nbformat_minor": 0,
  "metadata": {
    "colab": {
      "provenance": [],
      "authorship_tag": "ABX9TyOAZ2BeHCzIWaHGrYY/JJao",
      "include_colab_link": true
    },
    "kernelspec": {
      "name": "python3",
      "display_name": "Python 3"
    },
    "language_info": {
      "name": "python"
    }
  },
  "cells": [
    {
      "cell_type": "markdown",
      "metadata": {
        "id": "view-in-github",
        "colab_type": "text"
      },
      "source": [
        "<a href=\"https://colab.research.google.com/github/henrique-furtado47/Algoritmos-python/blob/main/Algoritmos_II_Challenge_07_10_2024.ipynb\" target=\"_parent\"><img src=\"https://colab.research.google.com/assets/colab-badge.svg\" alt=\"Open In Colab\"/></a>"
      ]
    },
    {
      "cell_type": "markdown",
      "source": [
        "**1. Mesclar Dicionários\n",
        "Combine dois dicionários, substituindo valores comuns pela soma dos valores\n",
        "correspondentes.**"
      ],
      "metadata": {
        "id": "8GD23jERrsHT"
      }
    },
    {
      "cell_type": "code",
      "source": [
        "dic1={'a': 10, 'b': 30}\n",
        "dic2={'c': 40, 'd': 10}\n",
        "\n",
        "dicionario_unido= dic1 | dic2\n",
        "\n",
        "for k, v in dic1.items():\n",
        "  for key, value in dic2.items():\n",
        "    if v==value:\n",
        "      dicionario_unido[k]=v+value\n",
        "      dicionario_unido[key]=v+value\n",
        "print(dicionario_unido)\n"
      ],
      "metadata": {
        "colab": {
          "base_uri": "https://localhost:8080/"
        },
        "id": "wbPg01K4tEsA",
        "outputId": "7bd55cca-43e5-4c3f-8d0e-10f3d963a6f3"
      },
      "execution_count": null,
      "outputs": [
        {
          "output_type": "stream",
          "name": "stdout",
          "text": [
            "{'a': 20, 'b': 30, 'c': 40, 'd': 20}\n"
          ]
        }
      ]
    },
    {
      "cell_type": "markdown",
      "source": [
        "**2. Maior Valor em Dicionário de Dicionários\n",
        "Encontre a chave e valor com o maior valor em um dicionário de dicionários.**"
      ],
      "metadata": {
        "id": "xStcjy1yv0v8"
      }
    },
    {
      "cell_type": "code",
      "source": [
        "dicionario={'dic1': {'a': 10, 'b':30}\n",
        "            ,'dic2': {'c': 20, 'd': 40}}\n",
        "for k,v in dicionario.items():\n",
        "  for keys, values in v.items():\n",
        "    maior=values\n",
        "    maior_chave=keys\n",
        "    maior_k=k\n",
        "    if values>maior:\n",
        "      maior=values\n",
        "      maior_chave=keys\n",
        "      maior_k=k\n",
        "print(f'A chave e o valor com o maior valor está em {maior_k}: {{{maior_chave}: {maior}}}')"
      ],
      "metadata": {
        "colab": {
          "base_uri": "https://localhost:8080/"
        },
        "id": "TzYpAynStnyy",
        "outputId": "d6933ea5-9265-4f45-ca31-df7d09a9051c"
      },
      "execution_count": null,
      "outputs": [
        {
          "output_type": "stream",
          "name": "stdout",
          "text": [
            "A chave e o valor com o maior valor está em dic2: {d: 40}\n"
          ]
        }
      ]
    },
    {
      "cell_type": "markdown",
      "source": [
        "**3. Palavras Únicas por Chave\n",
        "Dado um dicionário de listas, encontre as palavras que são únicas para cada\n",
        "chave.**"
      ],
      "metadata": {
        "id": "UWcbVlp7x7iE"
      }
    },
    {
      "cell_type": "code",
      "source": [
        "from collections import Counter\n",
        "dicionario = {\n",
        "    'frutas': ['maçã', 'banana', 'laranja', 'uva', 'kiwi'],\n",
        "    'carnes': ['frango', 'carne de boi', 'porco', 'maçã', 'banana'],\n",
        "    'vegetais': ['cenoura', 'beterraba', 'brócolis', 'maçã', 'banana'],\n",
        "    'laticínios': ['leite', 'queijo', 'iogurte', 'maçã', 'banana']\n",
        "}\n",
        "listinha=[]\n",
        "for lista in dicionario.values():\n",
        "  listinha.extend(lista)\n",
        "contagem=Counter(listinha)\n",
        "\n",
        "exclusivas={}\n",
        "for chave, lista in dicionario.items():\n",
        "    exclusivas[chave] = [palavra for palavra in lista if contagem[palavra] == 1]\n",
        "for chave, valor in exclusivas.items():\n",
        "  print(f\"{chave}: {valor}\")"
      ],
      "metadata": {
        "colab": {
          "base_uri": "https://localhost:8080/"
        },
        "id": "4FLql8WUwa7b",
        "outputId": "a2c80452-de81-456f-d485-1ef9bac69258"
      },
      "execution_count": null,
      "outputs": [
        {
          "output_type": "stream",
          "name": "stdout",
          "text": [
            "frutas: ['laranja', 'uva', 'kiwi']\n",
            "carnes: ['frango', 'carne de boi', 'porco']\n",
            "vegetais: ['cenoura', 'beterraba', 'brócolis']\n",
            "laticínios: ['leite', 'queijo', 'iogurte']\n"
          ]
        }
      ]
    },
    {
      "cell_type": "markdown",
      "source": [
        "**4. Aninhamento de Chaves\n",
        "Crie um dicionário aninhado com níveis de chaves fornecidos em uma lista.**"
      ],
      "metadata": {
        "id": "KeQ6Zd4C6FzY"
      }
    },
    {
      "cell_type": "code",
      "source": [
        "chaves= ['a', 'b', 'c']\n",
        "dicionario_aninhado={}\n",
        "nivel_atual=dicionario_aninhado\n",
        "\n",
        "for chave in chaves:\n",
        "  nivel_atual[chave]= {}\n",
        "  nivel_atual=nivel_atual[chave]\n",
        "\n",
        "print(dicionario_aninhado)"
      ],
      "metadata": {
        "colab": {
          "base_uri": "https://localhost:8080/"
        },
        "id": "Rv0EdWkQ40eR",
        "outputId": "22e48237-4d18-436b-8065-0a011a7e88f0"
      },
      "execution_count": null,
      "outputs": [
        {
          "output_type": "stream",
          "name": "stdout",
          "text": [
            "{'a': {'b': {'c': {}}}}\n"
          ]
        }
      ]
    },
    {
      "cell_type": "code",
      "source": [],
      "metadata": {
        "id": "_k1CbjuQ7lnb"
      },
      "execution_count": null,
      "outputs": []
    }
  ]
}