{
  "nbformat": 4,
  "nbformat_minor": 0,
  "metadata": {
    "colab": {
      "provenance": [],
      "authorship_tag": "ABX9TyOTsq1XI0Qlr2WxGvkxU9m4",
      "include_colab_link": true
    },
    "kernelspec": {
      "name": "python3",
      "display_name": "Python 3"
    },
    "language_info": {
      "name": "python"
    }
  },
  "cells": [
    {
      "cell_type": "markdown",
      "metadata": {
        "id": "view-in-github",
        "colab_type": "text"
      },
      "source": [
        "<a href=\"https://colab.research.google.com/github/henrique-furtado47/Algoritmos-python/blob/main/Lista_exercicio_20_03_2024.ipynb\" target=\"_parent\"><img src=\"https://colab.research.google.com/assets/colab-badge.svg\" alt=\"Open In Colab\"/></a>"
      ]
    },
    {
      "cell_type": "code",
      "execution_count": 1,
      "metadata": {
        "colab": {
          "base_uri": "https://localhost:8080/"
        },
        "id": "b_fEw82QlAUB",
        "outputId": "b0b3f59f-b586-467e-b3e8-6243751e2c36"
      },
      "outputs": [
        {
          "output_type": "stream",
          "name": "stdout",
          "text": [
            "Digite o valor da temperatura em graus fahrenheit: 32\n",
            "A temperatura de 32.0 graus fahrenheit é igual a  0.00 graus centígrados\n"
          ]
        }
      ],
      "source": [
        "# 7)\n",
        "fahr=float(input(\"Digite o valor da temperatura em graus fahrenheit: \"))\n",
        "celsius=(((fahr-32)*5)/9)\n",
        "print(f\"A temperatura de {fahr} graus fahrenheit é igual a {celsius: .2f} graus centígrados\")"
      ]
    },
    {
      "cell_type": "code",
      "source": [
        "#8)\n",
        "polegada=float(input(\"Digite o quanto choveu em polegadas: \"))\n",
        "mm=(polegada*25.4)\n",
        "print(f\"Choveu {mm} mm de chuva.\")"
      ],
      "metadata": {
        "colab": {
          "base_uri": "https://localhost:8080/"
        },
        "id": "9soOWbmamKCm",
        "outputId": "d0d54168-bf10-4cab-9fdb-590002489111"
      },
      "execution_count": 4,
      "outputs": [
        {
          "output_type": "stream",
          "name": "stdout",
          "text": [
            "Digite o quanto choveu em polegadas: 90\n",
            "Choveu 2286.0 mm de chuva.\n"
          ]
        }
      ]
    },
    {
      "cell_type": "code",
      "source": [
        "#9)\n",
        "import math\n",
        "raio= float(input(\"Digite o raio da lata de óleo: \"))\n",
        "altura= float(input(\"Digite a altura da lata de óleo: \"))\n",
        "volume=(math.pi*(raio**2)*altura)\n",
        "print(f\"O volume do latão é igual a {volume: .2f}\")"
      ],
      "metadata": {
        "colab": {
          "base_uri": "https://localhost:8080/"
        },
        "id": "6nFWtVoamnr1",
        "outputId": "0e925878-f9de-40bd-9066-fc099288965a"
      },
      "execution_count": 7,
      "outputs": [
        {
          "output_type": "stream",
          "name": "stdout",
          "text": [
            "Digite o raio da lata de óleo: 8\n",
            "Digite a altura da lata de óleo: 9\n",
            "O volume do latão é igual a  1809.56\n"
          ]
        }
      ]
    },
    {
      "cell_type": "code",
      "source": [
        "#10)\n",
        "nota1= float(input(\"Digite a primeira nota: \"))\n",
        "nota2= float(input(\"Digite a segunda nota: \"))\n",
        "nota3= float(input(\"Digite a terceira nota: \"))\n",
        "media=(((nota1*2)+(nota2*3)+(nota3*5))/10)\n",
        "print(f\"A média do aluno foi {media: .1f}\")"
      ],
      "metadata": {
        "colab": {
          "base_uri": "https://localhost:8080/"
        },
        "id": "ceBDb0FWnEo8",
        "outputId": "8c583e57-2832-44bc-9156-b61b73150ecd"
      },
      "execution_count": 8,
      "outputs": [
        {
          "output_type": "stream",
          "name": "stdout",
          "text": [
            "Digite a primeira nota: 5\n",
            "Digite a segunda nota: 8\n",
            "Digite a terceira nota: 3\n",
            "A média do aluno foi  4.9\n"
          ]
        }
      ]
    },
    {
      "cell_type": "code",
      "source": [
        "#11)\n",
        "import math\n",
        "x1=float(input(\"Digite a coordenada x do primeiro ponto: \"))\n",
        "y1= float(input(\"Digite a coordenada y do primeiro ponto: \"))\n",
        "x2= float(input(\"Digite a coordenada x do segundo ponto: \"))\n",
        "y2= float(input(\"Digite a coordenada y do segundo ponto: \"))\n",
        "distancia=(math.sqrt((x2-x1)**2+(y1-y2)**2))\n",
        "print(f\"A distância dos pontos é {distancia}\")"
      ],
      "metadata": {
        "colab": {
          "base_uri": "https://localhost:8080/"
        },
        "id": "5-uPjFF5oI2m",
        "outputId": "38f2ee01-6afd-4932-acbd-3cced27974ed"
      },
      "execution_count": 9,
      "outputs": [
        {
          "output_type": "stream",
          "name": "stdout",
          "text": [
            "Digite a coordenada x do primeiro ponto: 3\n",
            "Digite a coordenada y do primeiro ponto: 2\n",
            "Digite a coordenada x do segundo ponto: 5\n",
            "Digite a coordenada y do segundo ponto: 2\n",
            "A distância dos pontos é 2.0\n"
          ]
        }
      ]
    },
    {
      "cell_type": "code",
      "source": [
        "#12)\n",
        "print(\"Isto é um sistema linear de equação: ax+by= c e dx+ey=f\")\n",
        "a=float(input(\"Digite o valor de a: \"))\n",
        "b=float(input(\"Digite o valor de b: \"))\n",
        "c= float(input(\"Digite o valor de c: \"))\n",
        "d= float(input(\"Digite o valor de d: \"))\n",
        "e= float(input(\"Digite o valor de e: \"))\n",
        "f= float(input(\"Digite o valor de f: \"))\n",
        "x=((c*e-b*f)/(a*e-b*d))\n",
        "y=((a*f-c*d)/(a*e-b*d))\n",
        "print(f\"Neste sistema, x é igual a {x}, y é igual a {y}\")"
      ],
      "metadata": {
        "colab": {
          "base_uri": "https://localhost:8080/"
        },
        "id": "C5X1_kYBp-zX",
        "outputId": "ebdc512a-438c-4da9-829b-dba72e356267"
      },
      "execution_count": 11,
      "outputs": [
        {
          "output_type": "stream",
          "name": "stdout",
          "text": [
            "Isto é um sistema linear de equação: ax+by= c e dx+ey=f\n",
            "Digite o valor de a: 3\n",
            "Digite o valor de b: 1\n",
            "Digite o valor de c: 5\n",
            "Digite o valor de d: 3\n",
            "Digite o valor de e: 7\n",
            "Digite o valor de f: 8\n",
            "Neste sistema, x é igual a 1.5, y é igual a 0.5\n"
          ]
        }
      ]
    },
    {
      "cell_type": "code",
      "source": [
        "#13)\n",
        "custo=float(input(\"Digite o custo de fábrica de um carro: \"))\n",
        "preço=(custo+(custo*0.45)+(custo*0.28))\n",
        "print(f\"O preço do carro ao cliente é igual a R${preço: .2f}\")"
      ],
      "metadata": {
        "colab": {
          "base_uri": "https://localhost:8080/"
        },
        "id": "VcXSHs21rElX",
        "outputId": "b2ea1d68-1c0c-4390-a101-884f060d676c"
      },
      "execution_count": 12,
      "outputs": [
        {
          "output_type": "stream",
          "name": "stdout",
          "text": [
            "Digite o custo de fábrica de um carro: 10000\n",
            "O preço do carro ao cliente é igual a R$ 17300.00\n"
          ]
        }
      ]
    },
    {
      "cell_type": "code",
      "source": [
        "#14)\n",
        "idade=int(input(\"Digite sua idade em dias: \"))\n",
        "anos= int(idade//365)\n",
        "meses= int((idade%365)//30)\n",
        "dias= ((idade%365)%30)\n",
        "print(f\"Você tem aproximadamente {anos} anos, {meses} meses e {dias} dias de vida\")\n"
      ],
      "metadata": {
        "colab": {
          "base_uri": "https://localhost:8080/"
        },
        "id": "KCBvYPVmsL1Q",
        "outputId": "0a9888c6-9e27-46bb-b8ee-694ec532b1cf"
      },
      "execution_count": 18,
      "outputs": [
        {
          "output_type": "stream",
          "name": "stdout",
          "text": [
            "Digite sua idade em dias: 6683\n",
            "Você tem aproximadamente 18 anos, 3 meses e 23 dias de vida\n"
          ]
        }
      ]
    },
    {
      "cell_type": "code",
      "source": [
        "#15)\n",
        "duracao=int(input(\"Duração do evento em segundos: \"))\n",
        "horas=(duracao//3600)\n",
        "minutos=((duracao%3600)//60)\n",
        "segundos=((duracao%3600)%60)\n",
        "print(f\"A duração do evento foi de {horas} horas, {minutos} minutos e {segundos} segundos.\")"
      ],
      "metadata": {
        "colab": {
          "base_uri": "https://localhost:8080/"
        },
        "id": "TrhE7S5Cu22B",
        "outputId": "278f7d69-ec10-45aa-e571-02be3dd45109"
      },
      "execution_count": 25,
      "outputs": [
        {
          "output_type": "stream",
          "name": "stdout",
          "text": [
            "Duração do evento em segundos: 1237123\n",
            "A duração do evento foi de 343 horas, 38 minutos e 43 segundos.\n"
          ]
        }
      ]
    },
    {
      "cell_type": "code",
      "source": [
        "#16)\n",
        "salario=float(input(\"Digite o valor do salário mínimo atual: \"))\n",
        "casa=(90*salario)\n",
        "quantidade=(1000000000//casa)\n",
        "print(f\"O recurso do governo permite a compra de {quantidade: .0f} casas\")"
      ],
      "metadata": {
        "colab": {
          "base_uri": "https://localhost:8080/"
        },
        "id": "pP3RbNrfzg9E",
        "outputId": "6d8231fc-4801-4552-8394-8d4636cc1919"
      },
      "execution_count": 28,
      "outputs": [
        {
          "output_type": "stream",
          "name": "stdout",
          "text": [
            "Digite o valor do salário mínimo atual: 1718\n",
            "O recurso do governo permite a compra de 6467.0 casas\n"
          ]
        }
      ]
    },
    {
      "cell_type": "code",
      "source": [
        "bruto=float(input(\"Digite o seu salário bruto: R$\"))\n",
        "ir=(bruto*0.15)\n",
        "inss=(bruto*0.11)\n",
        "sindicato=(bruto*0.03)\n",
        "liquido= (bruto-ir-inss-sindicato)\n",
        "print(f\"Salário Bruto      : R${bruto: .2f}\")\n",
        "print(f\"(-) IR (15%)       : R${ir: .2f}\")\n",
        "print(f\"(-) INSS (11%)     : R${inss: .2f}\")\n",
        "print(f\"(-) Sindicato (3%) : R${sindicato: .2f}\")\n",
        "print(f\"Salário Líquido    : R${liquido: .2f}\")"
      ],
      "metadata": {
        "colab": {
          "base_uri": "https://localhost:8080/"
        },
        "id": "SNs9muLw0WBb",
        "outputId": "01b2fa6e-43b3-4dd8-c643-bdb6ef0c6b3e"
      },
      "execution_count": 33,
      "outputs": [
        {
          "output_type": "stream",
          "name": "stdout",
          "text": [
            "Digite o seu salário bruto: R$3000\n",
            "Salário Bruto      : R$ 3000.00\n",
            "(-) IR (15%)       : R$ 450.00\n",
            "(-) INSS (11%)     : R$ 330.00\n",
            "(-) Sindicato (3%) : R$ 90.00\n",
            "Salário Líquido    : R$ 2130.00\n"
          ]
        }
      ]
    },
    {
      "cell_type": "code",
      "source": [
        "distancia=float(input(\"Digite a distância da casa (km): \"))\n",
        "consumo= float(input(\"Digite o consumo do carro (km rodados/litro): \"))\n",
        "preco= float(input(\"Digite o preço da gasolina: R$\"))\n",
        "necessita=float(distancia/consumo)\n",
        "custo=(necessita*preco)\n",
        "print(f\"Você precisa colocar {necessita: .2f} litros de gasolina no carro, gastando R${custo: .2f} em gasolina.\")"
      ],
      "metadata": {
        "colab": {
          "base_uri": "https://localhost:8080/"
        },
        "id": "z072tCtr2IuE",
        "outputId": "5aae33fd-7f20-40f3-f713-c3297b836bc3"
      },
      "execution_count": 38,
      "outputs": [
        {
          "output_type": "stream",
          "name": "stdout",
          "text": [
            "Digite a distância da casa (km): 98\n",
            "Digite o consumo do carro (km rodados/litro): 43\n",
            "Digite o preço da gasolina: R$9\n",
            "Você precisa colocar  2.28 litros de gasolina no carro, gastando R$ 20.51 em gasolina.\n"
          ]
        }
      ]
    },
    {
      "cell_type": "code",
      "source": [
        "lado1=float(input(\"Digite o tamanho do lado da frente do terreno(m): \"))\n",
        "lado2= float(input(\"Digite o tamanho do lado esquerdo do terreno(m): \"))\n",
        "lado3= float(input(\"Digite o tamanho do lado direito do terreno(m): \"))\n",
        "lado4= float(input(\"Digite o tamanho do lado de trás do terreno(m): \"))\n",
        "preco_mourao= float(input(\"Digite o preço do mourão: R$\"))\n",
        "preco_arame= float(input(\"Digite o preço do metro do arame farpado: R$\"))\n",
        "mourao= ((lado1+lado2+lado3+lado4)/3)\n",
        "arame= ((mourao*3)*4)\n",
        "gasto_total=(mourao+arame)\n",
        "print(f\"Você vai gastar R${mourao: .2f} em mourões, R${arame: .2f} em arame, com um gasto total sendo R${gasto_total: .2f}\")"
      ],
      "metadata": {
        "colab": {
          "base_uri": "https://localhost:8080/"
        },
        "id": "4yo7IEza32YE",
        "outputId": "b8e5ce0c-0500-4b95-fe3e-2e98425e54c8"
      },
      "execution_count": 39,
      "outputs": [
        {
          "output_type": "stream",
          "name": "stdout",
          "text": [
            "Digite o tamanho do lado da frente do terreno(m): 30\n",
            "Digite o tamanho do lado esquerdo do terreno(m): 20\n",
            "Digite o tamanho do lado direito do terreno(m): 30\n",
            "Digite o tamanho do lado de trás do terreno(m): 20\n",
            "Digite o preço do mourão: R$13\n",
            "Digite o preço do metro do arame farpado: R$3.50\n",
            "Você vai gastar R$ 33.33 em mourões, R$ 400.00 em arame, com um gasto total sendo R$ 433.33\n"
          ]
        }
      ]
    },
    {
      "cell_type": "code",
      "source": [
        "modelo= str(input(\"Digite o modelo do carro: \"))\n",
        "marca= str(input(\"Digite a marca do carro: \"))\n",
        "ano= int(input(\"Digite o ano do carro: \"))\n",
        "inicial= float(input(\"Digite a quantidade de km inicial: \"))\n",
        "final= float(input(\"Digite a quantidade de km final:  \"))\n",
        "litro= float(input(\"Digite a quantidade de litros consumidos: \"))\n",
        "preco_litro= float(input(\"Digite o preço do litro da gasolina: \"))\n",
        "percorrida=(final-inicial)\n",
        "preco=(litro*preco_litro)\n",
        "km_litro=(percorrida/litro)\n",
        "print(f\"Modelo {modelo}, marca {marca}, ano {ano}\")\n",
        "print(f\"Distância percorrida {percorrida} km\")\n",
        "print(f\"Litros de combústiveis consumidos {litro}\")\n",
        "print(f\"Preço por litro {preco_litro}\")\n",
        "print(f\"Total a pagar R${preco: .2f}\")\n",
        "print(f\"Km por litro {km_litro}\")"
      ],
      "metadata": {
        "id": "39zDwScp5vcN"
      },
      "execution_count": null,
      "outputs": []
    }
  ]
}