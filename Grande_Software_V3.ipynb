{
  "nbformat": 4,
  "nbformat_minor": 0,
  "metadata": {
    "colab": {
      "provenance": [],
      "authorship_tag": "ABX9TyPDkIUj48+BfC8PM2VpOlfF",
      "include_colab_link": true
    },
    "kernelspec": {
      "name": "python3",
      "display_name": "Python 3"
    },
    "language_info": {
      "name": "python"
    }
  },
  "cells": [
    {
      "cell_type": "markdown",
      "metadata": {
        "id": "view-in-github",
        "colab_type": "text"
      },
      "source": [
        "<a href=\"https://colab.research.google.com/github/henrique-furtado47/Algoritmos-python/blob/main/Grande_Software_V3.ipynb\" target=\"_parent\"><img src=\"https://colab.research.google.com/assets/colab-badge.svg\" alt=\"Open In Colab\"/></a>"
      ]
    },
    {
      "cell_type": "code",
      "execution_count": 95,
      "metadata": {
        "id": "z1R-3X3I5Dr2"
      },
      "outputs": [],
      "source": [
        "  # Observe que em Python usamos a classe \"Enum\" do módulo \"enum\" em vez de \"enumeração\"\n",
        "# \"Enum\" é um tipo de dados embutido em Python. É usado para criar um conjunto finito de constantes.\n",
        "# \"Enum\" é uma coleção de nomes e valores simbólicos. É um atalho para enumeração e pode ser importado do módulo \"enum\"\n",
        "# Uma das grandes vantagens de usar \"enums\" é que ele limita os possíveis valores\n",
        "# que você pode fornecer a um método... sem mais erros ortográficos ou problemas de maiúsculas e minúsculas\n",
        "from enum import Enum\n",
        "\n",
        "# Podemos nos referir a eles como Wood.SITKA ou Builder.GIBSON\n",
        "# e evitar todas essas comparações de strings completamente\n",
        "class Builder(Enum):\n",
        "    FENDER = \"fender\"\n",
        "    MARTIN = \"martin\"\n",
        "    GIBSON = \"gibson\"\n",
        "    COLLINGS = \"collings\"\n",
        "    OLSON = \"olson\"\n",
        "    RYAN = \"ryan\"\n",
        "    PRS = \"prs\"\n",
        "    ANY = \"any\"\n",
        "\n",
        "#Cada \"enum\" toma o lugar de uma das propriedades de uma guitarra\n",
        "class TypeG(Enum):\n",
        "    ACOUSTIC = \"acoustic\"\n",
        "    ELETRIC = \"eletric\"\n",
        "\n",
        "\n",
        "# Podemos nos referir a eles como Wood.SITKA ou Builder.GIBSON\n",
        "# e evitar todas essas comparações de strings completamente\n",
        "class Wood(Enum):\n",
        "    INDIAN_ROSEWOOD = \"indian_rosewood\"\n",
        "    BRAZILIAN_ROSEWOOD = \"brazilian_rosewood\"\n",
        "    MAHOGANY = \"mahogany\"\n",
        "    MAPLE = \"maple\"\n",
        "    COCOBOLO = \"ococobolo\"\n",
        "    CEDAR = \"cedar\"\n",
        "    ADIRONDACK = \"adirondack\"\n",
        "    ALDER = \"alder\"\n",
        "    SITKA = \"sitka\"\n"
      ]
    },
    {
      "cell_type": "code",
      "source": [
        "#Classe Guitar\n",
        "class Guitar:\n",
        "    def __init__(self, serial_number, price, spec):\n",
        "        self.serial_number = serial_number\n",
        "        self.price = price\n",
        "        self.spec = spec\n",
        "\n",
        "    def getSerialNumber(self):\n",
        "        return self.serial_number\n",
        "\n",
        "    def getPrice(self):\n",
        "        return self.price\n",
        "\n",
        "    def set_price(self, new_price):\n",
        "        self.price = new_price\n",
        "\n",
        "    def get_spec(self):\n",
        "      return self.spec"
      ],
      "metadata": {
        "id": "cdgfY-HX5GxR"
      },
      "execution_count": 96,
      "outputs": []
    },
    {
      "cell_type": "code",
      "source": [
        "# Classe Guitar Spec\n",
        "\n",
        "class GuitarSpec():\n",
        "      def __init__(self, builder, model, typeg, back_wood, top_wood, num_string):\n",
        "        self.builder = builder\n",
        "        self.model = model\n",
        "        self.typeg = typeg\n",
        "        self.back_wood = back_wood\n",
        "        self.top_wood = top_wood\n",
        "        self.num_string = num_string\n",
        "\n",
        "      def getNumString(self):\n",
        "        return self.num_string\n",
        "\n",
        "      def getBuilder(self):\n",
        "          return self.builder\n",
        "\n",
        "      def getTypeg(self):\n",
        "          return self.typeg\n",
        "\n",
        "      def getModel(self):\n",
        "          return self.model\n",
        "\n",
        "      def getBackWood(self):\n",
        "          return self.back_wood\n",
        "\n",
        "      def getTopWood(self):\n",
        "          return self.top_wood\n",
        "\n",
        "      def matches(self, otherSpec):\n",
        "          if self.builder != otherSpec.getBuilder():\n",
        "              return False\n",
        "          if self.model and self.model.lower() != otherSpec.getModel().lower():\n",
        "              return False\n",
        "          if self.typeg != otherSpec.getTypeg():\n",
        "              return False\n",
        "          if self.back_wood != otherSpec.getBackWood():\n",
        "              return False\n",
        "          if self.top_wood != otherSpec.getTopWood():\n",
        "              return False\n",
        "          if self.num_string != otherSpec.getNumString():\n",
        "              return False\n",
        "          return True"
      ],
      "metadata": {
        "id": "kCUbG-ik5Moe"
      },
      "execution_count": 97,
      "outputs": []
    },
    {
      "cell_type": "code",
      "source": [
        "#Classe Inventory\n",
        "class Inventory:\n",
        "    def __init__(self):\n",
        "        self.guitars = []\n",
        "\n",
        "    def add_guitar(self, serial_number, price, spec):\n",
        "        guitar = Guitar(serial_number, price, spec)\n",
        "        self.guitars.append(guitar)\n",
        "\n",
        "    def get_guitar(self, serial_number):\n",
        "        for guitar in self.guitars:\n",
        "            if guitar.get_serial_number() == serial_number:\n",
        "                return guitar\n",
        "        return None\n",
        "\n",
        "    def search_guitar(self, searchGuitar):\n",
        "        guitarsList = []\n",
        "        for guitar in self.guitars:\n",
        "            if guitar.get_spec().matches(searchGuitar):\n",
        "                guitarsList.append(guitar)\n",
        "        return guitarsList\n",
        "\n",
        "\n"
      ],
      "metadata": {
        "id": "scd1GVUv7T-b"
      },
      "execution_count": 98,
      "outputs": []
    },
    {
      "cell_type": "code",
      "source": [
        "# Testando o Sistema\n",
        "\n",
        "def initializeInventory(inventory):\n",
        "    spec1 = GuitarSpec(Builder.FENDER, \"stratocastor\", TypeG.ELETRIC, Wood.ALDER, Wood.ALDER, 6)\n",
        "    inventory.add_guitar(\"V95693\", 1499.95, spec1)\n",
        "    inventory.add_guitar(\"V99999\", 1599.95, spec1)\n",
        "\n",
        "    #spec2 = GuitarSpec(Builder.MARTIN, \"D-18\", TypeG.ACOUSTIC, Wood.MAHOGANY, Wood.ADIRONDACK, 6)\n",
        "    #inventory.add_guitar(\"122784\", 5495.95, spec2)\n",
        "    #inventory.add_guitar(\"76531\", 6295.95, Builder.MARTIN, \"OM-28\", TypeG.ACOUSTIC, Wood.BRAZILIAN_ROSEWOOD, Wood.ADIRONDACK, 6)\n",
        "    #inventory.add_guitar(\"70108276\", 2295.95, Builder.GIBSON, \"Les Paul\", TypeG.ELETRIC, Wood.MAHOGANY, Wood.MAHOGANY, 6)\n",
        "    #inventory.add_guitar(\"82765501\", 1890.95, Builder.GIBSON, \"SG '61 Reissue\", TypeG.ELETRIC, Wood.MAHOGANY, Wood.MAHOGANY, 6)\n",
        "    #inventory.add_guitar(\"77023\", 6275.95, Builder.MARTIN, \"D-28\", TypeG.ACOUSTIC, Wood.BRAZILIAN_ROSEWOOD, Wood.ADIRONDACK, 6)\n",
        "\n",
        "\n",
        "def main():\n",
        "    inventory = Inventory()\n",
        "    initializeInventory(inventory)\n",
        "\n",
        "    whatErinLikes = GuitarSpec(Builder.FENDER, \"Stratocastor\", TypeG.ELETRIC, Wood.ALDER, Wood.ALDER, 6)\n",
        "    matchingGuitars = inventory.search_guitar(whatErinLikes)\n",
        "\n",
        "    if matchingGuitars:\n",
        "        print(\"Erin, talvez você goste destas: \")\n",
        "        for guitar in matchingGuitars:\n",
        "            guitarSpec = guitar.get_spec()\n",
        "            print(f\"\\nGuitarra: {guitar.getSerialNumber()} {guitarSpec.getBuilder().value} {guitarSpec.getModel()} {guitarSpec.getTypeg().value} guitar:\\n{guitarSpec.getBackWood().value} na traseira e laterais,\\n{guitarSpec.getTopWood().value} no tampo, com {guitarSpec.getNumString()} cordas\\nEla pode ser sua por apenas US${guitar.getPrice():.2f}!\")\n",
        "    else:\n",
        "        print(\"Desculpe Erin, não temos nada para você\")\n",
        "\n",
        "if __name__ == '__main__':\n",
        "    main()\n"
      ],
      "metadata": {
        "id": "VVgHQGiL5JUM",
        "colab": {
          "base_uri": "https://localhost:8080/"
        },
        "outputId": "98bfa5f8-9f20-484c-aa01-72e30aa3a099"
      },
      "execution_count": 99,
      "outputs": [
        {
          "output_type": "stream",
          "name": "stdout",
          "text": [
            "Erin, talvez você goste destas: \n",
            "\n",
            "Guitarra: V95693 fender stratocastor eletric guitar:\n",
            "alder na traseira e laterais,\n",
            "alder no tampo, com 6 cordas\n",
            "Ela pode ser sua por apenas US$1499.95!\n",
            "\n",
            "Guitarra: V99999 fender stratocastor eletric guitar:\n",
            "alder na traseira e laterais,\n",
            "alder no tampo, com 6 cordas\n",
            "Ela pode ser sua por apenas US$1599.95!\n"
          ]
        }
      ]
    }
  ]
}