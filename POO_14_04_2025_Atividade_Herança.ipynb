{
  "nbformat": 4,
  "nbformat_minor": 0,
  "metadata": {
    "colab": {
      "provenance": [],
      "authorship_tag": "ABX9TyM5O57rQMJTUneSlBs5ANZm",
      "include_colab_link": true
    },
    "kernelspec": {
      "name": "python3",
      "display_name": "Python 3"
    },
    "language_info": {
      "name": "python"
    }
  },
  "cells": [
    {
      "cell_type": "markdown",
      "metadata": {
        "id": "view-in-github",
        "colab_type": "text"
      },
      "source": [
        "<a href=\"https://colab.research.google.com/github/henrique-furtado47/Algoritmos-python/blob/main/POO_14_04_2025_Atividade_Heran%C3%A7a.ipynb\" target=\"_parent\"><img src=\"https://colab.research.google.com/assets/colab-badge.svg\" alt=\"Open In Colab\"/></a>"
      ]
    },
    {
      "cell_type": "markdown",
      "source": [
        "**1. Crie uma classe chamada Usuario.**"
      ],
      "metadata": {
        "id": "4mHsjSQKmcmN"
      }
    },
    {
      "cell_type": "code",
      "execution_count": null,
      "metadata": {
        "id": "Rx5U7RrpmUn3"
      },
      "outputs": [],
      "source": [
        "class Usuario():\n",
        "  pass"
      ]
    },
    {
      "cell_type": "markdown",
      "source": [
        "**2. Adicione à classe acima uma propriedade privada com o nome nomeUsuario.**"
      ],
      "metadata": {
        "id": "pTdJ6k2DmjTE"
      }
    },
    {
      "cell_type": "code",
      "source": [
        "class Usuario():\n",
        "  def __init_(self, nomeUsuario = ''):\n",
        "    __nomeUsuario = nomeUsuario"
      ],
      "metadata": {
        "id": "m_wy6bMmmjEm"
      },
      "execution_count": null,
      "outputs": []
    },
    {
      "cell_type": "markdown",
      "source": [
        "**3. Crie um método setter que possa definir o valor do nomeUsuario.**"
      ],
      "metadata": {
        "id": "1Zg2v_bymvWt"
      }
    },
    {
      "cell_type": "code",
      "source": [
        "class Usuario():\n",
        "  def __init_(self, nomeUsuario = ''):\n",
        "    self.__nomeUsuario = nomeUsuario\n",
        "\n",
        "  def setNomeUsuario(self, nomeUsuario):\n",
        "    self.__nomeUsuario = nomeUsuario"
      ],
      "metadata": {
        "id": "fw5Pgs-AmwJS"
      },
      "execution_count": null,
      "outputs": []
    },
    {
      "cell_type": "markdown",
      "source": [
        "**4. Crie uma classe Admin que herde a classe Usuario.**"
      ],
      "metadata": {
        "id": "GTCy_uAQnAQ-"
      }
    },
    {
      "cell_type": "code",
      "source": [
        "class Admin(Usuario):\n",
        "  pass"
      ],
      "metadata": {
        "id": "OqO4vGlGnA_T"
      },
      "execution_count": null,
      "outputs": []
    },
    {
      "cell_type": "markdown",
      "source": [
        "**5. Agora, vamos acrescentar à classe Admin algum código. Primeiro, adicione um método público\n",
        "chamado de escrevaNome() e faça com que ele retorne a string: \"Admin\".**"
      ],
      "metadata": {
        "id": "8x-Oc3fCnFyG"
      }
    },
    {
      "cell_type": "code",
      "source": [
        "class Admin(Usuario):\n",
        "  def escrevaNome(self):\n",
        "    return(\"Admin\")"
      ],
      "metadata": {
        "id": "6SNxSVd9nGYS"
      },
      "execution_count": null,
      "outputs": []
    },
    {
      "cell_type": "markdown",
      "source": [
        "**6. Adicione à classe Admin outro método público, digaOla(), que retorne a string \"Olá Admin,\n",
        "XXX\" onde XXX é o nome do usuário (nomeUsuario).**"
      ],
      "metadata": {
        "id": "7XYKA8fLnatX"
      }
    },
    {
      "cell_type": "code",
      "source": [
        "class Admin(Usuario):\n",
        "  def escrevaNome(self):\n",
        "    return(\"Admin\")\n",
        "\n",
        "  def digaOla(self):\n",
        "    return f\"Olá Admin, {self.__nomeUsuario}\""
      ],
      "metadata": {
        "id": "yJWbhY80nWp3"
      },
      "execution_count": null,
      "outputs": []
    },
    {
      "cell_type": "markdown",
      "source": [
        "**7. Crie um objeto chamado admin1 fora da classe Admin. Defina seu nome para \"Baltazar\" e diga\n",
        "olá ao usuário. Você vê algum problema?**"
      ],
      "metadata": {
        "id": "CEtjGi4lnpgy"
      }
    },
    {
      "cell_type": "code",
      "source": [
        "admin1 = Admin()\n",
        "\n",
        "admin1.setNomeUsuario(\"Baltazar\")\n",
        "\n",
        "print(admin1.digaOla())"
      ],
      "metadata": {
        "colab": {
          "base_uri": "https://localhost:8080/",
          "height": 263
        },
        "id": "8C-JH_EPnkK1",
        "outputId": "22cd1d6a-48fc-4af8-cf17-b5b8c0e54b26"
      },
      "execution_count": null,
      "outputs": [
        {
          "output_type": "error",
          "ename": "AttributeError",
          "evalue": "'Admin' object has no attribute '_Admin__nomeUsuario'",
          "traceback": [
            "\u001b[0;31m---------------------------------------------------------------------------\u001b[0m",
            "\u001b[0;31mAttributeError\u001b[0m                            Traceback (most recent call last)",
            "\u001b[0;32m<ipython-input-25-c6c913122fce>\u001b[0m in \u001b[0;36m<cell line: 0>\u001b[0;34m()\u001b[0m\n\u001b[1;32m      3\u001b[0m \u001b[0madmin1\u001b[0m\u001b[0;34m.\u001b[0m\u001b[0msetNomeUsuario\u001b[0m\u001b[0;34m(\u001b[0m\u001b[0;34m\"Baltazar\"\u001b[0m\u001b[0;34m)\u001b[0m\u001b[0;34m\u001b[0m\u001b[0;34m\u001b[0m\u001b[0m\n\u001b[1;32m      4\u001b[0m \u001b[0;34m\u001b[0m\u001b[0m\n\u001b[0;32m----> 5\u001b[0;31m \u001b[0mprint\u001b[0m\u001b[0;34m(\u001b[0m\u001b[0madmin1\u001b[0m\u001b[0;34m.\u001b[0m\u001b[0mdigaOla\u001b[0m\u001b[0;34m(\u001b[0m\u001b[0;34m)\u001b[0m\u001b[0;34m)\u001b[0m\u001b[0;34m\u001b[0m\u001b[0;34m\u001b[0m\u001b[0m\n\u001b[0m",
            "\u001b[0;32m<ipython-input-24-2519d8c11e48>\u001b[0m in \u001b[0;36mdigaOla\u001b[0;34m(self)\u001b[0m\n\u001b[1;32m      4\u001b[0m \u001b[0;34m\u001b[0m\u001b[0m\n\u001b[1;32m      5\u001b[0m   \u001b[0;32mdef\u001b[0m \u001b[0mdigaOla\u001b[0m\u001b[0;34m(\u001b[0m\u001b[0mself\u001b[0m\u001b[0;34m)\u001b[0m\u001b[0;34m:\u001b[0m\u001b[0;34m\u001b[0m\u001b[0;34m\u001b[0m\u001b[0m\n\u001b[0;32m----> 6\u001b[0;31m     \u001b[0;32mreturn\u001b[0m \u001b[0;34mf\"Olá Admin, {self.__nomeUsuario}\"\u001b[0m\u001b[0;34m\u001b[0m\u001b[0;34m\u001b[0m\u001b[0m\n\u001b[0m",
            "\u001b[0;31mAttributeError\u001b[0m: 'Admin' object has no attribute '_Admin__nomeUsuario'"
          ]
        }
      ]
    },
    {
      "cell_type": "markdown",
      "source": [
        "8. Qual é a causa do problema?"
      ],
      "metadata": {
        "id": "eyOk8t63oAtK"
      }
    },
    {
      "cell_type": "code",
      "source": [
        "# A propriedade é privada"
      ],
      "metadata": {
        "id": "eRU7gG9gnxP2"
      },
      "execution_count": null,
      "outputs": []
    },
    {
      "cell_type": "markdown",
      "source": [
        "**9. Altere o código para corrigir o problema.**"
      ],
      "metadata": {
        "id": "DCWp6HVNoeod"
      }
    },
    {
      "cell_type": "markdown",
      "source": [
        "**10. Tente escrever a solução com um método getter dentro da classe mãe que pode ser usado a partir da\n",
        "classe filha.**"
      ],
      "metadata": {
        "id": "eBQ6RZ_CpGCv"
      }
    },
    {
      "cell_type": "code",
      "source": [
        "class Usuario():\n",
        "  def __init_(self, nomeUsuario = ''):\n",
        "    self.__nomeUsuario = nomeUsuario\n",
        "\n",
        "  def setNomeUsuario(self, nomeUsuario):\n",
        "    self.__nomeUsuario = nomeUsuario\n",
        "\n",
        "  def getNomeUsuario(self):\n",
        "    return self.__nomeUsuario\n",
        "\n",
        "class Admin(Usuario):\n",
        "  def escrevaNome(self):\n",
        "    return(\"Admin\")\n",
        "\n",
        "  def digaOla(self):\n",
        "    return f\"Olá Admin, {self.getNomeUsuario()}\""
      ],
      "metadata": {
        "id": "iKUJ3DWHolhs"
      },
      "execution_count": 28,
      "outputs": []
    },
    {
      "cell_type": "code",
      "source": [
        "admin1 = Admin()\n",
        "\n",
        "admin1.setNomeUsuario(\"Baltazar\")\n",
        "\n",
        "print(admin1.digaOla())"
      ],
      "metadata": {
        "colab": {
          "base_uri": "https://localhost:8080/"
        },
        "id": "-ac0htQgoqeq",
        "outputId": "605e341c-ec4e-413c-de1b-bdf47afed564"
      },
      "execution_count": 29,
      "outputs": [
        {
          "output_type": "stream",
          "name": "stdout",
          "text": [
            "Olá Admin, Baltazar\n"
          ]
        }
      ]
    }
  ]
}