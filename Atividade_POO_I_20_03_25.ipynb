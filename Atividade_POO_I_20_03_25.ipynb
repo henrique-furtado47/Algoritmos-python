{
  "nbformat": 4,
  "nbformat_minor": 0,
  "metadata": {
    "colab": {
      "provenance": [],
      "authorship_tag": "ABX9TyPqE2AHEwEZcibRXD0oPAys",
      "include_colab_link": true
    },
    "kernelspec": {
      "name": "python3",
      "display_name": "Python 3"
    },
    "language_info": {
      "name": "python"
    }
  },
  "cells": [
    {
      "cell_type": "markdown",
      "metadata": {
        "id": "view-in-github",
        "colab_type": "text"
      },
      "source": [
        "<a href=\"https://colab.research.google.com/github/henrique-furtado47/Algoritmos-python/blob/main/Atividade_POO_I_20_03_25.ipynb\" target=\"_parent\"><img src=\"https://colab.research.google.com/assets/colab-badge.svg\" alt=\"Open In Colab\"/></a>"
      ]
    },
    {
      "cell_type": "markdown",
      "source": [
        "**Quase todos os aplicativos ou blogs lidam com os usuários. Seja o processo de registro (cadastro), o\n",
        "login e\n",
        "logout, o envio de lembretes aos usuários que perderam suas senhas ou a alteração delas sob demanda, todo\n",
        "o código que lida com os usuários pode ser agrupado em uma única classe. Em nosso exemplo, chamamos a\n",
        "classe que lida com usuários, Usuario, de acordo com a convenção de nomenclatura vigente.\n",
        "Vamos escrever uma classe Usuario com as ferramentas que acabamos de adquirir. Esta classe conterá o nome\n",
        "e sobrenome de cada usuário e será capaz de dizer “Olá” a qualquer pessoa que use nosso aplicativo.**"
      ],
      "metadata": {
        "id": "pPzLYsMDVoLb"
      }
    },
    {
      "cell_type": "markdown",
      "source": [
        "5. Escreva o que você acha que deveria ser o nome da classe, os nomes das propriedades para o\n",
        "primeiro e último nome (sobrenome) e o nome do método que retorna “Olá”.\n",
        "\n",
        "---\n",
        "\n",
        "\n",
        "Nome da classe: Usuario\n",
        "\n",
        "---\n",
        "\n",
        "\n",
        "Propriedades: nome , sobrenome\n",
        "\n",
        "---\n",
        "\n",
        "\n",
        "Método: cumprimentar"
      ],
      "metadata": {
        "id": "srrQCBCIWTr9"
      }
    },
    {
      "cell_type": "markdown",
      "source": [
        "**6. Escreva a classe Usuario e adicione as propriedades e o método (em Python):**"
      ],
      "metadata": {
        "id": "-k8RgEANWwP-"
      }
    },
    {
      "cell_type": "code",
      "source": [
        "class Usuario:\n",
        "  nome = \"\"\n",
        "  sobrenome = \"\"\n",
        "  def cumprimentar(self):\n",
        "    return f\"Olá, {self.nome} {self.sobrenome}!\""
      ],
      "metadata": {
        "id": "swaLBZlURZ6I"
      },
      "execution_count": 98,
      "outputs": []
    },
    {
      "cell_type": "markdown",
      "source": [
        "**7. Crie a primeira instância e chame-a de usuario1.**"
      ],
      "metadata": {
        "id": "Qp2XDTxRXeLs"
      }
    },
    {
      "cell_type": "code",
      "source": [
        "usuario1 = Usuario()"
      ],
      "metadata": {
        "id": "jfSsbsMBXFWv"
      },
      "execution_count": 99,
      "outputs": []
    },
    {
      "cell_type": "markdown",
      "source": [
        "**8. Defina os valores do primeiro e último nome para usuario1.**"
      ],
      "metadata": {
        "id": "OiZFVG_9Xj4a"
      }
    },
    {
      "cell_type": "code",
      "source": [
        "usuario1.nome = \"Henrique\"\n",
        "usuario1.sobrenome = \"Furtado\""
      ],
      "metadata": {
        "id": "qxwBcbDZXhJB"
      },
      "execution_count": 100,
      "outputs": []
    },
    {
      "cell_type": "markdown",
      "source": [
        "**9. Obter o nome e sobrenome do usuário e imprima-os na tela com o comando print.**"
      ],
      "metadata": {
        "id": "JgtLJUNJXvVv"
      }
    },
    {
      "cell_type": "code",
      "source": [
        "print(f\"Nome: {usuario1.nome}\\nSobrenome: {usuario1.sobrenome}\")"
      ],
      "metadata": {
        "colab": {
          "base_uri": "https://localhost:8080/"
        },
        "id": "fzRifBaZXpI_",
        "outputId": "34cffc84-acd2-4549-9108-c656dfb01237"
      },
      "execution_count": 101,
      "outputs": [
        {
          "output_type": "stream",
          "name": "stdout",
          "text": [
            "Nome: Henrique\n",
            "Sobrenome: Furtado\n"
          ]
        }
      ]
    },
    {
      "cell_type": "markdown",
      "source": [
        "**10. Use o método que retorna “Olá” com as variáveis primeiro nome e último nome para dizer Olá ao\n",
        "usuário.**"
      ],
      "metadata": {
        "id": "a9DlON2KYMDt"
      }
    },
    {
      "cell_type": "code",
      "source": [
        "print(usuario1.cumprimentar())"
      ],
      "metadata": {
        "colab": {
          "base_uri": "https://localhost:8080/"
        },
        "id": "KZi2dqhZXx2_",
        "outputId": "b2e176c7-1bf6-4302-e719-da01fbff0dfa"
      },
      "execution_count": 102,
      "outputs": [
        {
          "output_type": "stream",
          "name": "stdout",
          "text": [
            "Olá, Henrique Furtado!\n"
          ]
        }
      ]
    },
    {
      "cell_type": "markdown",
      "source": [
        "**11. Crie (instancie) outro objeto. Chame-o de usuario2, dê a ele o primeiro nome de “Jane” e o\n",
        "sobrenome de “Silva”, e depois diga “Olá” ao usuário.**"
      ],
      "metadata": {
        "id": "C78h_T5nZvBH"
      }
    },
    {
      "cell_type": "code",
      "source": [
        "usuario2 = Usuario()\n",
        "\n",
        "usuario2.nome = \"Jane\"\n",
        "usuario2.sobrenome = \"Silva\"\n",
        "\n",
        "print(usuario2.cumprimentar())"
      ],
      "metadata": {
        "colab": {
          "base_uri": "https://localhost:8080/"
        },
        "id": "_JcjPI6aYP3j",
        "outputId": "8cc7fcb7-9b32-401c-e82c-e1bb662e84f5"
      },
      "execution_count": 103,
      "outputs": [
        {
          "output_type": "stream",
          "name": "stdout",
          "text": [
            "Olá, Jane Silva!\n"
          ]
        }
      ]
    }
  ]
}