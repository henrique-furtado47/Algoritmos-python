{
  "nbformat": 4,
  "nbformat_minor": 0,
  "metadata": {
    "colab": {
      "provenance": [],
      "authorship_tag": "ABX9TyPA9AQc9w4SwitZ4JFNFyk9",
      "include_colab_link": true
    },
    "kernelspec": {
      "name": "python3",
      "display_name": "Python 3"
    },
    "language_info": {
      "name": "python"
    }
  },
  "cells": [
    {
      "cell_type": "markdown",
      "metadata": {
        "id": "view-in-github",
        "colab_type": "text"
      },
      "source": [
        "<a href=\"https://colab.research.google.com/github/henrique-furtado47/Algoritmos-python/blob/main/Grande_Software_V4.ipynb\" target=\"_parent\"><img src=\"https://colab.research.google.com/assets/colab-badge.svg\" alt=\"Open In Colab\"/></a>"
      ]
    },
    {
      "cell_type": "code",
      "source": [
        "from abc import ABC, abstractmethod"
      ],
      "metadata": {
        "id": "eYzPzAtJnLv0"
      },
      "execution_count": 34,
      "outputs": []
    },
    {
      "cell_type": "code",
      "execution_count": 35,
      "metadata": {
        "id": "z1R-3X3I5Dr2"
      },
      "outputs": [],
      "source": [
        "  # Observe que em Python usamos a classe \"Enum\" do módulo \"enum\" em vez de \"enumeração\"\n",
        "# \"Enum\" é um tipo de dados embutido em Python. É usado para criar um conjunto finito de constantes.\n",
        "# \"Enum\" é uma coleção de nomes e valores simbólicos. É um atalho para enumeração e pode ser importado do módulo \"enum\"\n",
        "# Uma das grandes vantagens de usar \"enums\" é que ele limita os possíveis valores\n",
        "# que você pode fornecer a um método... sem mais erros ortográficos ou problemas de maiúsculas e minúsculas\n",
        "from enum import Enum\n",
        "\n",
        "# Podemos nos referir a eles como Wood.SITKA ou Builder.GIBSON\n",
        "# e evitar todas essas comparações de strings completamente\n",
        "class Builder(Enum):\n",
        "    FENDER = \"fender\"\n",
        "    MARTIN = \"martin\"\n",
        "    GIBSON = \"gibson\"\n",
        "    COLLINGS = \"collings\"\n",
        "    OLSON = \"olson\"\n",
        "    RYAN = \"ryan\"\n",
        "    PRS = \"prs\"\n",
        "    ANY = \"any\"\n",
        "\n",
        "#Cada \"enum\" toma o lugar de uma das propriedades de uma guitarra\n",
        "class TypeG(Enum):\n",
        "    ACOUSTIC = \"acoustic\"\n",
        "    ELETRIC = \"eletric\"\n",
        "\n",
        "\n",
        "# Podemos nos referir a eles como Wood.SITKA ou Builder.GIBSON\n",
        "# e evitar todas essas comparações de strings completamente\n",
        "class Wood(Enum):\n",
        "    INDIAN_ROSEWOOD = \"indian_rosewood\"\n",
        "    BRAZILIAN_ROSEWOOD = \"brazilian_rosewood\"\n",
        "    MAHOGANY = \"mahogany\"\n",
        "    MAPLE = \"maple\"\n",
        "    COCOBOLO = \"ococobolo\"\n",
        "    CEDAR = \"cedar\"\n",
        "    ADIRONDACK = \"adirondack\"\n",
        "    ALDER = \"alder\"\n",
        "    SITKA = \"sitka\"\n"
      ]
    },
    {
      "cell_type": "code",
      "source": [
        "#Classe Instrument\n",
        "class Instrument(ABC):\n",
        "    def __init__(self, serial_number, price, spec):\n",
        "        self.serial_number = serial_number\n",
        "        self.price = price\n",
        "        self.spec = spec\n",
        "\n",
        "    def getSerialNumber(self):\n",
        "        return self.serial_number\n",
        "\n",
        "    def getPrice(self):\n",
        "        return self.price\n",
        "\n",
        "    def set_price(self, new_price):\n",
        "        self.price = new_price\n",
        "\n",
        "    def get_spec(self):\n",
        "        return self.spec"
      ],
      "metadata": {
        "id": "i1fSyyW2nQj0"
      },
      "execution_count": 36,
      "outputs": []
    },
    {
      "cell_type": "code",
      "source": [
        "#Classe Guitar\n",
        "class Guitar(Instrument):\n",
        "    def __init__(self, serial_number, price, spec):\n",
        "        super().__init__(serial_number, price, spec)"
      ],
      "metadata": {
        "id": "cdgfY-HX5GxR"
      },
      "execution_count": 37,
      "outputs": []
    },
    {
      "cell_type": "code",
      "source": [
        "#Classe Mandolin\n",
        "class Mandolin(Instrument):\n",
        "    def __init__(self, serial_number, price, spec):\n",
        "        super().__init__(serial_number, price, spec)"
      ],
      "metadata": {
        "id": "c0KwrG5NnX58"
      },
      "execution_count": 38,
      "outputs": []
    },
    {
      "cell_type": "code",
      "source": [
        "#Classe Instrument Spec\n",
        "class InstrumentSpec(ABC):\n",
        "    @abstractmethod\n",
        "    def matches(self, otherSpec):\n",
        "        pass"
      ],
      "metadata": {
        "id": "mDz7fqQkncDM"
      },
      "execution_count": 39,
      "outputs": []
    },
    {
      "cell_type": "code",
      "source": [
        "# Classe Guitar Spec\n",
        "\n",
        "class GuitarSpec(InstrumentSpec):\n",
        "    def __init__(self, builder, model, typeg, back_wood, top_wood, num_string):\n",
        "        self.builder = builder\n",
        "        self.model = model\n",
        "        self.typeg = typeg\n",
        "        self.back_wood = back_wood\n",
        "        self.top_wood = top_wood\n",
        "        self.num_string = num_string\n",
        "\n",
        "    def matches(self, otherSpec):\n",
        "        if not isinstance(otherSpec, GuitarSpec):\n",
        "            return False\n",
        "        if self.builder != otherSpec.getBuilder():\n",
        "            return False\n",
        "        if self.model and self.model.lower() != otherSpec.getModel().lower():\n",
        "            return False\n",
        "        if self.typeg != otherSpec.getTypeg():\n",
        "            return False\n",
        "        if self.back_wood != otherSpec.getBackWood():\n",
        "            return False\n",
        "        if self.top_wood != otherSpec.getTopWood():\n",
        "            return False\n",
        "        if self.num_string != otherSpec.getNumString():\n",
        "            return False\n",
        "        return True\n",
        "\n",
        "    def getNumString(self):\n",
        "      return self.num_string\n",
        "\n",
        "    def getBuilder(self):\n",
        "        return self.builder\n",
        "\n",
        "    def getTypeg(self):\n",
        "        return self.typeg\n",
        "\n",
        "    def getModel(self):\n",
        "        return self.model\n",
        "\n",
        "    def getBackWood(self):\n",
        "        return self.back_wood\n",
        "\n",
        "    def getTopWood(self):\n",
        "        return self.top_wood\n",
        "\n",
        "    def matches(self, otherSpec):\n",
        "        if not isinstance(otherSpec, GuitarSpec):\n",
        "            return False\n",
        "        if self.builder != otherSpec.getBuilder():\n",
        "            return False\n",
        "        if self.model and self.model.lower() != otherSpec.getModel().lower():\n",
        "            return False\n",
        "        if self.typeg != otherSpec.getTypeg():\n",
        "            return False\n",
        "        if self.back_wood != otherSpec.getBackWood():\n",
        "            return False\n",
        "        if self.top_wood != otherSpec.getTopWood():\n",
        "            return False\n",
        "        if self.num_string != otherSpec.getNumString():\n",
        "            return False\n",
        "        return True"
      ],
      "metadata": {
        "id": "kCUbG-ik5Moe"
      },
      "execution_count": 40,
      "outputs": []
    },
    {
      "cell_type": "code",
      "source": [
        "# Classe Mandolin Spec\n",
        "class MandolinSpec(InstrumentSpec):\n",
        "    def __init__(self, builder, model, typeg, back_wood, top_wood, style):\n",
        "        self.builder = builder\n",
        "        self.model = model\n",
        "        self.typeg = typeg\n",
        "        self.back_wood = back_wood\n",
        "        self.top_wood = top_wood\n",
        "        self.style = style\n",
        "\n",
        "    def getBuilder(self):\n",
        "        return self.builder\n",
        "\n",
        "    def getModel(self):\n",
        "        return self.model\n",
        "\n",
        "    def getTypeg(self):\n",
        "        return self.typeg\n",
        "\n",
        "    def getBackWood(self):\n",
        "        return self.back_wood\n",
        "\n",
        "    def getTopWood(self):\n",
        "        return self.top_wood\n",
        "\n",
        "    def getStyle(self):\n",
        "        return self.style\n",
        "\n",
        "    def matches(self, otherSpec):\n",
        "        if not isinstance(otherSpec, MandolinSpec):\n",
        "            return False\n",
        "        if self.builder != otherSpec.getBuilder():\n",
        "            return False\n",
        "        if self.model and self.model.lower() != otherSpec.getModel().lower():\n",
        "            return False\n",
        "        if self.typeg != otherSpec.getTypeg():\n",
        "            return False\n",
        "        if self.back_wood != otherSpec.getBackWood():\n",
        "            return False\n",
        "        if self.top_wood != otherSpec.getTopWood():\n",
        "            return False\n",
        "        if self.style != otherSpec.getStyle():\n",
        "            return False\n",
        "        return True\n"
      ],
      "metadata": {
        "id": "a64-Ngrzn7cn"
      },
      "execution_count": 41,
      "outputs": []
    },
    {
      "cell_type": "code",
      "source": [
        "#Class Inventory\n",
        "\n",
        "class Inventory:\n",
        "    def __init__(self):\n",
        "        self.instruments = []\n",
        "\n",
        "    def add_instrument(self, serial_number, price, spec):\n",
        "        instrument = None\n",
        "        if isinstance(spec, GuitarSpec):\n",
        "            instrument = Guitar(serial_number, price, spec)\n",
        "        elif isinstance(spec, MandolinSpec):\n",
        "            instrument = Mandolin(serial_number, price, spec)\n",
        "        if instrument:\n",
        "            self.instruments.append(instrument)\n",
        "\n",
        "    def search(self, searchSpec):\n",
        "        matching_instruments = []\n",
        "        for instrument in self.instruments:\n",
        "            if instrument.get_spec().matches(searchSpec):\n",
        "                matching_instruments.append(instrument)\n",
        "        return matching_instruments\n"
      ],
      "metadata": {
        "id": "scd1GVUv7T-b"
      },
      "execution_count": 42,
      "outputs": []
    },
    {
      "cell_type": "code",
      "source": [
        "def initializeInventory(inventory):\n",
        "    # Adicionando guitarras\n",
        "    spec1 = GuitarSpec(Builder.FENDER, \"Stratocastor\", TypeG.ELETRIC, Wood.ALDER, Wood.ALDER, 6)\n",
        "    inventory.add_instrument(\"V95693\", 1499.95, spec1)\n",
        "    inventory.add_instrument(\"V99999\", 1599.95, spec1)\n",
        "\n",
        "    spec2 = GuitarSpec(Builder.MARTIN, \"D-18\", TypeG.ACOUSTIC, Wood.MAHOGANY, Wood.ADIRONDACK, 6)\n",
        "    inventory.add_instrument(\"122784\", 5495.95, spec2)\n",
        "\n",
        "    # Adicionando bandolins\n",
        "    spec3 = MandolinSpec(Builder.GIBSON, \"F5-G\", TypeG.ACOUSTIC, Wood.MAPLE, Wood.MAPLE, \"F\")\n",
        "    inventory.add_instrument(\"M54321\", 1200.0, spec3)\n",
        "\n",
        "    spec4 = MandolinSpec(Builder.COLLINGS, \"MF\", TypeG.ACOUSTIC, Wood.MAPLE, Wood.ADIRONDACK, \"A\")\n",
        "    inventory.add_instrument(\"M78901\", 1300.0, spec4)\n",
        "\n",
        "def main():\n",
        "    inventory = Inventory()\n",
        "    initializeInventory(inventory)\n",
        "\n",
        "    print(\"===== Busca por guitarra =====\")\n",
        "    # Busca por guitarra\n",
        "    whatErinLikes = GuitarSpec(Builder.FENDER, \"Stratocastor\", TypeG.ELETRIC, Wood.ALDER, Wood.ALDER, 6)\n",
        "    matchingGuitars = inventory.search(whatErinLikes)\n",
        "\n",
        "    if matchingGuitars:\n",
        "        print(\"Erin, talvez você goste destas guitarras:\")\n",
        "        for guitar in matchingGuitars:\n",
        "            spec = guitar.get_spec()\n",
        "            print(f\"\\nGuitarra {guitar.getSerialNumber()} - {spec.getBuilder().value} {spec.getModel()}, {spec.getTypeg().value}\")\n",
        "            print(f\"Madeira traseira: {spec.getBackWood().value}, Tampo: {spec.getTopWood().value}, Cordas: {spec.getNumString()}\")\n",
        "            print(f\"Preço: US${guitar.getPrice():.2f}\")\n",
        "    else:\n",
        "        print(\"Desculpe Erin, não temos nenhuma guitarra para você.\")\n",
        "\n",
        "    print(\"\\n===== Busca por bandolim =====\")\n",
        "    # Busca por bandolim\n",
        "    mandolinPreference = MandolinSpec(Builder.GIBSON, \"F5-G\", TypeG.ACOUSTIC, Wood.MAPLE, Wood.MAPLE, \"F\")\n",
        "    matchingMandolins = inventory.search(mandolinPreference)\n",
        "\n",
        "    if matchingMandolins:\n",
        "        print(\"Rick, encontramos estes bandolins para você:\")\n",
        "        for mandolin in matchingMandolins:\n",
        "            spec = mandolin.get_spec()\n",
        "            print(f\"\\nBandolim {mandolin.getSerialNumber()} - {spec.getBuilder().value} {spec.getModel()}, estilo {spec.getStyle()}\")\n",
        "            print(f\"Madeira traseira: {spec.getBackWood().value}, Tampo: {spec.getTopWood().value}\")\n",
        "            print(f\"Preço: US${mandolin.getPrice():.2f}\")\n",
        "    else:\n",
        "        print(\"Desculpe Rick, não temos nenhum bandolim com essas especificações.\")\n",
        "\n",
        "if __name__ == '__main__':\n",
        "    main()\n"
      ],
      "metadata": {
        "id": "VVgHQGiL5JUM",
        "colab": {
          "base_uri": "https://localhost:8080/"
        },
        "outputId": "7cb0df28-f241-492b-d1a7-7dc823ab7423"
      },
      "execution_count": 43,
      "outputs": [
        {
          "output_type": "stream",
          "name": "stdout",
          "text": [
            "===== Busca por guitarra =====\n",
            "Erin, talvez você goste destas guitarras:\n",
            "\n",
            "Guitarra V95693 - fender Stratocastor, eletric\n",
            "Madeira traseira: alder, Tampo: alder, Cordas: 6\n",
            "Preço: US$1499.95\n",
            "\n",
            "Guitarra V99999 - fender Stratocastor, eletric\n",
            "Madeira traseira: alder, Tampo: alder, Cordas: 6\n",
            "Preço: US$1599.95\n",
            "\n",
            "===== Busca por bandolim =====\n",
            "Rick, encontramos estes bandolins para você:\n",
            "\n",
            "Bandolim M54321 - gibson F5-G, estilo F\n",
            "Madeira traseira: maple, Tampo: maple\n",
            "Preço: US$1200.00\n"
          ]
        }
      ]
    }
  ]
}