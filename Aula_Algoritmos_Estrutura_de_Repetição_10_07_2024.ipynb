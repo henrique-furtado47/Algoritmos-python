{
  "nbformat": 4,
  "nbformat_minor": 0,
  "metadata": {
    "colab": {
      "provenance": [],
      "authorship_tag": "ABX9TyNSRMNcyaY+0DAVU6V15ryX",
      "include_colab_link": true
    },
    "kernelspec": {
      "name": "python3",
      "display_name": "Python 3"
    },
    "language_info": {
      "name": "python"
    }
  },
  "cells": [
    {
      "cell_type": "markdown",
      "metadata": {
        "id": "view-in-github",
        "colab_type": "text"
      },
      "source": [
        "<a href=\"https://colab.research.google.com/github/henrique-furtado47/Algoritmos-python/blob/main/Aula_Algoritmos_Estrutura_de_Repeti%C3%A7%C3%A3o_10_07_2024.ipynb\" target=\"_parent\"><img src=\"https://colab.research.google.com/assets/colab-badge.svg\" alt=\"Open In Colab\"/></a>"
      ]
    },
    {
      "cell_type": "markdown",
      "source": [
        "**:1 - Faça um algoritmo que:\n",
        "• leia 20 números inteiros;\n",
        "• escreva os números que são negativos;\n",
        "• escreva a média dos números positivos.**"
      ],
      "metadata": {
        "id": "7fiXutQsjEIy"
      }
    },
    {
      "cell_type": "code",
      "source": [
        "somapos= 0\n",
        "contador = 0\n",
        "contapos = 0\n",
        "numero=0\n",
        "while contador < 20:\n",
        "  numero=int(input(\"Digite um número : \"))\n",
        "  if numero < 0 :\n",
        "    print(f\"O numero {numero} é negativo \\n \")\n",
        "  else:\n",
        "    somapos= somapos+numero\n",
        "    contapos+=1\n",
        "  contador +=1\n",
        "mediapos= somapos/contapos\n",
        "print(f\"A média dos números positivos é {mediapos}\")"
      ],
      "metadata": {
        "colab": {
          "base_uri": "https://localhost:8080/"
        },
        "id": "9r5PpGPbgDjB",
        "outputId": "1978a853-f1f3-4954-fb7f-4ed1671943a1"
      },
      "execution_count": 15,
      "outputs": [
        {
          "output_type": "stream",
          "name": "stdout",
          "text": [
            "Digite um número : 2\n",
            "Digite um número : 1\n",
            "Digite um número : 0\n",
            "Digite um número : -2\n",
            "O numero -2 é negativo \n",
            " \n",
            "Digite um número : 1\n",
            "A média dos números positivos é 1.0\n"
          ]
        }
      ]
    },
    {
      "cell_type": "markdown",
      "source": [
        "**2 - Faça um algoritmo que leia 15 números inteiros e escreva, para cada número lido, se é\n",
        "par ou ímpar.**"
      ],
      "metadata": {
        "id": "nrIwOHrGjWHJ"
      }
    },
    {
      "cell_type": "code",
      "source": [
        "contador = 0\n",
        "while contador < 15:\n",
        "  num=int(input(\"Digite o número: \"))\n",
        "  if num % 2 == 0:\n",
        "    print(f\"O número {num} é par\")\n",
        "  else:\n",
        "    print(f\"O número {num} é impar\")\n",
        "  contador +=1"
      ],
      "metadata": {
        "colab": {
          "base_uri": "https://localhost:8080/"
        },
        "collapsed": true,
        "id": "JDDbUM_OirCL",
        "outputId": "181002ea-3ca1-43ed-ae8b-d3b9b5e20f84"
      },
      "execution_count": 36,
      "outputs": [
        {
          "output_type": "stream",
          "name": "stdout",
          "text": [
            "Digite o número: 2\n",
            "O número 2 é par\n",
            "Digite o número: 1\n",
            "O número 1 é impar\n",
            "Digite o número: 3\n",
            "O número 3 é impar\n",
            "Digite o número: 4\n",
            "O número 4 é par\n",
            "Digite o número: 5\n",
            "O número 5 é impar\n",
            "Digite o número: 6\n",
            "O número 6 é par\n",
            "Digite o número: 7\n",
            "O número 7 é impar\n",
            "Digite o número: 8\n",
            "O número 8 é par\n",
            "Digite o número: 9\n",
            "O número 9 é impar\n",
            "Digite o número: 10\n",
            "O número 10 é par\n",
            "Digite o número: 11\n",
            "O número 11 é impar\n",
            "Digite o número: 12\n",
            "O número 12 é par\n",
            "Digite o número: 13\n",
            "O número 13 é impar\n",
            "Digite o número: 14\n",
            "O número 14 é par\n",
            "Digite o número: 15\n",
            "O número 15 é impar\n"
          ]
        }
      ]
    },
    {
      "cell_type": "markdown",
      "source": [
        "**3. Dado um conjunto de valores inteiros positivos, determinar qual o menor e qual o\n",
        "maior valor do conjunto. Um número com valor “0” (zero) indica o fim dos dados e\n",
        "não deve ser considerado.**"
      ],
      "metadata": {
        "id": "ki57yxEumt7z"
      }
    },
    {
      "cell_type": "code",
      "source": [
        "lista = []\n",
        "x=1\n",
        "while x!=0:\n",
        "  x= int(input(\"Digite um número: \"))\n",
        "  lista.append(x)\n",
        "  print(f\"\\nConjunto de número: {lista}\")\n",
        "  print(f\"O maior número é {max(lista)}\")\n",
        "  print(f\"O menor número é {min(lista)}\")\n",
        "print(\"Fim do programa\")"
      ],
      "metadata": {
        "colab": {
          "base_uri": "https://localhost:8080/"
        },
        "id": "TaORdVCbm1R9",
        "outputId": "7b354bd2-43fb-47ea-d5ef-2e80e091f4a2"
      },
      "execution_count": 21,
      "outputs": [
        {
          "output_type": "stream",
          "name": "stdout",
          "text": [
            "Digite um número: 0\n",
            "\n",
            "Conjunto de número: [0]\n",
            "O maior número é 0\n",
            "O menor número é 0\n",
            "Fim do programa\n"
          ]
        }
      ]
    },
    {
      "cell_type": "markdown",
      "source": [
        "**4 -Faça um algoritmo que calcule e escreva a soma dos números pares e a soma dos\n",
        "números ímpares entre 1 e 100.**"
      ],
      "metadata": {
        "id": "J9ScLX9Vn8Uo"
      }
    },
    {
      "cell_type": "code",
      "source": [
        "contador = 0\n",
        "somapar = 0\n",
        "somaimpar = 0\n",
        "while contador < 100:\n",
        "  contador+=1\n",
        "  if contador %2 == 0:\n",
        "    somapar+=contador\n",
        "  else:\n",
        "    somaimpar+=contador\n",
        "print(f\"A soma dos números impares foi {somaimpar} e a soma dos números pares foi {somapar}\")"
      ],
      "metadata": {
        "colab": {
          "base_uri": "https://localhost:8080/"
        },
        "id": "1CeFUZF9oDbI",
        "outputId": "8cfe9ff2-e208-40fd-8ef6-9e8ea6d88da5"
      },
      "execution_count": 22,
      "outputs": [
        {
          "output_type": "stream",
          "name": "stdout",
          "text": [
            "A soma dos números impares foi 2500 e a soma dos números pares foi 2550\n"
          ]
        }
      ]
    },
    {
      "cell_type": "markdown",
      "source": [
        "**5 - Faça um algoritmo que leia a altura de 20 pessoas e calcule a média aritmética das\n",
        "alturas.**"
      ],
      "metadata": {
        "id": "_tyEJjjbpLjK"
      }
    },
    {
      "cell_type": "code",
      "source": [
        "contador = 0\n",
        "soma_altura = 0\n",
        "while contador < 20:\n",
        "  altura=float(input(f\"Digite a altura da {contador+1}º pessoa: \"))\n",
        "  soma_altura+=altura\n",
        "  contador+=1\n",
        "media=soma_altura/contador\n",
        "print(f\"A média das altura é igual a {media: .2f}\")"
      ],
      "metadata": {
        "colab": {
          "base_uri": "https://localhost:8080/"
        },
        "id": "oNimUiJPpPTv",
        "outputId": "aa130a88-8c5a-45e8-a29b-57cf0768a3c4"
      },
      "execution_count": 25,
      "outputs": [
        {
          "output_type": "stream",
          "name": "stdout",
          "text": [
            "Digite a altura da 1º pessoa: 1\n",
            "Digite a altura da 2º pessoa: 1\n",
            "Digite a altura da 3º pessoa: 1\n",
            "Digite a altura da 4º pessoa: 1\n",
            "Digite a altura da 5º pessoa: 1\n",
            "A média das altura é igual a  1.00\n"
          ]
        }
      ]
    },
    {
      "cell_type": "markdown",
      "source": [
        "**6 - Faça um algoritmo que leia n valores inteiros e escreva quantos desses valores são\n",
        "negativos.**"
      ],
      "metadata": {
        "id": "shT2qfxqqP8Z"
      }
    },
    {
      "cell_type": "code",
      "source": [
        "n=int(input(\"Digite a quantidade de números que você quer verificar: \"))\n",
        "contador=0\n",
        "somaneg=0\n",
        "while contador < n:\n",
        "  num=int(input(\"\\n Digite um número: \"))\n",
        "  if num<0:\n",
        "    somaneg+=1\n",
        "  contador+=1\n",
        "print(f\"\\nVocê digitou {somaneg} números negativos\")"
      ],
      "metadata": {
        "colab": {
          "base_uri": "https://localhost:8080/"
        },
        "id": "HBdEjlVTqWki",
        "outputId": "1151f04c-af50-4dd7-a9f8-3a64d9ead521"
      },
      "execution_count": 28,
      "outputs": [
        {
          "output_type": "stream",
          "name": "stdout",
          "text": [
            "Digite a quantidade de números que você quer verificar: 3\n",
            "\n",
            " Digite um número: 1\n",
            "\n",
            " Digite um número: -2\n",
            "\n",
            " Digite um número: -3\n",
            "\n",
            "Você digitou 2 números negativos\n"
          ]
        }
      ]
    },
    {
      "cell_type": "markdown",
      "source": [
        "**7 - Faça um algoritmo que leia a quantidade de tinta que uma caneta, e enquanto a\n",
        "caneta tiver tinta para escrever, escreva “Enquanto tem tinta a caneta escreve...”.\n",
        "Considere que a cada comando de escrita a caneta gasta 2% da tinta que possui.**"
      ],
      "metadata": {
        "id": "-yEqd6ruroXC"
      }
    },
    {
      "cell_type": "code",
      "source": [
        "tinta=float(input(\"Digite quantos % de tinta a caneta tem: \"))\n",
        "contador=0\n",
        "while tinta > 0:\n",
        "  print(\"Enquanto tem tinta a caneta escreve...\")\n",
        "  tinta-=2\n",
        "  contador+=1\n",
        "print(f\"Acabou a tinta :(, mas ela escreveu {contador} vezes antes de acabar\")"
      ],
      "metadata": {
        "colab": {
          "base_uri": "https://localhost:8080/"
        },
        "id": "JQd8NBVlrqE_",
        "outputId": "59ba3c2c-96f0-499a-cff0-ee9e0f257b40"
      },
      "execution_count": 35,
      "outputs": [
        {
          "output_type": "stream",
          "name": "stdout",
          "text": [
            "Digite quantos % de tinta a caneta tem: 50\n",
            "Enquanto tem tinta a caneta escreve...\n",
            "Enquanto tem tinta a caneta escreve...\n",
            "Enquanto tem tinta a caneta escreve...\n",
            "Enquanto tem tinta a caneta escreve...\n",
            "Enquanto tem tinta a caneta escreve...\n",
            "Enquanto tem tinta a caneta escreve...\n",
            "Enquanto tem tinta a caneta escreve...\n",
            "Enquanto tem tinta a caneta escreve...\n",
            "Enquanto tem tinta a caneta escreve...\n",
            "Enquanto tem tinta a caneta escreve...\n",
            "Enquanto tem tinta a caneta escreve...\n",
            "Enquanto tem tinta a caneta escreve...\n",
            "Enquanto tem tinta a caneta escreve...\n",
            "Enquanto tem tinta a caneta escreve...\n",
            "Enquanto tem tinta a caneta escreve...\n",
            "Enquanto tem tinta a caneta escreve...\n",
            "Enquanto tem tinta a caneta escreve...\n",
            "Enquanto tem tinta a caneta escreve...\n",
            "Enquanto tem tinta a caneta escreve...\n",
            "Enquanto tem tinta a caneta escreve...\n",
            "Enquanto tem tinta a caneta escreve...\n",
            "Enquanto tem tinta a caneta escreve...\n",
            "Enquanto tem tinta a caneta escreve...\n",
            "Enquanto tem tinta a caneta escreve...\n",
            "Enquanto tem tinta a caneta escreve...\n",
            "Acabou a tinta :(, mas ela escreveu 25 vezes antes de acabar\n"
          ]
        }
      ]
    },
    {
      "cell_type": "markdown",
      "source": [
        "**8 - Faça um algoritmo que leia n pares de valores, sendo o primeiro valor o número de\n",
        "inscrição do atleta e o segundo a altura (em cm) do atleta. Escreva:\n",
        "• o número de inscrição e a altura do atleta mais alto;\n",
        "• o número de inscrição e a altura do atleta mais baixo;\n",
        "• a altura média do grupo de atletas.**"
      ],
      "metadata": {
        "id": "rpWhUckvs2o9"
      }
    },
    {
      "cell_type": "code",
      "source": [
        "n=int(input(\"Digite a quantidade de atletas: \"))\n",
        "maior=-1000000\n",
        "menor=10000000\n",
        "contador=0\n",
        "somalt=0\n",
        "while contador<n:\n",
        "  inscricao=int(input(f\"\\nDigite o número de inscrição do {contador+1}º atleta: \"))\n",
        "  altura=float(input(f\"Digite a altura do {contador+1}º atleta: \"))\n",
        "  contador+=1\n",
        "  if altura>maior:\n",
        "    maior=altura\n",
        "    inscricao_alto=inscricao\n",
        "  if altura<menor:\n",
        "    menor=altura\n",
        "    inscricao_baixo=inscricao\n",
        "  somalt+=altura\n",
        "print(f\"\\nO número de inscrição do atleta mais alto é {inscricao_alto} e ele tem {maior}cm de altura\")\n",
        "print(f\"O número de inscrição do atleta mais baixo é {inscricao_baixo} e ele tem {menor}cm de altura\")\n",
        "print(f\"A média de todas as alturas é {somalt/n: .1f}cm\")\n"
      ],
      "metadata": {
        "colab": {
          "base_uri": "https://localhost:8080/"
        },
        "id": "0ugNmI3HtOK6",
        "outputId": "04f8c3bb-e628-4ca1-ad9c-a4d44cd8116b"
      },
      "execution_count": 55,
      "outputs": [
        {
          "output_type": "stream",
          "name": "stdout",
          "text": [
            "Digite a quantidade de atletas: 2\n",
            "\n",
            "Digite o número de inscrição do 1º atleta: 1\n",
            "Digite a altura do 1º atleta: 3\n",
            "\n",
            "Digite o número de inscrição do 2º atleta: 2\n",
            "Digite a altura do 2º atleta: 4\n",
            "\n",
            "O número de inscrição do atleta mais alto é 2 e ele tem 4.0cm de altura\n",
            "O número de inscrição do atleta mais baixo é 1 e ele tem 3.0cm de altura\n",
            "A média de todas as alturas é  3.5cm\n"
          ]
        }
      ]
    },
    {
      "cell_type": "markdown",
      "source": [
        "![image.png](data:image/png;base64,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)"
      ],
      "metadata": {
        "id": "BCOzZkOv4afu"
      }
    },
    {
      "cell_type": "code",
      "source": [
        "x=1.0\n",
        "while x<=5:\n",
        "  y=(3+(2*x)+(6*(x**2)))/(1+(9*x)+(16*(x**2)))\n",
        "  print(f\"{y:.3f}\")\n",
        "  x+=0.1"
      ],
      "metadata": {
        "colab": {
          "base_uri": "https://localhost:8080/"
        },
        "id": "U155MFi44f_m",
        "outputId": "114c95c5-90fa-475a-861d-e3d2c58bfd99"
      },
      "execution_count": 57,
      "outputs": [
        {
          "output_type": "stream",
          "name": "stdout",
          "text": [
            "0.423\n",
            "0.412\n",
            "0.403\n",
            "0.396\n",
            "0.391\n",
            "0.386\n",
            "0.383\n",
            "0.380\n",
            "0.377\n",
            "0.375\n",
            "0.373\n",
            "0.372\n",
            "0.371\n",
            "0.370\n",
            "0.369\n",
            "0.368\n",
            "0.368\n",
            "0.367\n",
            "0.367\n",
            "0.367\n",
            "0.366\n",
            "0.366\n",
            "0.366\n",
            "0.366\n",
            "0.366\n",
            "0.365\n",
            "0.365\n",
            "0.365\n",
            "0.365\n",
            "0.365\n",
            "0.365\n",
            "0.365\n",
            "0.365\n",
            "0.365\n",
            "0.365\n",
            "0.365\n",
            "0.365\n",
            "0.365\n",
            "0.365\n",
            "0.365\n",
            "0.365\n"
          ]
        }
      ]
    },
    {
      "cell_type": "markdown",
      "source": [
        "**10. Construir um algoritmo que calcule o fatorial de um número N.**"
      ],
      "metadata": {
        "id": "gMf0fUPC5z6e"
      }
    },
    {
      "cell_type": "code",
      "source": [
        "n=int(input(\"Digite um número que você quer saber o fatorial: \"))\n",
        "num=n\n",
        "fatorial=1\n",
        "if n<0:\n",
        "  print(f\"Digite um número positivo\")\n",
        "else:\n",
        "  while n>0:\n",
        "    fatorial=fatorial*n\n",
        "    n-=1\n",
        "  print(f\"O fatorial do número {num} é igual a {fatorial}\")"
      ],
      "metadata": {
        "colab": {
          "base_uri": "https://localhost:8080/"
        },
        "id": "eNx9KDWu52qI",
        "outputId": "701ed4a3-da14-41c4-ec6d-ae49f2027e08"
      },
      "execution_count": 81,
      "outputs": [
        {
          "output_type": "stream",
          "name": "stdout",
          "text": [
            "Digite um número que você quer saber o fatorial: 5\n",
            "O fatorial do número 5 é igual a 120\n"
          ]
        }
      ]
    },
    {
      "cell_type": "markdown",
      "source": [
        "![image.png](data:image/png;base64,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)"
      ],
      "metadata": {
        "id": "KsBZYcJT8fnV"
      }
    },
    {
      "cell_type": "code",
      "source": [
        "x=0\n",
        "soma=0\n",
        "while x<=100:\n",
        "  x+=1\n",
        "  soma=soma+x\n",
        "print(soma)"
      ],
      "metadata": {
        "colab": {
          "base_uri": "https://localhost:8080/"
        },
        "id": "OISFpuP98hA1",
        "outputId": "3a3b3c24-06bb-4f77-e426-0a05153e5002"
      },
      "execution_count": 82,
      "outputs": [
        {
          "output_type": "stream",
          "name": "stdout",
          "text": [
            "5151\n"
          ]
        }
      ]
    }
  ]
}