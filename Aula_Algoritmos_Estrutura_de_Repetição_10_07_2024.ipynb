{
  "nbformat": 4,
  "nbformat_minor": 0,
  "metadata": {
    "colab": {
      "provenance": [],
      "authorship_tag": "ABX9TyOQu2dDV5j5ZItm++iiIV7Q",
      "include_colab_link": true
    },
    "kernelspec": {
      "name": "python3",
      "display_name": "Python 3"
    },
    "language_info": {
      "name": "python"
    }
  },
  "cells": [
    {
      "cell_type": "markdown",
      "metadata": {
        "id": "view-in-github",
        "colab_type": "text"
      },
      "source": [
        "<a href=\"https://colab.research.google.com/github/henrique-furtado47/Algoritmos-python/blob/main/Aula_Algoritmos_Estrutura_de_Repeti%C3%A7%C3%A3o_10_07_2024.ipynb\" target=\"_parent\"><img src=\"https://colab.research.google.com/assets/colab-badge.svg\" alt=\"Open In Colab\"/></a>"
      ]
    },
    {
      "cell_type": "markdown",
      "source": [
        "**:1 - Faça um algoritmo que:\n",
        "• leia 20 números inteiros;\n",
        "• escreva os números que são negativos;\n",
        "• escreva a média dos números positivos.**"
      ],
      "metadata": {
        "id": "7fiXutQsjEIy"
      }
    },
    {
      "cell_type": "code",
      "source": [
        "somapos= 0\n",
        "contador = 0\n",
        "contapos = 0\n",
        "numero=0\n",
        "while contador < 20:\n",
        "  numero=int(input(\"Digite um número : \"))\n",
        "  if numero < 0 :\n",
        "    print(f\"O numero {numero} é negativo \\n \")\n",
        "  else:\n",
        "    somapos= somapos+numero\n",
        "    contapos+=1\n",
        "  contador +=1\n",
        "mediapos= somapos/contapos\n",
        "print(f\"A média dos números positivos é {mediapos}\")"
      ],
      "metadata": {
        "colab": {
          "base_uri": "https://localhost:8080/"
        },
        "id": "9r5PpGPbgDjB",
        "outputId": "1978a853-f1f3-4954-fb7f-4ed1671943a1"
      },
      "execution_count": null,
      "outputs": [
        {
          "output_type": "stream",
          "name": "stdout",
          "text": [
            "Digite um número : 2\n",
            "Digite um número : 1\n",
            "Digite um número : 0\n",
            "Digite um número : -2\n",
            "O numero -2 é negativo \n",
            " \n",
            "Digite um número : 1\n",
            "A média dos números positivos é 1.0\n"
          ]
        }
      ]
    },
    {
      "cell_type": "markdown",
      "source": [
        "**2 - Faça um algoritmo que leia 15 números inteiros e escreva, para cada número lido, se é\n",
        "par ou ímpar.**"
      ],
      "metadata": {
        "id": "nrIwOHrGjWHJ"
      }
    },
    {
      "cell_type": "code",
      "source": [
        "contador = 0\n",
        "while contador < 15:\n",
        "  num=int(input(\"Digite o número: \"))\n",
        "  if num % 2 == 0:\n",
        "    print(f\"O número {num} é par\")\n",
        "  else:\n",
        "    print(f\"O número {num} é impar\")\n",
        "  contador +=1"
      ],
      "metadata": {
        "colab": {
          "base_uri": "https://localhost:8080/"
        },
        "collapsed": true,
        "id": "JDDbUM_OirCL",
        "outputId": "181002ea-3ca1-43ed-ae8b-d3b9b5e20f84"
      },
      "execution_count": null,
      "outputs": [
        {
          "output_type": "stream",
          "name": "stdout",
          "text": [
            "Digite o número: 2\n",
            "O número 2 é par\n",
            "Digite o número: 1\n",
            "O número 1 é impar\n",
            "Digite o número: 3\n",
            "O número 3 é impar\n",
            "Digite o número: 4\n",
            "O número 4 é par\n",
            "Digite o número: 5\n",
            "O número 5 é impar\n",
            "Digite o número: 6\n",
            "O número 6 é par\n",
            "Digite o número: 7\n",
            "O número 7 é impar\n",
            "Digite o número: 8\n",
            "O número 8 é par\n",
            "Digite o número: 9\n",
            "O número 9 é impar\n",
            "Digite o número: 10\n",
            "O número 10 é par\n",
            "Digite o número: 11\n",
            "O número 11 é impar\n",
            "Digite o número: 12\n",
            "O número 12 é par\n",
            "Digite o número: 13\n",
            "O número 13 é impar\n",
            "Digite o número: 14\n",
            "O número 14 é par\n",
            "Digite o número: 15\n",
            "O número 15 é impar\n"
          ]
        }
      ]
    },
    {
      "cell_type": "markdown",
      "source": [
        "**3. Dado um conjunto de valores inteiros positivos, determinar qual o menor e qual o\n",
        "maior valor do conjunto. Um número com valor “0” (zero) indica o fim dos dados e\n",
        "não deve ser considerado.**"
      ],
      "metadata": {
        "id": "ki57yxEumt7z"
      }
    },
    {
      "cell_type": "code",
      "source": [
        "lista = []\n",
        "x=1\n",
        "while x!=0:\n",
        "  x= int(input(\"Digite um número: \"))\n",
        "  lista.append(x)•"
      ],
      "metadata": {
        "colab": {
          "base_uri": "https://localhost:8080/"
        },
        "id": "TaORdVCbm1R9",
        "outputId": "7b354bd2-43fb-47ea-d5ef-2e80e091f4a2"
      },
      "execution_count": null,
      "outputs": [
        {
          "output_type": "stream",
          "name": "stdout",
          "text": [
            "Digite um número: 0\n",
            "\n",
            "Conjunto de número: [0]\n",
            "O maior número é 0\n",
            "O menor número é 0\n",
            "Fim do programa\n"
          ]
        }
      ]
    },
    {
      "cell_type": "markdown",
      "source": [
        "**4 -Faça um algoritmo que calcule e escreva a soma dos números pares e a soma dos\n",
        "números ímpares entre 1 e 100.**"
      ],
      "metadata": {
        "id": "J9ScLX9Vn8Uo"
      }
    },
    {
      "cell_type": "code",
      "source": [
        "contador = 0\n",
        "somapar = 0\n",
        "somaimpar = 0\n",
        "while contador < 100:\n",
        "  contador+=1\n",
        "  if contador %2 == 0:\n",
        "    somapar+=contador\n",
        "  else:\n",
        "    somaimpar+=contador\n",
        "print(f\"A soma dos números impares foi {somaimpar} e a soma dos números pares foi {somapar}\")"
      ],
      "metadata": {
        "colab": {
          "base_uri": "https://localhost:8080/"
        },
        "id": "1CeFUZF9oDbI",
        "outputId": "8cfe9ff2-e208-40fd-8ef6-9e8ea6d88da5"
      },
      "execution_count": null,
      "outputs": [
        {
          "output_type": "stream",
          "name": "stdout",
          "text": [
            "A soma dos números impares foi 2500 e a soma dos números pares foi 2550\n"
          ]
        }
      ]
    },
    {
      "cell_type": "markdown",
      "source": [
        "**5 - Faça um algoritmo que leia a altura de 20 pessoas e calcule a média aritmética das\n",
        "alturas.**"
      ],
      "metadata": {
        "id": "_tyEJjjbpLjK"
      }
    },
    {
      "cell_type": "code",
      "source": [
        "contador = 0\n",
        "soma_altura = 0\n",
        "while contador < 20:\n",
        "  altura=float(input(f\"Digite a altura da {contador+1}º pessoa: \"))\n",
        "  soma_altura+=altura\n",
        "  contador+=1\n",
        "media=soma_altura/contador\n",
        "print(f\"A média das altura é igual a {media: .2f}\")"
      ],
      "metadata": {
        "colab": {
          "base_uri": "https://localhost:8080/"
        },
        "id": "oNimUiJPpPTv",
        "outputId": "aa130a88-8c5a-45e8-a29b-57cf0768a3c4"
      },
      "execution_count": null,
      "outputs": [
        {
          "output_type": "stream",
          "name": "stdout",
          "text": [
            "Digite a altura da 1º pessoa: 1\n",
            "Digite a altura da 2º pessoa: 1\n",
            "Digite a altura da 3º pessoa: 1\n",
            "Digite a altura da 4º pessoa: 1\n",
            "Digite a altura da 5º pessoa: 1\n",
            "A média das altura é igual a  1.00\n"
          ]
        }
      ]
    },
    {
      "cell_type": "markdown",
      "source": [
        "**6 - Faça um algoritmo que leia n valores inteiros e escreva quantos desses valores são\n",
        "negativos.**"
      ],
      "metadata": {
        "id": "shT2qfxqqP8Z"
      }
    },
    {
      "cell_type": "code",
      "source": [
        "n=int(input(\"Digite a quantidade de números que você quer verificar: \"))\n",
        "contador=0\n",
        "somaneg=0\n",
        "while contador < n:\n",
        "  num=int(input(\"\\n Digite um número: \"))\n",
        "  if num<0:\n",
        "    somaneg+=1\n",
        "  contador+=1\n",
        "print(f\"\\nVocê digitou {somaneg} números negativos\")"
      ],
      "metadata": {
        "colab": {
          "base_uri": "https://localhost:8080/"
        },
        "id": "HBdEjlVTqWki",
        "outputId": "1151f04c-af50-4dd7-a9f8-3a64d9ead521"
      },
      "execution_count": null,
      "outputs": [
        {
          "output_type": "stream",
          "name": "stdout",
          "text": [
            "Digite a quantidade de números que você quer verificar: 3\n",
            "\n",
            " Digite um número: 1\n",
            "\n",
            " Digite um número: -2\n",
            "\n",
            " Digite um número: -3\n",
            "\n",
            "Você digitou 2 números negativos\n"
          ]
        }
      ]
    },
    {
      "cell_type": "markdown",
      "source": [
        "**7 - Faça um algoritmo que leia a quantidade de tinta que uma caneta, e enquanto a\n",
        "caneta tiver tinta para escrever, escreva “Enquanto tem tinta a caneta escreve...”.\n",
        "Considere que a cada comando de escrita a caneta gasta 2% da tinta que possui.**"
      ],
      "metadata": {
        "id": "-yEqd6ruroXC"
      }
    },
    {
      "cell_type": "code",
      "source": [
        "tinta=float(input(\"Digite quantos % de tinta a caneta tem: \"))\n",
        "contador=0\n",
        "while tinta > 0:\n",
        "  print(\"Enquanto tem tinta a caneta escreve...\")\n",
        "  tinta-=2\n",
        "  contador+=1\n",
        "print(f\"Acabou a tinta :(, mas ela escreveu {contador} vezes antes de acabar\")"
      ],
      "metadata": {
        "colab": {
          "base_uri": "https://localhost:8080/"
        },
        "id": "JQd8NBVlrqE_",
        "outputId": "59ba3c2c-96f0-499a-cff0-ee9e0f257b40"
      },
      "execution_count": null,
      "outputs": [
        {
          "output_type": "stream",
          "name": "stdout",
          "text": [
            "Digite quantos % de tinta a caneta tem: 50\n",
            "Enquanto tem tinta a caneta escreve...\n",
            "Enquanto tem tinta a caneta escreve...\n",
            "Enquanto tem tinta a caneta escreve...\n",
            "Enquanto tem tinta a caneta escreve...\n",
            "Enquanto tem tinta a caneta escreve...\n",
            "Enquanto tem tinta a caneta escreve...\n",
            "Enquanto tem tinta a caneta escreve...\n",
            "Enquanto tem tinta a caneta escreve...\n",
            "Enquanto tem tinta a caneta escreve...\n",
            "Enquanto tem tinta a caneta escreve...\n",
            "Enquanto tem tinta a caneta escreve...\n",
            "Enquanto tem tinta a caneta escreve...\n",
            "Enquanto tem tinta a caneta escreve...\n",
            "Enquanto tem tinta a caneta escreve...\n",
            "Enquanto tem tinta a caneta escreve...\n",
            "Enquanto tem tinta a caneta escreve...\n",
            "Enquanto tem tinta a caneta escreve...\n",
            "Enquanto tem tinta a caneta escreve...\n",
            "Enquanto tem tinta a caneta escreve...\n",
            "Enquanto tem tinta a caneta escreve...\n",
            "Enquanto tem tinta a caneta escreve...\n",
            "Enquanto tem tinta a caneta escreve...\n",
            "Enquanto tem tinta a caneta escreve...\n",
            "Enquanto tem tinta a caneta escreve...\n",
            "Enquanto tem tinta a caneta escreve...\n",
            "Acabou a tinta :(, mas ela escreveu 25 vezes antes de acabar\n"
          ]
        }
      ]
    },
    {
      "cell_type": "markdown",
      "source": [
        "**8 - Faça um algoritmo que leia n pares de valores, sendo o primeiro valor o número de\n",
        "inscrição do atleta e o segundo a altura (em cm) do atleta. Escreva:\n",
        "• o número de inscrição e a altura do atleta mais alto;\n",
        "• o número de inscrição e a altura do atleta mais baixo;\n",
        "• a altura média do grupo de atletas.**"
      ],
      "metadata": {
        "id": "rpWhUckvs2o9"
      }
    },
    {
      "cell_type": "code",
      "source": [
        "n=int(input(\"Digite a quantidade de atletas: \"))\n",
        "maior=-1000000\n",
        "menor=10000000\n",
        "contador=0\n",
        "somalt=0\n",
        "while contador<n:\n",
        "  inscricao=int(input(f\"\\nDigite o número de inscrição do {contador+1}º atleta: \"))\n",
        "  altura=float(input(f\"Digite a altura do {contador+1}º atleta: \"))\n",
        "  contador+=1\n",
        "  if altura>maior:\n",
        "    maior=altura\n",
        "    inscricao_alto=inscricao\n",
        "  if altura<menor:\n",
        "    menor=altura\n",
        "    inscricao_baixo=inscricao\n",
        "  somalt+=altura\n",
        "print(f\"\\nO número de inscrição do atleta mais alto é {inscricao_alto} e ele tem {maior}cm de altura\")\n",
        "print(f\"O número de inscrição do atleta mais baixo é {inscricao_baixo} e ele tem {menor}cm de altura\")\n",
        "print(f\"A média de todas as alturas é {somalt/n: .1f}cm\")\n"
      ],
      "metadata": {
        "colab": {
          "base_uri": "https://localhost:8080/"
        },
        "id": "0ugNmI3HtOK6",
        "outputId": "04f8c3bb-e628-4ca1-ad9c-a4d44cd8116b"
      },
      "execution_count": null,
      "outputs": [
        {
          "output_type": "stream",
          "name": "stdout",
          "text": [
            "Digite a quantidade de atletas: 2\n",
            "\n",
            "Digite o número de inscrição do 1º atleta: 1\n",
            "Digite a altura do 1º atleta: 3\n",
            "\n",
            "Digite o número de inscrição do 2º atleta: 2\n",
            "Digite a altura do 2º atleta: 4\n",
            "\n",
            "O número de inscrição do atleta mais alto é 2 e ele tem 4.0cm de altura\n",
            "O número de inscrição do atleta mais baixo é 1 e ele tem 3.0cm de altura\n",
            "A média de todas as alturas é  3.5cm\n"
          ]
        }
      ]
    },
    {
      "cell_type": "markdown",
      "source": [
        "![image.png](data:image/png;base64,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)"
      ],
      "metadata": {
        "id": "BCOzZkOv4afu"
      }
    },
    {
      "cell_type": "code",
      "source": [
        "x=1.0\n",
        "while x<=5:\n",
        "  y=(3+(2*x)+(6*(x**2)))/(1+(9*x)+(16*(x**2)))\n",
        "  print(f\"{y:.3f}\")\n",
        "  x+=0.1"
      ],
      "metadata": {
        "colab": {
          "base_uri": "https://localhost:8080/"
        },
        "id": "U155MFi44f_m",
        "outputId": "114c95c5-90fa-475a-861d-e3d2c58bfd99"
      },
      "execution_count": null,
      "outputs": [
        {
          "output_type": "stream",
          "name": "stdout",
          "text": [
            "0.423\n",
            "0.412\n",
            "0.403\n",
            "0.396\n",
            "0.391\n",
            "0.386\n",
            "0.383\n",
            "0.380\n",
            "0.377\n",
            "0.375\n",
            "0.373\n",
            "0.372\n",
            "0.371\n",
            "0.370\n",
            "0.369\n",
            "0.368\n",
            "0.368\n",
            "0.367\n",
            "0.367\n",
            "0.367\n",
            "0.366\n",
            "0.366\n",
            "0.366\n",
            "0.366\n",
            "0.366\n",
            "0.365\n",
            "0.365\n",
            "0.365\n",
            "0.365\n",
            "0.365\n",
            "0.365\n",
            "0.365\n",
            "0.365\n",
            "0.365\n",
            "0.365\n",
            "0.365\n",
            "0.365\n",
            "0.365\n",
            "0.365\n",
            "0.365\n",
            "0.365\n"
          ]
        }
      ]
    },
    {
      "cell_type": "markdown",
      "source": [
        "**10. Construir um algoritmo que calcule o fatorial de um número N.**"
      ],
      "metadata": {
        "id": "gMf0fUPC5z6e"
      }
    },
    {
      "cell_type": "code",
      "source": [
        "n=int(input(\"Digite um número que você quer saber o fatorial: \"))\n",
        "num=n\n",
        "fatorial=1\n",
        "if n<0:\n",
        "  print(f\"Digite um número positivo\")\n",
        "else:\n",
        "  while n>0:\n",
        "    fatorial=fatorial*n\n",
        "    n-=1\n",
        "  print(f\"O fatorial do número {num} é igual a {fatorial}\")"
      ],
      "metadata": {
        "colab": {
          "base_uri": "https://localhost:8080/"
        },
        "id": "eNx9KDWu52qI",
        "outputId": "128bb19f-59cd-4ffb-ef07-3a5f497ff4ae"
      },
      "execution_count": null,
      "outputs": [
        {
          "output_type": "stream",
          "name": "stdout",
          "text": [
            "Digite um número que você quer saber o fatorial: 0\n",
            "O fatorial do número 0 é igual a 0\n"
          ]
        }
      ]
    },
    {
      "cell_type": "code",
      "source": [
        "x=0\n",
        "soma=0\n",
        "while x<=100:\n",
        "  x+=1\n",
        "  soma=soma+x\n",
        "print(soma)"
      ],
      "metadata": {
        "colab": {
          "base_uri": "https://localhost:8080/"
        },
        "id": "OISFpuP98hA1",
        "outputId": "3a3b3c24-06bb-4f77-e426-0a05153e5002"
      },
      "execution_count": null,
      "outputs": [
        {
          "output_type": "stream",
          "name": "stdout",
          "text": [
            "5151\n"
          ]
        }
      ]
    },
    {
      "cell_type": "markdown",
      "source": [
        "![image.png](data:image/png;base64,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)"
      ],
      "metadata": {
        "id": "Z1emWaZ_Q8p7"
      }
    },
    {
      "cell_type": "code",
      "source": [
        "divisor = 1\n",
        "soma=0\n",
        "while divisor <=100:\n",
        "  resultado=1/divisor\n",
        "  soma+=resultado\n",
        "  divisor+=1\n",
        "print(soma)"
      ],
      "metadata": {
        "colab": {
          "base_uri": "https://localhost:8080/"
        },
        "id": "07z7Z9IxQ9JR",
        "outputId": "40a26ef8-e092-4166-b7e1-efa1d0fee93a"
      },
      "execution_count": null,
      "outputs": [
        {
          "output_type": "stream",
          "name": "stdout",
          "text": [
            "5.187377517639621\n"
          ]
        }
      ]
    },
    {
      "cell_type": "markdown",
      "source": [
        "![image.png](data:image/png;base64,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)"
      ],
      "metadata": {
        "id": "gmpAil8URi1Y"
      }
    },
    {
      "cell_type": "code",
      "source": [],
      "metadata": {
        "id": "ufkemnekRjf5"
      },
      "execution_count": null,
      "outputs": []
    },
    {
      "cell_type": "markdown",
      "source": [
        "![image.png](data:image/png;base64,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)"
      ],
      "metadata": {
        "id": "Y8vh7-mdRjtI"
      }
    },
    {
      "cell_type": "code",
      "source": [
        "import numpy as np\n",
        "divisor=1\n",
        "contador=1\n",
        "soma=0\n",
        "while contador<=51:\n",
        "   s=(-1)**contador/divisor**3\n",
        "   soma+=s\n",
        "   divisor+=2\n",
        "   contador+=1\n",
        "resultado=np.cbrt(soma*32)\n",
        "print(abs(resultado))\n"
      ],
      "metadata": {
        "collapsed": true,
        "colab": {
          "base_uri": "https://localhost:8080/"
        },
        "id": "kYcwTYLjRmkJ",
        "outputId": "2e58996e-e8d1-4f32-e1d9-a2ea73c738c1"
      },
      "execution_count": null,
      "outputs": [
        {
          "output_type": "stream",
          "name": "stdout",
          "text": [
            "3.14159316250821\n"
          ]
        }
      ]
    },
    {
      "cell_type": "markdown",
      "source": [
        "![image.png](data:image/png;base64,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)"
      ],
      "metadata": {
        "id": "V--7iCBLasgH"
      }
    },
    {
      "cell_type": "code",
      "source": [
        "denominador=99\n",
        "contador=1\n",
        "n=0\n",
        "resultado=0\n",
        "fatorial=1\n",
        "while n<20:\n",
        "  n+=1\n",
        "  fatorial=fatorial*n\n",
        "  resultado+=denominador/fatorial\n",
        "  denominador-=denominador\n",
        "print(resultado+100)"
      ],
      "metadata": {
        "id": "2dwPmXZmX2ys",
        "outputId": "ebd56c65-e77d-4f71-b1a0-be130b47ac71",
        "colab": {
          "base_uri": "https://localhost:8080/"
        }
      },
      "execution_count": null,
      "outputs": [
        {
          "output_type": "stream",
          "name": "stdout",
          "text": [
            "199.0\n"
          ]
        }
      ]
    },
    {
      "cell_type": "markdown",
      "source": [
        "![image.png](data:image/png;base64,iVBORw0KGgoAAAANSUhEUgAAAl8AAACFCAYAAABlhZ19AAAgAElEQVR4Ae2dB7AUxfbGff8n9XwYnoIYMJCMoBgQM8mAGFGUoBgwi4hiRkUQE2JACQZEVAyICipioEQwiwqlBEUsAdFSUZ4ZLbXU6n/9ut7Z6jvOzuzeezdc9jtV987u7Ez36a+7T399+kzPGk4iBISAEBACQkAICAEhUDQE1ihaTspICAgBISAEhIAQEAJCwIl8qREIASEgBISAEBACQqCICIh8FRFsZSUEhIAQEAJCQAgIAZEvtQEhIASEgBAQAkJACBQRAZGvIoKtrISAEBACQkAICAEhIPKlNiAEhIAQEAIlQ+Cbb75x119/vfv6669LpkO+Gf/1119u3Lhx7vXXX8/3Vl0vBDwCIl9l0hCGDx/u+vTp4+jUtS0fffSRu+SSS9zHH39c20mvdum99dZbrn379m7ZsmU1KttPP/3kDj30UDdp0qQapZPrzb/88osfwJ566qlcb6nxdaXIs8ZK55hAbbWDpOzA75hjjnEjR45Mumy1/g3C1bVrV9e0aVM3e/bsWinr/Pnz3T777OPefffdWkkvmsgff/zhbrzxRrfBBhv4Y/T38PsTTzzhbrjhBkddS4RAiEC1yRcDevfu3d3o0aPD9FI/33333W6LLbbI/G299dZu1qxZqfet7hcMHjzYHXHEEQUhX9OnT3ctW7Z0L7/8sofxzz//dKtWrSpIXnW9nl577TW33Xbb1Zio/vDDD26PPfZw9913X1Eg+eqrr1zHjh0d7ahYUoo8i1W22moHSfoyIHfq1Mldd911SZfl/duvv/7qxowZ40aMGOG+/PJLN2jQoLzT4AZsBESjUIKejCEQ0JpOdkId586d6xhXINCFkLFjx7qdd97ZPffcc6nJX3zxxa5z585u5cqVqdfqgspCoFrki0F8q6228t4UOmg+csstt3gigHFjhrJw4UKHl6DSpZDkK4rtiy++6Nq0aeM+//zz6E8V/722Bt1ik6+Kr7haBqC22kGSWoUiX+RpHiU8NK+++mqSGrG/sRS41157OTw3hRRsf217+wtNviCNv/32WyFhUdoVgEAs+XrvvffcVVdd5Xr06OGGDBlSBQYI0zbbbOPXu6v8kOMXyBcDP507KsuXL3dnnnmmT79t27bumWee8ZdA8AYMGOAOOeSQzN9RRx3l6GTI77//7m677Taf7i677OLuvfdeh3cHmTZtmjv55JP9kh75zps3z58P/3H/ZZdd5h555JHM6RkzZrhzzjnHE0PSYvZ4+eWXe0yaNWvm9ttvPzdx4kR3/PHHeyK62267Oe5Jkmzl454o+ULPww8/3BNVlsEoO7MoOj5/11xzjdtpp538zPnZZ5/NZEselPfCCy90rVu39jNgzp1++unuww8/dAwq++67r1t//fXd/vvv7x566CF/Lzideuqp7oILLvB54ikD0yuvvNLP8iDb1157rcfaMnv66ad9/swCidlAryT55JNPfD0wK91zzz29nub1XLJkiTvttNO8jpbG0KFDHZ5Sk6R6tmvCo+EEDtTP/fffn2kXL7zwgl8WZLmDmTe6IXGD7tKlS90JJ5zgZ9N4J1nOSGszceTriy++cGeccYbbdttt3cEHH5xpv6HO4ed8ymtt1NowdX7KKaf4fkx9U86+ffv6fkvbbdKkifc6hAScvj5w4EDfxqmjXr16ZTwSlj7t44ADDvD3/vjjj75f1CTPbPUQ4hB+trrAO3nSSSdl6i28hs94bGi7d9xxR5WfnnzySXfRRRdl+hH2aPfdd/c2h/ZmbTiuHWRr73HY/Pzzz1XytS94eOhntIEddtjBL12Fnq9824ily/H777+vsrxFqAE2KptQ1rjy46UBW5bV6DfUORJnS7OlQX/CDr3zzjuZ7GnP2FBrL9nKChl74IEHfN7YWsahxYsXZ9KJ+4AN7NKli+P6HXfc0W288cYZz1c2HePS4Ry2l36+5ZZbels5ZcqUDEFM6pNx+HAOux0uO7700kteV8bR8847z3377bfZVNH51RiBWPLF2vuwYcO8u/Swww6r0vB69+7tCUd13dHZyBcEC0IFqViwYIEfKCBSGAIaPEaaTssfhGezzTbLrOlfffXVjmvffvtth4Fs3rx5hrjdfvvtrn79+u6KK65wr7zySpVOYPVK58T9T94mLBdBKiCJlBXXMYQEY4a3jgGNAYwBHcPA4MygRFpxklQ+rg/J13fffednnRBg0uvXr5/XBY8jhp5rKe8bb7zh7rrrLm9w+Iy8//773vBQbxgkDBznMPbUK4MCMSboTjwSgxkCThAyBmDwZ+ACNww433G1c4+RV7AEZ4JOGagggtRDNqFMkD2IDmmwJAAZZsBDIDQM+Bb3gQHGAJrh55qkeo7LF5wg8bSLN998M7NMwIBAfT/66KNeD+r5/PPP90lEB10MI8t5Z511lscKTwAkNq3NRMkX5Yf0MPAyANMeKT/LQtkkn/JaG7U2TJ03btzYHX300d7zQb/YcMMNvdGH8IIHBObWW2/12YM3bYbB6+GHH/bLrscee6y/njZj6VPnEyZM8HVo56qbZ1I9xGFCXXTo0MFjSPkgCNQj2MbJzTff7OvffqeMLHMx4CE33XSTJ5gETVMm8MLOINF2kNTeDYcQG59I5B+2hIkUNpQ+RR+g7Rn5qk4boUyPPfaYJ/VMIJloMAlkSRiiw1848IcqZSs/NgZMWrRo4e2BEag4W5otDdoM/R0yb4KtwYYSBpFUVvLbfPPN3T333OO989irBx980JL52xG7yOSCZVb6FrYbW2XLjtl0/FtC/1tqpb+feOKJPm+WFrEjtsKT1Cfj8OFcu3btMqs72GlwpWyLFi3ytuXcc8/1dp12RN0R0iNZ/RGIJV9WbAbikHwRsA3pYeBntkgjomPQaHIVyBeD/IEHHui9OQzeJuFs8fnnn/fpR2MB6FB0LNJBmOEzgyCokWvREaLErB+h8RN7YwbYn4z8SxtIzbiGsRMYcMiBCR4aBtOkWUxS+ULyZd7FOXPm+OQxABitTz/91H322Wd+0IT0IeiGhwyvEYaYQQkSw2BhEpIvzhGUzcALdiZRnDCQpINHCoFw8H3mzJk+H2a13bp1y3iSKD86hp4US5vj1KlT/e9G9sAcspor+Uqr5zAvPoPT9ttvHzvzZ3AJlw369+/vjjzySJ9EdNCdPHmyJ67mGbN80tpMlHxBdGm34Ec7ZfbL92zLOvmW19poSITCdsAyFAO9tRsw4IEAyDVi5AuvkAlYMPuHqFn6kEYTO1fdPJPqwfIIj9QFHlh7cIQ2CeHJhiEEh+vBGmEiAjnBG4HQBtABAR9+w+OChO0AbJLau+EQYuMTifyj37Vq1SrjrYsuO+bbRkge8syDOpADPF+QOzxFPMDDhOaggw7KxHpG1EksP1jhmQsfGInaCNJLwpB4YMYJs4nUE2MHE46ksoI9ccFGhKN6R7/jTWZCTj0h0WXHJB2jaYEhXvlLL7000zbsmrQ+GYcP54x8oR+TdOqECTt2gGVhbDF2E3vfoEEDX5+Wp46rLwJ5kS8GDjwoGD2EWAKIjy0d5QITpAmDjnGgc0Yf1aWjYGSZ4UL0QvK1YsUK7xHCQ2YzEWY9DRs29IYT8mN/eIswinEdIqpn2kBqxjUkXyyDhuQLEplGvsg3W/lC8sVAQFo222MGz3dmzmDOLM9mo6SJh4z4DOInCkW+MBZGvjBQEFoIrwkzOvQyD5ydtyMzRsgW5UfyJV9p9Wz52BEDzsDMEno2wTtAGSBB2cgXHkA8VugbSlqbiZIvvBIs41j7tCNeizjJt7zWRvMhQkysksgXfQ9PGP3R0g/7gJ2rbp5W7rh6sN/CI3ljF2wSA8Y81Ub7jxM85jxJx0CKMInBQxudIEBS8EiuvfbaseQrrb0bDiE2cfqAU9gHouQr3zYCKd511129BwUssElMOiFOlB1B9zSJK3+u5MvSjksDzw7EwsYHwjggsUhSWbHtXMckHTsejgGWnx2xeaxChE+MRsmXXRuno/0WHsePH+9JEJ474mON1KX1ybixJiRfOADwxOO0sP7PEUcEk1xsIxODpPKGeupz3UYgL/LFMhYzNzNeGA9ctGHDT4MD8kWDi8Z8kRYkg9knMzfICIOnNURmqLhnOffBBx9ksoEQMujjLYqTuA4RvS5tII0zrvmSr7TyheQL/R5//HGPNQM/HRYjgOCWpvNi2ExGjRrlMWWGWQzyxVIwRp8lTxO8DNQN9REnLB+yRAQOiBnNXD1fafUczROcom3FrqFNMdjiqWNZBA9eNvLFciTxWTaYWRppbcbIF/GHCB6lpGVpS9eO+ZbX2mh1iRADDGQMD6oJAwLkC4+NpR8SDDtX3TyT6sF0CI+0IWIfyRdhsMLLbQQyvNY+4+ljooC9oc4hJzaYQsYYYPfee28/GWRyEef5SmvvhkOIjeUfHq0tmf5GHm3ZMd82YvGxxBRBbPAsWdphvtk+J5U/V/KVlAa6sMwL+cUTDfGFyCNpZeVevGN4ypiEsxISJ9QNHt3QFjEBpO/bsmOSjnFpcg6ihu7rrbeej2uk/6f1ybixJiRftEHsJrG0EiGQF/miQeLGt7gcGj6dwwxWLnBmI194KhgMjUQRc0YMhpEvlsEIoozmBRHDRU1QZJzEdYjodWkDKYYAIx8a13zJV1r5CGaHyNqsnvKQJx61cPZKefHUhPs54crGC4eexSBfGCKWrBjMTPDgQILNK2rn7Ui9s4yBlwNhCZW2lCv5Sqtny8eOkEGMdoiT/YY3C48IWDPLxpti5Iu2jV7mWWRiweydwSiUtDZDuszIzTt45513ei+xTVzCtOI+51tea6PVJUJGviDIlA1hEIN8gYWlH/YBO1fdPJPqIQ4TMGQp2eqCNoTnPXwoI3ofy8VM6IgDov3Z5IA+hdeMgHzKTlwgSz5mX8J2kNbeDYcQm6gefMemoQuebYS+Qhs18pVPG7HJSxgTGZdntnNp5c+FfKWlQd7EyOKVZ4LIcp5NunMtK5M1YvsIrQDnqNCH6b+EDphgM1kNgXzloqPdF3ckFhB7wGQ3rU/GjTUh+bJ2RHkkQiAv8sWAgicGo4nBglBg0GiUCHE9zEBsaSkO3mzki8GbRk5MEMuLdFQME98heXRgZq10Njohf+hAg2bgxFvGoEHeLNcZiYvrEFG9SIt1eJ4QRMifGAJmVOTN7zUlX0nlI0/0ZEmXwRmDwyCIRwY3NMsLGFsEXSjrcccd58sL9gxAtkSZC/kiTWb5Fjtj+YexcdGYr3DZkevxKEBKGEDQ13RCvzghnsFII15MAoH/+c9/ZsgXeuPRw2OFUGYGWguET6vnaJ60AwgpT+yhH3rRJjgS8NyzZ08f08GMGkMNGUPQAzJvcUSmFwGyCN5FcCOdtDbD7xZ7iPGmfBbjSNwLAxCDQ5zkW170oY1WlwgZ+WrUqJEnXXwnhokYIjw0ln5IMOxcdfNMqoc4TAhEps2ZNxHSRRuxuMS4eygHdQD2eB5tcmPEjX5DOfDOrLnmmj7wnnSi7SCpvRsOITZxukBmaVtPP/20t13E+9SrVy/zoEo+bYQ2jdcOO2ExVSy3UR7aTpqklR8byFODFiNIelFbmpYG9+DxYoJOAD3lNUkqK30XT79NAliiZGku27jCBA5bDWGkP/HUI0v82JBcdDSd7AgR5z6EJVPGJWxHWp+M4sP9nLOYL77TZrG9NmbSJnjwB2F8xStmy7T+pP6ttgjkRb5AgRkhgz1eKgwJAwgGzggDxjHpCa5s5IuOw+AP4SINnlzBTc3TcZAF1v/XWGONKn9GliAAdHBczQzwuIvNYxbXIeJqk8BVXMzkTbl40otyQjrijGu+nq+k8jETJrgU3fEuIsy4KA9Pq2FkwcUIFmVj1s6AgncQF74ZJgYNOndSwD14cQ1ltXiYKE5p5AvDCDEif/RgkI4GpYc400aoU4gOJJOlHurXPF+QS2a3G220kS83S9OQCeL7TJLq2a4Jj9Qdj8rjvaG8EC7iLtjCBJJhemDwwJc4RPPm0k5NePpv00039RMNvHu2bJDUZrgXfEJPEl6VTTbZxC8nE/eIx8PIgOUVHvMpr7XR6hIh6odlRwY52gV/1CsTLMTSDwmGnatunkn1EOIQfsYjDHbox5GtI9IE+7HOOus4YnlMmADgNcKuQOAI2ibOiM+UOdoOktq74RBiY/mER66jzukD5APWPLhDuzfJp42ABfpDbJis4j1Pak+WB8e08mNP6C/0C5Z6kaiNSEvD8uvbt6+vK9pzKNnKCvZMqKlfSBV2kKXDbII3HR3RlTaLPTSvZq46Wtr0A7zV2DVsB2kyCTFCm9Qno/iQJudC8sU4yYoBqzjYH8Yt2yqICSptg22BJKs/AonkK1vxaYhst8CMOBQ6jS0rhedz/UzDJEDavAEYklyXaehkdAx0qI7Q6fBoQH7Qg++QSAxmbUmu5QNbYgPsaUfyZ/ZuXhS+m762hJGvjmDM7MtIW7732/XUN7ihTy4C+SFfZnl4Iox8cS8DHPVv6fGdGXgo+dYzekHCbCZraZEuOFv9Ug5rd3ZNeKTumP2Gbd7qIJ82Q5uGIOeKe77lDXXO5zNlgXwxcJmONuDkk06+1+ZbD6RPuwBDjjURyozNsKd++c7npHLn297j9KPPki91S/uLtnHDP5c2go3Ce2LLeXH5ZTuXVn50A+ekJ8XT0siWt51PKit1gTePa9IEPbAbNvGnn1pfrY6O2AKW2y29MP/a6JNMxvHYolsoTGCxNZLVH4Fqka/VH5bSlhA3NLM9DDSCAeJBB/N8lVa72smdgTNKvmonZaVSHQQYBIx8Ved+3SMEhIAQEAK5IyDylTtWRbuSmTDLjeHyCktd5qUpmiIFzIhZPU9oWSxVAbNS0jkgAPliGY7AaIkQEAJCQAgUFgGRr8LiW6PU8Q7h9o66pmuUqG4WAkJACAgBISAESoqAyFdJ4VfmQkAICAEhIASEQKUhIPJVaTWu8goBISAEhIAQEAIlRUDkq6TwK3MhIASEgBAQAkKg0hAQ+aq0Gld5hYAQEAJCQAgIgZIiIPJVUvhrljmB+OyLVZ09fmqWc/a72R/nkUcecbyEtpweFGB3dHbrtj2dspdAvwgBISAEhIAQKCwCIl+FxbegqbMBIq97sl3xC5pZDomzfQRbFfAKDfbw4n165SA8MQrxQjdeOWSbL5aDbtJBCAgBISAEKg8Bka86Xue8qqKcyJftEs+7EQcPHlxW6ELCeFVITXdGL6tCSRkhIASEgBCocwiIfNW5KquqcDmRr1AzvF8zZ84MT5X0M6/zOO200/yLp1enzWpLCqoyFwJCQAgIgWohIPJVLdjK56ZyJF+8Y42X5vIOtHIS3inJMi3vwpMIASEgBISAECgVAiJfpUK+lvItN/LFi4cJuOflsOW4vHfjjTe62bNn1xL6SkYICAEhIASEQP4IiHzlj1nZ3LFs2TLvyXnooYfKQieIFwHtnTp1cl26dPHvbiwHxebPn+8GDRrkJk2a5CZOnOh4MEAiBISAEBACQqBUCIh8lQr5lHzZpoHtER577LHMVhK///67mzJlit/GIeX2gvzMlhZPPfWUW7BgQSb9uXPnOshfKb1caXqB5WeffeZWrVqV0VsfhIAQEAJCQAiUCgGRr1Ihn5IvAeutWrVy9erVc0OHDnUQr4svvtitueaarkOHDil31/7P8+bN8162+vXru/bt2/vtGp555hnXoEED/zdnzpzazzSHFMtVrxxU1yVCQAgIASFQoQiIfJVxxbM81qtXL9emTRu/Z9bIkSPdhx9+6AgcL5WwX9YGG2zgJkyY4C688EJHcD0xVJDDUkq56lVKTJS3EBACQkAIlCcCIl/lWS8ZrR599FG37rrrunPPPbcsYpU+/fRT16JFC9euXTtPvDKKlvhDuepVYliUvRAQAkJACJQhAiJfZVgpoUp4ujbffHN35513hqdL9pk9srp27eoOOeQQV077ZZWrXiWrKGUsBISAEBACZYuAyFeeVbN48WI3bdo099133+V5Z/Uunz59utt0003dCSecUL0EavkuNivlaUa8XwSxl4uUq17lgo/0EAJCQAgIgfJBQOQrj7pYuHChfz3N0qVL3ZVXXlnwJ/xWrFjhhg8f7s466yy3yy67uJUrV/qlx1J5nNg0dfTo0e6OO+5wjRo1cjNmzPAbqZbySUeqr1z1yqNp6VIhIASEgBCoIATKnnyxTcDnn3/uiQ7kw94dWIo6uuqqq9z48eMdOrG5aSF2SodY4VlbtGiRfxUOe1SxaelGG23kXnnlFf/SanAoprz33nvupZdeco8//rh/QfXy5ctds2bN3HXXXed1LdWmpeWqVzHrRnkJASEgBIRA3UOg7MnXJ5984pfc8ABdfvnlnoCUCuYTTzzR77NF/nij2IOrtgVvF1tM4FliU1CE/b6aNm3qdtxxR/f222/Xdpap6VFWtrzo16+fJ8EQxB49erj111/fe8Igo6WQctWrFFgoTyEgBISAEKg7CJQ9+QJKPBwnnXSSf2VNKaHlxcxPPPGEVwHP1+TJkwuiDsubbOEQCttLENdUCvn666/dW2+9VSXAnnN45Uop5apXKTFR3kJACAgBIVD+CNQJ8vXaa6+57t27O15fU0oh3un222/3JKRPnz5VdnpP0otlwuuvv75oQfpJuthvY8aMcaXaGNV0iDuWo14sL48bNy5OXZ0TAkJACAgBIZA3AmVDvgiafvXVV92oUaP862p++OEH/1od3sk3c+ZMv6En5IcXNhdCWDpLe50PnqeBAwd6/djwFJ1zEZZODzzwwJJ5ruJ07N27t39VUNxvpTxXjno9/PDD7vTTTy8lLMpbCAgBISAEViMEyoJ8sazIC5mHDRvmXnjhBbfzzju7vn37eph/+uknf+SJukLuop7r63zYdT5fD5zIV+49RuQrd6x0pRAQAkJACNRNBEpOvt555x230047ueeff94jyMuPeXfh2WefnRei7HDetm1bvyEpm5Jm+7v00kuzpluo1/mIfGWF/G8/iHz9DRKdEAJCQAgIgdUMgZKSr2+//dYTrUsuucTDCvkZPHiwJ1FsZloKqY3X+bA8CZl87rnn/N8DDzzg3884ceLEzDk2TyVgvBjCUi1bRZg+HPfff3//wu7w3Pvvv18MdTJ5lKte7777bhWseMr20EMPrXKOJXLaq0QICAEhIASEQL4IlJR8QUbYUuGee+7xsV6dO3d2AwYMKGlsVG28zocHBI499lj/UmxejM3reBo3buyOOuqozDl2rJ87d26V+oKktW7dusZ/bAAbCiSPbSLQxf6aN2/uOnbsmPnO+WhQOZvJ1oY+lgbLyqFUV68lS5bUml5sXhuVESNGVMFl3333ddtss02Vc7xUvJR7zkV11nchIASEgBCoOwiUlHyxbxavzmFQJqj+559/rjZyeNF4opBlxaS/KVOmJOZRiNf55LrsyFOR8+bNq/FfLq/9yWV5D89ObehjabBZbpoUW69ctstQwH1arel3ISAEhIAQyAeBkpEvgucPOuggt8MOO/wtgJ2NRvN9ZQ2B+XiOePVN0h+7xGeTQr3OJ1fylU2vQpzPheQUIt+0NMtRr3zIV7YnYLOdL9UGtWn1oN+FgBAQAkKgcAiUjHxRpHPOOcf961//cjfccIN/kpFge/Z5uvXWWwv6ZGMIZzFe5yPyFSKe/Lkuky+2H1l33XX9ViRhKWfNmuU22GADx7YpobC1yVZbbeWXpfOdbITp6LMQEAJCQAjULQRKSr6Ir2JbiX/84x/uP//5j2vZsqWbMGFCzvtn1QbUxXidj8hX7jVVl8kXHteGDRtmXgtlpcbbyvL60KFD7ZQ/ErvGq6TYQFjkqwo0+iIEhIAQWK0RKCn5Alm8XQSov/766wXbQDWtBsvtdT5p+up3ISAEhIAQEAJCoO4iUHLyVXehk+ZCQAgIASEgBISAEMgfAZGv/DEr+h08nEDQNxvP2vYGPBnKeybxGhZb0OHqq6927du3d506dXI33nij92CaHqXSjYcuiB9ka4j99tvPjR07NvMy8FLpZJjoKASEgBAQAkLAEBD5MiTK9LhgwQJ3xhlnuLXWWsvttttuji01EDZHrV+/vic/xVSdZWL2K2vTpo3fy2zrrbf2MXuHH364432cpdKNmKnzzjvPnXLKKY59zoilWnPNNT0xLJVOxawX5SUEhIAQEAJ1BwGRrzpQV+wEj4cpJF+8A3Pttdf2Hp5iFmHatGnu2muvzXiUvvnmG//S8Hr16mUCzUuh25w5czwhNSx4krBFixauXbt23itXCp1MFx2FgBAQAkJACIQIiHyFaJTpZ/aI4vU2IfniFTg8WdezZ8+iav3yyy87CFcoU6dOzWwZwvlS6RbqxFJtly5d/DYOfC4HnUL99FkICAEhIAQqFwGRrzpQ92zEedhhh1UhX2xf0aRJE3fRRReVvARvvPGGJ4IPPfSQ16UcdONtAcR92Qvby0GnkleUFBACQkAICIGyQEDkqyyqIVmJOPIFudh1113dbbfdlnxzEX7lHZ3s0bZs2TKfW6l147VIbGjK8qhJqXUyPXQUAkJACAgBISDyVQfaQBz5IsCc1zNNmjSppCWA6BxzzDH+rQSmSCl14x2he+21l38I4N///rcbPny437S3lDoZLjoKASEgBISAEAABka860A7iyBdqn3766f6F5KUswuTJk93xxx/v2OYhlFLqxrYS48aNc5tssolr0KCBY1kUKaVOITb6LASEgBAQApWNgMhXHaj/bOTr5ptvdmxFUSpZtGiR69Wrl1u+fPnfVCi1big0fvx4x1OYo0eP9vqVg05/A0onhIAQEAJCoOIQEPmqA1WejXzxWqTvvvuuJCX48ssv3amnnurmz58fm38pdTOFiEFr2rSpGzVqlD9VDjqZbjoKASEgBIRA5SIg8lUH6j4b+SqV6gSvn3XWWZnlPNODlz9/ySIAABx3SURBVJSXkyxdutS1bt3avfrqq+WklnQRAkJACAiBCkdA5KsONIA//vjD71nF040QH2TevHmuefPm/pVDxSwC+Xfr1s2ddNJJ3qOEV2nkyJFu8ODBfk+tUunG0uf06dMzL2eHsA4bNszjwz5fpcKrmHWjvISAEBACQqBuICDyVeb1xNLZkCFDXKNGjdw666zjBgwY4N5//32/3Merffr371+0EhBUf+SRR7o11lgj9s90YSmy2LqxrcT//d//+XxZDu3Ro4cnhLwOCSmFTkWrGGUkBISAEBACdQoBka86VV1SNhsCvAVg7ty5jt32WWaMPn2Z7T6dFwJCQAgIASFQbAREvoqNuPITAkJACAgBISAEKhoBka+Krn4VXggIASEgBISAECg2AiJfxUZc+QkBISAEhIAQEAIVjYDIV0VXvwovBISAEBACQkAIFBsBka9iI678hIAQEAJCQAgIgYpGQOSroqtfhRcCQkAICAEhIASKjYDIV7ERV35CQAgIASEgBIRARSMg8lXR1a/CCwEhIASEgBAQAsVGQOSr2IgrPyEgBISAEBACQqCiERD5qujqV+GFgBAQAkJACAiBYiMg8lVsxJWfEBACQkAICAEhUNEIiHxVdPWr8EJACAgBISAEhECxERD5Kjbiyk8ICAEhIASEgBCoaAREviq6+lV4ISAEhIAQEAJCoNgIiHwVG3HlJwSEgBAQAkJACFQ0AiJfFV39KrwQEAJCQAgIASFQbAREvoqNuPITAkJACAgBISAEKhoBka+Krn4VXggIASEgBISAECg2AiJfxUZc+QkBISAEhIAQEAIVjYDIV0VXvwovBISAEBACQkAIFBsBka9iI678hIAQEAJCQAgIgYpGQOSroqu/9gr/119/uT///LP2ElxNUvr999/d6NGj3XvvvbealEjFEAJCQAhUD4EZM2a4Bx980DFeVLqUlHz99ttv7ocffihKHXz00UfukksucR9//HFsfvPnz3f77LOPe/fdd2N/18l4BL755hvXt29f16JFC0fHSpJffvnFXX/99e6pp55Kuqzgv6HHMccc40aOHFnQvGjfl112mWvQoIEbN25cJq+33nrLtW/f3i1btixzrjoffvrpJ3fooYe6SZMmVef2irknre/XBIhCpl0TvVaXe7/99lv3xx9/1EpxCt1fyrktFMvmJVXUM8884xo3buxOOOEEt2rVqqRL/W+Frq9UBQp8QUnI12effeaOPfZY16hRI7f++uu7rbbayj3xxBMFLer06dNdy5Yt3csvvxybz9y5c93WW2/tGBgluSNwyy23eOI1b9681Ju++uor17FjRzd48ODMtXTC2jKumURTPmCIOnXq5K677rqUK2v289VXX+322GMP99prr1VJiO/bbbdd1olAlYsTvjBxIf377rsv4Sr9lNb3a4JQIdNO06sUfSdNp9r6fc6cOW6nnXZya665ptt44429t6SmaRe6v0TbAisB1FE5eHmKZfOy1dEbb7zhtt9+e78KwGpALlLo+spFh0JeU3Ty9d1337nOnTu7/fffPzP4LFq0yH3xxReFLGdq2iJfqRDFXnDaaae5Hj16xP6WdhKv2V577VVw4h3Vo1iGiHziDI3IV7RG9D1fBErVd/LVszrXf/75565Nmzbu1FNPdXweNWqU23LLLbNOnHPNo9iD+YsvvujLQRlKLcWyednKyQT7559/zvZz7Pli11esEgU8WXTy9eijj7otttgicXnv6aef9p6JnXfe2S9T/frrrx4CZhKDBg3ynhMGfZh0q1at3MSJE/3vzDAeeOABt9tuu7lmzZp5UrB48WL/2/Lly93pp5/uPvzwwwyczz77rOvSpYu/dscdd/QzrNDz9dJLL/nft9lmG3feeec5XOAIaZ188snuwgsvdK1bt3Zjxozx51944QW/DNS0aVO/rPXJJ5/486b3BRdc4A444ADXvXv31IY4ZMgQN3DgQF8GPHK9evWqskyFDmeeeaZDt7Zt2zpcuibTpk3z+vXp08d3frxSYIiXavfdd/f3DB061J+ze5KOEOMzzjjDbbvttu7ggw92EFXk5ptvdk2aNHGbbbaZL+8HH3zgz2e73nB45JFH3MqVK91JJ53kNthgA19fYGOSrf6T6tfuzXZkiQ9jThl22GEHn2/o+cqmc7b07Dy4XnPNNb4d0O7uv/9+H/uWhHcc+bIyU5+0K9oaxI1lS/AyYWn3nHPOcbjk44zT0qVLvVsfzxr4Whu0+5OOpkO031UXd4ztnXfe6fbbbz/vdcbjGS43TJ482XXo0MHXB22d8qQJ9UQ9XnXVVT5MgP6Ph9FsRFzfjPZ9+gdp0ObwhvN32223uSuvvNJRdjzx1157bRXinGQLQrsSlz9lSqoX+ucRRxzhCca+++7rpkyZkugtSeo72dqx9b3QBv3444/enl5++eXezmAzqSvs6fHHH+9xoE2H4QTW3vFK4T3Ghpowsb7ooov8CgL1Eq1vuy7teO+99/p+CmYIy/fgQ53l4kXKZoej/QVMJkyY4L3H2P8DDzzQHXLIIZll/KSyxtVz2M7o49QlKzs4Gh566CFvFxi/8sGb8mfrl2k4Vtfmkd/ZZ5/tqE8T6oIx18bPpP6Qz9ho6ccdo/XFNfm07zSyl1S/cfrU9rmiky/We2ngdKg4eeWVV1zz5s19jAwNmE6OcUVgz3jNGECJoWGw79evnyc0pPfOO++4zTff3N1zzz1+xkRMD8F9yPvvv+/vmz17tv/O8iMkacSIEZ7UsHQDkTDyhZuUOCbSwjPHctm5557rOxBp4Qo/7LDDvPGhQZA3xghySRoY8fPPP9/nZXpTLjp72hIdBoa0MYYPP/yw9xCyTAtRpEExgB111FF+0F+wYIGPudpll108oSHD22+/3dWvX99dccUVDjyZ9dx0002ewL3++uteB9beMVJpQgfEIGP46Mykyaz0yy+/9H/ogXEBz++//9532GzXGw6QFQwfuoAxRBP8kKT6T6rfpHLgJSDGqnfv3g68rH6MfCWVMSldfmOAgfy+/fbb7s0333TPPfecvyUJ7yj5oswQbNogMYnUOXWMcaBNgZcJ19C2KFPUOEHYIDPUFW0U8sX9oRG1dKLHQuBOKAGGeObMmX4AoW9i2BEGdPrD2LFjfduhfogdTBPiami7TALA+9VXX/XkiX6MxPXNaN+nfzAo0u5oD5Au+gsxoXxHJ2yB9dM0W4A9MrsSl39SvVDP2JYTTzzR2yzaTxppydZ3ktqx9b3QBtk5yCeEa+HChZ4wUHYmEUxcsddMGGmLCLpha8Dkrrvu8jaKz8iwYcP8hJglQ3CAUJNmvsJE8+ijj/Y2wu7loRUI0ooVK+xU7DHJDkf7CzYL+8Px008/9RMoJpkWF5xU1rh6DtsZdprxByyJyYS8VAfvpH4ZC8D/TtbE5jG5pp1AsEwYR7H7X3/9ta/72hobLf24Y7S+8m3fcWmG55LqN7yuUJ+LSr7owAzMoZcjLBikA2PdrVu3TMe7++67vXHFdWuNl9mDCQMVngziiRjU8KrFkYqwY3AvnYzZnc2kwmVHzmF0DjroIG+AIB033nijj9NBD9JisKRjmGAQQ0LZv39/d+SRR/qfTW+ISy5i5ItZpAllw/XOgIOErP7555/3RgQ9EQYXYoHCQRfd0BGhA+Gxw0uYJhgODAgDKOnTIfluMXrMhiCGJknXGw5GJiCt1J0FjKfVf1L9Wv5xRwL8mYmbFyjqgk/SOS49O0fsIt5X87zaeY5JeFMOi/mizKeccoonxnwOJV/yhScJr40NHsxSMaJWV2Ha4edC4R7mQbtFN8pOO4QI0wdNIGOQmDSBfNH3WNIxgTzxsAwS1zejfT/aP4jVIc0lS5b4NMCN77R5sEmzBVHyFbUNSfXChGXPPfd0l156aaZ/WrmSjtG+w7VJ7dj6XmiD7FxoT/Hw42Uywf4y6EIgae+0W4gZwv2HH36494iAE/WAZx1bXF2xvgkeoUDaGfCtbYe/hZ+T7HB0MMfbyWTFbCke5eOOO84nl1bWXNoZdge88Igh+eKd1i/Dckc/18TmYXeY3ECeTbBRrLTk0h+i7T+pTiz9uGO0vvJt33Fp2rm0+rXrCnksKvmikTPLw+0aJxgiSMMNN9yQ+ZlZFR4qjnGNl4HPyBezSMgbs1o8YkZGSCw0wCzZ4BIOn3YLyRekBW8GnR3DY3+4pTHQcR3PFMbwoD8EJUq+QiNn18cdaeB4vkLyRVnwhGHITRjgbemGpT8rb3Rwses58jQnnpG11147J/LFshdLg4aBHR977DGfbJR8JV1v9ZeNfKXVf1L9hmWMfiY/Zu9Gjs3Am+crSedoWuF3iATkJmkbiTi8Q/JlZTbPTZh+vuSL9hUOJhgvSAlLdEliOmTrd9XFnTwxvCyb0kcpI9/pXxAOPEwmeAYYqNIkjnwxK8fgI3F9M+z7XBPtH1HyhcfHyFcutiCNfKXVy/jx4/0TsXiQIZX0/zSJI19J7dj6XmiD4s4NGDCgCvlihYE+D/nCy4gtNi81OtK2iNvEpoIz3insJqEYtJt8xcYIyhIKYRX0NQsjCX+L+xxnh6ODOZNWJmXYdPIFf5b8kVzKGiUZ0XaWC/lKwjutX8aV287V1ObRNxmLqXewpA0w1uTSH6K4mE5xdWK/xR2j9ZVv+45L086l1a9dV8hjUckXBcGrxXJInBDLsOuuu3p3tv3OMgCdjllonLEIyRf3cA0MGdc4hIQOhoQdg3xYusFtbgK5Ix+WpHDZogczozghrWgDg/hAanDhM2OgnDUlXxAbEwwE5IsODXkg3grvFcHuuE/RPYl8sZyBcdl7773d8OHDvf65eL4ggOGyg+ljxyj5Srre6i8b+Uqrf/LMVr+mT9yR5V9mctyLGCkx8pWkc1x6ds6WzizWzc5zTMI7JF+UmbZ6xx13hLf7z7mSL2JkEDzKLOlbOSGbLNOznJYkhcKdfsIkol69et7jDV4QC/Ijlij0GOJRpj2nCeQLAkA/MMETY8Qtrm+GfZ978iFfudiCNPKVS71A0okFXW+99XwcVtyDGlZejnHkK6kdW9+rCfmi/iBWhGGYEAxv5Ixz1C32aKONNvL2Bg9DvsKSI970kIRCBrCtlDtJkuywDebWXyBckC1CWyCQ4G/B8WllzaWd1ZR85dIvs2FRU5uHh5EJ06xZszzpAiOWZnPpD/mMjdn053y0vvJt30lpp9Vv0r219VvRyRedldlRXCfC4LBvESTGBA8LxpalgDgDEiVfdh8EBZKHW5z7QgNMp8NDwNKgCTO8hg0bevJlemQjiXEdD5d7165dMzFZpF9T8kW8DgMwAjmEfDHrZPDGELE3GUKsBXEw2cgXMyg8IAzwGDTik9h7KhfyRcA0QeBmlHyGwb8o+Uq63uovG/ky3LPVf5CtJ6Bh/Ya/RT+DDwM7y60IbQlibuQrSedoWuF3JgakExIBfk/Dm/ggluCoSyNIYZktjzTyhWcBD655rCgHy6DWtzCW1B1LR0lSKNxZbsErRbtjMN1www19SABlJn4x9G6ACQN7mkC+Nt10Uz/5sGuJ3aK/IXF9M+z7XJMP+TJskmxBGvnKp16ICaVthATHyhke48hXUju2vlcT8sUkA49+2N5ZkmWZkvRDoY/RFkPvZvh70mfqh4HfbA5p035YEsRzmiRJdjjaXxgjaIPEmOFxDNNOK2su7aym5MvaXmgbwvEwCYea2jywIDQAcsoE3yZwplNSf4iSr6Q6SSpDtL7ybd9JaafVb9K9tfVb0cmXLS+wLGhuaQwqf4jNYum8dA4qnk5HB4wzICH5wqjTiYyw0LFYKuR81ADztB/eL4wYgyWDActrFlPFgEUjMq8G5IdgeiSu49FQe/bs6Tsw3jaIHGQMidPb/5DlHwQJjwH7oJEv34nVICiZ2QAdEAMNlgSgsoQDCeA7Eh1cbBBmIEQX4inYPwdDnyYMAgyKtkkogfZ0AjBDouQr6XrDwcgXukPELYaE9JLqP6l+k8oBhsQCEjcClsTv4Y2xBzmSdE5KF30YeDDetFXKByGmHiA92fCm/aCPxWKZUbG2xqyTGSbpEXdoSyHgRZwi7ZZZsf1OPAZCH8IDZDN72jADoMUyJZWlELiH+dmEh6cIEbzOeJchaJSDWS1eujQx8mUPEoAT3lz6MxLXN6N9P9o/kpYdSTPNFqSRr7R6YTJEH0XwNNC3bWLlT8b8i+s7Se0YjMG3JuSLNMweY2Npr9bOUREvlz2wxHIV8V8W2gEG1H0unjDaK+0WXcmHpz+xbzylmiZpdpj+ZP2FUBPiaFk6xRPCZMoIWFpZc2ln6MsYYnFqcXWQtOxIWZP6ZRIWtWHzWGbETtEeeYjCJK0/RMlXUp1YmnFH8ArrK9/2HZemnUurX7uukMeiky8KA8HBE4H3heUyOpYtu9DZcJniyWHQh3BYoHRc4w3JFwMS3iY6FAMUadvTZ1EDzPozSzTkTT4Yf/MOoSODKTMOnmrEuLI0ZI9Vx3U8YhIgS1zLYMCSJWmzxBend1KlGvmCODKY8oeOeLwQCCPr8aTPb8TS4BZm13a8O9HBBYPC0gexcBg1Ap2JjeOzpZmkDx6yTTbZxMdHgC0eIwZTJEq+OJftesPByBfkBcJKOagLJKn+k+rX35zlH/miM4SYMoMrgcV4RU2y6Wy/ZzsSg2Jbm2B0KM9///vfRLwpB+2JrT8QsOzbt69vP5BR6tLiam699Va/FEU9YwjxADDgWewLfSX0kDJQUUdcz/HJJ5/MpnqV84XAPcyAwZhJgsUKUuazzjrLe8MoF2VOIxykxyDOYMBTtvRvPDF4yyFhSFzfjPb9aP9II19ptiCNfKFXtnqhr+O5xN7RjugLTLTwMCRJXN/h+mzt2PpeTcgX6eNdx05ij9AZu4kuCE8vgwVeK+qIcAUjW0x41lprLTd16lR/bdo/HpoCC8aIdddd1z+tDVZpkmSHuTfsL9QrdpC+yJIjkwH+mPgjSWXNpZ2RDjaBvsiEN64O0shXUr9MwqI2bB4TbWLiWAYO22Naf4iSr7Q6SSpHWF9cl0/7TkqX35LqN+3e2vi9JOTLFIdU8SgyDSwqkCNmDLl0uOi9zKaZ1RhBiP5u30mbPGhkCF4l/kKB6DATy0UPZqOUh4aPUAbzEIVppn0mLwu4pwx09LDxcz8dgEBvS5/rzE0flz5pYgzsyRu+8zmabty9nDM9zNBmu87O53o9WFE+AjlDSar/XOs3TI/PEFMwgIySL/UVSq46h/fwGSwhQ+a9sHP54o0+eBOs/Vg6tFFigqhz8qK9htdE9aE/gWlcv4peG/1eCNzRA8LNhMiWxi1f8rM6sXNJR8gXxh0PNzhE00u6t6a/5WML4vJKqhf6MYTbbFHc/dFz2fpOddtxNP1s32mDtElbxg+vw57gQYrWKXaDuuLeXAVbjFcQ3PORXO0wDwUw6eNhAQT7yeTHPNKcSyprLjpRr/TpXO1mtjST+mW2ezhfKJtH2vn0h1zrJKks9ltttu+a1q/pVJ1jSclXdRSuhHtoEEa+KqG8KuPqiQATIJZ08NTxh2ekphKSr5qmpfsrGwHCWfDqQIwgsiz/47WDWEqEQKEREPkqNMLVSB/yxTIhDydIhEBdRYAlAtoxe/ExW60NwbvI8roty9ZGmkqjMhFgz0K8sUwM2ACYZXG2IJAIgWIgIPJVDJSVhxAQAkJACJQlAoQ8EJMoEQLFREDkq5hoKy8hIASEgBAQAkKg4hEQ+ar4JiAAhIAQEAJCQAgIgWIiIPJVTLSVlxAQAkJACAgBIVDxCNQZ8sXmfez5VehHy3nihb3CaitAuOJbmAAQAkJACAgBISAEqiBQZ8hX+D68KiWo5S833XSTa9euXWb3/VpOXskJASEgBISAEBACFY6AyFekAYh8RQDRVyEgBISAEBACQqBWESgq+eLdemeffXaV3cx5Dx6vqGFHZITXSvC6EF6mzX4+9mqhOM8X9/JiV17fwIs+7VrS4b1avDqiT58+rk2bNm7evHmxwLHrNC8hbdu2rd85m9dmhJ4vdmzmVUGkwWsoeG+evf8rNsH/vSLHfuP+mu5ubGnpKASEgBAQAkJACNR9BIpKvtjxmvexsbmdCS8fhtjwGgQ2TuQ9dbzAmhgvNsDj3U5IlHyxL0uHDh38+xd5lQrky162y/W8v61+/fr+PWmvvPKKfzWL5RkeeeM6r5Tg/W7sbMz75kLyxcuXIV285gLyiP68qypOuIb3nvFOMspKepA69FIMWRxiOicEhIAQEAJCoPIQKCr5wst08MEHu4EDB2aQ5g3zZ555pv+ORyn0EvXv398Hv/NjlHzxxnVe3mqvgsBzBjGy93JFX56byTD4wHvUeMH3pEmTMmfDZUfeIcjux7z4lkB/8urcubND52zChn0dO3Z0vDB1yJAh/mXcvEicXeslQkAICAEhIASEgBAoKvkC7rFjx7o99tjD7yjMy0LxekGkQuE8hKdJkyZZydegQYO858s8SryEFa8T75JDciFfs2fP9kuNvAjWJCRfL7/8smvYsKEnaOhpf/369Ut8sfGIESPclltu6b1flq6OQkAICAEhIASEgBAAgaKTL7xHvLx01qxZnnTttNNOjve1IXiXTj31VNeyZUvvHevWrVtW8sU743gjPS9ERfCY4ZW65JJL/PdcyNeMGTNcs2bN3KJFi/w9/Bs6dGhm2XHmzJk+9mz+/PmZ33P5wBImXrnFixfncrmuEQJCQAgIASEgBCoIgaKTL5YWe/fu7S688ELXo0ePDFkCc+Kvunbt6uOjVq1a5T1b7LmF4KWC0NgLddmPa/vtt3dffPGF/x0CxxLh3Xff7b/nQr5Ii/is559/3t8DkTviiCMy5OuDDz5wW2yxhZsyZYr/PZd/LK0OHz7c6/Lkk0/mcouuEQJCQAgIASEgBCoIgaKTL7BlmRFSA5maM2dOBm5IWc+ePf3ThBAilvwgYwhB9dxjMV0fffSRf8qRpw8RSBdkbMmSJf57LuTLliqJLYMUEuQPGWP58qeffnI8qQj5gyRCqvCu8YBAnCfs+++/d998842PHyM+7aijjvLEEtJocWlTp051d911V5W4Nq+s/gkBISAEhIAQEAIVg0BJyBeB7q1atXJHH320JziGNk8RNmrUyG277bZu77339ls8QIbwJK1cudI/dXjLLbfY5d4jRWwVW01wDD1NuZAvEiKui20tyBPPGTFfLHtC9hAC+XnakWB+YtC6d+8eu8s+sWYbb7yxGzNmjA+uHz16tGvcuLHDQwex++WXX/xTj+hK+SVCQAgIASEgBIRAZSJQEvKVBPWKFSvcwoULM7FcBN/jVcomeKQgShyrK9xL0L0F75MnXi8TyBMkDAKYTXjK0fYq4xrSJOYrfMqR+0lbIgSEgBAQAkJACFQuAmVHviq3KlRyISAEhIAQEAJCoBIQEPmqhFpWGYWAEBACQkAICIGyQUDkq2yqQooIASEgBISAEBAClYCAyFcl1LLKKASEgBAQAkJACJQNAiJfZVMVUkQICAEhIASEgBCoBAREviqhllVGISAEhIAQEAJCoGwQEPkqm6qQIkJACAgBISAEhEAlICDyVQm1rDIKASEgBISAEBACZYOAyFfZVIUUEQJCQAgIASEgBCoBAZGvSqhllVEICAEhIASEgBAoGwREvsqmKqSIEBACQkAICAEhUAkIiHxVQi2rjEJACAgBISAEhEDZIPD/R0st2JVFrBUAAAAASUVORK5CYII=)"
      ],
      "metadata": {
        "id": "onPcZIn3L2n6"
      }
    },
    {
      "cell_type": "code",
      "source": [
        "x= float(input(\"Digite o valor de x: \"))\n",
        "fatorial=1\n",
        "n=0\n",
        "while n<30:\n",
        "  n+=1\n",
        "  fatorial=fatorial*n\n",
        "  resultado=1+x**n/fatorial\n",
        "print(f\"O valor de e^x é igual à = {resultado: }\")\n",
        "\n"
      ],
      "metadata": {
        "id": "Bm8oYrNya3R5",
        "outputId": "42e42972-78d7-4320-a513-42bc30d5b18a",
        "colab": {
          "base_uri": "https://localhost:8080/"
        }
      },
      "execution_count": null,
      "outputs": [
        {
          "output_type": "stream",
          "name": "stdout",
          "text": [
            "Digite o valor de x: 4\n",
            "O valor de e^x é igual à =  1.0000000000000044\n"
          ]
        }
      ]
    },
    {
      "cell_type": "markdown",
      "source": [
        "**17. Foi feita uma pesquisa de audiência de canal de TV em n casas de um determinado\n",
        "bairro de Joinville, em um certo dia do mês. Na pesquisa foi utilizado um coletor de\n",
        "dados portátil. Para cada casa visitada, foi fornecido o número do canal (4, 5, 9, 12) e\n",
        "o número de pessoas que estavam assistindo a TV naquele horário, considerando que\n",
        "em cada casa só existia uma televisão. Em casas onde a televisão estava desligada, foi\n",
        "registrado zero para o número do canal e para o número de pessoas. Faça um\n",
        "algoritmo que calcule e escreva, para cada emissora, o percentual de audiência.**"
      ],
      "metadata": {
        "id": "7ufLkK4LNdai"
      }
    },
    {
      "cell_type": "code",
      "source": [
        "n=int(input(\"Digite a quantidade de casas que foram entrevistadas: \"))\n",
        "contador=0\n",
        "total4=0\n",
        "total5=0\n",
        "total9=0\n",
        "total12=0\n",
        "total=0\n",
        "while contador<n:\n",
        "  contador+=1\n",
        "  tv=str.lower((input(f\"\\nA TV da {contador}º casa estava ligada(y) ou desligada(n)? \")))\n",
        "  if tv==\"n\":\n",
        "    canal4=0\n",
        "    canal5=0\n",
        "    canal9=0\n",
        "    canal12=0\n",
        "  elif tv==\"y\":\n",
        "    canal=int(input(f\"\\nQue canal estava passando na {contador}º casa?: \"))\n",
        "    if canal==4:\n",
        "      canal4=int(input(f\"\\nDigite a quantidade de pessoas assistindo tv naquele horario: \"))\n",
        "      total4+=canal4\n",
        "    elif canal==5:\n",
        "      canal5=int(input(f\"\\nDigite a quantidade de pessoas assistindo tv naquele horario: \"))\n",
        "      total5+=canal5\n",
        "    elif canal==9:\n",
        "      canal9=int(input(f\"\\nDigite a quantidade de pessoas assistindo tv naquele horario: \"))\n",
        "      total9+=canal9\n",
        "    elif canal==12:\n",
        "      canal12=int(input(f\"\\nDigite a quantidade de pessoas assistindo tv naquele horario: \"))\n",
        "      total12+=canal12\n",
        "    else:\n",
        "      print(\"Canal inválido\")\n",
        "  else:\n",
        "    print(\"Opção inválida\")\n",
        "total=total4+total5+total9+total12\n",
        "if total==0:\n",
        "  print(\"\\n-----------------------------------------------------------\\n\")\n",
        "  print(\"O percentual de audiência foi 0% para todos os canais.\")\n",
        "else:\n",
        "  porcentagem4=total4/total*100\n",
        "  porcentagem5=total5/total*100\n",
        "  porcentagem9=total9/total*100\n",
        "  porcentagem12=total12/total*100\n",
        "  print(\"\\n-----------------------------------------------------------\\n\")\n",
        "  print(f\"\\nO percentual de audiência do canal 4 foi {porcentagem4:.2f}% \\n\")\n",
        "  print(f\"O percentual de audiência do canal 5 foi {porcentagem5:.2f}% \\n\")\n",
        "  print(f\"O percentual de audiência do canal 9 foi {porcentagem9:.2f}% \\n\")\n",
        "  print(f\"O percentual de audiência do canal 12 foi {porcentagem12:.2f}% \\n\")\n"
      ],
      "metadata": {
        "id": "B08Y9I4uMVyp",
        "outputId": "7357263b-dd94-4210-a275-52ddf8a9d5b6",
        "colab": {
          "base_uri": "https://localhost:8080/"
        }
      },
      "execution_count": null,
      "outputs": [
        {
          "output_type": "stream",
          "name": "stdout",
          "text": [
            "Digite a quantidade de casas que foram entrevistadas: 4\n",
            "\n",
            "A TV da 1º casa estava ligada(y) ou desligada(n)? y\n",
            "\n",
            "Que canal estava passando na 1º casa?: 4\n",
            "\n",
            "Digite a quantidade de pessoas assistindo tv naquele horario: 4\n",
            "\n",
            "A TV da 2º casa estava ligada(y) ou desligada(n)? n\n",
            "\n",
            "A TV da 3º casa estava ligada(y) ou desligada(n)? n\n",
            "\n",
            "A TV da 4º casa estava ligada(y) ou desligada(n)? n\n",
            "\n",
            "-----------------------------------------------------------\n",
            "\n",
            "\n",
            "O percentual de audiência do canal 4 foi 100.00% \n",
            "\n",
            "O percentual de audiência do canal 5 foi 0.00% \n",
            "\n",
            "O percentual de audiência do canal 9 foi 0.00% \n",
            "\n",
            "O percentual de audiência do canal 12 foi 0.00% \n",
            "\n"
          ]
        }
      ]
    },
    {
      "cell_type": "markdown",
      "source": [
        "![image.png](data:image/png;base64,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)"
      ],
      "metadata": {
        "id": "aLe5JisXLcB8"
      }
    },
    {
      "cell_type": "code",
      "source": [
        "import pandas as pd\n",
        "ingresso=5.00\n",
        "vendas=120\n",
        "despesas=200\n",
        "tabela={\"Preço R$\": [], \"Vendas\": [], \"Lucro R$\": []}\n",
        "while ingresso>=1.00:\n",
        "   tabela[\"Preço R$\"].append(ingresso)\n",
        "   tabela[\"Vendas\"].append(vendas)\n",
        "   lucro=ingresso*vendas-despesas\n",
        "   tabela[\"Lucro R$\"].append(lucro)\n",
        "   vendas+=26\n",
        "   ingresso-=0.50\n",
        "pd.DataFrame(tabela)"
      ],
      "metadata": {
        "id": "jNu3KdOfqLWg",
        "outputId": "35f98904-2b80-4f74-a295-67a59f97ef03",
        "colab": {
          "base_uri": "https://localhost:8080/",
          "height": 332
        }
      },
      "execution_count": null,
      "outputs": [
        {
          "output_type": "execute_result",
          "data": {
            "text/plain": [
              "   Preço R$  Vendas  Lucro R$\n",
              "0       5.0     120     400.0\n",
              "1       4.5     146     457.0\n",
              "2       4.0     172     488.0\n",
              "3       3.5     198     493.0\n",
              "4       3.0     224     472.0\n",
              "5       2.5     250     425.0\n",
              "6       2.0     276     352.0\n",
              "7       1.5     302     253.0\n",
              "8       1.0     328     128.0"
            ],
            "text/html": [
              "\n",
              "  <div id=\"df-19edc728-c4a0-43e4-b500-99419a2a0296\" class=\"colab-df-container\">\n",
              "    <div>\n",
              "<style scoped>\n",
              "    .dataframe tbody tr th:only-of-type {\n",
              "        vertical-align: middle;\n",
              "    }\n",
              "\n",
              "    .dataframe tbody tr th {\n",
              "        vertical-align: top;\n",
              "    }\n",
              "\n",
              "    .dataframe thead th {\n",
              "        text-align: right;\n",
              "    }\n",
              "</style>\n",
              "<table border=\"1\" class=\"dataframe\">\n",
              "  <thead>\n",
              "    <tr style=\"text-align: right;\">\n",
              "      <th></th>\n",
              "      <th>Preço R$</th>\n",
              "      <th>Vendas</th>\n",
              "      <th>Lucro R$</th>\n",
              "    </tr>\n",
              "  </thead>\n",
              "  <tbody>\n",
              "    <tr>\n",
              "      <th>0</th>\n",
              "      <td>5.0</td>\n",
              "      <td>120</td>\n",
              "      <td>400.0</td>\n",
              "    </tr>\n",
              "    <tr>\n",
              "      <th>1</th>\n",
              "      <td>4.5</td>\n",
              "      <td>146</td>\n",
              "      <td>457.0</td>\n",
              "    </tr>\n",
              "    <tr>\n",
              "      <th>2</th>\n",
              "      <td>4.0</td>\n",
              "      <td>172</td>\n",
              "      <td>488.0</td>\n",
              "    </tr>\n",
              "    <tr>\n",
              "      <th>3</th>\n",
              "      <td>3.5</td>\n",
              "      <td>198</td>\n",
              "      <td>493.0</td>\n",
              "    </tr>\n",
              "    <tr>\n",
              "      <th>4</th>\n",
              "      <td>3.0</td>\n",
              "      <td>224</td>\n",
              "      <td>472.0</td>\n",
              "    </tr>\n",
              "    <tr>\n",
              "      <th>5</th>\n",
              "      <td>2.5</td>\n",
              "      <td>250</td>\n",
              "      <td>425.0</td>\n",
              "    </tr>\n",
              "    <tr>\n",
              "      <th>6</th>\n",
              "      <td>2.0</td>\n",
              "      <td>276</td>\n",
              "      <td>352.0</td>\n",
              "    </tr>\n",
              "    <tr>\n",
              "      <th>7</th>\n",
              "      <td>1.5</td>\n",
              "      <td>302</td>\n",
              "      <td>253.0</td>\n",
              "    </tr>\n",
              "    <tr>\n",
              "      <th>8</th>\n",
              "      <td>1.0</td>\n",
              "      <td>328</td>\n",
              "      <td>128.0</td>\n",
              "    </tr>\n",
              "  </tbody>\n",
              "</table>\n",
              "</div>\n",
              "    <div class=\"colab-df-buttons\">\n",
              "\n",
              "  <div class=\"colab-df-container\">\n",
              "    <button class=\"colab-df-convert\" onclick=\"convertToInteractive('df-19edc728-c4a0-43e4-b500-99419a2a0296')\"\n",
              "            title=\"Convert this dataframe to an interactive table.\"\n",
              "            style=\"display:none;\">\n",
              "\n",
              "  <svg xmlns=\"http://www.w3.org/2000/svg\" height=\"24px\" viewBox=\"0 -960 960 960\">\n",
              "    <path d=\"M120-120v-720h720v720H120Zm60-500h600v-160H180v160Zm220 220h160v-160H400v160Zm0 220h160v-160H400v160ZM180-400h160v-160H180v160Zm440 0h160v-160H620v160ZM180-180h160v-160H180v160Zm440 0h160v-160H620v160Z\"/>\n",
              "  </svg>\n",
              "    </button>\n",
              "\n",
              "  <style>\n",
              "    .colab-df-container {\n",
              "      display:flex;\n",
              "      gap: 12px;\n",
              "    }\n",
              "\n",
              "    .colab-df-convert {\n",
              "      background-color: #E8F0FE;\n",
              "      border: none;\n",
              "      border-radius: 50%;\n",
              "      cursor: pointer;\n",
              "      display: none;\n",
              "      fill: #1967D2;\n",
              "      height: 32px;\n",
              "      padding: 0 0 0 0;\n",
              "      width: 32px;\n",
              "    }\n",
              "\n",
              "    .colab-df-convert:hover {\n",
              "      background-color: #E2EBFA;\n",
              "      box-shadow: 0px 1px 2px rgba(60, 64, 67, 0.3), 0px 1px 3px 1px rgba(60, 64, 67, 0.15);\n",
              "      fill: #174EA6;\n",
              "    }\n",
              "\n",
              "    .colab-df-buttons div {\n",
              "      margin-bottom: 4px;\n",
              "    }\n",
              "\n",
              "    [theme=dark] .colab-df-convert {\n",
              "      background-color: #3B4455;\n",
              "      fill: #D2E3FC;\n",
              "    }\n",
              "\n",
              "    [theme=dark] .colab-df-convert:hover {\n",
              "      background-color: #434B5C;\n",
              "      box-shadow: 0px 1px 3px 1px rgba(0, 0, 0, 0.15);\n",
              "      filter: drop-shadow(0px 1px 2px rgba(0, 0, 0, 0.3));\n",
              "      fill: #FFFFFF;\n",
              "    }\n",
              "  </style>\n",
              "\n",
              "    <script>\n",
              "      const buttonEl =\n",
              "        document.querySelector('#df-19edc728-c4a0-43e4-b500-99419a2a0296 button.colab-df-convert');\n",
              "      buttonEl.style.display =\n",
              "        google.colab.kernel.accessAllowed ? 'block' : 'none';\n",
              "\n",
              "      async function convertToInteractive(key) {\n",
              "        const element = document.querySelector('#df-19edc728-c4a0-43e4-b500-99419a2a0296');\n",
              "        const dataTable =\n",
              "          await google.colab.kernel.invokeFunction('convertToInteractive',\n",
              "                                                    [key], {});\n",
              "        if (!dataTable) return;\n",
              "\n",
              "        const docLinkHtml = 'Like what you see? Visit the ' +\n",
              "          '<a target=\"_blank\" href=https://colab.research.google.com/notebooks/data_table.ipynb>data table notebook</a>'\n",
              "          + ' to learn more about interactive tables.';\n",
              "        element.innerHTML = '';\n",
              "        dataTable['output_type'] = 'display_data';\n",
              "        await google.colab.output.renderOutput(dataTable, element);\n",
              "        const docLink = document.createElement('div');\n",
              "        docLink.innerHTML = docLinkHtml;\n",
              "        element.appendChild(docLink);\n",
              "      }\n",
              "    </script>\n",
              "  </div>\n",
              "\n",
              "\n",
              "<div id=\"df-d4099e12-0a9d-415d-b302-9481859dddb3\">\n",
              "  <button class=\"colab-df-quickchart\" onclick=\"quickchart('df-d4099e12-0a9d-415d-b302-9481859dddb3')\"\n",
              "            title=\"Suggest charts\"\n",
              "            style=\"display:none;\">\n",
              "\n",
              "<svg xmlns=\"http://www.w3.org/2000/svg\" height=\"24px\"viewBox=\"0 0 24 24\"\n",
              "     width=\"24px\">\n",
              "    <g>\n",
              "        <path d=\"M19 3H5c-1.1 0-2 .9-2 2v14c0 1.1.9 2 2 2h14c1.1 0 2-.9 2-2V5c0-1.1-.9-2-2-2zM9 17H7v-7h2v7zm4 0h-2V7h2v10zm4 0h-2v-4h2v4z\"/>\n",
              "    </g>\n",
              "</svg>\n",
              "  </button>\n",
              "\n",
              "<style>\n",
              "  .colab-df-quickchart {\n",
              "      --bg-color: #E8F0FE;\n",
              "      --fill-color: #1967D2;\n",
              "      --hover-bg-color: #E2EBFA;\n",
              "      --hover-fill-color: #174EA6;\n",
              "      --disabled-fill-color: #AAA;\n",
              "      --disabled-bg-color: #DDD;\n",
              "  }\n",
              "\n",
              "  [theme=dark] .colab-df-quickchart {\n",
              "      --bg-color: #3B4455;\n",
              "      --fill-color: #D2E3FC;\n",
              "      --hover-bg-color: #434B5C;\n",
              "      --hover-fill-color: #FFFFFF;\n",
              "      --disabled-bg-color: #3B4455;\n",
              "      --disabled-fill-color: #666;\n",
              "  }\n",
              "\n",
              "  .colab-df-quickchart {\n",
              "    background-color: var(--bg-color);\n",
              "    border: none;\n",
              "    border-radius: 50%;\n",
              "    cursor: pointer;\n",
              "    display: none;\n",
              "    fill: var(--fill-color);\n",
              "    height: 32px;\n",
              "    padding: 0;\n",
              "    width: 32px;\n",
              "  }\n",
              "\n",
              "  .colab-df-quickchart:hover {\n",
              "    background-color: var(--hover-bg-color);\n",
              "    box-shadow: 0 1px 2px rgba(60, 64, 67, 0.3), 0 1px 3px 1px rgba(60, 64, 67, 0.15);\n",
              "    fill: var(--button-hover-fill-color);\n",
              "  }\n",
              "\n",
              "  .colab-df-quickchart-complete:disabled,\n",
              "  .colab-df-quickchart-complete:disabled:hover {\n",
              "    background-color: var(--disabled-bg-color);\n",
              "    fill: var(--disabled-fill-color);\n",
              "    box-shadow: none;\n",
              "  }\n",
              "\n",
              "  .colab-df-spinner {\n",
              "    border: 2px solid var(--fill-color);\n",
              "    border-color: transparent;\n",
              "    border-bottom-color: var(--fill-color);\n",
              "    animation:\n",
              "      spin 1s steps(1) infinite;\n",
              "  }\n",
              "\n",
              "  @keyframes spin {\n",
              "    0% {\n",
              "      border-color: transparent;\n",
              "      border-bottom-color: var(--fill-color);\n",
              "      border-left-color: var(--fill-color);\n",
              "    }\n",
              "    20% {\n",
              "      border-color: transparent;\n",
              "      border-left-color: var(--fill-color);\n",
              "      border-top-color: var(--fill-color);\n",
              "    }\n",
              "    30% {\n",
              "      border-color: transparent;\n",
              "      border-left-color: var(--fill-color);\n",
              "      border-top-color: var(--fill-color);\n",
              "      border-right-color: var(--fill-color);\n",
              "    }\n",
              "    40% {\n",
              "      border-color: transparent;\n",
              "      border-right-color: var(--fill-color);\n",
              "      border-top-color: var(--fill-color);\n",
              "    }\n",
              "    60% {\n",
              "      border-color: transparent;\n",
              "      border-right-color: var(--fill-color);\n",
              "    }\n",
              "    80% {\n",
              "      border-color: transparent;\n",
              "      border-right-color: var(--fill-color);\n",
              "      border-bottom-color: var(--fill-color);\n",
              "    }\n",
              "    90% {\n",
              "      border-color: transparent;\n",
              "      border-bottom-color: var(--fill-color);\n",
              "    }\n",
              "  }\n",
              "</style>\n",
              "\n",
              "  <script>\n",
              "    async function quickchart(key) {\n",
              "      const quickchartButtonEl =\n",
              "        document.querySelector('#' + key + ' button');\n",
              "      quickchartButtonEl.disabled = true;  // To prevent multiple clicks.\n",
              "      quickchartButtonEl.classList.add('colab-df-spinner');\n",
              "      try {\n",
              "        const charts = await google.colab.kernel.invokeFunction(\n",
              "            'suggestCharts', [key], {});\n",
              "      } catch (error) {\n",
              "        console.error('Error during call to suggestCharts:', error);\n",
              "      }\n",
              "      quickchartButtonEl.classList.remove('colab-df-spinner');\n",
              "      quickchartButtonEl.classList.add('colab-df-quickchart-complete');\n",
              "    }\n",
              "    (() => {\n",
              "      let quickchartButtonEl =\n",
              "        document.querySelector('#df-d4099e12-0a9d-415d-b302-9481859dddb3 button');\n",
              "      quickchartButtonEl.style.display =\n",
              "        google.colab.kernel.accessAllowed ? 'block' : 'none';\n",
              "    })();\n",
              "  </script>\n",
              "</div>\n",
              "\n",
              "    </div>\n",
              "  </div>\n"
            ],
            "application/vnd.google.colaboratory.intrinsic+json": {
              "type": "dataframe",
              "summary": "{\n  \"name\": \"pd\",\n  \"rows\": 9,\n  \"fields\": [\n    {\n      \"column\": \"Pre\\u00e7o R$\",\n      \"properties\": {\n        \"dtype\": \"number\",\n        \"std\": 1.3693063937629153,\n        \"min\": 1.0,\n        \"max\": 5.0,\n        \"num_unique_values\": 9,\n        \"samples\": [\n          1.5,\n          4.5,\n          2.5\n        ],\n        \"semantic_type\": \"\",\n        \"description\": \"\"\n      }\n    },\n    {\n      \"column\": \"Vendas\",\n      \"properties\": {\n        \"dtype\": \"number\",\n        \"std\": 71,\n        \"min\": 120,\n        \"max\": 328,\n        \"num_unique_values\": 9,\n        \"samples\": [\n          302,\n          146,\n          250\n        ],\n        \"semantic_type\": \"\",\n        \"description\": \"\"\n      }\n    },\n    {\n      \"column\": \"Lucro R$\",\n      \"properties\": {\n        \"dtype\": \"number\",\n        \"std\": 123.19293810929261,\n        \"min\": 128.0,\n        \"max\": 493.0,\n        \"num_unique_values\": 9,\n        \"samples\": [\n          253.0,\n          457.0,\n          425.0\n        ],\n        \"semantic_type\": \"\",\n        \"description\": \"\"\n      }\n    }\n  ]\n}"
            }
          },
          "metadata": {},
          "execution_count": 11
        }
      ]
    },
    {
      "cell_type": "markdown",
      "source": [
        "![image.png](data:image/png;base64,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)"
      ],
      "metadata": {
        "id": "dw4WvM2oDMca"
      }
    },
    {
      "cell_type": "code",
      "source": [
        "n=int(input(\"Digite a quantidade de números inteiros: \"))\n",
        "contador=0\n",
        "while contador<n:\n",
        "  divisores=\"\"\n",
        "  contagem=0\n",
        "  divisor=1\n",
        "  contador+=1\n",
        "  num=int(input(f\"\\nDigite o {contador}º número que você quer verificar: \"))\n",
        "  while divisor<=num:\n",
        "    if num%divisor==0:\n",
        "      contagem+=1\n",
        "      if divisores==\"\":\n",
        "        divisores=str(divisor)\n",
        "      else:\n",
        "        divisores+= \", \" + str(divisor)\n",
        "      divisor+=1\n",
        "    else:\n",
        "      divisor+=1\n",
        "  print(f\"\\nNúmero lido = {num}\")\n",
        "  print(f\"Divisores = {divisores}\")\n",
        "  print(f\"Quantidade de divisores= {contagem}\\n\")\n",
        "print(\"\\nFIM DO PROGRAMA\")\n",
        "\n"
      ],
      "metadata": {
        "id": "T-7sfKPKN6YK",
        "colab": {
          "base_uri": "https://localhost:8080/"
        },
        "outputId": "3ebc1510-4216-4e61-f3a4-ea13619c8185"
      },
      "execution_count": null,
      "outputs": [
        {
          "output_type": "stream",
          "name": "stdout",
          "text": [
            "Digite a quantidade de números inteiros: 5\n",
            "\n",
            "Digite o 1º número que você quer verificar: 3225\n",
            "\n",
            "Número lido = 3225\n",
            "Divisores = 1, 3, 5, 15, 25, 43, 75, 129, 215, 645, 1075, 3225\n",
            "Quantidade de divisores= 12\n",
            "\n",
            "\n",
            "Digite o 2º número que você quer verificar: 1458\n",
            "\n",
            "Número lido = 1458\n",
            "Divisores = 1, 2, 3, 6, 9, 18, 27, 54, 81, 162, 243, 486, 729, 1458\n",
            "Quantidade de divisores= 14\n",
            "\n",
            "\n",
            "Digite o 3º número que você quer verificar: 9874\n",
            "\n",
            "Número lido = 9874\n",
            "Divisores = 1, 2, 4937, 9874\n",
            "Quantidade de divisores= 4\n",
            "\n",
            "\n",
            "Digite o 4º número que você quer verificar: 221548\n",
            "\n",
            "Número lido = 221548\n",
            "Divisores = 1, 2, 4, 97, 194, 388, 571, 1142, 2284, 55387, 110774, 221548\n",
            "Quantidade de divisores= 12\n",
            "\n",
            "\n",
            "Digite o 5º número que você quer verificar: 321548\n",
            "\n",
            "Número lido = 321548\n",
            "Divisores = 1, 2, 4, 80387, 160774, 321548\n",
            "Quantidade de divisores= 6\n",
            "\n",
            "\n",
            "FIM DO PROGRAMA\n"
          ]
        }
      ]
    },
    {
      "cell_type": "markdown",
      "source": [
        "**20. Uma máquina de biscoito está com problemas. Quando ligada, após 1 hora ela quebra\n",
        "1 biscoito, na segunda hora ela quebra 3 biscoitos, na hora seguinte ela quebra 3\n",
        "vezes a quantidade de biscoitos quebrados na hora anterior, e assim por diante. Faça\n",
        "um algoritmo que calcule quantos biscoitos são quebrados no final de cada dia (a\n",
        "máquina opera 16 horas por dia).**"
      ],
      "metadata": {
        "id": "S_RaP4IyIuI_"
      }
    },
    {
      "cell_type": "code",
      "source": [
        "hora=0\n",
        "biscoito=1\n",
        "while hora<16:\n",
        "  hora+=1\n",
        "  biscoito*=3\n",
        "print(f\"No final do dia a máquina terá quebrado {biscoito} biscoitos\")"
      ],
      "metadata": {
        "id": "DqEI-F7oNINW",
        "outputId": "87912a89-6fd6-4e8f-dfd9-e873132c0b4d",
        "colab": {
          "base_uri": "https://localhost:8080/"
        }
      },
      "execution_count": null,
      "outputs": [
        {
          "output_type": "stream",
          "name": "stdout",
          "text": [
            "No final do dia a máquina terá quebrado 43046721 biscoitos\n"
          ]
        }
      ]
    },
    {
      "cell_type": "markdown",
      "source": [
        "**21. Uma turma tem 50 alunos. Faça um algoritmo que:\n",
        "• leia para cada aluno o seu nome e idade;\n",
        "• escreva os nomes dos alunos que tem 18 anos;\n",
        "• escreva a quantidade de alunos que tem idade acima de 20 anos.**"
      ],
      "metadata": {
        "id": "nJ1Mf_GMKKDw"
      }
    },
    {
      "cell_type": "code",
      "source": [
        "sala=10\n",
        "contador=0\n",
        "idade18=\"\"\n",
        "quantidade=0\n",
        "j=0\n",
        "while contador<sala:\n",
        "  contador+=1\n",
        "  nome=str(input(f\"\\nDigite o nome do {contador}º aluno: \"))\n",
        "  idade=int(input(f\"Digite a idade do {contador}º aluno: \"))\n",
        "  if idade==18:\n",
        "    j=+1\n",
        "    if idade18==\"\":\n",
        "      idade18=nome\n",
        "    else:\n",
        "      idade18+=\", \" + nome\n",
        "  elif idade>20:\n",
        "    quantidade+=1\n",
        "if j==0:\n",
        "  print(\"\\nNão tem ninguém com 18 anos \\n\")\n",
        "else:\n",
        "  print(f\"\\nOs nomes dos alunos com 18 anos são: {idade18}\\n \")\n",
        "if quantidade==0:\n",
        "  print(\"Não tem ninguém maior que 20 anos\")\n",
        "else:\n",
        "  print(f\"A quantidade de alunos com mais de 20 anos é {quantidade}\")\n"
      ],
      "metadata": {
        "id": "ywYUQHnzJaQF",
        "outputId": "c52ae931-da11-48ac-f7f9-a9a46a43dcb7",
        "colab": {
          "base_uri": "https://localhost:8080/"
        }
      },
      "execution_count": null,
      "outputs": [
        {
          "output_type": "stream",
          "name": "stdout",
          "text": [
            "\n",
            "Digite o nome do 1º aluno: Henrique\n",
            "Digite a idade do 1º aluno: 18\n",
            "\n",
            "Digite o nome do 2º aluno: Jorge\n",
            "Digite a idade do 2º aluno: 21\n",
            "\n",
            "Digite o nome do 3º aluno: Paulo\n",
            "Digite a idade do 3º aluno: 25\n",
            "\n",
            "Digite o nome do 4º aluno: Luis\n",
            "Digite a idade do 4º aluno: 18\n",
            "\n",
            "Digite o nome do 5º aluno: Tomas\n",
            "Digite a idade do 5º aluno: 18\n",
            "\n",
            "Digite o nome do 6º aluno: Arthur\n",
            "Digite a idade do 6º aluno: 52\n",
            "\n",
            "Digite o nome do 7º aluno: Jorge Silva\n",
            "Digite a idade do 7º aluno: 18\n",
            "\n",
            "Digite o nome do 8º aluno: Mateus\n",
            "Digite a idade do 8º aluno: 42\n",
            "\n",
            "Digite o nome do 9º aluno: Gabriel\n",
            "Digite a idade do 9º aluno: 27\n",
            "\n",
            "Digite o nome do 10º aluno: Samsung\n",
            "Digite a idade do 10º aluno: 18\n",
            "\n",
            "Os nomes dos alunos com 18 anos são: Henrique, Luis, Tomas, Jorge Silva, Samsung\n",
            " \n",
            "A quantidade de alunos com mais de 20 anos é 5\n"
          ]
        }
      ]
    },
    {
      "cell_type": "markdown",
      "source": [
        "**22. Faça um algoritmo que:\n",
        "• leia, para n pessoas, a altura e o sexo (sexo = 'M' ou sexo = 'm' para masculino e\n",
        "sexo = 'F' ou sexo = 'f' para feminino);\n",
        "• escreva a média da altura das mulheres;\n",
        "• escreva a média da altura da turma.**"
      ],
      "metadata": {
        "id": "n69lAq95NBKc"
      }
    },
    {
      "cell_type": "code",
      "source": [
        "n=int(input(\"Digite a quantidade de alunos na sala: \"))\n",
        "mulheres=0\n",
        "mulheres1=0\n",
        "homens=0\n",
        "total=0\n",
        "contador=0\n",
        "while contador<n:\n",
        "  contador+=1\n",
        "  opcao=str.upper(input(f\"\\nDigite se a {contador}º pessoa é do sexo Masculino (M) ou Feminino (F)\"))\n",
        "  if opcao==\"F\":\n",
        "    mulher=float(input(f\"Digite a altura da {contador}º mulher: \"))\n",
        "    mulheres+=mulher\n",
        "    mulheres1+=1\n",
        "  elif opcao==\"M\":\n",
        "    homem=float(input(f\"Digite a altura do {contador}º homem: \"))\n",
        "    homens+=homem\n",
        "total=homens+mulheres\n",
        "mediaf=mulheres/mulheres1\n",
        "media=total/n\n",
        "print(f\"\\n12-------------------------\\nA média de altura das mulheres é {mediaf: .1f}\\n\")\n",
        "print(f\"A média de altura da sala é {media: .1f}\")\n"
      ],
      "metadata": {
        "id": "zyCskPpgLhVh",
        "outputId": "c6998399-e2af-49e8-cbc0-78e1b7130b04",
        "colab": {
          "base_uri": "https://localhost:8080/"
        }
      },
      "execution_count": null,
      "outputs": [
        {
          "output_type": "stream",
          "name": "stdout",
          "text": [
            "Digite a quantidade de alunos na sala: 10\n",
            "\n",
            "Digite se a 1º pessoa é do sexo Masculino (M) ou Feminino (F)m\n",
            "Digite a altura do 1º homem: 190\n",
            "\n",
            "Digite se a 2º pessoa é do sexo Masculino (M) ou Feminino (F)f\n",
            "\n",
            "Digite a altura da 2º mulher: 154\n",
            "\n",
            "Digite se a 3º pessoa é do sexo Masculino (M) ou Feminino (F)f\n",
            "\n",
            "Digite a altura da 3º mulher: 170\n",
            "\n",
            "Digite se a 4º pessoa é do sexo Masculino (M) ou Feminino (F)m\n",
            "Digite a altura do 4º homem: 173\n",
            "\n",
            "Digite se a 5º pessoa é do sexo Masculino (M) ou Feminino (F)m\n",
            "Digite a altura do 5º homem: 190\n",
            "\n",
            "Digite se a 6º pessoa é do sexo Masculino (M) ou Feminino (F)f\n",
            "\n",
            "Digite a altura da 6º mulher: 157\n",
            "\n",
            "Digite se a 7º pessoa é do sexo Masculino (M) ou Feminino (F)m\n",
            "Digite a altura do 7º homem: 180\n",
            "\n",
            "Digite se a 8º pessoa é do sexo Masculino (M) ou Feminino (F)f\n",
            "\n",
            "Digite a altura da 8º mulher: 167\n",
            "\n",
            "Digite se a 9º pessoa é do sexo Masculino (M) ou Feminino (F)f\n",
            "\n",
            "Digite a altura da 9º mulher: 145\n",
            "\n",
            "Digite se a 10º pessoa é do sexo Masculino (M) ou Feminino (F)m\n",
            "Digite a altura do 10º homem: 159\n",
            "\n",
            "-------------------------\n",
            "A média de altura das mulheres é  158.6\n",
            "\n",
            "A média de altura da sala é  168.5\n"
          ]
        }
      ]
    },
    {
      "cell_type": "markdown",
      "source": [
        "**23. Uma loja de departamentos oferece para seus clientes um determinado desconto de\n",
        "acordo com o valor da compra efetuada. O desconto é de 20% caso o valor da compra\n",
        "seja maior que R$ 500,00 e de 15% caso seja menor ou igual. Faça um algoritmo que\n",
        "leia, para cada cliente, nome, endereço e valor da compra e escreva o total a pagar.\n",
        "Um nome de cliente igual a ULTIMO indica o fim da entrada de dados.**"
      ],
      "metadata": {
        "id": "gxKSM2lUFbAr"
      }
    },
    {
      "cell_type": "code",
      "source": [
        "while True:\n",
        "  nome=str.upper(input('Digite o nome do cliente (\"ULTIMO\" sai): '))\n",
        "  if nome=='ULTIMO':\n",
        "    break\n",
        "  else:\n",
        "    endereco=input(\"Digite o endereço do cliente:  \")\n",
        "    valor=float(input(\"Digite o valor da compra: \"))\n",
        "    if valor>500:\n",
        "      desconto=valor*20/100\n",
        "      desconto=valor-desconto\n",
        "    elif valor<=500:\n",
        "      desconto=valor*15/100\n",
        "      desconto=valor-desconto\n",
        "    else:\n",
        "      print(\"\\nValor inválido\\n\")\n",
        "    print(f\"\\nTotal a pagar: R${desconto: .2f}\\n\")\n"
      ],
      "metadata": {
        "id": "6qmw9Kj0PY3e",
        "colab": {
          "base_uri": "https://localhost:8080/"
        },
        "outputId": "ed483680-536c-4614-ce38-6ab0ac46a756"
      },
      "execution_count": 3,
      "outputs": [
        {
          "name": "stdout",
          "output_type": "stream",
          "text": [
            "Digite o nome do cliente (\"ULTIMO\" sai): henrique\n",
            "Digite o endereço do cliente:  barra do sul\n",
            "Digite o valor da compra: 100\n",
            "Total a pagar: R$ 85.00\n",
            "Digite o nome do cliente (\"ULTIMO\" sai): ultimo\n"
          ]
        }
      ]
    },
    {
      "cell_type": "markdown",
      "source": [
        "**24. Faça um algoritmo que leia valores, sendo que cada valor representa a idade de uma\n",
        "pessoa. Calcule e escreva a idade média do grupo de pessoas. Só devem ser\n",
        "computados no cálculo valores maiores do que zero. O algoritmo deve apresentar ao\n",
        "usuário a seguinte mensagem:\n",
        "deseja digitar mais um valor: s (SIM) / n (NAO)?,\n",
        "antes de prosseguir com a entrada de dados.**"
      ],
      "metadata": {
        "id": "ZPpGL17nHGZ1"
      }
    },
    {
      "cell_type": "code",
      "source": [
        "n=0\n",
        "total=0\n",
        "while True:\n",
        "  n+=1\n",
        "  idade=int(input(f\"Digite a idade da {n}º pessoa: \"))\n",
        "  total+=idade\n",
        "  print(f\"\\nA idade média do grupo é {total/n} anos\\n\")\n",
        "  while True:\n",
        "    opcao=str.upper(input(\"\\nDeseja digitar mais um valor? Digite S para (SIM) ou N para (NÃO)\\n\"))\n",
        "    if opcao=='N':\n",
        "      break\n",
        "    elif opcao=='S':\n",
        "      break\n",
        "    else:\n",
        "      print(\"Opção Inválida\")\n",
        "      continue\n",
        "  if opcao=='N':\n",
        "    break"
      ],
      "metadata": {
        "id": "EUpnxX9iGsfc",
        "outputId": "dbca58c8-5bdc-4f4d-f321-8a6ec59f4095",
        "colab": {
          "base_uri": "https://localhost:8080/"
        }
      },
      "execution_count": 14,
      "outputs": [
        {
          "name": "stdout",
          "output_type": "stream",
          "text": [
            "Digite a idade da 1º pessoa: 4\n",
            "\n",
            "A idade média do grupo é 4.0 anos\n",
            "\n",
            "\n",
            "Deseja digitar mais um valor? Digite S para (SIM) ou N para (NÃO)\n",
            "s\n",
            "Digite a idade da 2º pessoa: 45\n",
            "\n",
            "A idade média do grupo é 24.5 anos\n",
            "\n",
            "\n",
            "Deseja digitar mais um valor? Digite S para (SIM) ou N para (NÃO)\n",
            "n\n"
          ]
        }
      ]
    },
    {
      "cell_type": "markdown",
      "source": [
        "![image.png](data:image/png;base64,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)\n",
        "![image.png](data:image/png;base64,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)"
      ],
      "metadata": {
        "id": "19IUPw7kK4gg"
      }
    },
    {
      "cell_type": "code",
      "source": [
        "n=0\n",
        "while True:\n",
        "  opcao=int(input(\"\\n1- Encerrar conta de um hóspede\\n2- Verificar o número de contas encerradas\\n3- Finalizar a execução\\n\"))\n",
        "  if opcao==1:\n",
        "    n+=1\n",
        "    nome=input(\"\\nDigite o nome do hóspede: \")\n",
        "    diarias=int(input(\"Digite o número de diárias do hóspede: \"))\n",
        "    if diarias<15:\n",
        "      total=diarias*7.5\n",
        "    elif diarias==15:\n",
        "      total=diarias*6.5\n",
        "    else:\n",
        "      total=diarias*5\n",
        "    print(f\"\\nCliente {nome}\\nTotal a ser pago R${total: .2f}\")\n",
        "  elif opcao==2:\n",
        "    print(f\"\\nNúmero de contas encerradas: {n}\")\n",
        "  elif opcao==3:\n",
        "    print(\"\\nFIM\")\n",
        "    break\n",
        "  else:\n",
        "    print(\"Opção inválida\")\n",
        ""
      ],
      "metadata": {
        "collapsed": true,
        "id": "f4wORu2JIsPE",
        "outputId": "81192fd6-c7fe-426a-b13c-18813367cf64",
        "colab": {
          "base_uri": "https://localhost:8080/"
        }
      },
      "execution_count": 19,
      "outputs": [
        {
          "output_type": "stream",
          "name": "stdout",
          "text": [
            "\n",
            "1- Encerrar conta de um hóspede\n",
            "2- Verificar o número de contas encerradas\n",
            "3- Finalizar a execução\n",
            "5\n",
            "Opção inválida\n",
            "\n",
            "1- Encerrar conta de um hóspede\n",
            "2- Verificar o número de contas encerradas\n",
            "3- Finalizar a execução\n",
            "1\n",
            "\n",
            "Digite o nome do hóspede: Henrique\n",
            "Digite o número de diárias do hóspede: 4\n",
            "\n",
            "Cliente Henrique\n",
            "Total a ser pago R$ 30.00\n",
            "\n",
            "1- Encerrar conta de um hóspede\n",
            "2- Verificar o número de contas encerradas\n",
            "3- Finalizar a execução\n",
            "2\n",
            "\n",
            "Número de contas encerradas: 1\n",
            "\n",
            "1- Encerrar conta de um hóspede\n",
            "2- Verificar o número de contas encerradas\n",
            "3- Finalizar a execução\n",
            "1\n",
            "\n",
            "Digite o nome do hóspede: Jorge\n",
            "Digite o número de diárias do hóspede: 9\n",
            "\n",
            "Cliente Jorge\n",
            "Total a ser pago R$ 67.50\n",
            "\n",
            "1- Encerrar conta de um hóspede\n",
            "2- Verificar o número de contas encerradas\n",
            "3- Finalizar a execução\n",
            "2\n",
            "\n",
            "Número de contas encerradas: 2\n",
            "\n",
            "1- Encerrar conta de um hóspede\n",
            "2- Verificar o número de contas encerradas\n",
            "3- Finalizar a execução\n",
            "3\n",
            "\n",
            "FIM\n"
          ]
        }
      ]
    },
    {
      "cell_type": "markdown",
      "source": [
        "**26. Um determinado material radioativo perde metade de sua massa a cada 50 segundos.\n",
        "Dada a sua massa inicial em Kg, faça um algoritmo que determine o tempo necessário\n",
        "para que essa massa se torne menor que 0,5 gramas. Escreva a massa inicial, a massa\n",
        "final e o tempo.**"
      ],
      "metadata": {
        "id": "oR9CjCTKNWwA"
      }
    },
    {
      "cell_type": "code",
      "source": [
        "kg=float(input(\"Digite a massa inicial em kg: \"))\n",
        "kg1=kg\n",
        "tempo=0\n",
        "while kg>0.5:\n",
        "  tempo+=50\n",
        "  kg/=2\n",
        "minutos=tempo//60\n",
        "segundos=tempo%60\n",
        "print(f\"\\nMassa Inicial: {kg1}kg\\nMassa Final: {kg}kg\\nTempo: {minutos} minutos e {segundos} segundos\")"
      ],
      "metadata": {
        "id": "06GrKvuLLUWE",
        "outputId": "69048935-9fbf-4af3-843a-b7e27bc0d5d5",
        "colab": {
          "base_uri": "https://localhost:8080/"
        }
      },
      "execution_count": 24,
      "outputs": [
        {
          "output_type": "stream",
          "name": "stdout",
          "text": [
            "Digite a massa inicial em kg: 70\n",
            "\n",
            "Massa Inicial: 70.0kg\n",
            "Massa Final: 0.2734375kg\n",
            "Tempo: 6 minutos e 40 segundos\n"
          ]
        }
      ]
    }
  ]
}