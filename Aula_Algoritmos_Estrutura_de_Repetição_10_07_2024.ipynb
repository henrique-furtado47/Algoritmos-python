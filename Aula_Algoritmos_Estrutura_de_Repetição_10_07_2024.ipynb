{
  "nbformat": 4,
  "nbformat_minor": 0,
  "metadata": {
    "colab": {
      "provenance": [],
      "authorship_tag": "ABX9TyNdcb/bubYF9y1rrWn+XwDR",
      "include_colab_link": true
    },
    "kernelspec": {
      "name": "python3",
      "display_name": "Python 3"
    },
    "language_info": {
      "name": "python"
    }
  },
  "cells": [
    {
      "cell_type": "markdown",
      "metadata": {
        "id": "view-in-github",
        "colab_type": "text"
      },
      "source": [
        "<a href=\"https://colab.research.google.com/github/henrique-furtado47/Algoritmos-python/blob/main/Aula_Algoritmos_Estrutura_de_Repeti%C3%A7%C3%A3o_10_07_2024.ipynb\" target=\"_parent\"><img src=\"https://colab.research.google.com/assets/colab-badge.svg\" alt=\"Open In Colab\"/></a>"
      ]
    },
    {
      "cell_type": "markdown",
      "source": [
        "**:1 - Faça um algoritmo que:\n",
        "• leia 20 números inteiros;\n",
        "• escreva os números que são negativos;\n",
        "• escreva a média dos números positivos.**"
      ],
      "metadata": {
        "id": "7fiXutQsjEIy"
      }
    },
    {
      "cell_type": "code",
      "source": [
        "somapos= 0\n",
        "contador = 0\n",
        "contapos = 0\n",
        "numero=0\n",
        "while contador < 20:\n",
        "  numero=int(input(\"Digite um número : \"))\n",
        "  if numero < 0 :\n",
        "    print(f\"O numero {numero} é negativo \\n \")\n",
        "  else:\n",
        "    somapos= somapos+numero\n",
        "    contapos+=1\n",
        "  contador +=1\n",
        "mediapos= somapos/contapos\n",
        "print(f\"A média dos números positivos é {mediapos}\")"
      ],
      "metadata": {
        "colab": {
          "base_uri": "https://localhost:8080/"
        },
        "id": "9r5PpGPbgDjB",
        "outputId": "1978a853-f1f3-4954-fb7f-4ed1671943a1"
      },
      "execution_count": null,
      "outputs": [
        {
          "output_type": "stream",
          "name": "stdout",
          "text": [
            "Digite um número : 2\n",
            "Digite um número : 1\n",
            "Digite um número : 0\n",
            "Digite um número : -2\n",
            "O numero -2 é negativo \n",
            " \n",
            "Digite um número : 1\n",
            "A média dos números positivos é 1.0\n"
          ]
        }
      ]
    },
    {
      "cell_type": "markdown",
      "source": [
        "**2 - Faça um algoritmo que leia 15 números inteiros e escreva, para cada número lido, se é\n",
        "par ou ímpar.**"
      ],
      "metadata": {
        "id": "nrIwOHrGjWHJ"
      }
    },
    {
      "cell_type": "code",
      "source": [
        "contador = 0\n",
        "while contador < 15:\n",
        "  num=int(input(\"Digite o número: \"))\n",
        "  if num % 2 == 0:\n",
        "    print(f\"O número {num} é par\")\n",
        "  else:\n",
        "    print(f\"O número {num} é impar\")\n",
        "  contador +=1"
      ],
      "metadata": {
        "colab": {
          "base_uri": "https://localhost:8080/"
        },
        "collapsed": true,
        "id": "JDDbUM_OirCL",
        "outputId": "181002ea-3ca1-43ed-ae8b-d3b9b5e20f84"
      },
      "execution_count": null,
      "outputs": [
        {
          "output_type": "stream",
          "name": "stdout",
          "text": [
            "Digite o número: 2\n",
            "O número 2 é par\n",
            "Digite o número: 1\n",
            "O número 1 é impar\n",
            "Digite o número: 3\n",
            "O número 3 é impar\n",
            "Digite o número: 4\n",
            "O número 4 é par\n",
            "Digite o número: 5\n",
            "O número 5 é impar\n",
            "Digite o número: 6\n",
            "O número 6 é par\n",
            "Digite o número: 7\n",
            "O número 7 é impar\n",
            "Digite o número: 8\n",
            "O número 8 é par\n",
            "Digite o número: 9\n",
            "O número 9 é impar\n",
            "Digite o número: 10\n",
            "O número 10 é par\n",
            "Digite o número: 11\n",
            "O número 11 é impar\n",
            "Digite o número: 12\n",
            "O número 12 é par\n",
            "Digite o número: 13\n",
            "O número 13 é impar\n",
            "Digite o número: 14\n",
            "O número 14 é par\n",
            "Digite o número: 15\n",
            "O número 15 é impar\n"
          ]
        }
      ]
    },
    {
      "cell_type": "markdown",
      "source": [
        "**3. Dado um conjunto de valores inteiros positivos, determinar qual o menor e qual o\n",
        "maior valor do conjunto. Um número com valor “0” (zero) indica o fim dos dados e\n",
        "não deve ser considerado.**"
      ],
      "metadata": {
        "id": "ki57yxEumt7z"
      }
    },
    {
      "cell_type": "code",
      "source": [
        "lista = []\n",
        "x=1\n",
        "while x!=0:\n",
        "  x= int(input(\"Digite um número: \"))\n",
        "  lista.append(x)\n",
        "  print(f\"\\nConjunto de número: {lista}\")\n",
        "  print(f\"O maior número é {max(lista)}\")\n",
        "  print(f\"O menor número é {min(lista)}\")\n",
        "print(\"Fim do programa\")"
      ],
      "metadata": {
        "colab": {
          "base_uri": "https://localhost:8080/"
        },
        "id": "TaORdVCbm1R9",
        "outputId": "7b354bd2-43fb-47ea-d5ef-2e80e091f4a2"
      },
      "execution_count": null,
      "outputs": [
        {
          "output_type": "stream",
          "name": "stdout",
          "text": [
            "Digite um número: 0\n",
            "\n",
            "Conjunto de número: [0]\n",
            "O maior número é 0\n",
            "O menor número é 0\n",
            "Fim do programa\n"
          ]
        }
      ]
    },
    {
      "cell_type": "markdown",
      "source": [
        "**4 -Faça um algoritmo que calcule e escreva a soma dos números pares e a soma dos\n",
        "números ímpares entre 1 e 100.**"
      ],
      "metadata": {
        "id": "J9ScLX9Vn8Uo"
      }
    },
    {
      "cell_type": "code",
      "source": [
        "contador = 0\n",
        "somapar = 0\n",
        "somaimpar = 0\n",
        "while contador < 100:\n",
        "  contador+=1\n",
        "  if contador %2 == 0:\n",
        "    somapar+=contador\n",
        "  else:\n",
        "    somaimpar+=contador\n",
        "print(f\"A soma dos números impares foi {somaimpar} e a soma dos números pares foi {somapar}\")"
      ],
      "metadata": {
        "colab": {
          "base_uri": "https://localhost:8080/"
        },
        "id": "1CeFUZF9oDbI",
        "outputId": "8cfe9ff2-e208-40fd-8ef6-9e8ea6d88da5"
      },
      "execution_count": null,
      "outputs": [
        {
          "output_type": "stream",
          "name": "stdout",
          "text": [
            "A soma dos números impares foi 2500 e a soma dos números pares foi 2550\n"
          ]
        }
      ]
    },
    {
      "cell_type": "markdown",
      "source": [
        "**5 - Faça um algoritmo que leia a altura de 20 pessoas e calcule a média aritmética das\n",
        "alturas.**"
      ],
      "metadata": {
        "id": "_tyEJjjbpLjK"
      }
    },
    {
      "cell_type": "code",
      "source": [
        "contador = 0\n",
        "soma_altura = 0\n",
        "while contador < 20:\n",
        "  altura=float(input(f\"Digite a altura da {contador+1}º pessoa: \"))\n",
        "  soma_altura+=altura\n",
        "  contador+=1\n",
        "media=soma_altura/contador\n",
        "print(f\"A média das altura é igual a {media: .2f}\")"
      ],
      "metadata": {
        "colab": {
          "base_uri": "https://localhost:8080/"
        },
        "id": "oNimUiJPpPTv",
        "outputId": "aa130a88-8c5a-45e8-a29b-57cf0768a3c4"
      },
      "execution_count": null,
      "outputs": [
        {
          "output_type": "stream",
          "name": "stdout",
          "text": [
            "Digite a altura da 1º pessoa: 1\n",
            "Digite a altura da 2º pessoa: 1\n",
            "Digite a altura da 3º pessoa: 1\n",
            "Digite a altura da 4º pessoa: 1\n",
            "Digite a altura da 5º pessoa: 1\n",
            "A média das altura é igual a  1.00\n"
          ]
        }
      ]
    },
    {
      "cell_type": "markdown",
      "source": [
        "**6 - Faça um algoritmo que leia n valores inteiros e escreva quantos desses valores são\n",
        "negativos.**"
      ],
      "metadata": {
        "id": "shT2qfxqqP8Z"
      }
    },
    {
      "cell_type": "code",
      "source": [
        "n=int(input(\"Digite a quantidade de números que você quer verificar: \"))\n",
        "contador=0\n",
        "somaneg=0\n",
        "while contador < n:\n",
        "  num=int(input(\"\\n Digite um número: \"))\n",
        "  if num<0:\n",
        "    somaneg+=1\n",
        "  contador+=1\n",
        "print(f\"\\nVocê digitou {somaneg} números negativos\")"
      ],
      "metadata": {
        "colab": {
          "base_uri": "https://localhost:8080/"
        },
        "id": "HBdEjlVTqWki",
        "outputId": "1151f04c-af50-4dd7-a9f8-3a64d9ead521"
      },
      "execution_count": null,
      "outputs": [
        {
          "output_type": "stream",
          "name": "stdout",
          "text": [
            "Digite a quantidade de números que você quer verificar: 3\n",
            "\n",
            " Digite um número: 1\n",
            "\n",
            " Digite um número: -2\n",
            "\n",
            " Digite um número: -3\n",
            "\n",
            "Você digitou 2 números negativos\n"
          ]
        }
      ]
    },
    {
      "cell_type": "markdown",
      "source": [
        "**7 - Faça um algoritmo que leia a quantidade de tinta que uma caneta, e enquanto a\n",
        "caneta tiver tinta para escrever, escreva “Enquanto tem tinta a caneta escreve...”.\n",
        "Considere que a cada comando de escrita a caneta gasta 2% da tinta que possui.**"
      ],
      "metadata": {
        "id": "-yEqd6ruroXC"
      }
    },
    {
      "cell_type": "code",
      "source": [
        "tinta=float(input(\"Digite quantos % de tinta a caneta tem: \"))\n",
        "contador=0\n",
        "while tinta > 0:\n",
        "  print(\"Enquanto tem tinta a caneta escreve...\")\n",
        "  tinta-=2\n",
        "  contador+=1\n",
        "print(f\"Acabou a tinta :(, mas ela escreveu {contador} vezes antes de acabar\")"
      ],
      "metadata": {
        "colab": {
          "base_uri": "https://localhost:8080/"
        },
        "id": "JQd8NBVlrqE_",
        "outputId": "59ba3c2c-96f0-499a-cff0-ee9e0f257b40"
      },
      "execution_count": null,
      "outputs": [
        {
          "output_type": "stream",
          "name": "stdout",
          "text": [
            "Digite quantos % de tinta a caneta tem: 50\n",
            "Enquanto tem tinta a caneta escreve...\n",
            "Enquanto tem tinta a caneta escreve...\n",
            "Enquanto tem tinta a caneta escreve...\n",
            "Enquanto tem tinta a caneta escreve...\n",
            "Enquanto tem tinta a caneta escreve...\n",
            "Enquanto tem tinta a caneta escreve...\n",
            "Enquanto tem tinta a caneta escreve...\n",
            "Enquanto tem tinta a caneta escreve...\n",
            "Enquanto tem tinta a caneta escreve...\n",
            "Enquanto tem tinta a caneta escreve...\n",
            "Enquanto tem tinta a caneta escreve...\n",
            "Enquanto tem tinta a caneta escreve...\n",
            "Enquanto tem tinta a caneta escreve...\n",
            "Enquanto tem tinta a caneta escreve...\n",
            "Enquanto tem tinta a caneta escreve...\n",
            "Enquanto tem tinta a caneta escreve...\n",
            "Enquanto tem tinta a caneta escreve...\n",
            "Enquanto tem tinta a caneta escreve...\n",
            "Enquanto tem tinta a caneta escreve...\n",
            "Enquanto tem tinta a caneta escreve...\n",
            "Enquanto tem tinta a caneta escreve...\n",
            "Enquanto tem tinta a caneta escreve...\n",
            "Enquanto tem tinta a caneta escreve...\n",
            "Enquanto tem tinta a caneta escreve...\n",
            "Enquanto tem tinta a caneta escreve...\n",
            "Acabou a tinta :(, mas ela escreveu 25 vezes antes de acabar\n"
          ]
        }
      ]
    },
    {
      "cell_type": "markdown",
      "source": [
        "**8 - Faça um algoritmo que leia n pares de valores, sendo o primeiro valor o número de\n",
        "inscrição do atleta e o segundo a altura (em cm) do atleta. Escreva:\n",
        "• o número de inscrição e a altura do atleta mais alto;\n",
        "• o número de inscrição e a altura do atleta mais baixo;\n",
        "• a altura média do grupo de atletas.**"
      ],
      "metadata": {
        "id": "rpWhUckvs2o9"
      }
    },
    {
      "cell_type": "code",
      "source": [
        "n=int(input(\"Digite a quantidade de atletas: \"))\n",
        "maior=-1000000\n",
        "menor=10000000\n",
        "contador=0\n",
        "somalt=0\n",
        "while contador<n:\n",
        "  inscricao=int(input(f\"\\nDigite o número de inscrição do {contador+1}º atleta: \"))\n",
        "  altura=float(input(f\"Digite a altura do {contador+1}º atleta: \"))\n",
        "  contador+=1\n",
        "  if altura>maior:\n",
        "    maior=altura\n",
        "    inscricao_alto=inscricao\n",
        "  if altura<menor:\n",
        "    menor=altura\n",
        "    inscricao_baixo=inscricao\n",
        "  somalt+=altura\n",
        "print(f\"\\nO número de inscrição do atleta mais alto é {inscricao_alto} e ele tem {maior}cm de altura\")\n",
        "print(f\"O número de inscrição do atleta mais baixo é {inscricao_baixo} e ele tem {menor}cm de altura\")\n",
        "print(f\"A média de todas as alturas é {somalt/n: .1f}cm\")\n"
      ],
      "metadata": {
        "colab": {
          "base_uri": "https://localhost:8080/"
        },
        "id": "0ugNmI3HtOK6",
        "outputId": "04f8c3bb-e628-4ca1-ad9c-a4d44cd8116b"
      },
      "execution_count": null,
      "outputs": [
        {
          "output_type": "stream",
          "name": "stdout",
          "text": [
            "Digite a quantidade de atletas: 2\n",
            "\n",
            "Digite o número de inscrição do 1º atleta: 1\n",
            "Digite a altura do 1º atleta: 3\n",
            "\n",
            "Digite o número de inscrição do 2º atleta: 2\n",
            "Digite a altura do 2º atleta: 4\n",
            "\n",
            "O número de inscrição do atleta mais alto é 2 e ele tem 4.0cm de altura\n",
            "O número de inscrição do atleta mais baixo é 1 e ele tem 3.0cm de altura\n",
            "A média de todas as alturas é  3.5cm\n"
          ]
        }
      ]
    },
    {
      "cell_type": "markdown",
      "source": [
        "![image.png](data:image/png;base64,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)"
      ],
      "metadata": {
        "id": "BCOzZkOv4afu"
      }
    },
    {
      "cell_type": "code",
      "source": [
        "x=1.0\n",
        "while x<=5:\n",
        "  y=(3+(2*x)+(6*(x**2)))/(1+(9*x)+(16*(x**2)))\n",
        "  print(f\"{y:.3f}\")\n",
        "  x+=0.1"
      ],
      "metadata": {
        "colab": {
          "base_uri": "https://localhost:8080/"
        },
        "id": "U155MFi44f_m",
        "outputId": "114c95c5-90fa-475a-861d-e3d2c58bfd99"
      },
      "execution_count": null,
      "outputs": [
        {
          "output_type": "stream",
          "name": "stdout",
          "text": [
            "0.423\n",
            "0.412\n",
            "0.403\n",
            "0.396\n",
            "0.391\n",
            "0.386\n",
            "0.383\n",
            "0.380\n",
            "0.377\n",
            "0.375\n",
            "0.373\n",
            "0.372\n",
            "0.371\n",
            "0.370\n",
            "0.369\n",
            "0.368\n",
            "0.368\n",
            "0.367\n",
            "0.367\n",
            "0.367\n",
            "0.366\n",
            "0.366\n",
            "0.366\n",
            "0.366\n",
            "0.366\n",
            "0.365\n",
            "0.365\n",
            "0.365\n",
            "0.365\n",
            "0.365\n",
            "0.365\n",
            "0.365\n",
            "0.365\n",
            "0.365\n",
            "0.365\n",
            "0.365\n",
            "0.365\n",
            "0.365\n",
            "0.365\n",
            "0.365\n",
            "0.365\n"
          ]
        }
      ]
    },
    {
      "cell_type": "markdown",
      "source": [
        "**10. Construir um algoritmo que calcule o fatorial de um número N.**"
      ],
      "metadata": {
        "id": "gMf0fUPC5z6e"
      }
    },
    {
      "cell_type": "code",
      "source": [
        "n=int(input(\"Digite um número que você quer saber o fatorial: \"))\n",
        "num=n\n",
        "fatorial=1\n",
        "if n<0:\n",
        "  print(f\"Digite um número positivo\")\n",
        "else:\n",
        "  while n>0:\n",
        "    fatorial=fatorial*n\n",
        "    n-=1\n",
        "  print(f\"O fatorial do número {num} é igual a {fatorial}\")"
      ],
      "metadata": {
        "colab": {
          "base_uri": "https://localhost:8080/"
        },
        "id": "eNx9KDWu52qI",
        "outputId": "128bb19f-59cd-4ffb-ef07-3a5f497ff4ae"
      },
      "execution_count": 37,
      "outputs": [
        {
          "output_type": "stream",
          "name": "stdout",
          "text": [
            "Digite um número que você quer saber o fatorial: 0\n",
            "O fatorial do número 0 é igual a 0\n"
          ]
        }
      ]
    },
    {
      "cell_type": "code",
      "source": [
        "x=0\n",
        "soma=0\n",
        "while x<=100:\n",
        "  x+=1\n",
        "  soma=soma+x\n",
        "print(soma)"
      ],
      "metadata": {
        "colab": {
          "base_uri": "https://localhost:8080/"
        },
        "id": "OISFpuP98hA1",
        "outputId": "3a3b3c24-06bb-4f77-e426-0a05153e5002"
      },
      "execution_count": null,
      "outputs": [
        {
          "output_type": "stream",
          "name": "stdout",
          "text": [
            "5151\n"
          ]
        }
      ]
    },
    {
      "cell_type": "markdown",
      "source": [
        "![image.png](data:image/png;base64,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)"
      ],
      "metadata": {
        "id": "Z1emWaZ_Q8p7"
      }
    },
    {
      "cell_type": "code",
      "source": [
        "divisor = 1\n",
        "soma=0\n",
        "while divisor <=100:\n",
        "  resultado=1/divisor\n",
        "  soma+=resultado\n",
        "  divisor+=1\n",
        "print(soma)"
      ],
      "metadata": {
        "colab": {
          "base_uri": "https://localhost:8080/"
        },
        "id": "07z7Z9IxQ9JR",
        "outputId": "40a26ef8-e092-4166-b7e1-efa1d0fee93a"
      },
      "execution_count": 1,
      "outputs": [
        {
          "output_type": "stream",
          "name": "stdout",
          "text": [
            "5.187377517639621\n"
          ]
        }
      ]
    },
    {
      "cell_type": "markdown",
      "source": [
        "![image.png](data:image/png;base64,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)"
      ],
      "metadata": {
        "id": "gmpAil8URi1Y"
      }
    },
    {
      "cell_type": "code",
      "source": [],
      "metadata": {
        "id": "ufkemnekRjf5"
      },
      "execution_count": null,
      "outputs": []
    },
    {
      "cell_type": "markdown",
      "source": [
        "![image.png](data:image/png;base64,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)"
      ],
      "metadata": {
        "id": "Y8vh7-mdRjtI"
      }
    },
    {
      "cell_type": "code",
      "source": [
        "import numpy as np\n",
        "divisor=1\n",
        "contador=1\n",
        "soma=0\n",
        "while contador<=51:\n",
        "   s=(-1)**contador/divisor**3\n",
        "   soma+=s\n",
        "   divisor+=2\n",
        "   contador+=1\n",
        "resultado=np.cbrt(soma*32)\n",
        "print(abs(resultado))\n"
      ],
      "metadata": {
        "collapsed": true,
        "colab": {
          "base_uri": "https://localhost:8080/"
        },
        "id": "kYcwTYLjRmkJ",
        "outputId": "2e58996e-e8d1-4f32-e1d9-a2ea73c738c1"
      },
      "execution_count": 27,
      "outputs": [
        {
          "output_type": "stream",
          "name": "stdout",
          "text": [
            "3.14159316250821\n"
          ]
        }
      ]
    },
    {
      "cell_type": "markdown",
      "source": [
        "![image.png](data:image/png;base64,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)"
      ],
      "metadata": {
        "id": "V--7iCBLasgH"
      }
    },
    {
      "cell_type": "code",
      "source": [
        "denominador=99\n",
        "contador=1\n",
        "n=0\n",
        "resultado=0\n",
        "fatorial=1\n",
        "while n<20:\n",
        "  n+=1\n",
        "  fatorial=fatorial*n\n",
        "  resultado+=denominador/fatorial\n",
        "  denominador-=denominador\n",
        "print(resultado+100)"
      ],
      "metadata": {
        "collapsed": true,
        "id": "2dwPmXZmX2ys",
        "outputId": "00f0de09-8a09-449f-c8e7-70b735db7864",
        "colab": {
          "base_uri": "https://localhost:8080/"
        }
      },
      "execution_count": 59,
      "outputs": [
        {
          "output_type": "stream",
          "name": "stdout",
          "text": [
            "199.0\n"
          ]
        }
      ]
    },
    {
      "cell_type": "code",
      "source": [],
      "metadata": {
        "id": "Bm8oYrNya3R5"
      },
      "execution_count": null,
      "outputs": []
    }
  ]
}